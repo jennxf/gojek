{
 "cells": [
  {
   "cell_type": "code",
   "execution_count": 259,
   "metadata": {},
   "outputs": [],
   "source": [
    "import pandas as pd\n",
    "import numpy as np\n",
    "import seaborn as sns\n",
    "import pandas_profiling\n",
    "import datetime as dt\n",
    "import warnings\n",
    "import matplotlib.pyplot as plt\n",
    "\n",
    "%matplotlib inline\n",
    "warnings.filterwarnings('ignore')"
   ]
  },
  {
   "cell_type": "code",
   "execution_count": 657,
   "metadata": {},
   "outputs": [],
   "source": [
    "from sklearn.preprocessing import StandardScaler, Normalizer\n",
    "from sklearn.metrics import mean_squared_error\n",
    "from sklearn.model_selection import train_test_split\n",
    "from sklearn.model_selection import GridSearchCV, cross_val_score\n",
    "from sklearn.pipeline import Pipeline"
   ]
  },
  {
   "cell_type": "code",
   "execution_count": 254,
   "metadata": {},
   "outputs": [],
   "source": [
    "colors = sns.color_palette(\"Paired\")"
   ]
  },
  {
   "cell_type": "markdown",
   "metadata": {},
   "source": [
    "# Read data"
   ]
  },
  {
   "cell_type": "code",
   "execution_count": 516,
   "metadata": {},
   "outputs": [],
   "source": [
    "drivers = pd.read_csv(\"../data/drivers.csv\")\n",
    "pings = pd.read_csv(\"../data/pings.csv\")\n",
    "test = pd.read_csv(\"../data/test.csv\")"
   ]
  },
  {
   "cell_type": "code",
   "execution_count": 3,
   "metadata": {},
   "outputs": [
    {
     "data": {
      "text/html": [
       "<div>\n",
       "<style scoped>\n",
       "    .dataframe tbody tr th:only-of-type {\n",
       "        vertical-align: middle;\n",
       "    }\n",
       "\n",
       "    .dataframe tbody tr th {\n",
       "        vertical-align: top;\n",
       "    }\n",
       "\n",
       "    .dataframe thead th {\n",
       "        text-align: right;\n",
       "    }\n",
       "</style>\n",
       "<table border=\"1\" class=\"dataframe\">\n",
       "  <thead>\n",
       "    <tr style=\"text-align: right;\">\n",
       "      <th></th>\n",
       "      <th>driver_id</th>\n",
       "      <th>ping_timestamp</th>\n",
       "    </tr>\n",
       "  </thead>\n",
       "  <tbody>\n",
       "    <tr>\n",
       "      <th>0</th>\n",
       "      <td>899313</td>\n",
       "      <td>1496278800</td>\n",
       "    </tr>\n",
       "    <tr>\n",
       "      <th>1</th>\n",
       "      <td>373017</td>\n",
       "      <td>1496278800</td>\n",
       "    </tr>\n",
       "    <tr>\n",
       "      <th>2</th>\n",
       "      <td>798984</td>\n",
       "      <td>1496278800</td>\n",
       "    </tr>\n",
       "    <tr>\n",
       "      <th>3</th>\n",
       "      <td>245966</td>\n",
       "      <td>1496278800</td>\n",
       "    </tr>\n",
       "    <tr>\n",
       "      <th>4</th>\n",
       "      <td>689783</td>\n",
       "      <td>1496278800</td>\n",
       "    </tr>\n",
       "  </tbody>\n",
       "</table>\n",
       "</div>"
      ],
      "text/plain": [
       "   driver_id  ping_timestamp\n",
       "0     899313      1496278800\n",
       "1     373017      1496278800\n",
       "2     798984      1496278800\n",
       "3     245966      1496278800\n",
       "4     689783      1496278800"
      ]
     },
     "execution_count": 3,
     "metadata": {},
     "output_type": "execute_result"
    }
   ],
   "source": [
    "pings.head()"
   ]
  },
  {
   "cell_type": "code",
   "execution_count": 300,
   "metadata": {},
   "outputs": [
    {
     "data": {
      "text/html": [
       "<div>\n",
       "<style scoped>\n",
       "    .dataframe tbody tr th:only-of-type {\n",
       "        vertical-align: middle;\n",
       "    }\n",
       "\n",
       "    .dataframe tbody tr th {\n",
       "        vertical-align: top;\n",
       "    }\n",
       "\n",
       "    .dataframe thead th {\n",
       "        text-align: right;\n",
       "    }\n",
       "</style>\n",
       "<table border=\"1\" class=\"dataframe\">\n",
       "  <thead>\n",
       "    <tr style=\"text-align: right;\">\n",
       "      <th></th>\n",
       "      <th>driver_id</th>\n",
       "      <th>gender</th>\n",
       "      <th>age</th>\n",
       "      <th>number_of_kids</th>\n",
       "    </tr>\n",
       "  </thead>\n",
       "  <tbody>\n",
       "    <tr>\n",
       "      <th>0</th>\n",
       "      <td>979863</td>\n",
       "      <td>MALE</td>\n",
       "      <td>26</td>\n",
       "      <td>2</td>\n",
       "    </tr>\n",
       "    <tr>\n",
       "      <th>1</th>\n",
       "      <td>780123</td>\n",
       "      <td>MALE</td>\n",
       "      <td>60</td>\n",
       "      <td>2</td>\n",
       "    </tr>\n",
       "    <tr>\n",
       "      <th>2</th>\n",
       "      <td>614848</td>\n",
       "      <td>MALE</td>\n",
       "      <td>45</td>\n",
       "      <td>4</td>\n",
       "    </tr>\n",
       "    <tr>\n",
       "      <th>3</th>\n",
       "      <td>775046</td>\n",
       "      <td>MALE</td>\n",
       "      <td>62</td>\n",
       "      <td>3</td>\n",
       "    </tr>\n",
       "    <tr>\n",
       "      <th>4</th>\n",
       "      <td>991601</td>\n",
       "      <td>MALE</td>\n",
       "      <td>23</td>\n",
       "      <td>0</td>\n",
       "    </tr>\n",
       "  </tbody>\n",
       "</table>\n",
       "</div>"
      ],
      "text/plain": [
       "   driver_id gender  age  number_of_kids\n",
       "0     979863   MALE   26               2\n",
       "1     780123   MALE   60               2\n",
       "2     614848   MALE   45               4\n",
       "3     775046   MALE   62               3\n",
       "4     991601   MALE   23               0"
      ]
     },
     "execution_count": 300,
     "metadata": {},
     "output_type": "execute_result"
    }
   ],
   "source": [
    "drivers.head()"
   ]
  },
  {
   "cell_type": "code",
   "execution_count": 167,
   "metadata": {},
   "outputs": [
    {
     "data": {
      "text/html": [
       "<div>\n",
       "<style scoped>\n",
       "    .dataframe tbody tr th:only-of-type {\n",
       "        vertical-align: middle;\n",
       "    }\n",
       "\n",
       "    .dataframe tbody tr th {\n",
       "        vertical-align: top;\n",
       "    }\n",
       "\n",
       "    .dataframe thead th {\n",
       "        text-align: right;\n",
       "    }\n",
       "</style>\n",
       "<table border=\"1\" class=\"dataframe\">\n",
       "  <thead>\n",
       "    <tr style=\"text-align: right;\">\n",
       "      <th></th>\n",
       "      <th>driver_id</th>\n",
       "      <th>date</th>\n",
       "      <th>online_hours</th>\n",
       "    </tr>\n",
       "  </thead>\n",
       "  <tbody>\n",
       "    <tr>\n",
       "      <th>0</th>\n",
       "      <td>979863</td>\n",
       "      <td>2017-6-28</td>\n",
       "      <td>7</td>\n",
       "    </tr>\n",
       "    <tr>\n",
       "      <th>1</th>\n",
       "      <td>979863</td>\n",
       "      <td>2017-6-27</td>\n",
       "      <td>9</td>\n",
       "    </tr>\n",
       "    <tr>\n",
       "      <th>2</th>\n",
       "      <td>979863</td>\n",
       "      <td>2017-6-26</td>\n",
       "      <td>9</td>\n",
       "    </tr>\n",
       "    <tr>\n",
       "      <th>3</th>\n",
       "      <td>979863</td>\n",
       "      <td>2017-6-25</td>\n",
       "      <td>10</td>\n",
       "    </tr>\n",
       "    <tr>\n",
       "      <th>4</th>\n",
       "      <td>979863</td>\n",
       "      <td>2017-6-24</td>\n",
       "      <td>9</td>\n",
       "    </tr>\n",
       "  </tbody>\n",
       "</table>\n",
       "</div>"
      ],
      "text/plain": [
       "   driver_id       date  online_hours\n",
       "0     979863  2017-6-28             7\n",
       "1     979863  2017-6-27             9\n",
       "2     979863  2017-6-26             9\n",
       "3     979863  2017-6-25            10\n",
       "4     979863  2017-6-24             9"
      ]
     },
     "execution_count": 167,
     "metadata": {},
     "output_type": "execute_result"
    }
   ],
   "source": [
    "test.head()"
   ]
  },
  {
   "cell_type": "code",
   "execution_count": 521,
   "metadata": {},
   "outputs": [
    {
     "name": "stdout",
     "output_type": "stream",
     "text": [
      "2497\n",
      "2497\n"
     ]
    },
    {
     "data": {
      "text/plain": [
       "True"
      ]
     },
     "execution_count": 521,
     "metadata": {},
     "output_type": "execute_result"
    }
   ],
   "source": [
    "print(len(test.driver_id.unique()))\n",
    "print(len(drivers.driver_id.unique()))\n",
    "sorted(test.driver_id.unique()) == sorted(drivers.driver_id.unique())"
   ]
  },
  {
   "cell_type": "markdown",
   "metadata": {},
   "source": [
    "Both the drivers and test tables have same driver ids. "
   ]
  },
  {
   "cell_type": "code",
   "execution_count": 108,
   "metadata": {},
   "outputs": [
    {
     "data": {
      "text/plain": [
       "17500"
      ]
     },
     "execution_count": 108,
     "metadata": {},
     "output_type": "execute_result"
    }
   ],
   "source": [
    "len(test)"
   ]
  },
  {
   "cell_type": "code",
   "execution_count": 109,
   "metadata": {},
   "outputs": [
    {
     "data": {
      "text/plain": [
       "50528701"
      ]
     },
     "execution_count": 109,
     "metadata": {},
     "output_type": "execute_result"
    }
   ],
   "source": [
    "len(pings)"
   ]
  },
  {
   "cell_type": "code",
   "execution_count": 301,
   "metadata": {},
   "outputs": [
    {
     "data": {
      "text/plain": [
       "2500"
      ]
     },
     "execution_count": 301,
     "metadata": {},
     "output_type": "execute_result"
    }
   ],
   "source": [
    "len(drivers)"
   ]
  },
  {
   "cell_type": "code",
   "execution_count": 302,
   "metadata": {},
   "outputs": [
    {
     "data": {
      "text/plain": [
       "driver_id         False\n",
       "gender            False\n",
       "age               False\n",
       "number_of_kids    False\n",
       "dtype: bool"
      ]
     },
     "execution_count": 302,
     "metadata": {},
     "output_type": "execute_result"
    }
   ],
   "source": [
    "drivers.isnull().any()"
   ]
  },
  {
   "cell_type": "markdown",
   "metadata": {},
   "source": [
    "### Check for data quality in drivers table. We expect unique values for all driver ids.\n"
   ]
  },
  {
   "cell_type": "code",
   "execution_count": 522,
   "metadata": {},
   "outputs": [
    {
     "name": "stdout",
     "output_type": "stream",
     "text": [
      "drivers whose id appeared more than once\n",
      "800600    2\n",
      "320227    2\n",
      "799250    2\n",
      "Name: driver_id, dtype: int64\n"
     ]
    },
    {
     "data": {
      "text/html": [
       "<div>\n",
       "<style scoped>\n",
       "    .dataframe tbody tr th:only-of-type {\n",
       "        vertical-align: middle;\n",
       "    }\n",
       "\n",
       "    .dataframe tbody tr th {\n",
       "        vertical-align: top;\n",
       "    }\n",
       "\n",
       "    .dataframe thead th {\n",
       "        text-align: right;\n",
       "    }\n",
       "</style>\n",
       "<table border=\"1\" class=\"dataframe\">\n",
       "  <thead>\n",
       "    <tr style=\"text-align: right;\">\n",
       "      <th></th>\n",
       "      <th>driver_id</th>\n",
       "      <th>gender</th>\n",
       "      <th>age</th>\n",
       "      <th>number_of_kids</th>\n",
       "    </tr>\n",
       "  </thead>\n",
       "  <tbody>\n",
       "    <tr>\n",
       "      <th>231</th>\n",
       "      <td>320227</td>\n",
       "      <td>MALE</td>\n",
       "      <td>22</td>\n",
       "      <td>4</td>\n",
       "    </tr>\n",
       "    <tr>\n",
       "      <th>388</th>\n",
       "      <td>320227</td>\n",
       "      <td>MALE</td>\n",
       "      <td>42</td>\n",
       "      <td>4</td>\n",
       "    </tr>\n",
       "    <tr>\n",
       "      <th>1311</th>\n",
       "      <td>799250</td>\n",
       "      <td>FEMALE</td>\n",
       "      <td>27</td>\n",
       "      <td>4</td>\n",
       "    </tr>\n",
       "    <tr>\n",
       "      <th>1550</th>\n",
       "      <td>800600</td>\n",
       "      <td>FEMALE</td>\n",
       "      <td>22</td>\n",
       "      <td>0</td>\n",
       "    </tr>\n",
       "    <tr>\n",
       "      <th>1765</th>\n",
       "      <td>799250</td>\n",
       "      <td>FEMALE</td>\n",
       "      <td>23</td>\n",
       "      <td>0</td>\n",
       "    </tr>\n",
       "    <tr>\n",
       "      <th>2008</th>\n",
       "      <td>800600</td>\n",
       "      <td>FEMALE</td>\n",
       "      <td>28</td>\n",
       "      <td>1</td>\n",
       "    </tr>\n",
       "  </tbody>\n",
       "</table>\n",
       "</div>"
      ],
      "text/plain": [
       "      driver_id  gender  age  number_of_kids\n",
       "231      320227    MALE   22               4\n",
       "388      320227    MALE   42               4\n",
       "1311     799250  FEMALE   27               4\n",
       "1550     800600  FEMALE   22               0\n",
       "1765     799250  FEMALE   23               0\n",
       "2008     800600  FEMALE   28               1"
      ]
     },
     "execution_count": 522,
     "metadata": {},
     "output_type": "execute_result"
    }
   ],
   "source": [
    "len(drivers.driver_id.unique())\n",
    "d = drivers.driver_id.value_counts()\n",
    "print(\"drivers whose id appeared more than once\")\n",
    "print(d[d > 1])\n",
    "ids = d[d > 1].index.tolist()\n",
    "drivers[drivers['driver_id'].isin(ids)]"
   ]
  },
  {
   "cell_type": "markdown",
   "metadata": {},
   "source": [
    "Looks like there is inconsistency in the drivers table. As its not just duplicates of the driver_id but also inconsistency in the age and number of kids, lets drop these rows containing these ids since they are quite few and we dont know which is the true value "
   ]
  },
  {
   "cell_type": "markdown",
   "metadata": {},
   "source": [
    "We need to drop them both in the drivers table and the test table"
   ]
  },
  {
   "cell_type": "code",
   "execution_count": 523,
   "metadata": {},
   "outputs": [
    {
     "data": {
      "text/plain": [
       "[800600, 320227, 799250]"
      ]
     },
     "execution_count": 523,
     "metadata": {},
     "output_type": "execute_result"
    }
   ],
   "source": [
    "ids"
   ]
  },
  {
   "cell_type": "code",
   "execution_count": 524,
   "metadata": {},
   "outputs": [],
   "source": [
    "drivers = drivers[~drivers['driver_id'].isin(ids)]\n",
    "test = test[~test['driver_id'].isin(ids)]"
   ]
  },
  {
   "cell_type": "code",
   "execution_count": 526,
   "metadata": {},
   "outputs": [
    {
     "name": "stdout",
     "output_type": "stream",
     "text": [
      "2494\n",
      "2494\n"
     ]
    }
   ],
   "source": [
    "print(len(drivers))\n",
    "print(len(test.driver_id.unique()))"
   ]
  },
  {
   "cell_type": "markdown",
   "metadata": {},
   "source": [
    "# Transform data in pings DF"
   ]
  },
  {
   "cell_type": "markdown",
   "metadata": {},
   "source": [
    "## Convert to datetime, extract date"
   ]
  },
  {
   "cell_type": "code",
   "execution_count": 486,
   "metadata": {},
   "outputs": [],
   "source": [
    "pings['datetime'] = pd.to_datetime(pings.ping_timestamp, unit='s')\n",
    "pings['date'] = pd.to_datetime(pings.datetime).dt.date"
   ]
  },
  {
   "cell_type": "code",
   "execution_count": 487,
   "metadata": {},
   "outputs": [],
   "source": [
    "pings['date'] = pd.to_datetime(pings['date'])"
   ]
  },
  {
   "cell_type": "code",
   "execution_count": 488,
   "metadata": {},
   "outputs": [
    {
     "name": "stdout",
     "output_type": "stream",
     "text": [
      "<class 'pandas.core.frame.DataFrame'>\n",
      "RangeIndex: 50528701 entries, 0 to 50528700\n",
      "Data columns (total 4 columns):\n",
      "driver_id         int64\n",
      "ping_timestamp    int64\n",
      "datetime          datetime64[ns]\n",
      "date              datetime64[ns]\n",
      "dtypes: datetime64[ns](2), int64(2)\n",
      "memory usage: 1.5 GB\n"
     ]
    }
   ],
   "source": [
    "pings.info()"
   ]
  },
  {
   "cell_type": "code",
   "execution_count": 490,
   "metadata": {},
   "outputs": [
    {
     "data": {
      "text/html": [
       "<div>\n",
       "<style scoped>\n",
       "    .dataframe tbody tr th:only-of-type {\n",
       "        vertical-align: middle;\n",
       "    }\n",
       "\n",
       "    .dataframe tbody tr th {\n",
       "        vertical-align: top;\n",
       "    }\n",
       "\n",
       "    .dataframe thead th {\n",
       "        text-align: right;\n",
       "    }\n",
       "</style>\n",
       "<table border=\"1\" class=\"dataframe\">\n",
       "  <thead>\n",
       "    <tr style=\"text-align: right;\">\n",
       "      <th></th>\n",
       "      <th>driver_id</th>\n",
       "      <th>ping_timestamp</th>\n",
       "      <th>datetime</th>\n",
       "      <th>date</th>\n",
       "    </tr>\n",
       "  </thead>\n",
       "  <tbody>\n",
       "    <tr>\n",
       "      <th>0</th>\n",
       "      <td>899313</td>\n",
       "      <td>1496278800</td>\n",
       "      <td>2017-06-01 01:00:00</td>\n",
       "      <td>2017-06-01</td>\n",
       "    </tr>\n",
       "    <tr>\n",
       "      <th>1</th>\n",
       "      <td>373017</td>\n",
       "      <td>1496278800</td>\n",
       "      <td>2017-06-01 01:00:00</td>\n",
       "      <td>2017-06-01</td>\n",
       "    </tr>\n",
       "    <tr>\n",
       "      <th>2</th>\n",
       "      <td>798984</td>\n",
       "      <td>1496278800</td>\n",
       "      <td>2017-06-01 01:00:00</td>\n",
       "      <td>2017-06-01</td>\n",
       "    </tr>\n",
       "    <tr>\n",
       "      <th>3</th>\n",
       "      <td>245966</td>\n",
       "      <td>1496278800</td>\n",
       "      <td>2017-06-01 01:00:00</td>\n",
       "      <td>2017-06-01</td>\n",
       "    </tr>\n",
       "    <tr>\n",
       "      <th>4</th>\n",
       "      <td>689783</td>\n",
       "      <td>1496278800</td>\n",
       "      <td>2017-06-01 01:00:00</td>\n",
       "      <td>2017-06-01</td>\n",
       "    </tr>\n",
       "  </tbody>\n",
       "</table>\n",
       "</div>"
      ],
      "text/plain": [
       "   driver_id  ping_timestamp            datetime       date\n",
       "0     899313      1496278800 2017-06-01 01:00:00 2017-06-01\n",
       "1     373017      1496278800 2017-06-01 01:00:00 2017-06-01\n",
       "2     798984      1496278800 2017-06-01 01:00:00 2017-06-01\n",
       "3     245966      1496278800 2017-06-01 01:00:00 2017-06-01\n",
       "4     689783      1496278800 2017-06-01 01:00:00 2017-06-01"
      ]
     },
     "execution_count": 490,
     "metadata": {},
     "output_type": "execute_result"
    }
   ],
   "source": [
    "pings.head()"
   ]
  },
  {
   "cell_type": "markdown",
   "metadata": {},
   "source": [
    "## For each driver, for each day, get total number of hours spent online\n",
    "- For each day, for each driver count the number of pings recieved.\n",
    "- Next, multiply that count by 15\n",
    "- Then divide by 3600 to get the number of hours spent online per day\n"
   ]
  },
  {
   "cell_type": "code",
   "execution_count": 496,
   "metadata": {},
   "outputs": [],
   "source": [
    "#For each day, for each driver count the number of pings recieved\n",
    "y = pings.groupby(['date','driver_id'],as_index=False).agg({'ping_timestamp':'count'})"
   ]
  },
  {
   "cell_type": "code",
   "execution_count": 497,
   "metadata": {},
   "outputs": [],
   "source": [
    "y.columns=['date','driver_id','ping_count']"
   ]
  },
  {
   "cell_type": "code",
   "execution_count": 500,
   "metadata": {},
   "outputs": [],
   "source": [
    "#Next, multiply that count by 15 then divide by 3600 to get hours\n",
    "y['hours_online_float'] = (y['ping_count']*15)/3600\n",
    "y['hours_online'] = round(y['hours_online_float'] )"
   ]
  },
  {
   "cell_type": "code",
   "execution_count": 499,
   "metadata": {},
   "outputs": [
    {
     "data": {
      "text/html": [
       "<div>\n",
       "<style scoped>\n",
       "    .dataframe tbody tr th:only-of-type {\n",
       "        vertical-align: middle;\n",
       "    }\n",
       "\n",
       "    .dataframe tbody tr th {\n",
       "        vertical-align: top;\n",
       "    }\n",
       "\n",
       "    .dataframe thead th {\n",
       "        text-align: right;\n",
       "    }\n",
       "</style>\n",
       "<table border=\"1\" class=\"dataframe\">\n",
       "  <thead>\n",
       "    <tr style=\"text-align: right;\">\n",
       "      <th></th>\n",
       "      <th>date</th>\n",
       "      <th>driver_id</th>\n",
       "      <th>ping_count</th>\n",
       "      <th>hours_online_float</th>\n",
       "      <th>hours_online</th>\n",
       "    </tr>\n",
       "  </thead>\n",
       "  <tbody>\n",
       "    <tr>\n",
       "      <th>0</th>\n",
       "      <td>2017-06-01</td>\n",
       "      <td>111556</td>\n",
       "      <td>484</td>\n",
       "      <td>2.016667</td>\n",
       "      <td>2.0</td>\n",
       "    </tr>\n",
       "    <tr>\n",
       "      <th>1</th>\n",
       "      <td>2017-06-01</td>\n",
       "      <td>111575</td>\n",
       "      <td>1532</td>\n",
       "      <td>6.383333</td>\n",
       "      <td>6.0</td>\n",
       "    </tr>\n",
       "    <tr>\n",
       "      <th>2</th>\n",
       "      <td>2017-06-01</td>\n",
       "      <td>111779</td>\n",
       "      <td>804</td>\n",
       "      <td>3.350000</td>\n",
       "      <td>3.0</td>\n",
       "    </tr>\n",
       "    <tr>\n",
       "      <th>3</th>\n",
       "      <td>2017-06-01</td>\n",
       "      <td>111839</td>\n",
       "      <td>1918</td>\n",
       "      <td>7.991667</td>\n",
       "      <td>8.0</td>\n",
       "    </tr>\n",
       "    <tr>\n",
       "      <th>4</th>\n",
       "      <td>2017-06-01</td>\n",
       "      <td>112486</td>\n",
       "      <td>677</td>\n",
       "      <td>2.820833</td>\n",
       "      <td>3.0</td>\n",
       "    </tr>\n",
       "  </tbody>\n",
       "</table>\n",
       "</div>"
      ],
      "text/plain": [
       "        date  driver_id  ping_count  hours_online_float  hours_online\n",
       "0 2017-06-01     111556         484            2.016667           2.0\n",
       "1 2017-06-01     111575        1532            6.383333           6.0\n",
       "2 2017-06-01     111779         804            3.350000           3.0\n",
       "3 2017-06-01     111839        1918            7.991667           8.0\n",
       "4 2017-06-01     112486         677            2.820833           3.0"
      ]
     },
     "execution_count": 499,
     "metadata": {},
     "output_type": "execute_result"
    }
   ],
   "source": [
    "y.head()"
   ]
  },
  {
   "cell_type": "code",
   "execution_count": 501,
   "metadata": {},
   "outputs": [],
   "source": [
    "pings = y"
   ]
  },
  {
   "cell_type": "markdown",
   "metadata": {},
   "source": [
    "### Do all driver ids in driver table appear in the pings table?\n",
    "No, some driver ids in pings table do not exist in the drivers table"
   ]
  },
  {
   "cell_type": "code",
   "execution_count": 549,
   "metadata": {},
   "outputs": [
    {
     "name": "stdout",
     "output_type": "stream",
     "text": [
      "2480\n",
      "2494\n",
      "2494\n"
     ]
    }
   ],
   "source": [
    "print(len(pings.driver_id.unique()))\n",
    "p = pings.driver_id.unique()\n",
    "print(len(drivers.driver_id.unique()))\n",
    "d = drivers.driver_id.unique()\n",
    "print(len(test.driver_id.unique()))\n",
    "t = test.driver_id.unique()"
   ]
  },
  {
   "cell_type": "code",
   "execution_count": 550,
   "metadata": {},
   "outputs": [],
   "source": [
    "tmp = [i for i in d if i not in p]"
   ]
  },
  {
   "cell_type": "code",
   "execution_count": 551,
   "metadata": {},
   "outputs": [
    {
     "name": "stdout",
     "output_type": "stream",
     "text": [
      "17 drivers in pings table do not exist in the drivers or test table. they will be removed when joining\n"
     ]
    },
    {
     "data": {
      "text/plain": [
       "[934994,\n",
       " 743899,\n",
       " 523243,\n",
       " 971478,\n",
       " 230923,\n",
       " 585955,\n",
       " 756684,\n",
       " 993757,\n",
       " 425331,\n",
       " 998740,\n",
       " 373792,\n",
       " 808404,\n",
       " 616243,\n",
       " 675613,\n",
       " 772057,\n",
       " 682678,\n",
       " 854976]"
      ]
     },
     "execution_count": 551,
     "metadata": {},
     "output_type": "execute_result"
    }
   ],
   "source": [
    "print( str(len(tmp))+ \" drivers in pings table do not exist in the drivers or test table. they will be removed when joining\")\n",
    "tmp"
   ]
  },
  {
   "cell_type": "markdown",
   "metadata": {},
   "source": [
    "Total number of active drivers is 2494 - 17 = 2477"
   ]
  },
  {
   "cell_type": "markdown",
   "metadata": {},
   "source": [
    "# Old method to get hours online\n",
    "## For each driver, for each day, get total number of hours spent online\n",
    "- For each day, for each driver, get the min(time) and max(time) of the day.\n",
    "- Example: date, driver_id, min(datetime), max(datetime)"
   ]
  },
  {
   "cell_type": "code",
   "execution_count": 37,
   "metadata": {},
   "outputs": [],
   "source": [
    "# # Do a group by to get the min and max timestamp by driver, day first\n",
    "# pings_minmax = pings.groupby(['driver_id','date'], as_index=False).agg({'datetime':[min,max]})\n",
    "\n",
    "# # rename columns\n",
    "# pings_minmax.columns = ['driver_id','date','start_time','end_time']\n",
    "\n",
    "# # Next, get the time difference from the min and max timestamp columns for each driver for each day\n",
    "# pings_minmax['time_online'] = pings_minmax['end_time'] - pings_minmax['start_time']\n",
    "\n",
    "# # Get in terms of hours the driver is online (this method uses numpy)\n",
    "# pings_minmax['hours_online_float'] = pings_minmax['time_online']/np.timedelta64(1,'h')\n",
    "\n",
    "# #round hours online up\n",
    "# pings_minmax['hours_online_int'] = round(pings_minmax['hours_online_float']).astype(int)\n",
    "\n",
    "# # Get in terms of hours the driver is online (this method uses pandas)\n",
    "# #pings_minmax['hours_online_int'] = pd.to_datetime(pings_minmax['time_online']).dt.hour\n",
    "# # pings_minmax.drop('hours_online_int',axis = 1, inplace = True)\n",
    "\n",
    "# pings_minmax.rename(columns={'hours_online_int2':'hours_online_int'}, inplace=True)\n",
    "\n",
    "# pings_minmax.head()\n",
    "\n",
    "# pings_minmax.describe()\n",
    "\n",
    "# pings_minmax.info()\n",
    "\n",
    "# len(pings_minmax)\n",
    "\n",
    "# pings_minmax.drop_duplicates(inplace = True)"
   ]
  },
  {
   "cell_type": "markdown",
   "metadata": {},
   "source": [
    "# Combine the drivers and new pings into new df"
   ]
  },
  {
   "cell_type": "code",
   "execution_count": 553,
   "metadata": {},
   "outputs": [
    {
     "name": "stdout",
     "output_type": "stream",
     "text": [
      "41614\n"
     ]
    }
   ],
   "source": [
    "df1 = pd.merge(drivers,pings,on = \"driver_id\")\n",
    "print(len(df1))"
   ]
  },
  {
   "cell_type": "code",
   "execution_count": 554,
   "metadata": {},
   "outputs": [
    {
     "data": {
      "text/plain": [
       "41614"
      ]
     },
     "execution_count": 554,
     "metadata": {},
     "output_type": "execute_result"
    }
   ],
   "source": [
    "df1.head()\n",
    "len(df1)"
   ]
  },
  {
   "cell_type": "markdown",
   "metadata": {},
   "source": [
    "# Check data"
   ]
  },
  {
   "cell_type": "code",
   "execution_count": 555,
   "metadata": {},
   "outputs": [
    {
     "data": {
      "text/html": [
       "<meta charset=\"UTF-8\">\n",
       "\n",
       "<style>\n",
       "\n",
       "        .variablerow {\n",
       "            border: 1px solid #e1e1e8;\n",
       "            border-top: hidden;\n",
       "            padding-top: 2em;\n",
       "            padding-bottom: 2em;\n",
       "            padding-left: 1em;\n",
       "            padding-right: 1em;\n",
       "        }\n",
       "\n",
       "        .headerrow {\n",
       "            border: 1px solid #e1e1e8;\n",
       "            background-color: #f5f5f5;\n",
       "            padding: 2em;\n",
       "        }\n",
       "        .namecol {\n",
       "            margin-top: -1em;\n",
       "            overflow-x: auto;\n",
       "        }\n",
       "\n",
       "        .dl-horizontal dt {\n",
       "            text-align: left;\n",
       "            padding-right: 1em;\n",
       "            white-space: normal;\n",
       "        }\n",
       "\n",
       "        .dl-horizontal dd {\n",
       "            margin-left: 0;\n",
       "        }\n",
       "\n",
       "        .ignore {\n",
       "            opacity: 0.4;\n",
       "        }\n",
       "\n",
       "        .container.pandas-profiling {\n",
       "            max-width:975px;\n",
       "        }\n",
       "\n",
       "        .col-md-12 {\n",
       "            padding-left: 2em;\n",
       "        }\n",
       "\n",
       "        .indent {\n",
       "            margin-left: 1em;\n",
       "        }\n",
       "\n",
       "        .center-img {\n",
       "            margin-left: auto !important;\n",
       "            margin-right: auto !important;\n",
       "            display: block;\n",
       "        }\n",
       "\n",
       "        /* Table example_values */\n",
       "            table.example_values {\n",
       "                border: 0;\n",
       "            }\n",
       "\n",
       "            .example_values th {\n",
       "                border: 0;\n",
       "                padding: 0 ;\n",
       "                color: #555;\n",
       "                font-weight: 600;\n",
       "            }\n",
       "\n",
       "            .example_values tr, .example_values td{\n",
       "                border: 0;\n",
       "                padding: 0;\n",
       "                color: #555;\n",
       "            }\n",
       "\n",
       "        /* STATS */\n",
       "            table.stats {\n",
       "                border: 0;\n",
       "            }\n",
       "\n",
       "            .stats th {\n",
       "                border: 0;\n",
       "                padding: 0 2em 0 0;\n",
       "                color: #555;\n",
       "                font-weight: 600;\n",
       "            }\n",
       "\n",
       "            .stats tr {\n",
       "                border: 0;\n",
       "            }\n",
       "\n",
       "            .stats td{\n",
       "                color: #555;\n",
       "                padding: 1px;\n",
       "                border: 0;\n",
       "            }\n",
       "\n",
       "\n",
       "        /* Sample table */\n",
       "            table.sample {\n",
       "                border: 0;\n",
       "                margin-bottom: 2em;\n",
       "                margin-left:1em;\n",
       "            }\n",
       "            .sample tr {\n",
       "                border:0;\n",
       "            }\n",
       "            .sample td, .sample th{\n",
       "                padding: 0.5em;\n",
       "                white-space: nowrap;\n",
       "                border: none;\n",
       "\n",
       "            }\n",
       "\n",
       "            .sample thead {\n",
       "                border-top: 0;\n",
       "                border-bottom: 2px solid #ddd;\n",
       "            }\n",
       "\n",
       "            .sample td {\n",
       "                width:100%;\n",
       "            }\n",
       "\n",
       "\n",
       "        /* There is no good solution available to make the divs equal height and then center ... */\n",
       "            .histogram {\n",
       "                margin-top: 3em;\n",
       "            }\n",
       "        /* Freq table */\n",
       "\n",
       "            table.freq {\n",
       "                margin-bottom: 2em;\n",
       "                border: 0;\n",
       "            }\n",
       "            table.freq th, table.freq tr, table.freq td {\n",
       "                border: 0;\n",
       "                padding: 0;\n",
       "            }\n",
       "\n",
       "            .freq thead {\n",
       "                font-weight: 600;\n",
       "                white-space: nowrap;\n",
       "                overflow: hidden;\n",
       "                text-overflow: ellipsis;\n",
       "\n",
       "            }\n",
       "\n",
       "            td.fillremaining{\n",
       "                width:auto;\n",
       "                max-width: none;\n",
       "            }\n",
       "\n",
       "            td.number, th.number {\n",
       "                text-align:right ;\n",
       "            }\n",
       "\n",
       "        /* Freq mini */\n",
       "            .freq.mini td{\n",
       "                width: 50%;\n",
       "                padding: 1px;\n",
       "                font-size: 12px;\n",
       "\n",
       "            }\n",
       "            table.freq.mini {\n",
       "                 width:100%;\n",
       "            }\n",
       "            .freq.mini th {\n",
       "                overflow: hidden;\n",
       "                text-overflow: ellipsis;\n",
       "                white-space: nowrap;\n",
       "                max-width: 5em;\n",
       "                font-weight: 400;\n",
       "                text-align:right;\n",
       "                padding-right: 0.5em;\n",
       "            }\n",
       "\n",
       "            .missing {\n",
       "                color: #a94442;\n",
       "            }\n",
       "            .alert, .alert > th, .alert > td {\n",
       "                color: #a94442;\n",
       "            }\n",
       "\n",
       "\n",
       "        /* Bars in tables */\n",
       "            .freq .bar{\n",
       "                float: left;\n",
       "                width: 0;\n",
       "                height: 100%;\n",
       "                line-height: 20px;\n",
       "                color: #fff;\n",
       "                text-align: center;\n",
       "                background-color: #337ab7;\n",
       "                border-radius: 3px;\n",
       "                margin-right: 4px;\n",
       "            }\n",
       "            .other .bar {\n",
       "                background-color: #999;\n",
       "            }\n",
       "            .missing .bar{\n",
       "                background-color: #a94442;\n",
       "            }\n",
       "            .tooltip-inner {\n",
       "                width: 100%;\n",
       "                white-space: nowrap;\n",
       "                text-align:left;\n",
       "            }\n",
       "\n",
       "            .extrapadding{\n",
       "                padding: 2em;\n",
       "            }\n",
       "\n",
       "            .pp-anchor{\n",
       "\n",
       "            }\n",
       "\n",
       "</style>\n",
       "\n",
       "<div class=\"container pandas-profiling\">\n",
       "    <div class=\"row headerrow highlight\">\n",
       "        <h1>Overview</h1>\n",
       "    </div>\n",
       "    <div class=\"row variablerow\">\n",
       "    <div class=\"col-md-6 namecol\">\n",
       "        <p class=\"h4\">Dataset info</p>\n",
       "        <table class=\"stats\" style=\"margin-left: 1em;\">\n",
       "            <tbody>\n",
       "            <tr>\n",
       "                <th>Number of variables</th>\n",
       "                <td>8 </td>\n",
       "            </tr>\n",
       "            <tr>\n",
       "                <th>Number of observations</th>\n",
       "                <td>41614 </td>\n",
       "            </tr>\n",
       "            <tr>\n",
       "                <th>Total Missing (%)</th>\n",
       "                <td>0.0% </td>\n",
       "            </tr>\n",
       "            <tr>\n",
       "                <th>Total size in memory</th>\n",
       "                <td>2.9 MiB </td>\n",
       "            </tr>\n",
       "            <tr>\n",
       "                <th>Average record size in memory</th>\n",
       "                <td>72.0 B </td>\n",
       "            </tr>\n",
       "            </tbody>\n",
       "        </table>\n",
       "    </div>\n",
       "    <div class=\"col-md-6 namecol\">\n",
       "        <p class=\"h4\">Variables types</p>\n",
       "        <table class=\"stats\" style=\"margin-left: 1em;\">\n",
       "            <tbody>\n",
       "            <tr>\n",
       "                <th>Numeric</th>\n",
       "                <td>4 </td>\n",
       "            </tr>\n",
       "            <tr>\n",
       "                <th>Categorical</th>\n",
       "                <td>1 </td>\n",
       "            </tr>\n",
       "            <tr>\n",
       "                <th>Boolean</th>\n",
       "                <td>0 </td>\n",
       "            </tr>\n",
       "            <tr>\n",
       "                <th>Date</th>\n",
       "                <td>1 </td>\n",
       "            </tr>\n",
       "            <tr>\n",
       "                <th>Text (Unique)</th>\n",
       "                <td>0 </td>\n",
       "            </tr>\n",
       "            <tr>\n",
       "                <th>Rejected</th>\n",
       "                <td>2 </td>\n",
       "            </tr>\n",
       "            <tr>\n",
       "                <th>Unsupported</th>\n",
       "                <td>0 </td>\n",
       "            </tr>\n",
       "            </tbody>\n",
       "        </table>\n",
       "    </div>\n",
       "    <div class=\"col-md-12\" style=\"padding-left: 1em;\">\n",
       "        \n",
       "        <p class=\"h4\">Warnings</p>\n",
       "        <ul class=\"list-unstyled\"><li><a href=\"#pp_var_hours_online\"><code>hours_online</code></a> is highly correlated with <a href=\"#pp_var_hours_online_float\"><code>hours_online_float</code></a> (ρ = 0.9936) <span class=\"label label-primary\">Rejected</span></li><li><a href=\"#pp_var_hours_online_float\"><code>hours_online_float</code></a> is highly correlated with <a href=\"#pp_var_ping_count\"><code>ping_count</code></a> (ρ = 1) <span class=\"label label-primary\">Rejected</span></li><li><a href=\"#pp_var_number_of_kids\"><code>number_of_kids</code></a> has 18517 / 44.5% zeros <span class=\"label label-info\">Zeros</span></li> </ul>\n",
       "    </div>\n",
       "</div>\n",
       "    <div class=\"row headerrow highlight\">\n",
       "        <h1>Variables</h1>\n",
       "    </div>\n",
       "    <div class=\"row variablerow\">\n",
       "    <div class=\"col-md-3 namecol\">\n",
       "        <p class=\"h4 pp-anchor\" id=\"pp_var_age\">age<br/>\n",
       "            <small>Numeric</small>\n",
       "        </p>\n",
       "    </div><div class=\"col-md-6\">\n",
       "    <div class=\"row\">\n",
       "        <div class=\"col-sm-6\">\n",
       "            <table class=\"stats \">\n",
       "                <tr>\n",
       "                    <th>Distinct count</th>\n",
       "                    <td>58</td>\n",
       "                </tr>\n",
       "                <tr>\n",
       "                    <th>Unique (%)</th>\n",
       "                    <td>0.1%</td>\n",
       "                </tr>\n",
       "                <tr class=\"ignore\">\n",
       "                    <th>Missing (%)</th>\n",
       "                    <td>0.0%</td>\n",
       "                </tr>\n",
       "                <tr class=\"ignore\">\n",
       "                    <th>Missing (n)</th>\n",
       "                    <td>0</td>\n",
       "                </tr>\n",
       "                <tr class=\"ignore\">\n",
       "                    <th>Infinite (%)</th>\n",
       "                    <td>0.0%</td>\n",
       "                </tr>\n",
       "                <tr class=\"ignore\">\n",
       "                    <th>Infinite (n)</th>\n",
       "                    <td>0</td>\n",
       "                </tr>\n",
       "            </table>\n",
       "\n",
       "        </div>\n",
       "        <div class=\"col-sm-6\">\n",
       "            <table class=\"stats \">\n",
       "\n",
       "                <tr>\n",
       "                    <th>Mean</th>\n",
       "                    <td>35.922</td>\n",
       "                </tr>\n",
       "                <tr>\n",
       "                    <th>Minimum</th>\n",
       "                    <td>18</td>\n",
       "                </tr>\n",
       "                <tr>\n",
       "                    <th>Maximum</th>\n",
       "                    <td>75</td>\n",
       "                </tr>\n",
       "                <tr class=\"ignore\">\n",
       "                    <th>Zeros (%)</th>\n",
       "                    <td>0.0%</td>\n",
       "                </tr>\n",
       "            </table>\n",
       "        </div>\n",
       "    </div>\n",
       "</div>\n",
       "<div class=\"col-md-3 collapse in\" id=\"minihistogram5894559114219201593\">\n",
       "    <img src=\"data:image/png;base64,iVBORw0KGgoAAAANSUhEUgAAAMgAAABLCAYAAAA1fMjoAAAABHNCSVQICAgIfAhkiAAAAAlwSFlzAAAPYQAAD2EBqD%2BnaQAAADl0RVh0U29mdHdhcmUAbWF0cGxvdGxpYiB2ZXJzaW9uIDMuMC4yLCBodHRwOi8vbWF0cGxvdGxpYi5vcmcvOIA7rQAAATBJREFUeJzt3MFpw0AARUHbpKQUkZ5ydk8pIj2tGzAPy0TSRpq5G/by%2BAtafB1jjAvw1G3vA8DMPvY%2BwF/4/P5Z/Jvf%2B9cKJ%2BFoLAiE6RbknTWAtVgQCAKBIBAIAoEgEAgCgSAQCAKBMN2Hwq14nsIrLAgEgUAQCASBQBAIBIFAEAgEgUAQCASBQBAIhNO%2BxdqC917/nwWBIBAIrliTcS2biwWBYEEW8K%2BP52NBIAgEgkAgCASCQCAIBIJAIAgEgkAg%2BJLOS876RsyCQLAgJ7TVm7IjrI5ADsAjyvW4YkEQCASBQBAIBIFAuI4xxt6HgFlZEAgCgSAQCAKBIBAIAoEgEAgCgSAQCAKBIBAIAoEgEAgCgSAQCAKBIBAIAoEgEAgCgSAQCAKBIBAIAoEgEAgPZJAgO4thoXMAAAAASUVORK5CYII%3D\">\n",
       "\n",
       "</div>\n",
       "<div class=\"col-md-12 text-right\">\n",
       "    <a role=\"button\" data-toggle=\"collapse\" data-target=\"#descriptives5894559114219201593,#minihistogram5894559114219201593\"\n",
       "       aria-expanded=\"false\" aria-controls=\"collapseExample\">\n",
       "        Toggle details\n",
       "    </a>\n",
       "</div>\n",
       "<div class=\"row collapse col-md-12\" id=\"descriptives5894559114219201593\">\n",
       "    <ul class=\"nav nav-tabs\" role=\"tablist\">\n",
       "        <li role=\"presentation\" class=\"active\"><a href=\"#quantiles5894559114219201593\"\n",
       "                                                  aria-controls=\"quantiles5894559114219201593\" role=\"tab\"\n",
       "                                                  data-toggle=\"tab\">Statistics</a></li>\n",
       "        <li role=\"presentation\"><a href=\"#histogram5894559114219201593\" aria-controls=\"histogram5894559114219201593\"\n",
       "                                   role=\"tab\" data-toggle=\"tab\">Histogram</a></li>\n",
       "        <li role=\"presentation\"><a href=\"#common5894559114219201593\" aria-controls=\"common5894559114219201593\"\n",
       "                                   role=\"tab\" data-toggle=\"tab\">Common Values</a></li>\n",
       "        <li role=\"presentation\"><a href=\"#extreme5894559114219201593\" aria-controls=\"extreme5894559114219201593\"\n",
       "                                   role=\"tab\" data-toggle=\"tab\">Extreme Values</a></li>\n",
       "\n",
       "    </ul>\n",
       "\n",
       "    <div class=\"tab-content\">\n",
       "        <div role=\"tabpanel\" class=\"tab-pane active row\" id=\"quantiles5894559114219201593\">\n",
       "            <div class=\"col-md-4 col-md-offset-1\">\n",
       "                <p class=\"h4\">Quantile statistics</p>\n",
       "                <table class=\"stats indent\">\n",
       "                    <tr>\n",
       "                        <th>Minimum</th>\n",
       "                        <td>18</td>\n",
       "                    </tr>\n",
       "                    <tr>\n",
       "                        <th>5-th percentile</th>\n",
       "                        <td>19</td>\n",
       "                    </tr>\n",
       "                    <tr>\n",
       "                        <th>Q1</th>\n",
       "                        <td>25</td>\n",
       "                    </tr>\n",
       "                    <tr>\n",
       "                        <th>Median</th>\n",
       "                        <td>31</td>\n",
       "                    </tr>\n",
       "                    <tr>\n",
       "                        <th>Q3</th>\n",
       "                        <td>45</td>\n",
       "                    </tr>\n",
       "                    <tr>\n",
       "                        <th>95-th percentile</th>\n",
       "                        <td>67</td>\n",
       "                    </tr>\n",
       "                    <tr>\n",
       "                        <th>Maximum</th>\n",
       "                        <td>75</td>\n",
       "                    </tr>\n",
       "                    <tr>\n",
       "                        <th>Range</th>\n",
       "                        <td>57</td>\n",
       "                    </tr>\n",
       "                    <tr>\n",
       "                        <th>Interquartile range</th>\n",
       "                        <td>20</td>\n",
       "                    </tr>\n",
       "                </table>\n",
       "            </div>\n",
       "            <div class=\"col-md-4 col-md-offset-2\">\n",
       "                <p class=\"h4\">Descriptive statistics</p>\n",
       "                <table class=\"stats indent\">\n",
       "                    <tr>\n",
       "                        <th>Standard deviation</th>\n",
       "                        <td>14.206</td>\n",
       "                    </tr>\n",
       "                    <tr>\n",
       "                        <th>Coef of variation</th>\n",
       "                        <td>0.39548</td>\n",
       "                    </tr>\n",
       "                    <tr>\n",
       "                        <th>Kurtosis</th>\n",
       "                        <td>-0.0077462</td>\n",
       "                    </tr>\n",
       "                    <tr>\n",
       "                        <th>Mean</th>\n",
       "                        <td>35.922</td>\n",
       "                    </tr>\n",
       "                    <tr>\n",
       "                        <th>MAD</th>\n",
       "                        <td>11.674</td>\n",
       "                    </tr>\n",
       "                    <tr class=\"\">\n",
       "                        <th>Skewness</th>\n",
       "                        <td>0.89349</td>\n",
       "                    </tr>\n",
       "                    <tr>\n",
       "                        <th>Sum</th>\n",
       "                        <td>1494857</td>\n",
       "                    </tr>\n",
       "                    <tr>\n",
       "                        <th>Variance</th>\n",
       "                        <td>201.82</td>\n",
       "                    </tr>\n",
       "                    <tr>\n",
       "                        <th>Memory size</th>\n",
       "                        <td>650.2 KiB</td>\n",
       "                    </tr>\n",
       "                </table>\n",
       "            </div>\n",
       "        </div>\n",
       "        <div role=\"tabpanel\" class=\"tab-pane col-md-8 col-md-offset-2\" id=\"histogram5894559114219201593\">\n",
       "            <img src=\"data:image/png;base64,iVBORw0KGgoAAAANSUhEUgAAAlgAAAGQCAYAAAByNR6YAAAABHNCSVQICAgIfAhkiAAAAAlwSFlzAAAPYQAAD2EBqD%2BnaQAAADl0RVh0U29mdHdhcmUAbWF0cGxvdGxpYiB2ZXJzaW9uIDMuMC4yLCBodHRwOi8vbWF0cGxvdGxpYi5vcmcvOIA7rQAAIABJREFUeJzt3XtcVHX%2Bx/E3MCADaGJKt60EgcxLoYJWmOY9TCyVYh/5s7XfrpmiZBesllxrTdNdTFTKXMvcylrMdM0ixW3NzMxbrrWVCRrarhcmEZWrXOb3Rz957KQls30PM8Dr%2BXj0MM4Zz/nOpwO9mAv4OJ1OpwAAAGCMr6cXAAAA0NQQWAAAAIYRWAAAAIYRWAAAAIYRWAAAAIYRWAAAAIYRWAAAAIYRWAAAAIYRWAAAAIYRWAAAAIYRWAAAAIYRWAAAAIYRWAAAAIYRWAAAAIYRWAAAAIYRWAAAAIYRWAAAAIYRWAAAAIYRWAAAAIYRWAAAAIYRWAAAAIYRWAAAAIYRWAAAAIYRWAAAAIYRWAAAAIYRWAAAAIYRWAAAAIYRWAAAAIYRWAAAAIYRWAAAAIYRWAAAAIYRWAAAAIYRWAAAAIYRWAAAAIYRWAAAAIYRWAAAAIYRWAAAAIYRWAAAAIYRWAAAAIbZPL2A5sLhOO3pJbjw9fVRmzbBKioqVW2t09PLaRSYmXuYl/uYmXuYl/ua48zatWvpkfPyCFYz5evrIx8fH/n6%2Bnh6KY0GM3MP83IfM3MP83IfM2s4BBYAAIBhBBYAAIBhBBYAAIBhBBYAAIBhBBYAAIBhBBYAAIBhBBYAAIBhBBYAAIBhBBYAAIBhBBYAAIBhBBYAAIBhBBYAAIBhBBYAAIBhNk8vAM1HQuYWTy/BLe9Niff0EgAAjRSPYAEAABhGYAEAABhGYAEAABhGYAEAABhGYAEAABhGYAEAABhGYAEAABhGYAEAABhGYAEAABhGYAEAABhGYAEAABjG7yJs5Brb7/cDAKA54BEsAAAAwwgsAAAAwwgsAAAAwwgsAAAAwwgsAAAAwwgsAAAAwwgsAAAAwwgsAAAAwwgsAAAAwwgsAAAAwwgsAAAAwwgsAAAAwxptYH3xxRcaPXq0YmNj1bt3bz399NM6c%2BaMJGnTpk1KTExUTEyMEhIStHHjRpe/u2TJEvXp00cxMTEaM2aMDhw4ULevrKxMjz/%2BuHr16qUePXpo6tSpKi0tbdD7BgAAGrdGGVi1tbUaP368hgwZou3bt2vlypX66KOPtGTJEhUUFGjy5Ml64IEHtHPnTk2ePFlTpkzRsWPHJEmrV6/Wq6%2B%2Bqpdeeknbtm1T586dlZqaKqfTKUmaMWOGjhw5ovXr1ys3N1dHjhxRRkaGJ%2B8uAABoZBplYJ08eVIOh0O1tbV1YeTr6yu73a7Vq1crNjZWAwcOlM1m09ChQxUXF6fs7GxJ0ooVK3T33XcrKipKLVq00MMPP6zDhw9r27ZtKi8v19q1a5WamqrWrVvr4osv1iOPPKJVq1apvLzck3cZAAA0Io0ysEJDQzV27FjNmTNHXbt2Vd%2B%2BfdW%2BfXuNHTtW%2Bfn5io6Odrl9ZGSk9u7dK0nn7Pf391f79u21d%2B9eHTx4UFVVVS77O3TooIqKChUUFDTIfQMAAI2fzdML%2BG/U1tYqMDBQ06ZNU1JSkg4ePKhJkyZpwYIFKi0tld1ud7l9YGCgysrKJOkn95eUlEiSgoKC6vadva07r8MqLCyUw%2BFw2WazBSksLKz%2BdxIeZ7O5fv/h5%2Bfr8id%2BGvNyHzNzD/NyHzNrOI0ysDZs2KD169dr3bp1kqSoqCilpKRo5syZ6t69uyoqKlxuX1FRoeDgYEnfB9OP7T8bVuXl5XW3P/vUYEhISL3Xl52draysLJdtKSkpSk1NdeNewtNCQ4PPu71VK/t5t%2BP8mJf7mJl7mJf7mJn1GmVgHTlypO4dg2fZbDb5%2B/srOjpaX3zxhcu%2B/Px8denSRdL3MZaXl6d%2B/fpJkqqqqlRQUKDo6GiFh4fL399f%2Bfn5uv766yVJ%2B/fvr3sasb6Sk5PVv3//H6wvSCdO8G7ExuSH/738/HzVqpVdp06Vq6am1kOrajyYl/uYmXuYl/ua48x%2B7JtlqzXKwOrdu7fmzp2rF154QePGjdPhw4e1aNEiJSYmavjw4Xr55ZeVk5OjwYMHKzc3V9u3b1d6erokadSoUVq4cKH69Omj8PBwzZs3T23btlVsbKz8/f2VkJCgjIwMzZ8/X5KUkZGhYcOGKTAwsN7rCwsLO%2BfpQIfjtKqrm8fF3FT82H%2Bvmppa/lu6gXm5j5m5h3m5j5lZr1EGVmRkpBYvXqzMzEy9%2BOKLatmypYYPH66UlBQFBAToueeeU0ZGhtLT03XFFVdo4cKFCg8PlyQlJSXp9OnTSklJUVFRkbp27arFixfL399fkjR9%2BnTNmTNHiYmJqqqq0oABAzRt2jRP3l0AANDI%2BDjP/pwDWMrhOG3JcRMyt1hyXEjvTYl3%2Bdhm81VoaLBOnCjlO796YF7uY2buYV7ua44za9eupUfOy9sIAAAADCOwAAAADCOwAAAADCOwAAAADCOwAAAADCOwAAAADCOwAAAADCOwAAAADCOwAAAADCOwAAAADCOwAAAADCOwAAAADCOwAAAADCOwAAAADCOwAAAADCOwAAAADCOwAAAADCOwAAAADLMksObMmaO8vDwrDg0AAOD1LAmsXbt2afjw4UpKStIbb7yhU6dOWXEaAAAAr2RJYK1YsUI5OTmKj4/XkiVLdPPNN%2Buhhx7SRx99JKfTacUpAQAAvIZlr8EKDw/Xgw8%2BqL///e9asmSJ2rRpo8mTJ6tfv35asGCBjh07ZtWpAQAAPMryF7l/9tlnys3NVW5uriQpLi5Ou3bt0uDBg/X2229bfXoAAIAGZ7PioEeOHNGaNWu0Zs0affPNN7r%2B%2Bus1adIkDR06VCEhIZKkhQsXatasWRo%2BfLgVSwAAAPAYSwKrf//%2Buvjii5WYmKisrCx16NDhnNt06tRJ7du3t%2BL0AAAAHmVJYC1cuFD9%2BvWTn5/fj95mwIABGjBggBWnBwAA8ChLAmvgwIEqLy/Xvn37VFVVdc47B%2BPi4qw4LQAAgFewJLA%2B%2BOADpaWlqaSk5Jy48vHx0VdffWXFaQEAALyCJYGVkZGh2NhYPfDAA2rZsqUVpwAAAPBalgTWwYMHlZmZqcjISCsODwAA4NUs%2BTlY7du3V1FRkRWHBgAA8HqWPIKVlpamGTNm6MEHH1RERIQCAgJc9l9%2B%2BeVWnBYAAMArWBJY9913nyRp4sSJ8vHxqdvudDp5kTsAAGjyLAmsV155xYrDAgAANAqWBFbPnj3r/v3MmTPnPEUIAADQlFn2y57feOMN9e/fXzExMfr22281ffp0ZWVlWXU6AAAAr2FJYK1du1Zz587ViBEj5O/vL0nq0KGD/vSnP2nJkiVWnBIAAMBrWPIU4dKlS5Wenq4RI0Zo6dKlkqR77rlHLVu21KJFizRu3DgrTgsYlZC5xdNLcMt7U%2BI9vQQAwP%2Bz5BGsb775RrGxsedsj42N1dGjR604JQAAgNewJLDatm2rAwcOnLP9008/VVhYmBWnBAAA8BqWBFZycrKeeuop5ebmSpIOHDig119/XbNmzdKoUaOsOCUAAIDXsOQ1WOPGjdPp06eVlpamyspKjR8/XjabTb/85S81fvx4K04JAADgNSwJLEl66KGHNGHCBOXn58vpdCoiIkIhISFWnQ4AAMBrWBJYhw8frvv3iy%2B%2BWJJ06tQpnTp1ShK/ixAAADRtlgRW//79XX4H4Q/xuwgBAEBT1iC/i7C6uloFBQV6%2BeWXlZ6ebsUpAQAAvIblv4vwrJtuukmXX365XnjhBd1yyy1WnBYAAMArWPa7CM8nMjJSX375ZUOeEgAAoME1WGCVlJRo2bJluuSSSxrqlAAAAB5hyVOEHTt2PO%2BL3H18fDRjxgwrTgkAAOA1LAmsWbNmnRNY/v7%2BiomJ0S9%2B8QsrTgkAAOA1LAmskSNHWnFYAACARsGSwMrKyqr3bSdNmmTFEgAAADzGksDatWuXPv30U0lSeHi4AgICdODAAZWWluqyyy6ru52Pjw%2BBBQAAmhxLAisuLk5VVVXKzMxU27ZtJX3/LsJHH31UnTt31sSJE604LQAAgFew5Mc0vPbaa0pPT6%2BLK0kKCQnRlClT9Oc//9mKUwIAAHgNSwKrqqpKZWVl52x3OBxWnA4AAMCrWBJYAwcO1BNPPKFPPvlEpaWlKikp0aZNm/S73/1Ow4cPt%2BKUAAAAXsOS12Clp6crNTVVY8eOrft5WE6nU0OHDlVaWpoVpwQAAPAalgRWSEiIli5dqv379ysvL0%2BS1LlzZ1155ZXGzlFcXKxZs2Zp06ZNqq2tVVxcnJ588kmFhYVpz549evrpp5Wfn6/Q0FBNmDBBd955Z93fXb16tZ5//nk5HA5FRERo2rRp6tatmySppqZGGRkZWrNmjcrLy3XDDTfoqaeeUlhYmLG1AwCAps3S30VYVFSk4uJi9e7dW5WVlaqqqjJ27MmTJ6usrEwbNmzQxo0b5efnp2nTpunkyZO67777dMcdd2jHjh2aOXOmnnnmGX322WeSpG3btmnGjBmaPXu2duzYoeHDh2vChAkqLy%2BXJC1atEhbtmzRW2%2B9pc2bNyswMFBPPPGEsXUDAICmz5JHsEpKSvTrX/9ae/bskY%2BPj%2BLj45WRkaGCggItW7ZMl1566c86/j//%2BU/t2bNHH3/8sUJCQiRJM2bMkMPhUG5urlq3bq3Ro0dLkm688UYlJiZq%2BfLluu666/Tmm2/qtttuU48ePSRJY8eOVXZ2tnJycjRq1Ci9%2BeabeuSRR%2Bp%2BXld6erp69%2B6tb7/91ugjcAAAoOmy5BGsZ599Vj4%2BPtqwYYMCAwMlSVOnTlVQUJD%2B8Ic//Ozjf/bZZ4qMjNSKFSs0aNAg9e7dW3PmzFG7du2Ul5en6Ohol9tHRkZq7969kqT8/Pwf3X/69GkdPXrUZX/btm110UUX6euvv/7Z6wYAAM2DJY9gbdy4UXPnznV5xCciIkLTp0/X/fff/7OPf/LkSX399dfq0qWLVq9erYqKCk2dOlWPPvqo2rZtK7vd7nL7wMDAuh8bUVpa%2BqP7S0tLJUlBQUHn7D%2B7rz4KCwvP%2BZEUNlsQr%2BOCpWw2S5/xd5ufn6/Ln7gwZuYe5uU%2BZtZwLAmsoqIitWvX7pztISEhda91%2BjkCAgIkff/0XYsWLep%2BiOldd92lkSNHqqKiwuX2FRUVCg4OliTZ7fbz7g8NDa0Lrx%2Bu8T//fn1kZ2ef8/sYU1JSlJqaWu9jAO4KDa3/NdqQWrWyX/hGcMHM3MO83MfMrGdJYHXt2lU5OTkaP368y/ZXXnlFnTp1%2BtnHj4yMVG1traqqqtSiRQtJUm1trSTp2muv1euvv%2B5y%2B/z8fEVFRUmSoqKi6t7Z%2BJ/7%2B/Tpo4suukiXXHKJy9OIDodDxcXF5zyt%2BFOSk5PVv39/l202W5BOnKj/o2CAu7zt%2BvLz81WrVnadOlWumppaTy%2BnUWBm7mFe7muOM/PUN5%2BWBNZDDz2ke%2B%2B9V7t371Z1dbUWLVqk/Px8ffnll3rppZd%2B9vFvuukmXXnllfrtb3%2BrZ555RpWVlZo3b54GDhyoYcOGacGCBVq2bJlGjx6tXbt2ae3atXr%2B%2BeclSUlJSUpJSVFCQoJ69Oih5cuX6/jx4xo0aJAkaeTIkVq0aJG6du2q0NBQzZo1Sz179tRVV11V7/WFhYWd83Sgw3Fa1dXN42KGZ3jr9VVTU%2Bu1a/NWzMw9zMt9zMx6ljwJ2717d2VnZ6tVq1a6%2Buqr9Y9//EOXXXaZli9frl69ev3s4/v7%2B%2BvVV1%2BVn5%2BfhgwZoiFDhujSSy/VrFmzFBoaqqVLl2rdunXq1auXnnjiCT3xxBO64YYbJH3/rsLp06frySefVM%2BePfXuu%2B9qyZIlat26taTvn8rr27evRo8erb59%2B6qyslKZmZk/e80AAKD58HE6nU5PL6I5cDhOW3LchMwtlhwXjc97U%2BI9vQQXNpuvQkODdeJEKd8p1xMzcw/zcl9znFm7di09cl7eRgAAAGAYgQUAAGCYscAqKSkxdSgAAIBGzVhgxcXF6fjx4y7bduzYoTNnzpg6BQAAQKNgLLDO91r58ePH69ixY6ZOAQAA0ChY%2Bhos3qAIAACaI17kDgAAYBiBBQAAYJjRX5Vz9OhRVVZWumw7duyY/Pz8XLZdfvnlJk8LAADgVYwGVlJSksvHTqdTY8aMcfnYx8dHX331lcnTAgAAeBVjgfXKK6%2BYOhQAAECjZiywevbsaepQAAAAjRovcgcAADCMwAIAADCMwAIAADCMwAIAADCMwAIAADCMwAIAADCMwAIAADCMwAIAADCMwAIAADCMwAIAADCMwAIAADCMwAIAADCMwAIAADCMwAIAADCMwAIAADCMwAIAADCMwAIAADCMwAIAADCMwAIAADCMwAIAADCMwAIAADCMwAIAADCMwAIAADCMwAIAADCMwAIAADCMwAIAADCMwAIAADCMwAIAADCMwAIAADCMwAIAADCMwAIAADCMwAIAADCMwAIAADCMwAIAADCMwAIAADCMwAIAADDM5ukFAGh%2BEjK3eHoJbnlvSrynlwCgkeERLAAAAMMILAAAAMMILAAAAMMILAAAAMMILAAAAMMILAAAAMMILAAAAMMILAAAAMMILAAAAMMILAAAAMOaXGDV1NRozJgxeuyxx%2Bq2bdq0SYmJiYqJiVFCQoI2btzo8neWLFmiPn36KCYmRmPGjNGBAwfq9pWVlenxxx9Xr1691KNHD02dOlWlpaUNdn8AAEDj0%2BQCKysrSzt37qz7uKCgQJMnT9YDDzygnTt3avLkyZoyZYqOHTsmSVq9erVeffVVvfTSS9q2bZs6d%2B6s1NRUOZ1OSdKMGTN05MgRrV%2B/Xrm5uTpy5IgyMjI8ct8AAEDj0KQCa%2BvWrcrNzdXgwYPrtq1evVqxsbEaOHCgbDabhg4dqri4OGVnZ0uSVqxYobvvvltRUVFq0aKFHn74YR0%2BfFjbtm1TeXm51q5dq9TUVLVu3VoXX3yxHnnkEa1atUrl5eWeupsAAMDLNZnAOn78uNLT0zV37lzZ7fa67fn5%2BYqOjna5bWRkpPbu3Xve/f7%2B/mrfvr327t2rgwcPqqqqymV/hw4dVFFRoYKCAmvvEAAAaLRsnl6ACbW1tUpLS9O9996rjh07uuwrLS11CS5JCgwMVFlZ2QX3l5SUSJKCgoLq9p297U%2B9DquwsFAOh8Nlm80WpLCwMDfvGVB/Npt3fb/k5%2Bfr8mdjlpC5xdNLcMuGR2729BIaRFO6xhoKM2s4TSKwFi9erICAAI0ZM%2BacfXa7XRUVFS7bKioqFBwcfMH9Z8OqvLy87vZnnxoMCQn50fVkZ2crKyvLZVtKSopSU1PdvGdA/YWGBnt6CefVqpX9wjeCUd56LViFa8x9zMx6TSKw1qxZo8LCQsXGxkpSXTD97W9/0%2BjRo/XFF1%2B43D4/P19dunSRJEVFRSkvL0/9%2BvWTJFVVVamgoEDR0dEKDw%2BXv7%2B/8vPzdf3110uS9u/fX/c04o9JTk5W//79XbbZbEE6cYJ3H8I63nZ9%2Bfn5qlUru06dKldNTa2nl9OseNu1YBWuMfc1x5l56huOJhFY69atc/n47I9omD17tvbv36%2BXX35ZOTk5Gjx4sHJzc7V9%2B3alp6dLkkaNGqWFCxeqT58%2BCg8P17x589S2bVvFxsbK399fCQkJysjI0Pz58yVJGRkZGjZsmAIDA390PWFhYec8HehwnFZ1dfO4mOEZ3np91dTUeu3amqrmNm%2BuMfcxM%2Bs1icD6KR06dNBzzz2njIwMpaen64orrtDChQsVHh4uSUpKStLp06eVkpKioqIide3aVYsXL5a/v78kafr06ZozZ44SExNVVVWlAQMGaNq0aZ68SwAAwMv5OM/%2BwCdYyuE4bclxG9uLb2Gd96bEe3oJLmw2X4WGBuvEidJzvlPmurWWt10LVvmpawzn1xxn1q5dS4%2Bcl7cRAAAAGEZgAQAAGEZgAQAAGEZgAQAAGEZgAQAAGEZgAQAAGNbkfw4W0Fzwow8AwHvwCBYAAIBhBBYAAIBhBBYAAIBhBBYAAIBhBBYAAIBhBBYAAIBhBBYAAIBhBBYAAIBhBBYAAIBhBBYAAIBhBBYAAIBhBBYAAIBhBBYAAIBhBBYAAIBhBBYAAIBhBBYAAIBhBBYAAIBhBBYAAIBhBBYAAIBhBBYAAIBhBBYAAIBhBBYAAIBhBBYAAIBhBBYAAIBhBBYAAIBhBBYAAIBhBBYAAIBhBBYAAIBhBBYAAIBhBBYAAIBhBBYAAIBhBBYAAIBhBBYAAIBhBBYAAIBhBBYAAIBhBBYAAIBhBBYAAIBhBBYAAIBhBBYAAIBhBBYAAIBhBBYAAIBhBBYAAIBhBBYAAIBhBBYAAIBhBBYAAIBhBBYAAIBhBBYAAIBhBBYAAIBhBBYAAIBhBBYAAIBhBBYAAIBhBBYAAIBhBBYANEOHDh3UAw9M0KBBfXT77bfqlVeWuuzfuvUj3XNPsgYO7K3Ro5O0Zctml/3Ll/9ZI0YM1cCBvTVp0n06dKigAVcPeD8CCwCamerqak2d%2BqA6duyknJz39cc/ZmrVqjf197//TZL07beHlJ7%2BqH7zmwlat%2B4D/e//jtfvfveYHI5CSdJ7772jlSuzNXfuQr377vu65pprlZ4%2BVU6n05N3C/AqBBYANDO7d%2B/S8ePf6Te/uV/%2B/v6Kju6opKRkrVq1QtL3AXX99THq0%2BcW2Ww2DRgwSDExPfT226slSW%2B/vVojRiQpIqKDWrRooQkTJuvYsWPavXuXJ%2B8W4FVsnl5AU1RYWCiHw%2BGyzWYLUlhYmIdWBKA5sdl%2B%2BnvnQ4e%2B0VVXXSW7vUXdtg4dOui115bJZvPVwYPfKDIyyuU4ERER2r8/TzabrwoKDuiee8bW7bfZAnTllVfqwIE89ezZ05o7dR5%2Bfr4uf%2BLCmFnDIbAskJ2draysLJdtKSkpSk1N9dCKADQnoaHBP7m/trZKLVuGuNyuXbtQlZeXKzQ0WGfOVCg0tJXL/tatW6qgoFKhocEqKytTu3ahLvtDQoLldFZf8NxWaNXK3uDnbOyYmfUILAskJyerf//%2BLttstiCdOFHqoRUBaE4u/LXGTyUlpS63czhOKCjo%2B69TNluAiotPu%2BwvLj6tgIBAnThRqsBAu777rthlf0lJqXx9/Rv065yfn69atbLr1Kly1dTUNth5G7PmODNPRL9EYFkiLCzsnKcDHY7Tqq5uHhczAM%2B60Nea9u0jdOjQIVVUnJHN9v3/Bvbv36/w8A6qrq5V%2B/YR2rfva5fjHDhwQB07Xqvq6lpFREQoPz9fN9zQ%2B//PV61vv/1WV18d4ZGvczU1tXx9dRMzsx5PwgJAM9OtW6wuuqi1XnghS5WVlcrL26eVK7M1bNjtkqRbb71Nu3fv0vvvb1B1dbXef3%2BDdu/epSFDhkqSbrttuN56a4Xy8vapsrJSixYtVJs2bRQT092TdwvwKj5O3lfbIByO05YcNyFziyXHBdB4vTcl/oK3%2Bde/vtWzz87Rl1/%2BU3Z7kEaNukv/8z9j6/Zv27ZVixYt1L///S9deumlmjgxVTfe%2BP0jVk6nU3/5y3KtWvWmiotP6NprO%2BmRRx7XVVddbdVdOi%2BbzVehocE6caKUR2PqqTnOrF27lh45L4HVQAgsAA2lPoHVFDTHWPi5muPMPBVYPEUIAABgGIEFAABgGIEFAABgGIEFAABgGD8HCwCAempsbyxqLm948EY8ggUAAGAYgQUAAGAYgQUAAGAYgQUAAGAYgQUAAGAYgQUAAGAYgQUAAGAYgQUAAGAYgQUAAGAYgQUAAGAYgQUAAGAYgQUAAGAYgQUAAGAYgQUAAGAYgQUAAGAYgQUAAGCYzdMLAAA0XwmZWzy9hCatMc33vSnxnl6CUTyCBQAAYBiBBQAAYBiBBQAAYBivwQKAJqYxve4GaKp4BAsAAMAwAgsAAMAwAgsAAMAwAgsAAMAwAgsAAMAwAgsAAMAwAgsAAMAwAgsAAMAwAgsAAMAwAgsAAMAwAgsAAMAwAgsAAMAwAgsAAMAwAgsAAMAwAgsAAMAwAgsAAMAwAgsAAMAwAgsAAMAwAgsAAMAwAgsAAMAwAgsAAMAwAgsAAMAwAgsAAMAwAgsAAMAwAgsAAMAwAgsAAMAwAgsAAMAwAgsAAMAwAgsAAMAwAgsAAMAwAgsAAMAwAgsAAMAwAus8jh8/rokTJyo2Nla9evXSzJkzVV1d7ellAQCARoLAOo8pU6YoKChImzdv1sqVK7V161YtW7bM08sCAACNBIH1AwcPHtT27duVlpYmu92uK6%2B8UhMnTtTy5cs9vTQAANBIEFg/kJeXp9atW%2BuSSy6p29ahQwcdPnxYp06d8uDKAABAY2Hz9AK8TWlpqex2u8u2sx%2BXlZWpVatWFzxGYWGhHA6HyzabLUhhYWHmFgoAQBNiszWtx3wIrB8ICgpSeXm5y7azHwcHB9frGNnZ2crKynLZNmnSJE2ePNnMIv/Dzpm3/ld/r7CwUNnZ2UpOTib86omZuYd5uY%2BZuYd5uY%2BZNZymlYsGREVFqbi4WN99913dtv379%2BvSSy9Vy5Yt63WM5ORkrVq1yuWf5ORkq5b8X3E4HMrKyjrnkTb8OGbmHublPmbmHublPmbWcHgE6wfat2%2BvHj16aNasWfr973%2BvEydO6Pnnn1dSUlK9jxEWFsZ3BgAANGM8gnUeCxYsUHV1tQYMGKC77rpLN998syZOnOjpZQEAgEaCR7DOo23btlqwYIGnlwEAABopvyeffPJJTy8CnhEcHKyePXvW%2B8X7YGbuYl7uY2buYV7uY2YNw8fpdDo9vQgAAICmhNdgAQAAGEZgAQAAGEZgAQAAGEZgAQAAGEZgAQAAGEZgAQAAGEZgAQAAGEZgAQAAGEZgNQN79%2B7Vvffeq549eyo%2BPl5Tp05VUVGRJGnPnj2688471a1bN/Xv319vvvmmh1frHbZu3ao777xT3bt3V3x8vGbMmKGKigpJzOyn1NTUaMyYMXrsscfqtm2%2BJNToAAAFbUlEQVTatEmJiYmKiYlRQkKCNm7c6MEVeo%2BcnBx16tRJ3bp1q/snLS1NEjNzB5%2BP5/f222%2B7XFvdunVTly5d1KVLF0lcYw3CiSatvLzcGR8f75w/f76zsrLSWVRU5Bw3bpxz/PjxzuLiYmfPnj2dr732mrOqqsr58ccfO7t16%2Bbcs2ePp5ftUcePH3d27drV%2BdZbbzlramqcx44dcw4bNsw5f/58ZnYBmZmZzo4dOzofffRRp9PpdH7zzTfOrl27Ojds2OCsqqpyvvvuu87rrrvOefToUQ%2Bv1PNmz57tfOyxx87Zzszqj8/H%2Bjt69KgzPj7e%2Bde//pVrrIHwCFYTd/jwYXXs2FEpKSkKCAhQaGiokpOTtWPHDuXm5qp169YaPXq0bDabbrzxRiUmJmr58uWeXrZHtWnTRh9//LFGjhwpHx8fFRcXq7KyUm3atGFmP2Hr1q3Kzc3V4MGD67atXr1asbGxGjhwoGw2m4YOHaq4uDhlZ2d7cKXe4fPPP697NOE/MbP64/OxfpxOp9LS0nTLLbfo9ttv5xprIARWExcREaEXX3xRfn5%2BddvWr1%2Bvzp07Ky8vT9HR0S63j4yM1N69ext6mV4nJCREktS3b18lJiaqXbt2GjlyJDP7EcePH1d6errmzp0ru91etz0/P595nUdtba2%2B%2BOILffDBB%2BrXr5/69OmjadOm6eTJk8zMDXw%2B1s%2BaNWuUn59f99Q911jDILCaEafTqXnz5mnjxo1KT09XaWmpy/8MJSkwMFBlZWUeWqH3yc3N1YcffihfX1%2BlpqYys/Oora1VWlqa7r33XnXs2NFlH/M6v6KiInXq1ElDhgxRTk6O/vKXv6igoEBpaWnMzA3M6sJqa2u1aNEi3X///XXfODK3hkFgNRMlJSVKTU3V2rVr9dprr%2Bmaa66R3W6ve%2BH2WRUVFQoODvbQKr1PYGCgLrnkEqWlpWnz5s3M7DwWL16sgIAAjRkz5px9zOv82rZtq%2BXLlyspKUl2u12XX3650tLS9OGHH8rpdDKzeuL6urBt27apsLBQSUlJdduYW8MgsJqBQ4cOadSoUSopKdHKlSt1zTXXSJKio6OVl5fnctv8/HxFRUV5Yple49NPP9Wtt96qM2fO1G07c%2BaM/P39FRkZycx%2BYM2aNdq%2BfbtiY2MVGxurd955R%2B%2B8845iY2O5xn7E3r17lZGRIafTWbftzJkz8vX11XXXXcfM6onr68LWr1%2BvQYMGKSgoqG4bc2sYBFYTd/LkSf3qV79S9%2B7d9dJLL6lNmzZ1%2BwYNGqTvvvtOy5YtU1VVlT755BOtXbtWo0aN8uCKPe%2Baa65RRUWF5s6dqzNnzujf//635syZo6SkJA0ZMoSZ/cC6dev06aefaufOndq5c6eGDRumYcOGaefOnRo%2BfLi2b9%2BunJwcVVdXKycnR9u3b9ftt9/u6WV7VOvWrbV8%2BXK9%2BOKLqq6u1uHDh/XHP/5RI0aM0B133MHM6omvYRe2a9cuxcXFuWzj87Jh%2BDj/81soNDkvv/yyZs%2BeLbvdLh8fH5d9u3fv1ueff66ZM2dq3759atOmjSZOnKiRI0d6aLXeIz8/X7NmzdLnn3%2Buli1bKjExse6dmMzsp519Ie3s2bMlSZs3b1ZGRoYOHTqkK664Qmlpaerbt68nl%2BgVtm/frmeffVb79u1TixYtdNtttyktLU0tWrRgZm7g8/GndevWTZmZmedcP1xj1iOwAAAADOMpQgAAAMMILAAAAMMILAAAAMMILAAAAMMILAAAAMMILAAAAMMILAAAAMMILAAAAMMILAAAAMMILAAAAMMILAAAAMMILAAAAMMILAAAAMMILAAAAMMILAAAAMP%2BD%2BbNpsSmxuGjAAAAAElFTkSuQmCC\"/>\n",
       "        </div>\n",
       "        <div role=\"tabpanel\" class=\"tab-pane col-md-12\" id=\"common5894559114219201593\">\n",
       "            \n",
       "<table class=\"freq table table-hover\">\n",
       "    <thead>\n",
       "    <tr>\n",
       "        <td class=\"fillremaining\">Value</td>\n",
       "        <td class=\"number\">Count</td>\n",
       "        <td class=\"number\">Frequency (%)</td>\n",
       "        <td style=\"min-width:200px\">&nbsp;</td>\n",
       "    </tr>\n",
       "    </thead>\n",
       "    <tr class=\"\">\n",
       "        <td class=\"fillremaining\">31</td>\n",
       "        <td class=\"number\">2172</td>\n",
       "        <td class=\"number\">5.2%</td>\n",
       "        <td>\n",
       "            <div class=\"bar\" style=\"width:9%\">&nbsp;</div>\n",
       "        </td>\n",
       "</tr><tr class=\"\">\n",
       "        <td class=\"fillremaining\">25</td>\n",
       "        <td class=\"number\">1677</td>\n",
       "        <td class=\"number\">4.0%</td>\n",
       "        <td>\n",
       "            <div class=\"bar\" style=\"width:7%\">&nbsp;</div>\n",
       "        </td>\n",
       "</tr><tr class=\"\">\n",
       "        <td class=\"fillremaining\">26</td>\n",
       "        <td class=\"number\">1667</td>\n",
       "        <td class=\"number\">4.0%</td>\n",
       "        <td>\n",
       "            <div class=\"bar\" style=\"width:7%\">&nbsp;</div>\n",
       "        </td>\n",
       "</tr><tr class=\"\">\n",
       "        <td class=\"fillremaining\">30</td>\n",
       "        <td class=\"number\">1613</td>\n",
       "        <td class=\"number\">3.9%</td>\n",
       "        <td>\n",
       "            <div class=\"bar\" style=\"width:7%\">&nbsp;</div>\n",
       "        </td>\n",
       "</tr><tr class=\"\">\n",
       "        <td class=\"fillremaining\">23</td>\n",
       "        <td class=\"number\">1604</td>\n",
       "        <td class=\"number\">3.9%</td>\n",
       "        <td>\n",
       "            <div class=\"bar\" style=\"width:7%\">&nbsp;</div>\n",
       "        </td>\n",
       "</tr><tr class=\"\">\n",
       "        <td class=\"fillremaining\">24</td>\n",
       "        <td class=\"number\">1489</td>\n",
       "        <td class=\"number\">3.6%</td>\n",
       "        <td>\n",
       "            <div class=\"bar\" style=\"width:6%\">&nbsp;</div>\n",
       "        </td>\n",
       "</tr><tr class=\"\">\n",
       "        <td class=\"fillremaining\">21</td>\n",
       "        <td class=\"number\">1487</td>\n",
       "        <td class=\"number\">3.6%</td>\n",
       "        <td>\n",
       "            <div class=\"bar\" style=\"width:6%\">&nbsp;</div>\n",
       "        </td>\n",
       "</tr><tr class=\"\">\n",
       "        <td class=\"fillremaining\">20</td>\n",
       "        <td class=\"number\">1432</td>\n",
       "        <td class=\"number\">3.4%</td>\n",
       "        <td>\n",
       "            <div class=\"bar\" style=\"width:6%\">&nbsp;</div>\n",
       "        </td>\n",
       "</tr><tr class=\"\">\n",
       "        <td class=\"fillremaining\">29</td>\n",
       "        <td class=\"number\">1417</td>\n",
       "        <td class=\"number\">3.4%</td>\n",
       "        <td>\n",
       "            <div class=\"bar\" style=\"width:6%\">&nbsp;</div>\n",
       "        </td>\n",
       "</tr><tr class=\"\">\n",
       "        <td class=\"fillremaining\">22</td>\n",
       "        <td class=\"number\">1388</td>\n",
       "        <td class=\"number\">3.3%</td>\n",
       "        <td>\n",
       "            <div class=\"bar\" style=\"width:6%\">&nbsp;</div>\n",
       "        </td>\n",
       "</tr><tr class=\"other\">\n",
       "        <td class=\"fillremaining\">Other values (48)</td>\n",
       "        <td class=\"number\">25668</td>\n",
       "        <td class=\"number\">61.7%</td>\n",
       "        <td>\n",
       "            <div class=\"bar\" style=\"width:100%\">&nbsp;</div>\n",
       "        </td>\n",
       "</tr>\n",
       "</table>\n",
       "        </div>\n",
       "        <div role=\"tabpanel\" class=\"tab-pane col-md-12\"  id=\"extreme5894559114219201593\">\n",
       "            <p class=\"h4\">Minimum 5 values</p>\n",
       "            \n",
       "<table class=\"freq table table-hover\">\n",
       "    <thead>\n",
       "    <tr>\n",
       "        <td class=\"fillremaining\">Value</td>\n",
       "        <td class=\"number\">Count</td>\n",
       "        <td class=\"number\">Frequency (%)</td>\n",
       "        <td style=\"min-width:200px\">&nbsp;</td>\n",
       "    </tr>\n",
       "    </thead>\n",
       "    <tr class=\"\">\n",
       "        <td class=\"fillremaining\">18</td>\n",
       "        <td class=\"number\">1331</td>\n",
       "        <td class=\"number\">3.2%</td>\n",
       "        <td>\n",
       "            <div class=\"bar\" style=\"width:89%\">&nbsp;</div>\n",
       "        </td>\n",
       "</tr><tr class=\"\">\n",
       "        <td class=\"fillremaining\">19</td>\n",
       "        <td class=\"number\">1301</td>\n",
       "        <td class=\"number\">3.1%</td>\n",
       "        <td>\n",
       "            <div class=\"bar\" style=\"width:87%\">&nbsp;</div>\n",
       "        </td>\n",
       "</tr><tr class=\"\">\n",
       "        <td class=\"fillremaining\">20</td>\n",
       "        <td class=\"number\">1432</td>\n",
       "        <td class=\"number\">3.4%</td>\n",
       "        <td>\n",
       "            <div class=\"bar\" style=\"width:96%\">&nbsp;</div>\n",
       "        </td>\n",
       "</tr><tr class=\"\">\n",
       "        <td class=\"fillremaining\">21</td>\n",
       "        <td class=\"number\">1487</td>\n",
       "        <td class=\"number\">3.6%</td>\n",
       "        <td>\n",
       "            <div class=\"bar\" style=\"width:100%\">&nbsp;</div>\n",
       "        </td>\n",
       "</tr><tr class=\"\">\n",
       "        <td class=\"fillremaining\">22</td>\n",
       "        <td class=\"number\">1388</td>\n",
       "        <td class=\"number\">3.3%</td>\n",
       "        <td>\n",
       "            <div class=\"bar\" style=\"width:93%\">&nbsp;</div>\n",
       "        </td>\n",
       "</tr>\n",
       "</table>\n",
       "            <p class=\"h4\">Maximum 5 values</p>\n",
       "            \n",
       "<table class=\"freq table table-hover\">\n",
       "    <thead>\n",
       "    <tr>\n",
       "        <td class=\"fillremaining\">Value</td>\n",
       "        <td class=\"number\">Count</td>\n",
       "        <td class=\"number\">Frequency (%)</td>\n",
       "        <td style=\"min-width:200px\">&nbsp;</td>\n",
       "    </tr>\n",
       "    </thead>\n",
       "    <tr class=\"\">\n",
       "        <td class=\"fillremaining\">71</td>\n",
       "        <td class=\"number\">310</td>\n",
       "        <td class=\"number\">0.7%</td>\n",
       "        <td>\n",
       "            <div class=\"bar\" style=\"width:100%\">&nbsp;</div>\n",
       "        </td>\n",
       "</tr><tr class=\"\">\n",
       "        <td class=\"fillremaining\">72</td>\n",
       "        <td class=\"number\">212</td>\n",
       "        <td class=\"number\">0.5%</td>\n",
       "        <td>\n",
       "            <div class=\"bar\" style=\"width:68%\">&nbsp;</div>\n",
       "        </td>\n",
       "</tr><tr class=\"\">\n",
       "        <td class=\"fillremaining\">73</td>\n",
       "        <td class=\"number\">197</td>\n",
       "        <td class=\"number\">0.5%</td>\n",
       "        <td>\n",
       "            <div class=\"bar\" style=\"width:63%\">&nbsp;</div>\n",
       "        </td>\n",
       "</tr><tr class=\"\">\n",
       "        <td class=\"fillremaining\">74</td>\n",
       "        <td class=\"number\">153</td>\n",
       "        <td class=\"number\">0.4%</td>\n",
       "        <td>\n",
       "            <div class=\"bar\" style=\"width:49%\">&nbsp;</div>\n",
       "        </td>\n",
       "</tr><tr class=\"\">\n",
       "        <td class=\"fillremaining\">75</td>\n",
       "        <td class=\"number\">184</td>\n",
       "        <td class=\"number\">0.4%</td>\n",
       "        <td>\n",
       "            <div class=\"bar\" style=\"width:59%\">&nbsp;</div>\n",
       "        </td>\n",
       "</tr>\n",
       "</table>\n",
       "        </div>\n",
       "    </div>\n",
       "</div>\n",
       "</div><div class=\"row variablerow\">\n",
       "    <div class=\"col-md-3 namecol\">\n",
       "        <p class=\"h4 pp-anchor\" id=\"pp_var_date\">date<br/>\n",
       "            <small>Date</small>\n",
       "        </p>\n",
       "    </div><div class=\"col-md-6\">\n",
       "    <div class=\"row\">\n",
       "        <div class=\"col-sm-6\">\n",
       "            <table class=\"stats \">\n",
       "                <tr>\n",
       "                    <th>Distinct count</th>\n",
       "                    <td>22</td>\n",
       "                </tr>\n",
       "                <tr>\n",
       "                    <th>Unique (%)</th>\n",
       "                    <td>0.1%</td>\n",
       "                </tr>\n",
       "                <tr class=\"ignore\">\n",
       "                    <th>Missing (%)</th>\n",
       "                    <td>0.0%</td>\n",
       "                </tr>\n",
       "                <tr class=\"ignore\">\n",
       "                    <th>Missing (n)</th>\n",
       "                    <td>0</td>\n",
       "                </tr>\n",
       "                <tr class=\"ignore\">\n",
       "                    <th>Infinite (%)</th>\n",
       "                    <td>0.0%</td>\n",
       "                </tr>\n",
       "                <tr class=\"ignore\">\n",
       "                    <th>Infinite (n)</th>\n",
       "                    <td>0</td>\n",
       "                </tr>\n",
       "            </table>\n",
       "        </div>\n",
       "        <div class=\"col-sm-6\">\n",
       "            <table class=\"stats \">\n",
       "                <tr>\n",
       "                    <th>Minimum</th>\n",
       "                    <td>2017-06-01 00:00:00</td>\n",
       "                </tr>\n",
       "                <tr>\n",
       "                    <th>Maximum</th>\n",
       "                    <td>2017-06-22 00:00:00</td>\n",
       "                </tr>\n",
       "            </table>\n",
       "        </div>\n",
       "    </div>\n",
       "</div>\n",
       "<div class=\"col-md-3 collapse in\" id=\"minihistogram-2588292547854638448\">\n",
       "    <img src=\"data:image/png;base64,iVBORw0KGgoAAAANSUhEUgAAAMgAAABLCAYAAAA1fMjoAAAABHNCSVQICAgIfAhkiAAAAAlwSFlzAAAPYQAAD2EBqD%2BnaQAAADl0RVh0U29mdHdhcmUAbWF0cGxvdGxpYiB2ZXJzaW9uIDMuMC4yLCBodHRwOi8vbWF0cGxvdGxpYi5vcmcvOIA7rQAABexJREFUeJzt201oE1sYBuA3/VEUo0VMiLgw4iagdNNQKEq1G72SoKCooLUXwWQhEYsEsbYiid6NVMTUSLGUWiGCIu3GYkURF4KbkeJKtK1FGxXSaP2LQkz73cXFXOpNv0Rrb5P2fXbJcGbOnI83ZyZnxiQiAiLKqGimO0CUz0pmugM/cjb2/nQb468/pqEnRJxBiFQMCJGCASFSMCBECgaESMGAECkYECIFA0KkyLuFQpo9ZsOi75wNyK8U72f9SrHztV9zFS%2BxiBQMCJGCASFSMCBECgaESMGAECkYECIFA0KkmBULhf/H4tpswvHKHWcQIgUDQqRgQIgUDAiRggEhUjAgRAoGhEgxK9ZB8hXXGwofZxAiBQNCpGBAiBQMCJGCASFSMCBECgaESMGAECkYECIFA0KkYECIFAwIkYIBIVIwIEQKBoRIwYAQKRgQIgUDQqRgQIgUefVOeiwWw5%2B2fuzevRtWq3Wmu0PTJBaL4dq1awVR57yaQUZGRnDhwgWMjIzMdFdoGhVSnfMqIET5hgEhUjAgRIq8CojFYoHP54PFYpnprtA0KqQ6m0REZroTRPkqr2YQonzDgBApGBAiBQNCpGBAiBQMCJGCASFS5PQ0b0dHB27cuIGioiKsXbsWgUAAg4ODaGxsRCKRQEVFBQKBAEpLS9NtWlpaAACHDh0CAGzbti29LZlMYmhoCL29vbDb7ROO9fHjR/j9fgwPD2Pp0qU4d%2B4crFYrkskkzpw5A8Mw8O3bNzQ0NGD9%2BvX/6etk7b97%2BPAhWltb0dnZmfsozQGFVOPh4WE0NTVhdHQUxcXFOHr0KKqqqtLb%2B/v7UV9fj56enqkPjGTx%2BPFjcbvdkkgkZHx8XPx%2Bv3R0dIjL5RLDMEREpKGhQa5cuSIiIh8%2BfJDjx49LeXm5hEKhjPtsamqSs2fPZtwWCATk4sWLIiLS3d0tPp9PRETC4bAcOXJExsfHZWBgQNatWydjY2M5t0%2BlUtLe3i6VlZVSW1ub7bTnlEKrscfjke7ubhERGRgYkKqqKkmlUun9VVdXS01NzRRG5F9ZL7EWL16MEydOYOHChTCZTHA4HHj69Cm%2Bfv2KiooKAMD27dtx%2B/ZtAMCdO3ewcuVK7N%2B/P%2BP%2BDMOAYRjw%2BXwZt9%2B/fz/9S%2BR2u/HgwQMkk0ncunULHo8HJpMJq1evxuXLlyEZHgKYrH1/fz%2BeP3%2BOU6dO5fCzMbcUWo23bt2KzZs3AwDsdjuSySS%2BfPmC9%2B/f4969e2hubp7ymHyXNSB2ux2VlZUAgLdv3yISicBut0%2B4bLFYLOln%2B3fs2AGv14vi4uKM%2Bzt//jzq6%2Bsxb968jNtjsVh63yUlJTCbzRgdHcWLFy/w6NEj7NmzB7t27UI8Hs94jMnaOxwOnD59GkuWLMl2ynNOodXY7XZjwYIFAID29nY4HA6YzWaUlZUhFAph%2BfLlvz4YP8j5Jj0ajaKurg47d%2B6E0%2BmEyWRKbxORCZ8nMzg4iNevX2PTpk05d1BEUFRUhLGxMUSjUUQiEQSDQfj9fnz69Cnn9pRdodX40qVLuH79%2Bm%2BdMX6U0036kydP4PV64fV6sW/fPrx69WrC22DxeDynVyfv3r0Ll8s1YaA9Hg9isRiAf07YarUiHo/DZrMhlUohkUigrKwMy5Ytw5YtW9KXADabDUNDQ2hpacmpPekKrcaBQAB9fX24evXqtL62mzUg7969w4EDB3Dy5Mn0r8KKFSswf/58GIYBp9OJrq4uVFdXZz1YX18famtrJ3zX1tY24fOGDRvQ1dWFgwcP4ubNm3A6nSgtLUVNTQ16enpQXl6OaDSKN2/eYNWqVTm3p8kVWo1DoRCePXuGSCSCRYsWTfHsdVkD0tnZic%2BfPyMcDiMcDgMANm7ciObm5vRfgGvWrEFdXV3Wg718%2BTLr9eHhw4dx7NgxuFwumM3m9PTp9/sRDAbhcrkAAMFgEGazOef2NLlCqnEikUBbWxusViv27t2b/r61tfW33nt8x/dBiBS8eyVSMCBECgaESPE3AzmFhPSd4YYAAAAASUVORK5CYII%3D\">\n",
       "</div>\n",
       "<div class=\"col-md-12 text-right\">\n",
       "    <a role=\"button\" data-toggle=\"collapse\" data-target=\"#descriptives-2588292547854638448,#minihistogram-2588292547854638448\"\n",
       "       aria-expanded=\"false\" aria-controls=\"collapseExample\">\n",
       "        Toggle details\n",
       "    </a>\n",
       "</div>\n",
       "<div class=\"row collapse col-md-12\" id=\"descriptives-2588292547854638448\">\n",
       "    <img src=\"data:image/png;base64,iVBORw0KGgoAAAANSUhEUgAAAlgAAAGQCAYAAAByNR6YAAAABHNCSVQICAgIfAhkiAAAAAlwSFlzAAAPYQAAD2EBqD%2BnaQAAADl0RVh0U29mdHdhcmUAbWF0cGxvdGxpYiB2ZXJzaW9uIDMuMC4yLCBodHRwOi8vbWF0cGxvdGxpYi5vcmcvOIA7rQAAIABJREFUeJzt3XtYVPXe//%2BXMsgxFQ9YedmlW8BdlkEeyEO0JckssUKNXW47aNo2kmx7yjS1CJUtlacy08xS7zvT4i7K1Oo2c1ue0rS6w6AybZuAAgYIMuj6/dHX%2Be0JD6N9XOPA83FdXF18Pp9Z673eDcyLtdaM9SzLsgQAAABj6nu7AAAAgNqGgAUAAGAYAQsAAMAwAhYAAIBhBCwAAADDCFgAAACGEbAAAAAMI2ABAAAYRsACAAAwjIAFAABgGAELAADAMAIWAACAYQQsAAAAwwhYAAAAhhGwAAAADCNgAQAAGEbAAgAAMIyABQAAYBgBCwAAwDACFgAAgGEELAAAAMMIWAAAAIYRsAAAAAwjYAEAABhGwAIAADCMgAUAAGAYAQsAAMAwAhYAAIBhBCwAAADDCFgAAACGEbAAAAAMI2ABAAAYRsACAAAwjIAFAABgGAELAADAMAIWAACAYQQsAAAAw3w2YJWUlGjcuHGKjY1V586d9fDDD6ugoECStGvXLg0cOFAxMTGKj4/XypUr3R6blZWlhIQERUdHKykpSTt37nTNHT9%2BXBkZGerWrZtiYmI0YsQI13YBAAA84bMBa%2BTIkTp69Kg%2B/PBDrV%2B/Xn5%2BfnryySd15MgRDR8%2BXHfccYe2bdum9PR0TZ8%2BXbt375YkbdmyRWlpaZoxY4a2bdumfv36acSIEaqoqJAkzZ8/X5s2bdJbb72ljRs3KjAwUJMmTfLmoQIAAB9Tz7Isy9tFnKuvv/5a99xzjz777DOFhoZK%2Bu2MVmFhob788kstWrRIa9euda2fMmWKKisrlZGRoTFjxigoKEhpaWmu%2BT59%2BujBBx9U//79deONN2rMmDFKTEyUJB06dEg9evTQhx9%2BqFatWp13zYWFpef92NOpX7%2BemjQJUVFRuU6c8Ln/jRcVemkOvTSHXppDL83xtV42b36JV/brk2ewdu/erYiICL355ptKSEhQjx49lJGRoebNmys3N1dRUVFu6yMiIpSTkyNJysvLO%2B18aWmpDh486DbfrFkzNWrUSHv27LnwB3aO6tevp3r16ql%2B/XreLsXn0Utz6KU59NIcemkOvfSMw9sFnI8jR45oz549uvrqq5WVlaXKykqNGzdO48ePV7NmzRQUFOS2PjAwUEePHpUklZeXn3a%2BvLxckhQcHFxj/uScJwoKClRYWOg25nAEKzw83ONteMLPr77bf3H%2B6KU59NIcemkOvTSHXnrGJwNWgwYNJEkTJ05UQECAQkNDNWrUKN11111KSkpSZWWl2/rKykqFhIRIkoKCgk45HxYW5gpeJ%2B/HOtXjPbFixQrNmzfPbSwlJUWpqakeb%2BNcNGwYdPZF8Ai9NIdemkMvzaGX5tDLM/PJgBUREaETJ07I6XQqICBAknTixAlJ0pVXXqn/%2Bq//clufl5enyMhISVJkZKRyc3NrzMfFxalRo0Zq0aKF22XEwsJClZSU1LiseCbJycmKj493G3M4glVc7PlZME/4%2BdVXw4ZB%2BvXXCh0/fsLotusaemkOvTSHXppDL83xtV6GhXl%2BgsQknwxY3bp1U6tWrfTEE09o%2BvTpOnbsmJ5//nn16tVLffv21Zw5c7RkyRINGjRIX3zxhbKzs/Xiiy9KkgYMGKCUlBT16dNHHTt21PLly3X48GElJCRIkpKSkjR//nxdc801CgsL07Rp09SlSxddccUVHtcXHh5e43JgYWGpqqsvzBPx%2BPETF2zbdQ29NIdemkMvzaGX5tDLM/PJdxFKUn5%2BvuujFo4dO6b4%2BHhNnDhRDRs21FdffaX09HR99913atKkiR5%2B%2BGElJSW5HvvOO%2B9o/vz5ys/PV0REhCZNmqRrr71WkuR0OjV79my9%2B%2B67Ki8vV2xsrNLS0tS0adM/VO%2BFeBehw1FfYWEhKi4u50n%2BB9FLc%2BilOfTSHHppjq/10lvvIvTZgOVrCFgXN3ppDr00h16aQy/N8bVe8jENAAAAtQQBCwAAwDACFgAAgGEELAAAAMMIWAAAAIYRsAAAAAwjYAEAABjmk5/kjv9fp4lrvF2Cxz4Y1d3bJQAAYAvOYAEAABhGwAIAADCMgAUAAGAYAQsAAMAwAhYAAIBhBCwAAADDCFgAAACGEbAAAAAMI2ABAAAYRsACAAAwjIAFAABgGAELAADAMAIWAACAYQQsAAAAwwhYAAAAhhGwAAAADCNgAQAAGEbAAgAAMIyABQAAYBgBCwAAwDACFgAAgGEELAAAAMMIWAAAAIYRsAAAAAwjYAEAABhGwAIAADCMgAUAAGAYAQsAAMAwAhYAAIBhBCwAAADDCFgAAACGEbAAAAAMI2ABAAAYRsACAAAwjIAFAABgmM8GrNWrV%2Buqq65STEyM62vs2LGSpA0bNigxMVHR0dHq06eP1q9f7/bYhQsXKi4uTtHR0Ro8eLB%2B%2BOEH19zRo0c1YcIExcbGqmPHjho3bpzKy8ttPTYAAODbfDZgffXVV7r99tu1c%2BdO19fMmTO1d%2B9ejRw5Uo8%2B%2Bqi2b9%2BukSNHatSoUcrPz5ckZWVlaenSpXrllVe0ZcsWtW/fXqmpqbIsS5KUlpamX375RWvXrtW6dev0yy%2B/KDMz05uHCgAAfIxPB6yrr766xnhWVpY6deqkXr16yeFw6NZbb1Xnzp21YsUKSdKbb76pe%2B65R5GRkQoICNDo0aN14MABbdmyRRUVFcrOzlZqaqoaN26spk2basyYMXr77bdVUVFh9yECAAAf5ZMB68SJE/rmm2/0ySefqGfPnoqLi9OTTz6pI0eOKC8vT1FRUW7rIyIilJOTI0k15v39/dW6dWvl5OTop59%2BktPpdJtv27atKisrtXfvXluODQAA%2BD6Htws4H0VFRbrqqqvUu3dvzZkzR8XFxRo/frzGjh2rqqoqBQUFua0PDAzU0aNHJUnl5eWnnS8rK5MkBQcHu%2BZOrj2X%2B7AKCgpUWFjoNuZwBCs8PNzzg/SAn59v5WOH4%2BKt92Qvfa2nFyN6aQ69NIdemkMvPeOTAatZs2Zavny56/ugoCCNHTtWd911l2JjY1VZWem2vrKyUiEhIa61p5s/GawqKipc609eGgwNDfW4vhUrVmjevHluYykpKUpNTfV4G7VRWFiIt0s4q4YNg86%2BCB6hl%2BbQS3PopTn08sx8MmDl5OTovffe0%2BjRo1WvXj1JUlVVlerXr68OHTro22%2B/dVufl5fnul8rMjJSubm56tmzpyTJ6XRq7969ioqKUps2beTv76%2B8vDxde%2B21kqTvv//edRnRU8nJyYqPj3cbcziCVVxs9t2IvvbXg%2BnjN8nPr74aNgzSr79W6PjxE94ux6fRS3PopTn00hxf66W3/rj3yYDVuHFjLV%2B%2BXI0aNdIDDzyggoICzZw5U3feeafuuOMOvfbaa1q9erVuvvlmrVu3Tlu3btXEiRMlSf3799fcuXMVFxenNm3a6Pnnn1ezZs3UqVMn%2Bfv7q0%2BfPsrMzNTs2bMlSZmZmerbt68CAwM9ri88PLzG5cDCwlJVV1/8T8QLyReO//jxEz5Rpy%2Bgl%2BbQS3PopTn08sx8MmBdeumlWrBggZ577jnNnz9fAQEBuu222zR27FgFBATohRdeUGZmpiZOnKiWLVtq7ty5atOmjSRpwIABKi0tVUpKioqKinTNNddowYIF8vf3lyRNmTJFGRkZSkxMlNPp1E033aQnn3zSm4cLAAB8TD3r5AdA4YIqLCw1vk2Ho74SMjca3%2B6F8sGo7t4u4bQcjvoKCwtRcXE5f5H9QfTSHHppDr00x9d62bz5JV7Zr2/dxAMAAOADCFgAAACGEbAAAAAMI2ABAAAYRsACAAAwjIAFAABgGAELAADAMAIWAACAYQQsAAAAwwhYAAAAhhGwAAAADCNgAQAAGObwdgEAAODC6DNrk7dL8NgHo7p7uwSjOIMFAABgGAELAADAMC4RAsBZ%2BNJlFqn2XWoBfBEBCzgNXlQBAOeLgAXUEr4UCAmDAGo7AhYA1DKEbcD7uMkdAADAMAIWAACAYQQsAAAAwwhYAAAAhhGwAAAADCNgAQAAGEbAAgAAMIyABQAAYBgBCwAAwDACFgAAgGEELAAAAMMIWAAAAIYRsAAAAAwjYAEAABhGwAIAADCMgAUAAGAYAQsAAMAwAhYAAIBhBCwAAADDCFgAAACGEbAAAAAMI2ABAAAYRsACAAAwjIAFAABgmM8HrOPHj2vw4MF6/PHHXWMbNmxQYmKioqOj1adPH61fv97tMQsXLlRcXJyio6M1ePBg/fDDD665o0ePasKECYqNjVXHjh01btw4lZeX23Y8AADA9/l8wJo3b562b9/u%2Bn7v3r0aOXKkHn30UW3fvl0jR47UqFGjlJ%2BfL0nKysrS0qVL9corr2jLli1q3769UlNTZVmWJCktLU2//PKL1q5dq3Xr1umXX35RZmamV44NAAD4Jp8OWJ9//rnWrVunm2%2B%2B2TWWlZWlTp06qVevXnI4HLr11lvVuXNnrVixQpL05ptv6p577lFkZKQCAgI0evRoHThwQFu2bFFFRYWys7OVmpqqxo0bq2nTphozZozefvttVVRUeOswAQCAj3F4u4DzdfjwYU2cOFEvvviilixZ4hrPy8tTVFSU29qIiAjl5OS45ocNG%2Baa8/f3V%2BvWrZWTk6PGjRvL6XS6Pb5t27aqrKzU3r17deWVV3pUW0FBgQoLC93GHI5ghYeHn%2BthnpGfn2/lY4fj4q33ZC99rae%2B6mJ%2BLsBedj0X%2BBm/%2BNW23ws%2BGbBOnDihsWPH6oEHHtCf//xnt7ny8nIFBQW5jQUGBuro0aNnnS8rK5MkBQcHu%2BZOrj2X%2B7BWrFihefPmuY2lpKQoNTXV423URmFhId4u4awaNgw6%2ByL8Yb7wXIA97H4u8DN%2B8aptvxd8MmAtWLBADRo00ODBg2vMBQUFqbKy0m2ssrJSISEhZ50/GawqKipc609eGgwNDfW4vuTkZMXHx7uNORzBKi42e7O8r/0lZvr4TfLzq6%2BGDYP0668VOn78hLfLqfUu5ucC7GXXc4Gf8YvfhXoueCu4%2BWTAeuedd1RQUKBOnTpJkiswffTRRxo0aJC%2B%2BeYbt/V5eXm6%2BuqrJUmRkZHKzc1Vz549JUlOp1N79%2B5VVFSU2rRpI39/f%2BXl5enaa6%2BVJH3//feuy4ieCg8Pr3E5sLCwVNXVdfuH2heO//jxEz5Rp6%2BjxzjJ7ucCP%2BMXr9r2/8W3ToH8P2vWrNGOHTu0fft2bd%2B%2BXX379lXfvn21fft29evXT1u3btXq1atVXV2t1atXa%2BvWrbr99tslSf3799eyZcuUk5OjY8eO6dlnn1WzZs3UqVMnBQUFqU%2BfPsrMzFRRUZGKioqUmZmpvn37KjAw0MtHDQAAfIVPnsE6k7Zt2%2BqFF15QZmamJk6cqJYtW2ru3Llq06aNJGnAgAEqLS1VSkqKioqKdM0112jBggXy9/eXJE2ZMkUZGRlKTEyU0%2BnUTTfdpCeffNKbhwQAAHxMrQhYM2bMcPv%2Bhhtu0A033HDKtfXq1dOQIUM0ZMiQU86HhoYqLS1NaWlpxusEAAB1g09eIgQAALiYEbAAAAAMI2ABAAAYRsACAAAwjIAFAABgGAELAADAMAIWAACAYQQsAAAAwwhYAAAAhhGwAAAADCNgAQAAGEbAAgAAMMz2gHX8%2BHG7dwkAAGAr2wNWXFyc/vnPfyovL8/uXQMAANjC9oD1yCOPaMeOHerbt68GDhyoN954Q6WlpXaXAQAAcMHYHrDuvvtuvfHGG1qzZo26deumhQsXqkePHho9erQ%2B%2B%2Bwzu8sBAAAwzms3ubdu3VqPPfaY1qxZo5SUFH388ccaOnSo4uPj9eqrr3KvFgAA8FkOb%2B14165d%2Bp//%2BR%2BtXr1aVVVVSkhIUFJSkvLz8zV79mx99dVXeu6557xVHgAAwHmzPWC9%2BOKLeuedd/TTTz/pmmuu0WOPPaa%2BffsqNDTUtcbPz0%2BTJ0%2B2uzQAAAAjbA9Yy5YtU79%2B/TRgwABFREScck3btm01ZswYmysDAAAww/aA9emnn6qsrEwlJSWusdWrV6tr164KCwuTJF111VW66qqr7C4NAADACNsD1v/93/9p2LBhSkpK0vjx4yVJM2fOlNPp1OLFixUVFWV3SQAAL%2Bkza5O3SwAuCNvfRfjPf/5TN998sx577DHX2EcffaS4uDjNmDHD7nIAAACMs/0M1jfffKPp06erQYMGrjE/Pz8NHz5cSUlJdpcDG/GXKgCgrrD9DFZoaKj27dtXY/zgwYMKDAy0uxwAAADjbA9YvXv31tSpU/XZZ5%2BprKxM5eXl2rx5s55%2B%2BmklJCTYXQ4AAIBxtl8iHD16tPbv368hQ4aoXr16rvGEhASNGzfO7nIAAACMsz1gBQUFacGCBfrxxx%2B1Z88e%2Bfv7q23btmrdurXdpQAAAFwQXvunctq0aaM2bdp4a/cAAAAXjO0B68cff9TTTz%2BtL774Qk6ns8b8t99%2Ba3dJAAAARtkesKZOnaoDBw5ozJgxuuSSS%2BzePQAAwAVne8DauXOnXnvtNcXExNi9awAAAFvY/jENYWFhCgkJsXu3AAAAtrE9YA0ePFjPPfecSktL7d41AACALWy/RLhhwwZ9%2BeWXio2NVdOmTd3%2ByRxJ%2Bvjjj%2B0uCQAAwCjbA1ZsbKxiY2Pt3i0AAIBtbA9YjzzyiN27BAAAsJXt92BJUk5OjiZMmKC//vWvys/P1/Lly7VlyxZvlAIAAGCc7QHr66%2B/1sCBA/Xzzz/r66%2B/VlVVlb799lsNGTJE69evt7scAAAA42wPWJmZmRoyZIiWLl0qf39/SdIzzzyje%2B%2B9V/PmzbO7HAAAAOO8cgbrjjvuqDF%2B991364cffrC7HAAAAONsD1j%2B/v4qKyurMX7gwAEFBQXZXQ4AAIBxtgesXr166dlnn1VxcbFr7Pvvv1d6err%2B8pe/2F0OAACAcbYHrPHjx6uyslLdunVTRUWFkpKS1LdvXzkcDo0bN87j7Xz%2B%2BecaOHCgrrvuOnXv3l1paWmqrKyUJO3atUsDBw5UTEyM4uPjtXLlSrfHZmVlKSEhQdHR0UpKStLOnTtdc8ePH1dGRoa6deummJgYjRgxQgUFBWYOHgAA1Am2B6zQ0FC98cYbWrx4scaOHavhw4frpZde0ltvvaXGjRt7tI2ioiI99NBDuvvuu7V9%2B3ZlZWVp69atevnll3XkyBENHz5cd9xxh7Zt26b09HRNnz5du3fvliRt2bJFaWlpmjFjhrZt26Z%2B/fppxIgRqqiokCTNnz9fmzZt0ltvvaWNGzcqMDBQkyZNumD9AAAAtY/tHzR6UteuXdW1a9fzemyTJk302WefKTQ0VJZlqaSkRMeOHVOTJk20bt06NW7cWIMGDXLtJzExUcuXL1eHDh20cuVK3XbbberYsaMk6f7779eKFSu0evVq9e/fXytXrtSYMWN02WWXSZImTpyoHj16aP/%2B/WrVqpWZgwcAALWa7QErPj5e9erVO%2B28p/8WYWhoqCTpxhtvVH5%2Bvjp16qSkpCTNmjVLUVFRbmsjIiK0atUqSVJeXp769%2B9fYz4nJ0elpaU6ePCg2%2BObNWumRo0aac%2BePR4HrIKCAhUWFrqNORzBCg8P9%2BjxnvLz88rnxAJ/mMPBcxeAu9r2e8H2gHXnnXe6BSyn06mffvpJn376qUaNGnXO21u3bp2OHDmiMWPGKDU1VS1atKjxbsTAwEAdPXpUklReXn7a%2BfLycklScHBwjfmTc55YsWJFjc/0SklJUWpqqsfbAGqzsLAQb5cA4CJT234v2B6wRo4cecrxZcuW6YsvvtC99957TtsLDAxUYGCgxo4dq4EDB2rw4MEqLS11W1NZWamQkN/%2BxwUFBbluhv/P%2BbCwMFfwOnk/1qke74nk5GTFx8e7jTkcwSou9jykeYIzWPBVpn8WAPi%2BC/V7wVvBzWv3YP1ez5499dxzz3m0dseOHXriiSf07rvvqkGDBpKkqqoq%2Bfv7KyIiQps2bXJbn5eXp8jISElSZGSkcnNza8zHxcWpUaNGatGihfLy8lyXCQsLC1VSUlLjsuOZhIeH17gcWFhYqurqEx5vA6jN%2BFkA8Hu17ffCRXMKZOvWrQoICPBobbt27VRZWalnn31WVVVV%2Bve//62MjAwNGDBAvXv31qFDh7RkyRI5nU5t3rxZ2dnZrvuuBgwYoOzsbG3evFlOp1NLlizR4cOHlZCQIElKSkrS/PnztX//fpWVlWnatGnq0qWLrrjiigt27AAAoHax/QzW7y8BWpalsrIy7dmzx%2BPLgyEhIVq0aJGmTZum7t2765JLLlFiYqJSUlLUoEEDLV68WOnp6ZozZ46aNGmiSZMm6frrr5f027sKp0yZoqlTpyo/P18RERFauHCh6yMiUlJSVF1drUGDBqm8vFyxsbGaNWuW2SYAAIBarZ5lWZadO3z88cdrvIvQ399f1113nRITE%2BXn52dnObYpLCw9%2B6Jz5HDUV0LmRuPbBS60D0Z193YJ56TPrE1nXwTgD7lQvxeaN7/kgmz3bGw/gzVjxgy7dwkAAGAr2wPWtm3bPF7buXPnC1gJAADAhWF7wLr//vtlWZbr66STlw1PjtWrV0/ffvut3eUBAAD8YbYHrLlz52r69OkaP368rr/%2Bevn7%2B2vXrl2aOnWq7rnnHvXs2dPukgAAAIyy/WMaMjIyNGXKFPXq1UuhoaEKCAhQly5d9PTTT2vx4sVq2bKl6wsAAMAX2R6wCgoKXP%2BQ8n8KDQ1VcXGx3eUAAAAYZ3vAio6O1nPPPaeysjLXWElJiWbOnKmuXbvaXQ4AAIBxtt%2BDNWnSJN13332Ki4tT69atJUk//vijmjdvrtdff93ucgAAAIyzPWC1bdtWq1evVnZ2tr7//ntJ0j333KPbbrvN9Y8tAwAA%2BDKv/GPPDRs21MCBA/Xzzz%2BrVatWkn77NHcAAIDawPZ7sCzLUmZmpjp37qy%2Bffvq4MGDGj9%2BvCZMmCCn02l3OQAAAMbZHrCWLl2qd955R1OmTFGDBg0kSb169dL//u//avbs2XaXAwAAYJztAWvFihWaPHmykpKSXJ/efuuttyo9PV3vv/%2B%2B3eUAAAAYZ3vA%2Bvnnn3XllVfWGG/Xrp0OHTpkdzkAAADG2R6wWrZsqd27d9cY37Bhg%2BuGdwAAAF9m%2B7sIhw4dqqeeekr5%2BfmyLEuff/653njjDS1dulQTJkywuxwAAADjbA9Y/fv3V3V1tebPn6/KykpNnjxZTZs21WOPPaa7777b7nIAAACMsz1gvfvuu7rllluUnJysoqIiWZalpk2b2l0GAADABWP7PVjPPPOM62b2Jk2aEK4AAECtY3vAat26tfbs2WP3bgEAAGxj%2ByXCyMhIjRkzRosWLVLr1q0VEBDgNj99%2BnS7SwIAADDK9oC1b98%2BdezYUZJUWFho9%2B4BAAAuOFsC1vTp0/Xoo48qODhYS5cutWOXAAAAXmPLPVivv/66Kioq3MaGDh2qgoICO3YPAABgK1sClmVZNcZ27NihY8eO2bF7AAAAW9n%2BLkIAAIDazvab3AGgz6xN3i4BAC4o285g1atXz65dAQAAeJVtZ7CeeeYZt8%2B8cjqdmjlzpkJCQtzW8TlYAADA19kSsDp37lzjM69iYmJUXFys4uJiO0oAAACwjS0Bi8%2B%2BAgAAdQnvIgQAADCMgAUAAGAYAQsAAMAwAhYAAIBhBCwAAADDCFgAAACGEbAAAAAMI2ABAAAYRsACAAAwjIAFAABgGAELAADAMAIWAACAYT4bsHJycvTAAw%2BoS5cu6t69u8aNG6eioiJJ0q5duzRw4EDFxMQoPj5eK1eudHtsVlaWEhISFB0draSkJO3cudM1d/z4cWVkZKhbt26KiYnRiBEjVFBQYOuxAQAA3%2BaTAauyslIPPvigYmJi9K9//UvvvfeeSkpK9MQTT%2BjIkSMaPny47rjjDm3btk3p6emaPn26du/eLUnasmWL0tLSNGPGDG3btk39%2BvXTiBEjVFFRIUmaP3%2B%2BNm3apLfeeksbN25UYGCgJk2a5M3DBQAAPsYnA9aBAwf05z//WSkpKWrQoIHCwsKUnJysbdu2ad26dWrcuLEGDRokh8Ohrl27KjExUcuXL5ckrVy5Urfddps6duwof39/3X///QoLC9Pq1atd88OGDdNll12m0NBQTZw4UZ9%2B%2Bqn279/vzUMGAAA%2BxOHtAs7Hn/70Jy1atMhtbO3atWrfvr1yc3MVFRXlNhcREaFVq1ZJkvLy8tS/f/8a8zk5OSotLdXBgwfdHt%2BsWTM1atRIe/bsUatWrTyqr6CgQIWFhW5jDkewwsPDPT5GT/j5%2BWQ%2BBgCgBoejdr2m%2BWTA%2Bk%2BWZWnWrFlav369li1bptdff11BQUFuawIDA3X06FFJUnl5%2BWnny8vLJUnBwcE15k/OeWLFihWaN2%2Be21hKSopSU1M93gYAAHVJWFiIt0swyqcDVllZmSZMmKBvvvlGy5YtU7t27RQUFKTS0lK3dZWVlQoJ%2Be1/XFBQkCorK2vMh4WFuYLXyfuxTvV4TyQnJys%2BPt5tzOEIVnGx5yHNE5zBAgDUFqZfI0/yVnDz2YC1b98%2BDRs2TJdffrlWrVqlJk2aSJKioqK0adMmt7V5eXmKjIyUJEVGRio3N7fGfFxcnBo1aqQWLVooLy/PdZmwsLBQJSUlNS47nkl4eHiNy4GFhaWqrj5xzscJAEBdUNteI33yFMiRI0d033336brrrtMrr7ziCleSlJCQoEOHDmnJkiVyOp3avHmzsrOzXfddDRgwQNnZ2dq8ebOcTqeWLFmiw4cPKyEhQZKUlJSk%2BfPna//%2B/SorK9O0adPUpUsXXXHFFV45VgAA4Ht88gzW22%2B/rQMHDuiDDz7QmjVr3OZ27typxYsXKz09XXPmzFGTJk00adIkXX/99ZKkrl27asqUKZo6dary8/MVERGhhQsXqnHjxpJ%2Bu1ck6ZP4AAARrUlEQVSqurpagwYNUnl5uWJjYzVr1izbjxEAAPiuepZlWd4uoi4oLCw9%2B6Jz5HDUV0LmRuPbBQDAbh%2BM6n5Bttu8%2BSUXZLtn45OXCAEAAC5mBCwAAADDCFgAAACGEbAAAAAMI2ABAAAYRsACAAAwjIAFAABgGAELAADAMAIWAACAYQQsAAAAwwhYAAAAhhGwAAAADCNgAQAAGEbAAgAAMIyABQAAYBgBCwAAwDACFgAAgGEELAAAAMMIWAAAAIYRsAAAAAwjYAEAABhGwAIAADCMgAUAAGAYAQsAAMAwAhYAAIBhBCwAAADDCFgAAACGEbAAAAAMI2ABAAAYRsACAAAwjIAFAABgGAELAADAMAIWAACAYQQsAAAAwwhYAAAAhhGwAAAADCNgAQAAGEbAAgAAMIyABQAAYBgBCwAAwDACFgAAgGEELAAAAMMIWAAAAIb5fMAqKipSQkKCtmzZ4hrbtWuXBg4cqJiYGMXHx2vlypVuj8nKylJCQoKio6OVlJSknTt3uuaOHz%2BujIwMdevWTTExMRoxYoQKCgpsOx4AAOD7fDpgffHFF0pOTta%2BfftcY0eOHNHw4cN1xx13aNu2bUpPT9f06dO1e/duSdKWLVuUlpamGTNmaNu2berXr59GjBihiooKSdL8%2BfO1adMmvfXWW9q4caMCAwM1adIkrxwfAADwTT4bsLKysjRmzBg99thjbuPr1q1T48aNNWjQIDkcDnXt2lWJiYlavny5JGnlypW67bbb1LFjR/n7%2B%2Bv%2B%2B%2B9XWFiYVq9e7ZofNmyYLrvsMoWGhmrixIn69NNPtX//ftuPEQAA%2BCaHtws4Xz169FBiYqIcDodbyMrNzVVUVJTb2oiICK1atUqSlJeXp/79%2B9eYz8nJUWlpqQ4ePOj2%2BGbNmqlRo0bas2ePWrVq5VFtBQUFKiwsdBtzOIIVHh5%2BTsd4Nn5%2BPpuPAQBw43DUrtc0nw1YzZs3P%2BV4eXm5goKC3MYCAwN19OjRs86Xl5dLkoKDg2vMn5zzxIoVKzRv3jy3sZSUFKWmpnq8DQAA6pKwsBBvl2CUzwas0wkKClJpaanbWGVlpUJCQlzzlZWVNebDwsJcwevk/VinerwnkpOTFR8f7zbmcASruNjzkOYJzmABAGoL06%2BRJ3kruNW6gBUVFaVNmza5jeXl5SkyMlKSFBkZqdzc3BrzcXFxatSokVq0aKG8vDzXZcLCwkKVlJTUuOx4JuHh4TUuBxYWlqq6%2BsT5HBIAALVebXuNrHWnQBISEnTo0CEtWbJETqdTmzdvVnZ2tuu%2BqwEDBig7O1ubN2%2BW0%2BnUkiVLdPjwYSUkJEiSkpKSNH/%2BfO3fv19lZWWaNm2aunTpoiuuuMKbhwUAAHxIrTuDFRYWpsWLFys9PV1z5sxRkyZNNGnSJF1//fWSpK5du2rKlCmaOnWq8vPzFRERoYULF6px48aSfrtXqrq6WoMGDVJ5ebliY2M1a9Ysbx4SAADwMfUsy7K8XURdUFhYevZF58jhqK%2BEzI3GtwsAgN0%2BGNX9gmy3efNLLsh2z6bWXSIEAADwNgIWAACAYQQsAAAAwwhYAAAAhhGwAAAADCNgAQAAGEbAAgAAMIyABQAAYBgBCwAAwDACFgAAgGEELAAAAMMIWAAAAIYRsAAAAAwjYAEAABhGwAIAADCMgAUAAGAYAQsAAMAwAhYAAIBhBCwAAADDCFgAAACGEbAAAAAMI2ABAAAYRsACAAAwjIAFAABgGAELAADAMAIWAACAYQQsAAAAwwhYAAAAhhGwAAAADCNgAQAAGEbAAgAAMIyABQAAYBgBCwAAwDACFgAAgGEELAAAAMMIWAAAAIYRsAAAAAwjYAEAABhGwAIAADCMgAUAAGAYAQsAAMAwAhYAAIBhBKxTOHz4sB5%2B%2BGF16tRJsbGxSk9PV3V1tbfLAgAAPoKAdQqjRo1ScHCwNm7cqFWrVunzzz/XkiVLvF0WAADwEQSs3/npp5%2B0detWjR07VkFBQWrVqpUefvhhLV%2B%2B3NulAQAAH0HA%2Bp3c3Fw1btxYLVq0cI21bdtWBw4c0K%2B//urFygAAgK9weLuAi015ebmCgoLcxk5%2Bf/ToUTVs2PCs2ygoKFBhYaHbmMMRrPDwcHOFSvLzIx8DAGoHh6N2vaYRsH4nODhYFRUVbmMnvw8JCfFoGytWrNC8efPcxh555BGNHDnSTJH/T0FBge67NFfJycnGw1tdU1BQoBUrVtBLA%2BilOfTSHHppDr30TO2KiwZERkaqpKREhw4dco19//33uvTSS3XJJZd4tI3k5GS9/fbbbl/JycnGay0sLNS8efNqnC3DuaOX5tBLc%2BilOfTSHHrpGc5g/U7r1q3VsWNHTZs2TU8//bSKi4v14osvasCAAR5vIzw8nFQPAEAdxhmsU5gzZ46qq6t100036a677tINN9yghx9%2B2NtlAQAAH8EZrFNo1qyZ5syZ4%2B0yAACAj/KbOnXqVG8XgfMXEhKiLl26eHwDPk6PXppDL82hl%2BbQS3Po5dnVsyzL8nYRAAAAtQn3YAEAABhGwAIAADCMgAUAAGAYAQsAAMAwAhYAAIBhBCwAAADDCFgAAACGEbAAAAAMI2Cdp5ycHD3wwAPq0qWLunfvrnHjxqmoqEiStGvXLg0cOFAxMTGKj4/XypUrT7mNV199VYMHD3Z9f%2BDAAcXExLh9dejQQe3atdPOnTtPW0tWVpYSEhIUHR2tpKQkt7UnTpzQvHnzdOONNyomJkYDBw4847YkacOGDUpMTFR0dLT69Omj9evXn3LdM888o8cff/yM2/JEXe3liRMnFBMTo%2BjoaLc6jx496lHfTqWu9rKqqkozZ85UXFycOnfurJSUFP3yyy8e9ex0anMvT1q7dq1uuukmt7EjR45ozJgxio2N1XXXXaf77rtP3377rUfbO5262svf13fttdeqXbt2eu%2B99zza5qnU5l7%2B93//t3r37q2YmBj17t1by5cvP%2BU6U689F5yFc1ZRUWF1797dmj17tnXs2DGrqKjIGjZsmPXQQw9ZJSUlVpcuXaxly5ZZTqfT%2Buyzz6yYmBhr165drseXl5db06dPt6Kioqy//e1vp92P0%2Bm07r33XuuJJ5447ZrNmzdbMTEx1vbt262qqirr1VdftWJjY62jR49almVZc%2BfOtXr37m398MMPVnV1tbVgwQKrS5cu1rFjx065vR9//NG65pprrA8//NByOp3W%2B%2B%2B/b3Xo0ME6ePCga01RUZE1evRoKyoqyho/fvy5ts9NXe7lnj17rPbt25/28eeqLvdy2rRpVq9evazvvvvOOnbsmJWRkWH17t37vHtbm3tpWZZVVVVlvfzyy9ZVV11l9ezZ023ukUcesR566CHryJEjVlVVlZWZmWn95S9/8bR1NdTlXv7e2LFjrSFDhlhOp/OM606nNvfyww8/tDp16mTt3LnTOnHihLVjxw6rU6dO1po1a1xrTL722IGAdR6%2B//57a%2BjQoVZ1dbVr7KOPPrKuu%2B46680337Ruvvlmt/WTJ0%2B2xo0b5/q%2BV69e1j/%2B8Q9rypQpZ3ySz5kzx7rtttvO%2BMM9evRoa9KkSW5jt9xyi7Vq1Sqrurra6tSpk/Wvf/3LNVddXW3t3r37tNt87rnnrAceeMBtbOjQodbs2bMty7KssrIyq0uXLtZTTz1ljRw58g8/yetyL1etWmUlJSWdtp5zVZd72a1bNysrK8tte9HR0dYnn3xy2hrPpDb30rIs629/%2B5s1dOhQ6/nnn68RCqqqqqzKykrLsiyrpKTEmjx5snXnnXeedltnU5d7%2BZ/eeustq3v37lZRUdFp15xNbe7lsmXLrAULFriNpaSkWGlpaZZlmX/tsQOXCM/Dn/70Jy1atEh%2Bfn6usbVr16p9%2B/bKzc1VVFSU2/qIiAjl5OS4vl%2B6dKmeffZZNW3a9LT72Ldvn15%2B%2BWU988wzatCgwWnX5eXlnXZ/e/fu1a%2B//qpff/1VSUlJio2N1YMPPqiAgIDTbvNM25OkgIAAvf/%2B%2B5o8ebKCg4NPW5en6nIvv/rqKx07dkz9%2B/fX9ddfr0GDBmnHjh2nre9s6nIvjx8/rqCgINdcvXr1JEk//vjjaWs8k9rcS0maOXOmFi1apCuuuKLGnL%2B/vwICAvT8888rNjZW7733np544onTbuts6nIvTyotLVVGRoaeeOIJhYWFnXbd2dTmXg4aNEjDhw93fX/48GFt27ZNV199tSTzrz12IGD9QZZl6fnnn9f69es1ceJElZeXu/2il6TAwEC3%2B2ouvfTSs273pZde0o033qjo6OgzrjvT/kpKSiT99kM1d%2B5cbdiwQe3bt9fQoUNVWlp6ztuTJIfDoWbNmp21/vNR13oZGBioDh066MUXX9Qnn3yi%2BPh4DR06VPv37z/rMZ1NXevlzTffrJdeekn79u3TsWPHNHv2bB07dkyVlZVnPaazqW299LS%2BESNGaPfu3XrkkUc0bNgwnpen4Ul9r7/%2Bulq2bKk%2Bffqcda2namMvTyosLNSwYcN09dVXq2/fvpIu7GvPhULA%2BgPKysqUmpqq7OxsLVu2TO3atVNQUFCNX%2BqVlZUKCQnxeLvl5eV6//33de%2B997qNT5482e0mxAMHDpxxfyf/UnjkkUfUsmVLBQYG6h//%2BIfKysq0Y8cOvfTSS27b2759u5H6z0dd7OXjjz%2BuadOmqUWLFgoMDNTQoUN1%2BeWXa8OGDR4f36nU1V7GxMRo0KBBuuWWW9SgQQNFRUWpYcOGHh/fqdTGXnoqMDBQDRo00AMPPKDLLrtMH3/8scePPZW62kvLsrRq1SoNHjzYdWb1j6rNvfzyyy81YMAAtWnTRvPnz5fD4TjX9lw0fLdyL9u3b5%2BGDRumyy%2B/XKtWrVKTJk0kSVFRUdq0aZPb2ry8PEVGRnq87Q0bNqhJkybq3Lmz2/jTTz%2Btp59%2B2m0sMjJSubm5NfYXFxenNm3ayOFwqKqqyjVn/XbfnSzL0t///nf9/e9/d3vsxo0b9c0339TY3snTtBdCXe3l888/r969e%2Buqq65yzVdVVSkgIMDj4/u9utrL/Px8jRgxQpMnT5b02zvhFixY8Ieet7W1l2fz17/%2BVffff79uueUW11hVVZUaNWp0Ttv5T3W1l9JvtwIcPnzYrZ9/RG3u5apVq/TMM88oNTVVQ4YM8bjuixVnsM7DkSNHdN999%2Bm6667TK6%2B84nqCS1JCQoIOHTqkJUuWyOl0avPmzcrOzlb//v093v6OHTvUsWNHj/7aGTBggLKzs7V582Y5nU4tWbJEhw8fVkJCgkJDQ9W3b19Nnz5dP//8s6qqqpSZmamGDRvq%2BuuvP%2BX2%2BvXrp61bt2r16tWqrq7W6tWrtXXrVt1%2B%2B%2B0e138u6nIvv/vuO6Wnp6uwsFBVVVWaN2%2BeysrKlJCQ4PHx/ae63MslS5bo8ccfV3l5uY4cOaKnnnpK7du3V4cOHTw%2Bvv9Um3t5Nh06dNDcuXP173//W1VVVZozZ46qqqoUHx9/Xtury72UpC%2B%2B%2BELt27evcTntfNTmXq5du1ZTp07V3Llza0W4kjiDdV7efvttHThwQB988IHWrFnjNrdz504tXrxY6enpmjNnjpo0aaJJkyad0w/o/v37FRER4dHarl27asqUKZo6dary8/MVERGhhQsXqnHjxpKktLQ0zZ07V/fee6%2BKi4t19dVX65VXXlFgYOApt9e2bVu98MILyszM1MSJE9WyZUvNnTtXbdq08bj%2Bc1GXezl9%2BnRlZGTo9ttvV0VFha655hq9%2Buqrrv2dq7rcy7Fjx2rKlCmuENCjRw%2B9%2BOKLHh/b79XmXp7NmDFj5Ofnp%2BTkZDmdTkVHR%2Bu111477zNYdbmXJ%2Btr0aLFeT/%2BP9XmXs6bN0/Hjx9Xamqq23hiYmKNs2e%2Bop5lWZa3iwAAAKhNuEQIAABgGAELAADAMAIWAACAYQQsAAAAwwhYAAAAhhGwAAAADCNgAQAAGEbAAgAAMIyABQAAYBgBCwAAwDACFgAAgGEELAAAAMMIWAAAAIYRsAAAAAwjYAEAABj2/wHUyylvmfsiyAAAAABJRU5ErkJggg%3D%3D\">\n",
       "</div>\n",
       "</div><div class=\"row variablerow\">\n",
       "    <div class=\"col-md-3 namecol\">\n",
       "        <p class=\"h4 pp-anchor\" id=\"pp_var_driver_id\">driver_id<br/>\n",
       "            <small>Numeric</small>\n",
       "        </p>\n",
       "    </div><div class=\"col-md-6\">\n",
       "    <div class=\"row\">\n",
       "        <div class=\"col-sm-6\">\n",
       "            <table class=\"stats \">\n",
       "                <tr>\n",
       "                    <th>Distinct count</th>\n",
       "                    <td>2477</td>\n",
       "                </tr>\n",
       "                <tr>\n",
       "                    <th>Unique (%)</th>\n",
       "                    <td>6.0%</td>\n",
       "                </tr>\n",
       "                <tr class=\"ignore\">\n",
       "                    <th>Missing (%)</th>\n",
       "                    <td>0.0%</td>\n",
       "                </tr>\n",
       "                <tr class=\"ignore\">\n",
       "                    <th>Missing (n)</th>\n",
       "                    <td>0</td>\n",
       "                </tr>\n",
       "                <tr class=\"ignore\">\n",
       "                    <th>Infinite (%)</th>\n",
       "                    <td>0.0%</td>\n",
       "                </tr>\n",
       "                <tr class=\"ignore\">\n",
       "                    <th>Infinite (n)</th>\n",
       "                    <td>0</td>\n",
       "                </tr>\n",
       "            </table>\n",
       "\n",
       "        </div>\n",
       "        <div class=\"col-sm-6\">\n",
       "            <table class=\"stats \">\n",
       "\n",
       "                <tr>\n",
       "                    <th>Mean</th>\n",
       "                    <td>560620</td>\n",
       "                </tr>\n",
       "                <tr>\n",
       "                    <th>Minimum</th>\n",
       "                    <td>111556</td>\n",
       "                </tr>\n",
       "                <tr>\n",
       "                    <th>Maximum</th>\n",
       "                    <td>998229</td>\n",
       "                </tr>\n",
       "                <tr class=\"ignore\">\n",
       "                    <th>Zeros (%)</th>\n",
       "                    <td>0.0%</td>\n",
       "                </tr>\n",
       "            </table>\n",
       "        </div>\n",
       "    </div>\n",
       "</div>\n",
       "<div class=\"col-md-3 collapse in\" id=\"minihistogram-3629164630445725401\">\n",
       "    <img src=\"data:image/png;base64,iVBORw0KGgoAAAANSUhEUgAAAMgAAABLCAYAAAA1fMjoAAAABHNCSVQICAgIfAhkiAAAAAlwSFlzAAAPYQAAD2EBqD%2BnaQAAADl0RVh0U29mdHdhcmUAbWF0cGxvdGxpYiB2ZXJzaW9uIDMuMC4yLCBodHRwOi8vbWF0cGxvdGxpYi5vcmcvOIA7rQAAARpJREFUeJzt1sEJwkAURVEVS7IIe3JtTxZhT2MDciGBmCGesw/8zZ2X8xhjnICvLnsfADO77n0Ax3V7vBZ/837eN7hkPQsCQSAQDvGLtWbK11g6//9%2B1xFYEAiHWJBf8fL%2BHwsCYboF8Uozk%2BkCYTmPynb8YkEQCASBQBAIBIFAEAgEgUAQCASBQBAIBIFAEAgEgUAQCASBQBAIBIFAEAgEgUAQCASBQBAIBIFAEAgEgUAQCASBQBAIBIFAEAgEgUAQCASBQBAIBIFAEAgEgUAQCITzGGPsfQTMyoJAEAgEgUAQCASBQBAIBIFAEAgEgUAQCASBQBAIBIFAEAgEgUAQCASBQBAIBIFAEAgEgUAQCASBQBAIBIFA%2BAClKxczpKsoRwAAAABJRU5ErkJggg%3D%3D\">\n",
       "\n",
       "</div>\n",
       "<div class=\"col-md-12 text-right\">\n",
       "    <a role=\"button\" data-toggle=\"collapse\" data-target=\"#descriptives-3629164630445725401,#minihistogram-3629164630445725401\"\n",
       "       aria-expanded=\"false\" aria-controls=\"collapseExample\">\n",
       "        Toggle details\n",
       "    </a>\n",
       "</div>\n",
       "<div class=\"row collapse col-md-12\" id=\"descriptives-3629164630445725401\">\n",
       "    <ul class=\"nav nav-tabs\" role=\"tablist\">\n",
       "        <li role=\"presentation\" class=\"active\"><a href=\"#quantiles-3629164630445725401\"\n",
       "                                                  aria-controls=\"quantiles-3629164630445725401\" role=\"tab\"\n",
       "                                                  data-toggle=\"tab\">Statistics</a></li>\n",
       "        <li role=\"presentation\"><a href=\"#histogram-3629164630445725401\" aria-controls=\"histogram-3629164630445725401\"\n",
       "                                   role=\"tab\" data-toggle=\"tab\">Histogram</a></li>\n",
       "        <li role=\"presentation\"><a href=\"#common-3629164630445725401\" aria-controls=\"common-3629164630445725401\"\n",
       "                                   role=\"tab\" data-toggle=\"tab\">Common Values</a></li>\n",
       "        <li role=\"presentation\"><a href=\"#extreme-3629164630445725401\" aria-controls=\"extreme-3629164630445725401\"\n",
       "                                   role=\"tab\" data-toggle=\"tab\">Extreme Values</a></li>\n",
       "\n",
       "    </ul>\n",
       "\n",
       "    <div class=\"tab-content\">\n",
       "        <div role=\"tabpanel\" class=\"tab-pane active row\" id=\"quantiles-3629164630445725401\">\n",
       "            <div class=\"col-md-4 col-md-offset-1\">\n",
       "                <p class=\"h4\">Quantile statistics</p>\n",
       "                <table class=\"stats indent\">\n",
       "                    <tr>\n",
       "                        <th>Minimum</th>\n",
       "                        <td>111556</td>\n",
       "                    </tr>\n",
       "                    <tr>\n",
       "                        <th>5-th percentile</th>\n",
       "                        <td>160350</td>\n",
       "                    </tr>\n",
       "                    <tr>\n",
       "                        <th>Q1</th>\n",
       "                        <td>342310</td>\n",
       "                    </tr>\n",
       "                    <tr>\n",
       "                        <th>Median</th>\n",
       "                        <td>561550</td>\n",
       "                    </tr>\n",
       "                    <tr>\n",
       "                        <th>Q3</th>\n",
       "                        <td>785620</td>\n",
       "                    </tr>\n",
       "                    <tr>\n",
       "                        <th>95-th percentile</th>\n",
       "                        <td>957740</td>\n",
       "                    </tr>\n",
       "                    <tr>\n",
       "                        <th>Maximum</th>\n",
       "                        <td>998229</td>\n",
       "                    </tr>\n",
       "                    <tr>\n",
       "                        <th>Range</th>\n",
       "                        <td>886673</td>\n",
       "                    </tr>\n",
       "                    <tr>\n",
       "                        <th>Interquartile range</th>\n",
       "                        <td>443310</td>\n",
       "                    </tr>\n",
       "                </table>\n",
       "            </div>\n",
       "            <div class=\"col-md-4 col-md-offset-2\">\n",
       "                <p class=\"h4\">Descriptive statistics</p>\n",
       "                <table class=\"stats indent\">\n",
       "                    <tr>\n",
       "                        <th>Standard deviation</th>\n",
       "                        <td>256810</td>\n",
       "                    </tr>\n",
       "                    <tr>\n",
       "                        <th>Coef of variation</th>\n",
       "                        <td>0.45809</td>\n",
       "                    </tr>\n",
       "                    <tr>\n",
       "                        <th>Kurtosis</th>\n",
       "                        <td>-1.2088</td>\n",
       "                    </tr>\n",
       "                    <tr>\n",
       "                        <th>Mean</th>\n",
       "                        <td>560620</td>\n",
       "                    </tr>\n",
       "                    <tr>\n",
       "                        <th>MAD</th>\n",
       "                        <td>222550</td>\n",
       "                    </tr>\n",
       "                    <tr class=\"\">\n",
       "                        <th>Skewness</th>\n",
       "                        <td>-0.00052004</td>\n",
       "                    </tr>\n",
       "                    <tr>\n",
       "                        <th>Sum</th>\n",
       "                        <td>23329493337</td>\n",
       "                    </tr>\n",
       "                    <tr>\n",
       "                        <th>Variance</th>\n",
       "                        <td>65953000000</td>\n",
       "                    </tr>\n",
       "                    <tr>\n",
       "                        <th>Memory size</th>\n",
       "                        <td>650.2 KiB</td>\n",
       "                    </tr>\n",
       "                </table>\n",
       "            </div>\n",
       "        </div>\n",
       "        <div role=\"tabpanel\" class=\"tab-pane col-md-8 col-md-offset-2\" id=\"histogram-3629164630445725401\">\n",
       "            <img src=\"data:image/png;base64,iVBORw0KGgoAAAANSUhEUgAAAlgAAAGQCAYAAAByNR6YAAAABHNCSVQICAgIfAhkiAAAAAlwSFlzAAAPYQAAD2EBqD%2BnaQAAADl0RVh0U29mdHdhcmUAbWF0cGxvdGxpYiB2ZXJzaW9uIDMuMC4yLCBodHRwOi8vbWF0cGxvdGxpYi5vcmcvOIA7rQAAIABJREFUeJzt3XtU1XWi//8XCsQtBTOscdnSBLSZ4whxS00rkrK8jCEeVqmT1egMWhwqbyWTziheVjbZ6IljZXFS1zrmLSWd0tNYOeQFV456WqJgmU4e5SIobEC38P7%2B0c/9m32owHxvLtvnY60W8Xl/9ufz/vCBzZPPvuhjjDECAACANR1aewIAAADehsACAACwjMACAACwjMACAACwjMACAACwjMACAACwjMACAACwjMACAACwjMACAACwjMACAACwjMACAACwjMACAACwjMACAACwjMACAACwjMACAACwjMACAACwjMACAACwjMACAACwjMACAACwjMACAACwjMACAACwjMACAACwjMACAACwjMACAACwjMACAACwjMACAACwjMACAACwjMACAACwjMACAACwjMACAACwjMACAACwjMACAACwjMACAACwjMACAACwjMACAACwjMACAACwjMACAACwjMACAACwjMACAACwzLe1J3C9KC2tau0ptKoOHXzUpUuwzp1zqKHBtPZ0rmuci7aB89B2cC7aBk%2Bdh5tvvtHatq4GV7DQIjp08JGPj486dPBp7alc9zgXbQPnoe3gXLQN3nYeCCwAAADLCCwAAADLCCwAAADLCCwAAADLCCwAAADLCCwAAADLCCwAAADLCCwAAADLCCwAAADLCCwAAADLCCwAAADLCCwAAADLCCwAAADLfFt7AgAAwDMeWprf2lNoth3TBrf2FKziChYAAIBlBBYAAIBlBBYAAIBlBBYAAIBlBBYAAIBlBBYAAIBlBBYAAIBlBBYAAIBlBBYAAIBlBBYAAIBlBBYAAIBlBBYAAIBlBBYAAIBlBBYAAIBlvq09AaCtemhpfmtP4ar8JXNQa08BuGrt7ecMaC6uYAEAAFjGFSy0mLjZH7b2FAAAaBFcwQIAALCMwAIAALCMhwgBtDie2OxZvOABaH1cwQIAALCMwAIAALCMwAIAALCMwAIAALCMwAIAALCMwAIAALCMwAIAALCMwAIAALDMKwOrvr5eEyZM0KxZs1zLPv30U40cOVLR0dF66KGHtHPnTrfbvPnmmxoyZIiio6M1YcIEffXVV66xmpoavfDCC0pMTFRsbKxmzJghh8PRYscDAADaF698J/fly5dr//796t69uyTpxIkTeuaZZ/SnP/1J9957r7Zv367MzExt375d3bp106ZNm7Rq1SqtXLlSt912m1599VVlZGQoLy9PPj4%2Bmjdvnv73f/9XH330kerr65WZmaklS5Zozpw5rXykwP%2BPd0cHgLbD665g7d69W9u3b9cDDzzgWrZp0ybFxcVp6NCh8vX11cMPP6z4%2BHitXbtWkvTee%2B/pscceU2RkpG644QY9//zzOn36tPbu3ava2lrl5eUpIyNDoaGhuummmzRt2jRt3LhRtbW1rXWYAACgDfOqK1jl5eWaPXu2Xn/9deXm5rqWFxcXKyoqym3diIgIFRYWusYnTZrkGvPz81PPnj1VWFio0NBQOZ1Ot9v37t1bdXV1OnHihO64445G8ygpKVFpaanbMl/fIIWHh9s4zHapY0eva3mgzfL15ecN7c%2BV3xPe8vvCawKroaFB06dP1xNPPKG%2Bffu6jTkcDgUGBrotCwgIUE1NTZPj1dXVkqSgoCDX2JV1f%2Bh5WGvXrtXy5cvdlk2dOlUZGRk/4cgA4OqEhQW39hSAq9apU6Dbx/bOawJrxYoV8vf314QJExqNBQYGqq6uzm1ZXV2dgoODmxy/Ela1tbWu9a88NBgSEvK9c0lLS1NSUpLbMl/fIFVUXL9PjPeWv0iA9uB6vq9B%2B3XhQq06dQrUhQu1qq9vsLbd1vqDw2sCa/PmzSopKVFcXJwkuYLpv//7vzVu3Dh9%2BeWXbusXFxfrX/7lXyRJkZGRKioq0n333SdJcjqdOnHihKKiotSrVy/5%2BfmpuLhY/fv3lyQdP37c9TDi9wkPD2/0cGBpaZUuX7b3DQMAP4T7GrRHV6Kqvr7BK76HveaywocffqgvvvhC%2B/fv1/79%2BzVixAiNGDFC%2B/fv16hRo7Rv3z5t27ZNly9f1rZt27Rv3z796le/kiSNGTNGq1evVmFhoS5evKhXXnlFXbt2VVxcnAIDA/XQQw9pyZIlOnfunM6dO6clS5ZoxIgRCggIaOWjBgAAbZHXXMH6Mb1799a///u/a8mSJZo9e7a6d%2B%2BuZcuWqVevXpKk1NRUVVVVaerUqTp37pz69eunFStWyM/PT5I0Z84cLV68WCNHjpTT6dT999%2Bv3//%2B9615SAAAoA3zMcaY1p7E9aC0tKq1p9CqfH07KHnJrtaeBnBd%2BEvmoNaeQrPx/m24Yse0wQoLC1ZFhcPqQ4Q333yjtW1dDa95iBAAAKCtILAAAAAsI7AAAAAsI7AAAAAsuy5eRejNeIIoAABtD1ewAAAALCOwAAAALCOwAAAALCOwAAAALCOwAAAALONVhADgZXh1MdD6uIIFAABgGYEFAABgGYEFAABgGYEFAABgGYEFAABgGYEFAABgGYEFAABgGYEFAABgGYEFAABgGYEFAABgGYEFAABgGYEFAABgGYEFAABgGYEFAABgGYEFAABgGYEFAABgGYEFAABgGYEFAABgGYEFAABgGYEFAABgGYEFAABgGYEFAABgGYEFAABgGYEFAABgGYEFAABgGYEFAABgGYEFAABgGYEFAABgGYEFAABgGYEFAABgGYEFAABgGYEFAABgGYEFAABgGYEFAABgGYEFAABgGYEFAABgGYEFAABgGYEFAABgGYEFAABgGYEFAABgGYEFAABgGYEFAABgGYEFAABgGYEFAABgGYEFAABgGYEFAABgGYEFAABgWbsKrN27d2vs2LG68847NWjQIM2bN091dXWSpIMHD2rs2LGKiYlRUlKS1q1b53bbTZs2KTk5WdHR0UpJSdGBAwdcY/X19Vq8eLEGDhyomJgYpaenq6SkpEWPDQAAeI92E1jnzp3Tb3/7Wz366KPav3%2B/Nm3apH379umNN97Q%2BfPnNXnyZI0ePVoFBQXKzs7WwoULdejQIUnS3r17NW/ePC1atEgFBQUaNWqU0tPTVVtbK0nKyclRfn6%2BNmzYoF27dikgIEBZWVmtebgAAKAdazeB1aVLF33%2B%2BedKSUmRj4%2BPKisrdfHiRXXp0kXbt29XaGioxo0bJ19fXw0YMEAjR47UmjVrJEnr1q3T8OHDFRsbKz8/P02cOFFhYWHatm2ba3zSpEm69dZbFRISotmzZ%2Buzzz7TqVOnWvOQAQBAO%2BXb2hO4GiEhIZKke%2B65R2fPnlVcXJxSUlK0dOlSRUVFua0bERGh9evXS5KKi4s1ZsyYRuOFhYWqqqrSmTNn3G7ftWtXde7cWUePHlWPHj2uep4lJSUqLS11W%2BbrG6Tw8PCr3hYAANeDjh07uH1s79pVYF2xfft2nT9/XtOmTVNGRoa6deumwMBAt3UCAgJUU1MjSXI4HD847nA4JElBQUGNxq%2BMXa21a9dq%2BfLlbsumTp2qjIyMn7Q9AAC8XadOgW4f27t2GVgBAQEKCAjQ9OnTNXbsWE2YMEFVVVVu69TV1Sk4OFiSFBgY6Hoy/D%2BPh4WFucLryvOxvu/2VystLU1JSUluy3x9g1RR8dOCDQAAb3fhQq06dQrUhQu1qq9vsLbdsLCf9rv8WrWbwPriiy/04osvasuWLfL395ckXbp0SX5%2BfoqIiFB%2Bfr7b%2BsXFxYqMjJQkRUZGqqioqNH4kCFD1LlzZ3Xr1k3FxcWuhwlLS0tVWVnZ6GHH5goPD2/0cGBpaZUuX7b3DQMAgDe5ElX19Q1e8fuy3TzQ2adPH9XV1emVV17RpUuX9O2332rx4sVKTU3Vgw8%2BqLKyMuXm5srpdGrPnj3Ky8tzPe8qNTVVeXl52rNnj5xOp3Jzc1VeXq7k5GRJUkpKinJycnTq1ClVV1drwYIFSkhI0G233daahwwAANopH2OMae1JNFdxcbEWLFigw4cP68Ybb9TIkSM1depU%2Bfv76/Dhw8rOztaxY8fUpUsXTZkyRSkpKa7bbt68WTk5OTp79qwiIiKUlZWl/v37S5KcTqdee%2B01bdmyRQ6HQ4mJiZo3b55uuukma3MvLa1qeqWf4KGl%2BU2vBABAG7dj2mCFhQWrosJh9QrWzTffaG1bV6NdBVZ7RmABAPDDvC2w2s1DhAAAAO0FgQUAAGAZgQUAAGAZgQUAAGAZgQUAAGAZgQUAAGAZgQUAAGAZgQUAAGAZgQUAAGAZgQUAAGAZgQUAAGAZgQUAAGAZgQUAAGAZgQUAAGAZgQUAAGBZiwTW%2BvXrtW3bNtfnTz/9tDZv3twSuwYAAGhxHg%2Bs3NxczZ8/X7W1ta5lP/vZzzRnzhytW7fO07sHAABocR4PrDVr1mjRokUaM2aMa9mLL76o7OxsrVy50tO7BwAAaHEeD6ySkhL9/Oc/b7T8l7/8pU6fPu3p3QMAALQ4jwdWr169tGPHjkbLP/nkE/Xo0cPTuwcAAGhxvp7ewW9%2B8xvNmDFDR44cUf/%2B/eXj46PDhw9r69atmj9/vqd3DwAA0OI8HlgjRoyQr6%2BvcnNz9fHHH8vPz0%2B9e/fWsmXLdN9993l69wAAAC3O44ElScOGDdOwYcNaYlcAAACtrkUC69tvv9XBgwd16dKlRmOjR49uiSkAAAC0GI8H1oYNG/TSSy%2Bpvr6%2B0ZiPjw%2BBBQAAvI7HAysnJ0cpKSmaOXOmQkJCPL07AACAVtci74P15JNPElcAAOC64fHA6tu3r7755htP7wYAAKDN8PhDhE8%2B%2BaT%2B8Ic/6NSpU7r99tvl7%2B/vNh4fH%2B/pKQAAALQojwdWZmamJCk7O7vRmI%2BPj44cOeLpKQAAALQojwfWxx9/7OldAAAAtCkeD6zu3bt7ehcAAABtisef5A4AAHC9IbAAAAAsI7AAAAAsI7AAAAAsI7AAAAAsI7AAAAAsI7AAAAAsI7AAAAAsI7AAAAAsI7AAAAAsI7AAAAAs8/i/RVhQUNDsdePj4z04EwAAgJbh8cCaOHGijDGu/yTJx8fHNf7Py44cOeLp6QAAAHicxwNr2bJlWrhwoWbOnKm77rpLfn5%2BOnjwoObOnavHHntM9913n6enAAAA0KI8/hysxYsXa86cORo6dKhCQkJ0ww03KCEhQX/84x/19ttvq3v37q7/AAAAvIHHA6ukpES33npro%2BUhISGqqKjw9O4BAABanMcDKzo6Wn/6059UXV3tWlZZWamXX35ZAwYM8PTuAQAAWpzHn4OVlZWlxx9/XEOGDFHPnj0lSV9//bVuvvlmvfvuu57ePQAAQIvzeGD17t1b27ZtU15eno4fPy5JeuyxxzR8%2BHAFBgZ6evcAAAAtzuOBJUmdOnXS2LFj9Y9//EM9evSQJPn5%2BbXErgEAAFqcx5%2BDZYzRkiVLFB8frxEjRujMmTOaOXOmXnjhBTmdTk/vHgAAoMV5PLBWrVqlzZs3a86cOfL395ckDR06VH/961/12muveXr3AAAALc7jgbV27Vq99NJLSklJcb2D%2B8MPP6zs7Gxt3brV07sHAABocR4PrH/84x%2B64447Gi3v06ePysrKPL17AACAFufxwOrevbsOHTrUaPmnn37qesI7AACAN/H4qwifeuop/eEPf9DZs2dljNHu3bv1X//1X1q1apVeeOEFT%2B8eAACgxXn8CtaYMWP03HPP6T//8z9VV1enl156Se%2B//76effZZPfrooz95u4WFhXriiSeUkJCgQYMGacaMGTp37pwk6eDBgxo7dqxiYmKUlJSkdevWud1206ZNSk5OVnR0tFJSUnTgwAHXWH19vRYvXqyBAwcqJiZG6enpKikp%2BcnzBAAA1x%2BPB9aWLVs0bNgwffLJJ/r888%2BVn5%2Bv/Px8PfHEEz95m3V1dfrNb36jmJgY/e1vf9MHH3ygyspKvfjiizp//rwmT56s0aNHq6CgQNnZ2Vq4cKHrYcq9e/dq3rx5WrRokQoKCjRq1Cilp6ertrZWkpSTk6P8/Hxt2LBBu3btUkBAgLKysqx8LQAAwPXB44E1f/5815PZu3Tpoptuuumat3n69Gn17dtXU6dOlb%2B/v8LCwpSWlqaCggJt375doaGhGjdunHx9fTVgwACNHDlSa9askSStW7dOw4cPV2xsrPz8/DRx4kSFhYVp27ZtrvFJkybp1ltvVUhIiGbPnq3PPvtMp06duuZ5AwCA64PHn4PVs2dPHT16VL1797a2zdtvv11vvfWW27KPPvpIv/jFL1RUVKSoqCi3sYiICK1fv16SVFxcrDFjxjQaLywsVFVVlc6cOeN2%2B65du6pz5846evRos5%2BUX1JSotLSUrdlvr5BCg8Pb/YxAgBwPenYsYPbx/bO44EVGRmpadOm6a233lLPnj11ww03uI0vXLjwmrZvjNHSpUu1c%2BdOrV69Wu%2B%2B%2B26jf%2BMwICBANTU1kiSHw/GD4w6HQ5IUFBTUaPzKWHOsXbtWy5cvd1s2depUZWRkNHsbAABcTzp1CnT72N55PLBOnjyp2NhYSWp0VedaVVdX64UXXtCXX36p1atXq0%2BfPgoMDFRVVZXbenV1dQoODpYkBQYGqq6urtF4WFiYK7yuPB/r%2B27fHGlpaUpKSnJb5usbpIqK5kcaAADXkwsXatWpU6AuXKhVfX2Dte2GhTX/97dNHg%2BsVatWeWS7J0%2Be1KRJk/Szn/1M69evV5cuXSRJUVFRys/Pd1u3uLhYkZGRkr67olZUVNRofMiQIercubO6deum4uJi18OEpaWlqqysbPSw448JDw9v9HBgaWmVLl%2B29w0DAIA3uRJV9fUNXvH70iMPdC5cuND1kJwnnD9/Xo8//rjuvPNOrVy50hVXkpScnKyysjLl5ubK6XRqz549ysvLcz3vKjU1VXl5edqzZ4%2BcTqdyc3NVXl6u5ORkSVJKSopycnJ06tQpVVdXa8GCBUpISNBtt93mseMBAADexccYY2xv9I477tDf/vY3t1cMPvXUU1q4cKGVJ3q/8847WrRokQIDA13/vuEVBw4c0OHDh5Wdna1jx46pS5cumjJlilJSUlzrbN68WTk5OTp79qwiIiKUlZWl/v37S5KcTqdee%2B01bdmyRQ6HQ4mJiZo3b941v/qxtLSq6ZV%2BgoeW5je9EgAAbdyOaYMVFhasigqH1StYN998o7VtXQ2PBFbfvn2Vn5/vFiUxMTHasmXLdfvP4xBYAAD8MG8LLO94LSQAAEAbQmABAABY5rHA%2Br/PjQIAALheeOxtGubPn%2B/2pqJOp1Mvv/xyo/eTutY3GgUAAGhrPBJY8fHxjd5UNCYmRhUVFaqoqPDELgEAANoMjwSWp95cFAAAoD3gSe4AAACWEVgAAACWEVgAAACWEVgAAACWEVgAAACWEVgAAACWEVgAAACWEVgAAACWEVgAAACWEVgAAACWEVgAAACWEVgAAACWEVgAAACWEVgAAACWEVgAAACWEVgAAACWEVgAAACWEVgAAACWEVgAAACWEVgAAACWEVgAAACWEVgAAACWEVgAAACWEVgAAACWEVgAAACWEVgAAACWEVgAAACWEVgAAACWEVgAAACWEVgAAACWEVgAAACWEVgAAACWEVgAAACWEVgAAACWEVgAAACWEVgAAACWEVgAAACWEVgAAACWEVgAAACWEVgAAACWEVgAAACWEVgAAACWEVgAAACWEVgAAACWEVgAAACWEVgAAACWEVgAAACWEVgAAACWEVgAAACWEVgAAACWEVgAAACWEVgAAACWeV1glZeXa8qUKYqLi1NiYqKys7N1%2BfJl1/jBgwc1duxYxcTEKCkpSevWrXO7/aZNm5ScnKzo6GilpKTowIEDLX0IAACgnfO6wMrMzFRQUJB27dql9evXa/fu3crNzZUknT9/XpMnT9bo0aNVUFCg7OxsLVy4UIcOHZIk7d27V/PmzdOiRYtUUFCgUaNGKT09XbW1ta14RAAAoL3xqsD65ptvtG/fPk2fPl2BgYHq0aOHpkyZojVr1kiStm/frtDQUI0bN06%2Bvr4aMGCARo4c6Rpft26dhg8frtjYWPn5%2BWnixIkKCwvTtm3bWvOwAABAO%2BPb2hOwqaioSKGhoerWrZtrWe/evXX69GlduHBBRUVFioqKcrtNRESE1q9fL0kqLi7WmDFjGo0XFhZe1TxKSkpUWlrqtszXN0jh4eFXtR0AAK4XHTt2cPvY3nlVYDkcDgUGBrotu/J5TU3N944HBASopqbmB2//z%2BPNtXbtWi1fvtxt2dSpU5WRkXFV2wEA4HrRqVOg28f2zqsCKygoqNHzpa58HhwcrMDAQFVVVbmN19XVKTg4WNJ3MVZXV9doPCws7KrmkZaWpqSkJLdlvr5BqqhwXNV2AAC4Xly4UKtOnQJ14UKt6usbrG03LCzY2rauhlcFVmRkpCorK1VWVqauXbtKko4fP65bbrlFN954o6KiopSfn%2B92m%2BLiYkVGRrpuX1RU1Gh8yJAhVzWP8PDwRg8HlpZW6fJle98wAAB4kytRVV/f4BW/L73jgc7/T8%2BePRUbG6sFCxaourpap06d0uuvv67U1FRJUnJyssrKypSbmyun06k9e/YoLy/P9byr1NRU5eXlac%2BePXI6ncrNzVV5ebmSk5Nb87AAAEA742OMMa09CZvKysr0xz/%2BUXv37lWHDh00evRoTZs2TR07dpQkHT58WNnZ2Tp27Ji6dOmiKVOmKCUlxXX7zZs3KycnR2fPnlVERISysrLUv3//a55XaWlV0yv9BA8tzW96JQAA2rgd0wYrLCxYFRUOq1ewbr75RmvbuhpeF1htFYEFAMAP87bA8qqHCAEAANoCAgsAAMAyAgsAAMAyAgsAAMAyAgsAAMAyAgsAAMAyAgsAAMAyAgsAAMAyAgsAAMAyAgsAAMAyAgsAAMAyAgsAAMAyAgsAAMAyAgsAAMAyAgsAAMAyAgsAAMAyAgsAAMAyAgsAAMAyAgsAAMAyAgsAAMAyAgsAAMAyAgsAAMAyAgsAAMAyAgsAAMAyAgsAAMAyAgsAAMAyAgsAAMAyAgsAAMAyAgsAAMAyAgsAAMAyAgsAAMAyAgsAAMAyAgsAAMAyAgsAAMAyAgsAAMAyAgsAAMAyAgsAAMAyAgsAAMAyAgsAAMAyAgsAAMAyAgsAAMAyAgsAAMAyAgsAAMAyAgsAAMAyAgsAAMAyAgsAAMAyAgsAAMAyAgsAAMAyAgsAAMAyAgsAAMAyAgsAAMAyAgsAAMAyAgsAAMAyAgsAAMAyAgsAAMAyAgsAAMAyAgsAAMAyAgsAAMAyAgsAAMAyAgsAAMAyAgsAAMAy39aegDcqKSlRaWmp2zJf3yCFh4e30owAAGjbOnbs4PaxvfMxxpjWnoS3WbZsmZYvX%2B627Omnn9YzzzzTSjNqfSUlJVq7dq3S0tIIzVbGuWgbOA9tB%2BeibfC28%2BAdmdjGpKWlaePGjW7/paWltfa0WlVpaamWL1/e6MoeWh7nom3gPLQdnIu2wdvOAw8RekB4eLhX1DcAAPhpuIIFAABgGYEFAABgWce5c%2BfObe1J4PoQHByshIQEBQcHt/ZUrnuci7aB89B2cC7aBm86D7yKEAAAwDIeIgQAALCMwAIAALCMwAIAALCMwAIAALCMwAIAALCMwAIAALCMwAKAJlRWVmrGjBlKTExUfHy8pkyZopKSEtf4119/rccff1wxMTG6%2B%2B679R//8R%2BNtlFfX6/Fixdr4MCBiomJUXp6uts2ysvLNWXKFMXFxSkxMVHZ2dm6fPmya/zgwYMaO3asYmJilJSUpHXr1rltf9OmTUpOTlZ0dLRSUlJ04MABD3wlADQXgQUATXjmmWdUU1OjHTt2aOfOnerYsaN%2B//vfS5KcTqd%2B97vfqV%2B/ftq7d6/eeOMNrVmzRn/5y1/ctpGTk6P8/Hxt2LBBu3btUkBAgLKyslzjmZmZCgoK0q5du7R%2B/Xrt3r1bubm5kqTz589r8uTJGj16tAoKCpSdna2FCxfq0KFDkqS9e/dq3rx5WrRokQoKCjRq1Cilp6ertra2Zb5AABozwPc4cuSImThxoomPjzcDBw4006dPN%2BXl5cYYY/7%2B97%2Bb1NRUEx0dbe677z7z3nvvud1248aNZujQoaZ///7mkUceMV988YVr7PLly2bRokVmwIABJjo62vzud78zZ8%2BedY2XlZWZ9PR0ExsbaxISEsz8%2BfON0%2Bl0jTe1b291%2BfJlM378eDNz5kzXsk8%2B%2BcSMGDHC9O/f3wwbNsz89a9/dbvNG2%2B8YQYPHmz69%2B9vxo8fb44fP%2B4aczgcZtasWSYhIcHceeedZvr06aa6utrt9k2di7agOcdxrQ4fPmz69etnqqqqXMsqKirMsWPHjDHG5Ofnm%2BjoaHPx4kXX%2BIoVK8y4cePctjNkyBCzZcsW1%2BelpaWmT58%2B5uTJk%2BbEiRMmKirKnDlzxjW%2BdetWc%2B%2B99xpjjHnvvffMAw884La9l156ycyYMcMYY8zzzz9vsrKy3MaHDRtm1q9ffy2H3maVl5ebzMxMk5CQYBISEkx6err59ttvG633Y/dFV3z11Vfm17/%2BtYmOjjaDBg0yOTk5buNN/Zy1pKbm6knXet/cnHPhbQgsNFJbW2sGDRpkXnvtNXPx4kVz7tw5M2nSJPPb3/7WVFZWmoSEBLN69WrjdDrN559/bmJiYszBgweNMcbs2bPHxMTEmP3795tLly6Zd955xyQmJpqamhpjjDHLli0zI0eONKdPnzZVVVUmMzPTTJo0ybXv8ePHm%2Beff97U1NSYkydPmuHDh5s333zTGGOa3Lc3W7p0qenbt68rsL7%2B%2BmvTr18/s2PHDuN0Os3WrVvNL3/5S9cv6I0bN5rBgwebY8eOmbq6OrNw4UIzfPhw09DQYIwxZtasWebxxx83FRUVpqyszIwfP97MnTvXbZ8/di7aiuYcx7Vas2aNeeSRR8zM8RlPAAAJE0lEQVTKlSvN0KFDzaBBg8ysWbNMRUWFMcaY3Nxc88gjj7jd5uOPPzaxsbGuzy9cuGCioqJMYWGh23oJCQlmx44dZseOHSYhIcFtrLCw0ERFRZnz58%2Bb7Oxs8/TTT7uNv/vuu2bUqFHGGGN%2B9atfmXfffddt/Omnnzbz58%2B/toNvo/7t3/7NPPfcc8bhcBiHw2EyMzPNr3/9a7d1mrovMsaYS5cumQceeMC8/PLL5uLFi%2BbLL780d999t9m2bZsxpumfs5bU1Fw97Vrum5tzLrwRDxGikdOnT6tv376aOnWq/P39FRYWprS0NBUUFGj79u0KDQ3VuHHj5OvrqwEDBmjkyJFas2aNJGndunUaPny4YmNj5efnp4kTJyosLEzbtm1zjU%2BaNEm33nqrQkJCNHv2bH322Wc6deqUvvnmG%2B3bt0/Tp09XYGCgevTooSlTpri23dS%2BvdXu3bu1fft2PfDAA65lmzZtUlxcnIYOHSpfX189/PDDio%2BP19q1ayVJ7733nh577DFFRkbqhhtu0PPPP6/Tp09r7969qq2tVV5enjIyMhQaGqqbbrpJ06ZN08aNG10PKTV1LtqC5hyHDefPn9fRo0d14sQJbdq0Se%2B//77Onj2rmTNnSpIcDocCAwPdbhMYGKiamhrX5w6HQ5IUFBTktl5AQIAcDscPbkOSampqvnc8ICDAtY%2Bmxr3N8ePHZb67QCBjjDp06NDo%2BJu6L5KkgoIClZSUKCMjQ/7%2B/vr5z3%2BuCRMmuL7Pm/o5a0lNzdWTrvW%2BuTnnwhsRWGjk9ttv11tvvaWOHTu6ln300Uf6xS9%2BoaKiIkVFRbmtHxERocLCQklScXHxD45XVVXpzJkzbuNdu3ZV586ddfToURUVFSk0NFTdunVzjffu3VunT5/WhQsXmty3NyovL9fs2bP1yiuvuP0C%2BbGv8/eN%2B/n5qWfPniosLNQ333wjp9PpNt67d2/V1dXpxIkTktTkuWgLmnMcNvj7%2B0uSZs%2BerZCQEHXt2lWZmZn69NNP5XA4FBQU1Cjoamtr3f6x2ivn7v%2BuV1dXp%2BDg4B/chvTdP34bGBiourq6773tle3/2Li3SU9P186dOxUbG6vY2Fj9z//8j%2BbNm%2Be2TlM/I9J33%2Be9evVyneP/u05zttFSmpqrp/d9LffNbenr2JIILPwoY4xeffVV7dy5U7Nnz76mv6Q9/Ve8t2loaND06dP1xBNPqG/fvm5j13IeqqurJbmfhyvrXjlHTZ2LtqA5x2FDRESEGhoa5HQ6XcsaGhokfffzERkZqRMnTri94q%2B4uFiRkZGuzzt37qxu3bqpuLjYtay0tFSVlZWKiopSZGSkKisrVVZW5ho/fvy4brnlFt14442KiopSUVGR27z%2BeR%2BRkZE/Ou5tGhoalJaWpr179%2Brzzz/X7bffrszMTLd1mnN/0dTVx7Z0n9OcK6UtvW%2BJK6w/hsDCD6qurlZGRoby8vK0evVq9enT55r%2Bkvb0X/HeZsWKFfL399eECRMajV3LebgSJP/8tb7y/yEhIZLU5LloC5pzHDYMHDhQPXr00IsvviiHw6Fz587p1Vdf1dChQxUSEqLExESFhYXplVde0cWLF1VYWKhVq1YpNTXVbTspKSnKycnRqVOnVF1drQULFighIUG33XabevbsqdjYWC1YsEDV1dU6deqUXn/9ddc2kpOTVVZWptzcXDmdTu3Zs0d5eXkaM2aMJCk1NVV5eXnas2ePnE6ncnNzVV5eruTkZGtfh7aitLRUs2bN0lNPPaXOnTurS5cumjt3rvbv36%2BjR4%2B61mvO/UVTVx/b0n1Oc66UtvS%2BJa6w/hgCC9/r5MmTGjNmjKqrq7V%2B/Xr16dNHkq7pL2lP/xXvbTZv3qx9%2B/YpLi5OcXFx%2BuCDD/TBBx8oLi7uqs%2BD0%2BnUiRMnFBUVpV69esnPz8/tPBw/ftz1MOKV2//YuWgLmnMcNvj5%2BWnVqlXq2LGjHnzwQT344IO65ZZbtGDBAkmSr6%2Bv3n77bR07dkyDBg3S5MmTNWHCBKWkpLhtZ%2BrUqbrnnns0btw43XPPPbp48aKWLl3qGv/zn/%2Bsy5cv6/7779e//uu/avDgwZoyZYokKSwsTG%2B//bY%2B/PBDJSYmKisrS1lZWbrrrrskSQMGDNCcOXM0d%2B5cJSQkaOvWrXrzzTcVGhpq7evQVpSWlsrpdOrSpUuuZb6%2BvpK%2BO1dXNOeqXlNXH9vSfU5zrpR6ct9cYf0JWvUp9miTKisrzb333mtmzZpl6uvr3cbOnTtn4uLizDvvvGMuXbpkdu/ebWJiYszu3buNMcb16pHdu3e7Xi0SHx/vesXVq6%2B%2BakaMGGFOnjzpehXh%2BPHjXdt/9NFHzbPPPmuqqqpcr1T585//3Kx9e7uZM2e6XkVYXFxs%2BvXrZ7Zu3ep6dVO/fv3MV199ZYz57mX9gwcPNkeOHHG9ijA5OdlcunTJGGPMtGnTzPjx4015ebkpLy9v9BYQxvz4uWgrmnMc8C4XL140999/v0lPTzdVVVWmqqrKPPfccyY1NdXt/qqp%2ByJjjHE6nSYpKcksWrTI1NXVmSNHjpi7777bbNiwwRjT9M9ZS2pqrp52LffNzTkX3ojAQiNvv/22iYqKMv379zfR0dFu/xljzKFDh0xaWpqJiYkx999/f6Mf8Pfff988%2BOCDJjo62qSmppq///3vrrFLly6Zl19%2B2QwePNjceeedJj093ZSVlbnGS0tLzTPPPGMSEhLMXXfdZRYtWmQuX77sGm9q397snwPLGGM%2B%2B%2BwzM2rUKBMdHW2GDx9uPvnkE9dYQ0ODWblypUlKSjLR0dFmwoQJbr8UqqqqTFZWlhk4cKCJj483s2bNMg6Hw21/TZ2LtqA5xwHvc%2BLECZOenm4SExPNgAEDzLPPPuv2fnpX/Nh90T9v68knnzSxsbFm8ODBZsWKFW7jP/Zz1tKamqsnXet9c3POhbfxMcaY1r6KBgAA4E14DhYAAIBlBBYAAIBlBBYAAIBlBBYAAIBlBBYAAIBlBBYAAIBlBBYAAIBlBBYAAIBlBBYAAIBlBBYAAIBlBBYAAIBlBBYAAIBlBBYAAIBlBBYAAIBlBBYAAIBl/w97rGTlUqRi2QAAAABJRU5ErkJggg%3D%3D\"/>\n",
       "        </div>\n",
       "        <div role=\"tabpanel\" class=\"tab-pane col-md-12\" id=\"common-3629164630445725401\">\n",
       "            \n",
       "<table class=\"freq table table-hover\">\n",
       "    <thead>\n",
       "    <tr>\n",
       "        <td class=\"fillremaining\">Value</td>\n",
       "        <td class=\"number\">Count</td>\n",
       "        <td class=\"number\">Frequency (%)</td>\n",
       "        <td style=\"min-width:200px\">&nbsp;</td>\n",
       "    </tr>\n",
       "    </thead>\n",
       "    <tr class=\"\">\n",
       "        <td class=\"fillremaining\">113140</td>\n",
       "        <td class=\"number\">22</td>\n",
       "        <td class=\"number\">0.1%</td>\n",
       "        <td>\n",
       "            <div class=\"bar\" style=\"width:1%\">&nbsp;</div>\n",
       "        </td>\n",
       "</tr><tr class=\"\">\n",
       "        <td class=\"fillremaining\">578933</td>\n",
       "        <td class=\"number\">22</td>\n",
       "        <td class=\"number\">0.1%</td>\n",
       "        <td>\n",
       "            <div class=\"bar\" style=\"width:1%\">&nbsp;</div>\n",
       "        </td>\n",
       "</tr><tr class=\"\">\n",
       "        <td class=\"fillremaining\">859174</td>\n",
       "        <td class=\"number\">22</td>\n",
       "        <td class=\"number\">0.1%</td>\n",
       "        <td>\n",
       "            <div class=\"bar\" style=\"width:1%\">&nbsp;</div>\n",
       "        </td>\n",
       "</tr><tr class=\"\">\n",
       "        <td class=\"fillremaining\">691726</td>\n",
       "        <td class=\"number\">22</td>\n",
       "        <td class=\"number\">0.1%</td>\n",
       "        <td>\n",
       "            <div class=\"bar\" style=\"width:1%\">&nbsp;</div>\n",
       "        </td>\n",
       "</tr><tr class=\"\">\n",
       "        <td class=\"fillremaining\">652369</td>\n",
       "        <td class=\"number\">22</td>\n",
       "        <td class=\"number\">0.1%</td>\n",
       "        <td>\n",
       "            <div class=\"bar\" style=\"width:1%\">&nbsp;</div>\n",
       "        </td>\n",
       "</tr><tr class=\"\">\n",
       "        <td class=\"fillremaining\">736158</td>\n",
       "        <td class=\"number\">22</td>\n",
       "        <td class=\"number\">0.1%</td>\n",
       "        <td>\n",
       "            <div class=\"bar\" style=\"width:1%\">&nbsp;</div>\n",
       "        </td>\n",
       "</tr><tr class=\"\">\n",
       "        <td class=\"fillremaining\">374435</td>\n",
       "        <td class=\"number\">22</td>\n",
       "        <td class=\"number\">0.1%</td>\n",
       "        <td>\n",
       "            <div class=\"bar\" style=\"width:1%\">&nbsp;</div>\n",
       "        </td>\n",
       "</tr><tr class=\"\">\n",
       "        <td class=\"fillremaining\">431277</td>\n",
       "        <td class=\"number\">22</td>\n",
       "        <td class=\"number\">0.1%</td>\n",
       "        <td>\n",
       "            <div class=\"bar\" style=\"width:1%\">&nbsp;</div>\n",
       "        </td>\n",
       "</tr><tr class=\"\">\n",
       "        <td class=\"fillremaining\">978521</td>\n",
       "        <td class=\"number\">22</td>\n",
       "        <td class=\"number\">0.1%</td>\n",
       "        <td>\n",
       "            <div class=\"bar\" style=\"width:1%\">&nbsp;</div>\n",
       "        </td>\n",
       "</tr><tr class=\"\">\n",
       "        <td class=\"fillremaining\">880064</td>\n",
       "        <td class=\"number\">22</td>\n",
       "        <td class=\"number\">0.1%</td>\n",
       "        <td>\n",
       "            <div class=\"bar\" style=\"width:1%\">&nbsp;</div>\n",
       "        </td>\n",
       "</tr><tr class=\"other\">\n",
       "        <td class=\"fillremaining\">Other values (2467)</td>\n",
       "        <td class=\"number\">41394</td>\n",
       "        <td class=\"number\">99.5%</td>\n",
       "        <td>\n",
       "            <div class=\"bar\" style=\"width:100%\">&nbsp;</div>\n",
       "        </td>\n",
       "</tr>\n",
       "</table>\n",
       "        </div>\n",
       "        <div role=\"tabpanel\" class=\"tab-pane col-md-12\"  id=\"extreme-3629164630445725401\">\n",
       "            <p class=\"h4\">Minimum 5 values</p>\n",
       "            \n",
       "<table class=\"freq table table-hover\">\n",
       "    <thead>\n",
       "    <tr>\n",
       "        <td class=\"fillremaining\">Value</td>\n",
       "        <td class=\"number\">Count</td>\n",
       "        <td class=\"number\">Frequency (%)</td>\n",
       "        <td style=\"min-width:200px\">&nbsp;</td>\n",
       "    </tr>\n",
       "    </thead>\n",
       "    <tr class=\"\">\n",
       "        <td class=\"fillremaining\">111556</td>\n",
       "        <td class=\"number\">14</td>\n",
       "        <td class=\"number\">0.0%</td>\n",
       "        <td>\n",
       "            <div class=\"bar\" style=\"width:67%\">&nbsp;</div>\n",
       "        </td>\n",
       "</tr><tr class=\"\">\n",
       "        <td class=\"fillremaining\">111575</td>\n",
       "        <td class=\"number\">12</td>\n",
       "        <td class=\"number\">0.0%</td>\n",
       "        <td>\n",
       "            <div class=\"bar\" style=\"width:57%\">&nbsp;</div>\n",
       "        </td>\n",
       "</tr><tr class=\"\">\n",
       "        <td class=\"fillremaining\">111779</td>\n",
       "        <td class=\"number\">12</td>\n",
       "        <td class=\"number\">0.0%</td>\n",
       "        <td>\n",
       "            <div class=\"bar\" style=\"width:57%\">&nbsp;</div>\n",
       "        </td>\n",
       "</tr><tr class=\"\">\n",
       "        <td class=\"fillremaining\">111839</td>\n",
       "        <td class=\"number\">21</td>\n",
       "        <td class=\"number\">0.1%</td>\n",
       "        <td>\n",
       "            <div class=\"bar\" style=\"width:100%\">&nbsp;</div>\n",
       "        </td>\n",
       "</tr><tr class=\"\">\n",
       "        <td class=\"fillremaining\">112486</td>\n",
       "        <td class=\"number\">15</td>\n",
       "        <td class=\"number\">0.0%</td>\n",
       "        <td>\n",
       "            <div class=\"bar\" style=\"width:71%\">&nbsp;</div>\n",
       "        </td>\n",
       "</tr>\n",
       "</table>\n",
       "            <p class=\"h4\">Maximum 5 values</p>\n",
       "            \n",
       "<table class=\"freq table table-hover\">\n",
       "    <thead>\n",
       "    <tr>\n",
       "        <td class=\"fillremaining\">Value</td>\n",
       "        <td class=\"number\">Count</td>\n",
       "        <td class=\"number\">Frequency (%)</td>\n",
       "        <td style=\"min-width:200px\">&nbsp;</td>\n",
       "    </tr>\n",
       "    </thead>\n",
       "    <tr class=\"\">\n",
       "        <td class=\"fillremaining\">997190</td>\n",
       "        <td class=\"number\">18</td>\n",
       "        <td class=\"number\">0.0%</td>\n",
       "        <td>\n",
       "            <div class=\"bar\" style=\"width:82%\">&nbsp;</div>\n",
       "        </td>\n",
       "</tr><tr class=\"\">\n",
       "        <td class=\"fillremaining\">997500</td>\n",
       "        <td class=\"number\">18</td>\n",
       "        <td class=\"number\">0.0%</td>\n",
       "        <td>\n",
       "            <div class=\"bar\" style=\"width:82%\">&nbsp;</div>\n",
       "        </td>\n",
       "</tr><tr class=\"\">\n",
       "        <td class=\"fillremaining\">997510</td>\n",
       "        <td class=\"number\">20</td>\n",
       "        <td class=\"number\">0.0%</td>\n",
       "        <td>\n",
       "            <div class=\"bar\" style=\"width:91%\">&nbsp;</div>\n",
       "        </td>\n",
       "</tr><tr class=\"\">\n",
       "        <td class=\"fillremaining\">998215</td>\n",
       "        <td class=\"number\">14</td>\n",
       "        <td class=\"number\">0.0%</td>\n",
       "        <td>\n",
       "            <div class=\"bar\" style=\"width:64%\">&nbsp;</div>\n",
       "        </td>\n",
       "</tr><tr class=\"\">\n",
       "        <td class=\"fillremaining\">998229</td>\n",
       "        <td class=\"number\">22</td>\n",
       "        <td class=\"number\">0.1%</td>\n",
       "        <td>\n",
       "            <div class=\"bar\" style=\"width:100%\">&nbsp;</div>\n",
       "        </td>\n",
       "</tr>\n",
       "</table>\n",
       "        </div>\n",
       "    </div>\n",
       "</div>\n",
       "</div><div class=\"row variablerow\">\n",
       "    <div class=\"col-md-3 namecol\">\n",
       "        <p class=\"h4 pp-anchor\" id=\"pp_var_gender\">gender<br/>\n",
       "            <small>Categorical</small>\n",
       "        </p>\n",
       "    </div><div class=\"col-md-3\">\n",
       "    <table class=\"stats \">\n",
       "        <tr class=\"\">\n",
       "            <th>Distinct count</th>\n",
       "            <td>2</td>\n",
       "        </tr>\n",
       "        <tr>\n",
       "            <th>Unique (%)</th>\n",
       "            <td>0.0%</td>\n",
       "        </tr>\n",
       "        <tr class=\"ignore\">\n",
       "            <th>Missing (%)</th>\n",
       "            <td>0.0%</td>\n",
       "        </tr>\n",
       "        <tr class=\"ignore\">\n",
       "            <th>Missing (n)</th>\n",
       "            <td>0</td>\n",
       "        </tr>\n",
       "    </table>\n",
       "</div>\n",
       "<div class=\"col-md-6 collapse in\" id=\"minifreqtable6663742436990808995\">\n",
       "    <table class=\"mini freq\">\n",
       "        <tr class=\"\">\n",
       "    <th>MALE</th>\n",
       "    <td>\n",
       "        <div class=\"bar\" style=\"width:100%\" data-toggle=\"tooltip\" data-placement=\"right\" data-html=\"true\"\n",
       "             data-delay=500 title=\"Percentage: 77.2%\">\n",
       "            32114\n",
       "        </div>\n",
       "        \n",
       "    </td>\n",
       "</tr><tr class=\"\">\n",
       "    <th>FEMALE</th>\n",
       "    <td>\n",
       "        <div class=\"bar\" style=\"width:30%\" data-toggle=\"tooltip\" data-placement=\"right\" data-html=\"true\"\n",
       "             data-delay=500 title=\"Percentage: 22.8%\">\n",
       "            9500\n",
       "        </div>\n",
       "        \n",
       "    </td>\n",
       "</tr>\n",
       "    </table>\n",
       "</div>\n",
       "<div class=\"col-md-12 text-right\">\n",
       "    <a role=\"button\" data-toggle=\"collapse\" data-target=\"#freqtable6663742436990808995, #minifreqtable6663742436990808995\"\n",
       "       aria-expanded=\"true\" aria-controls=\"collapseExample\">\n",
       "        Toggle details\n",
       "    </a>\n",
       "</div>\n",
       "<div class=\"col-md-12 extrapadding collapse\" id=\"freqtable6663742436990808995\">\n",
       "    \n",
       "<table class=\"freq table table-hover\">\n",
       "    <thead>\n",
       "    <tr>\n",
       "        <td class=\"fillremaining\">Value</td>\n",
       "        <td class=\"number\">Count</td>\n",
       "        <td class=\"number\">Frequency (%)</td>\n",
       "        <td style=\"min-width:200px\">&nbsp;</td>\n",
       "    </tr>\n",
       "    </thead>\n",
       "    <tr class=\"\">\n",
       "        <td class=\"fillremaining\">MALE</td>\n",
       "        <td class=\"number\">32114</td>\n",
       "        <td class=\"number\">77.2%</td>\n",
       "        <td>\n",
       "            <div class=\"bar\" style=\"width:100%\">&nbsp;</div>\n",
       "        </td>\n",
       "</tr><tr class=\"\">\n",
       "        <td class=\"fillremaining\">FEMALE</td>\n",
       "        <td class=\"number\">9500</td>\n",
       "        <td class=\"number\">22.8%</td>\n",
       "        <td>\n",
       "            <div class=\"bar\" style=\"width:30%\">&nbsp;</div>\n",
       "        </td>\n",
       "</tr>\n",
       "</table>\n",
       "</div>\n",
       "</div><div class=\"row variablerow ignore\">\n",
       "    <div class=\"col-md-3 namecol\">\n",
       "        <p class=\"h4 pp-anchor\" id=\"pp_var_hours_online\"><s>hours_online</s><br/>\n",
       "            <small>Highly correlated</small>\n",
       "        </p>\n",
       "    </div><div class=\"col-md-3\">\n",
       "    <p><em>This variable is highly correlated with <a href=\"#pp_var_hours_online_float\"><code>hours_online_float</code></a> and should be ignored for analysis</em></p>\n",
       "</div>\n",
       "<div class=\"col-md-6\">\n",
       "    <table class=\"stats \">\n",
       "        <tr>\n",
       "            <th>Correlation</th>\n",
       "            <td>0.9936</td>\n",
       "        </tr>\n",
       "    </table>\n",
       "</div>\n",
       "</div><div class=\"row variablerow ignore\">\n",
       "    <div class=\"col-md-3 namecol\">\n",
       "        <p class=\"h4 pp-anchor\" id=\"pp_var_hours_online_float\"><s>hours_online_float</s><br/>\n",
       "            <small>Highly correlated</small>\n",
       "        </p>\n",
       "    </div><div class=\"col-md-3\">\n",
       "    <p><em>This variable is highly correlated with <a href=\"#pp_var_ping_count\"><code>ping_count</code></a> and should be ignored for analysis</em></p>\n",
       "</div>\n",
       "<div class=\"col-md-6\">\n",
       "    <table class=\"stats \">\n",
       "        <tr>\n",
       "            <th>Correlation</th>\n",
       "            <td>1</td>\n",
       "        </tr>\n",
       "    </table>\n",
       "</div>\n",
       "</div><div class=\"row variablerow\">\n",
       "    <div class=\"col-md-3 namecol\">\n",
       "        <p class=\"h4 pp-anchor\" id=\"pp_var_number_of_kids\">number_of_kids<br/>\n",
       "            <small>Numeric</small>\n",
       "        </p>\n",
       "    </div><div class=\"col-md-6\">\n",
       "    <div class=\"row\">\n",
       "        <div class=\"col-sm-6\">\n",
       "            <table class=\"stats \">\n",
       "                <tr>\n",
       "                    <th>Distinct count</th>\n",
       "                    <td>5</td>\n",
       "                </tr>\n",
       "                <tr>\n",
       "                    <th>Unique (%)</th>\n",
       "                    <td>0.0%</td>\n",
       "                </tr>\n",
       "                <tr class=\"ignore\">\n",
       "                    <th>Missing (%)</th>\n",
       "                    <td>0.0%</td>\n",
       "                </tr>\n",
       "                <tr class=\"ignore\">\n",
       "                    <th>Missing (n)</th>\n",
       "                    <td>0</td>\n",
       "                </tr>\n",
       "                <tr class=\"ignore\">\n",
       "                    <th>Infinite (%)</th>\n",
       "                    <td>0.0%</td>\n",
       "                </tr>\n",
       "                <tr class=\"ignore\">\n",
       "                    <th>Infinite (n)</th>\n",
       "                    <td>0</td>\n",
       "                </tr>\n",
       "            </table>\n",
       "\n",
       "        </div>\n",
       "        <div class=\"col-sm-6\">\n",
       "            <table class=\"stats \">\n",
       "\n",
       "                <tr>\n",
       "                    <th>Mean</th>\n",
       "                    <td>1.3947</td>\n",
       "                </tr>\n",
       "                <tr>\n",
       "                    <th>Minimum</th>\n",
       "                    <td>0</td>\n",
       "                </tr>\n",
       "                <tr>\n",
       "                    <th>Maximum</th>\n",
       "                    <td>4</td>\n",
       "                </tr>\n",
       "                <tr class=\"alert\">\n",
       "                    <th>Zeros (%)</th>\n",
       "                    <td>44.5%</td>\n",
       "                </tr>\n",
       "            </table>\n",
       "        </div>\n",
       "    </div>\n",
       "</div>\n",
       "<div class=\"col-md-3 collapse in\" id=\"minihistogram-3725282452177683889\">\n",
       "    <img src=\"data:image/png;base64,iVBORw0KGgoAAAANSUhEUgAAAMgAAABLCAYAAAA1fMjoAAAABHNCSVQICAgIfAhkiAAAAAlwSFlzAAAPYQAAD2EBqD%2BnaQAAADl0RVh0U29mdHdhcmUAbWF0cGxvdGxpYiB2ZXJzaW9uIDMuMC4yLCBodHRwOi8vbWF0cGxvdGxpYi5vcmcvOIA7rQAAARJJREFUeJzt3bENwjAUQEGCGIkh2ImanRiCnUyP0JMoSKzkrrf0E/nJ7ryMMcYJ%2BOq89QAws8vWA3y63p8/r3k9bn%2BYBJwgkAQCQSAQBAJBIBAEAkEgEAQCQSAQBAJBIBAEAkEgEAQCQSAQBAJBIBAEAkEgEAQCQSAQBAJBIBAEAkEgEAQCQSAQBAJBIBAEAkEgEKZ7H2QtR36HZK1v38M/Pmwgs9rDptoTVywIAoEgEAgCgSAQCAKBIBAIAoEgEAgCgSAQCAKBIBAIyxhjbD0EzMoJAkEgEAQCQSAQBAJBIBAEAkEgEAQCQSAQBAJBIBAEAkEgEAQCQSAQBAJBIBAEAkEgEAQCQSAQBAJBIBAEAuENSjYXk2s%2BO%2B8AAAAASUVORK5CYII%3D\">\n",
       "\n",
       "</div>\n",
       "<div class=\"col-md-12 text-right\">\n",
       "    <a role=\"button\" data-toggle=\"collapse\" data-target=\"#descriptives-3725282452177683889,#minihistogram-3725282452177683889\"\n",
       "       aria-expanded=\"false\" aria-controls=\"collapseExample\">\n",
       "        Toggle details\n",
       "    </a>\n",
       "</div>\n",
       "<div class=\"row collapse col-md-12\" id=\"descriptives-3725282452177683889\">\n",
       "    <ul class=\"nav nav-tabs\" role=\"tablist\">\n",
       "        <li role=\"presentation\" class=\"active\"><a href=\"#quantiles-3725282452177683889\"\n",
       "                                                  aria-controls=\"quantiles-3725282452177683889\" role=\"tab\"\n",
       "                                                  data-toggle=\"tab\">Statistics</a></li>\n",
       "        <li role=\"presentation\"><a href=\"#histogram-3725282452177683889\" aria-controls=\"histogram-3725282452177683889\"\n",
       "                                   role=\"tab\" data-toggle=\"tab\">Histogram</a></li>\n",
       "        <li role=\"presentation\"><a href=\"#common-3725282452177683889\" aria-controls=\"common-3725282452177683889\"\n",
       "                                   role=\"tab\" data-toggle=\"tab\">Common Values</a></li>\n",
       "        <li role=\"presentation\"><a href=\"#extreme-3725282452177683889\" aria-controls=\"extreme-3725282452177683889\"\n",
       "                                   role=\"tab\" data-toggle=\"tab\">Extreme Values</a></li>\n",
       "\n",
       "    </ul>\n",
       "\n",
       "    <div class=\"tab-content\">\n",
       "        <div role=\"tabpanel\" class=\"tab-pane active row\" id=\"quantiles-3725282452177683889\">\n",
       "            <div class=\"col-md-4 col-md-offset-1\">\n",
       "                <p class=\"h4\">Quantile statistics</p>\n",
       "                <table class=\"stats indent\">\n",
       "                    <tr>\n",
       "                        <th>Minimum</th>\n",
       "                        <td>0</td>\n",
       "                    </tr>\n",
       "                    <tr>\n",
       "                        <th>5-th percentile</th>\n",
       "                        <td>0</td>\n",
       "                    </tr>\n",
       "                    <tr>\n",
       "                        <th>Q1</th>\n",
       "                        <td>0</td>\n",
       "                    </tr>\n",
       "                    <tr>\n",
       "                        <th>Median</th>\n",
       "                        <td>1</td>\n",
       "                    </tr>\n",
       "                    <tr>\n",
       "                        <th>Q3</th>\n",
       "                        <td>3</td>\n",
       "                    </tr>\n",
       "                    <tr>\n",
       "                        <th>95-th percentile</th>\n",
       "                        <td>4</td>\n",
       "                    </tr>\n",
       "                    <tr>\n",
       "                        <th>Maximum</th>\n",
       "                        <td>4</td>\n",
       "                    </tr>\n",
       "                    <tr>\n",
       "                        <th>Range</th>\n",
       "                        <td>4</td>\n",
       "                    </tr>\n",
       "                    <tr>\n",
       "                        <th>Interquartile range</th>\n",
       "                        <td>3</td>\n",
       "                    </tr>\n",
       "                </table>\n",
       "            </div>\n",
       "            <div class=\"col-md-4 col-md-offset-2\">\n",
       "                <p class=\"h4\">Descriptive statistics</p>\n",
       "                <table class=\"stats indent\">\n",
       "                    <tr>\n",
       "                        <th>Standard deviation</th>\n",
       "                        <td>1.5041</td>\n",
       "                    </tr>\n",
       "                    <tr>\n",
       "                        <th>Coef of variation</th>\n",
       "                        <td>1.0784</td>\n",
       "                    </tr>\n",
       "                    <tr>\n",
       "                        <th>Kurtosis</th>\n",
       "                        <td>-1.2102</td>\n",
       "                    </tr>\n",
       "                    <tr>\n",
       "                        <th>Mean</th>\n",
       "                        <td>1.3947</td>\n",
       "                    </tr>\n",
       "                    <tr>\n",
       "                        <th>MAD</th>\n",
       "                        <td>1.3524</td>\n",
       "                    </tr>\n",
       "                    <tr class=\"\">\n",
       "                        <th>Skewness</th>\n",
       "                        <td>0.55894</td>\n",
       "                    </tr>\n",
       "                    <tr>\n",
       "                        <th>Sum</th>\n",
       "                        <td>58041</td>\n",
       "                    </tr>\n",
       "                    <tr>\n",
       "                        <th>Variance</th>\n",
       "                        <td>2.2624</td>\n",
       "                    </tr>\n",
       "                    <tr>\n",
       "                        <th>Memory size</th>\n",
       "                        <td>650.2 KiB</td>\n",
       "                    </tr>\n",
       "                </table>\n",
       "            </div>\n",
       "        </div>\n",
       "        <div role=\"tabpanel\" class=\"tab-pane col-md-8 col-md-offset-2\" id=\"histogram-3725282452177683889\">\n",
       "            <img src=\"data:image/png;base64,iVBORw0KGgoAAAANSUhEUgAAAlgAAAGQCAYAAAByNR6YAAAABHNCSVQICAgIfAhkiAAAAAlwSFlzAAAPYQAAD2EBqD%2BnaQAAADl0RVh0U29mdHdhcmUAbWF0cGxvdGxpYiB2ZXJzaW9uIDMuMC4yLCBodHRwOi8vbWF0cGxvdGxpYi5vcmcvOIA7rQAAIABJREFUeJzt3X9wVeWB//EPyQ3k5kJMMAS2u1gUElggmJhIoKG0QLOWIsJAbKxsFmmDW5OSwigoVQZKCtRpVIwsrgLKKsw0irAWBKHOuIVamgCmbtYxNcECuqEmJAHyk/w63z/45i7XgCTyJPee0/drJjPc5zz3%2BHzuw2E%2BOfcm9rMsyxIAAACMCfL3AgAAAJyGggUAAGAYBQsAAMAwChYAAIBhFCwAAADDKFgAAACGUbAAAAAMo2ABAAAYRsECAAAwjIIFAABgGAULAADAMAoWAACAYRQsAAAAwyhYAAAAhlGwAAAADKNgAQAAGEbBAgAAMIyCBQAAYBgFCwAAwDAKFgAAgGEULAAAAMMoWAAAAIZRsAAAAAyjYAEAABhGwQIAADCMggUAAGAYBQsAAMAwChYAAIBhFCwAAADDKFgAAACGUbAAAAAMo2ABAAAYRsECAAAwjIIFAABgGAULAADAMAoWAACAYRQsAAAAwyhYAAAAhlGwAAAADHP5ewF/K6qq6oyfMyionwYP9qimpkEdHZbx8/uLU3NJzs3m1FwS2ezIqbkk52brzVxDhgwyer7u4g6WjQUF9VO/fv0UFNTP30sxyqm5JOdmc2ouiWx25NRcknOzOTEXBQsAAMAwChYAAIBhFCwAAADDKFgAAACGUbAAAAAMo2ABAAAYRsECAAAwjIIFAABgGAULAADAMAoWAACAYRQsAAAAwyhYAAAAhlGwAAAADHP5ewG4MUmPv%2B3vJXTbgaUp/l4CAAB9gjtYAAAAhlGwAAAADKNgAQAAGEbBAgAAMIyCBQAAYBgFCwAAwDAKFgAAgGEULAAAAMMoWAAAAIZRsAAAAAyjYAEAABgWsP8vwuPHj2vx4sU%2BY62trWptbdXhw4c1dOhQSVJHR4cSExNlWZb69evnnfvee%2B8pLCxM1dXVWrVqlYqKihQcHKx77rlHjz76qFyuy9E/%2BOAD/eIXv1B5ebkiIyP10EMP6d577%2B27oAAAwHECtmAlJSWpuLjY%2B7i%2Bvl7p6emaNWuWt1xJUnl5uVpbW/X%2B%2B%2B%2Brf//%2BXc6zdOlSDR06VEeOHNG5c%2Bf00EMPafv27crMzNSFCxf04IMPKicnR%2Bnp6Tp27Jiys7M1evRoTZgwoU9yAgAA57HNW4S/%2BMUvNHToUGVlZfmMl5SUaPTo0VctV6dPn1ZRUZGWL18ut9ut4cOHKysrSzt37pQkHTp0SBEREVqwYIFcLpcmT56s2bNne48DAAB8FbYoWMePH9f%2B/fuVm5vb5VhJSYkuXbqk%2BfPna9KkSVqwYIHef/99SVJZWZkiIiJ87niNHDlSFRUVunjxosrKyhQbG%2BtzvlGjRqm0tLR3AwEAAEcL2LcIr/Tcc8/pBz/4gf7%2B7/%2B%2By7HQ0FBNmDBBP/3pT3XTTTdp586d%2BtGPfqTf/OY3amhokNvt9pnf%2BbixsfGqx0NDQ9XY2HhD662srFRVVZXPmMsVpujo6Bs67xcFB9uiH3u5XN1bb2cuu%2BXrDqdmc2ouiWx25NRcknOzOTFXwBesM2fOqKioSOvWrbvq8ccee8zn8Y9%2B9CPt3r1bv/vd7zR06FA1NTX5HO987PF45Ha7VVdX53O8ublZHo/nhtZcUFCgTZs2%2BYxlZ2crJyfnhs5rd5GRPXtdw8Pd159kU07N5tRcEtnsyKm5JOdmc1KugC9YBw8e1B133KF/%2BId/uOrxZ555RnfddZfGjh3rHWtpadGAAQMUExOj8%2BfP69y5c4qKipIknTx5UsOGDdOgQYMUGxur9957z%2Bd85eXliomJuaE1p6ena/r06T5jLleYamsbbui8X2S3pt/d/MHBQQoPd%2BvixSa1t3f08qr6llOzOTWXRDY7cmouybnZejNXT7%2B5NyXgC9aJEyeUlJR0zeMff/yxjh8/ro0bN%2Bqmm27Siy%2B%2BqPr6eqWmpioiIkKJiYlav3691q5dq9raWm3evFlpaWmSpNTUVP3qV7/S9u3btWDBAp04cUJ79%2B7V5s2bb2jN0dHRXd4OrKqqU1ubcy6Gr6Kn%2BdvbOxz7mjk1m1NzSWSzI6fmkpybzUm5Av4WyGeffebzIfUv2rBhg2655RbNmTNHycnJKioq0ssvv6yIiAhJUn5%2Bvtra2jRjxgx9//vf1ze/%2BU3vTyJGRkbqpZde0ttvv63k5GQ98cQTeuKJJzRp0qQ%2ByQYAAJwp4O9g7du370uPR0REaMOGDdc8HhUVpfz8/Gsej4uL069//euvvD4AAIAvCvg7WAAAAHZDwQIAADCMggUAAGAYBQsAAMAwChYAAIBhFCwAAADDKFgAAACGUbAAAAAMo2ABAAAYRsECAAAwjIIFAABgGAULAADAMAoWAACAYRQsAAAAwyhYAAAAhlGwAAAADKNgAQAAGEbBAgAAMIyCBQAAYBgFCwAAwDAKFgAAgGEULAAAAMMoWAAAAIZRsAAAAAyjYAEAABhGwQIAADCMggUAAGAYBQsAAMAwChYAAIBhFCwAAADDKFgAAACGUbAAAAAMC/iCVVNTo9TUVBUWFnrHVq9erfHjxyshIcH7VVBQ4D2%2BZcsWTZ06VfHx8crIyNAnn3ziPdbY2KiVK1cqOTlZiYmJWrFihRoaGrzH//KXv2jhwoVKSEjQlClT9O///u99ExQAADhGQBesEydOKD09XWfOnPEZLykpUW5uroqLi71f6enpkqQ9e/bo1Vdf1bZt21RYWKhx48YpJydHlmVJknJzc3X27FkdPHhQhw4d0tmzZ5WXlydJam1t1Y9//GPFxcWpsLBQL774onbu3KkDBw70bXAAAGBrAVuw9uzZo0ceeUTLli3zGW9padHHH3%2Bs8ePHX/V5r732mu6//37FxMRowIABevjhh1VRUaHCwkI1NTVp7969ysnJUUREhG6%2B%2BWY98sgj2r17t5qamnTs2DFVVlYqJydH/fv319ixY5WRkaGdO3f2RWQAAOAQLn8v4FqmTJmi2bNny%2BVy%2BZSs0tJStbW1KT8/XydOnNCgQYM0f/58ZWZmKigoSOXl5Vq8eLF3fkhIiEaMGKHS0lJFRESotbVVsbGx3uMjR45Uc3OzTp06pbKyMt16663q37%2B/9/ioUaP04osv9mjtlZWVqqqq8hlzucIUHR3d05fhSwUHB2w/viqXq3vr7cxlt3zd4dRsTs0lkc2OnJpLcm42J%2BYK2II1ZMiQq47X1dVp4sSJysjI0NNPP62PPvpI2dnZCgoKUmZmphoaGuR2u32eExoaqsbGRtXX10uSwsLCvMc65zY0NFz1uW63W42NjT1ae0FBgTZt2uQzlp2drZycnB6dx2kiIz09mh8e7r7%2BJJtyajan5pLIZkdOzSU5N5uTcgVswbqWlJQUpaSkeB9PmDBBCxcu1P79%2B5WZmSm3263m5maf5zQ3N8vj8XiLVVNTkzwej/fPkjRw4ECFhYV5H3e6cm53paena/r06T5jLleYamsbrvGMr8ZuTb%2B7%2BYODgxQe7tbFi01qb%2B/o5VX1Ladmc2ouiWx25NRcknOz9Waunn5zb4rtCtY777yjc%2BfO6b777vOOtbS0KDQ0VJIUExOjsrIyTZs2TdLlD66fOnVKsbGxuvXWWxUSEqLy8nLdfvvtkqSTJ09630asrq7WqVOn1NbWJpfr8ktTXl6umJiYHq0xOjq6y9uBVVV1amtzzsXwVfQ0f3t7h2NfM6dmc2ouiWx25NRcknOzOSmXvW6BSLIsSxs2bNDRo0dlWZaKi4v1yiuveH%2BKcP78%2BdqxY4dKS0t16dIlPfXUU4qKilJSUpLcbrdmzpypvLw81dTUqKamRnl5ebr77rsVGhqq5ORkRUZG6qmnntKlS5dUWlqqV199VWlpaX5ODQAA7MR2d7BSU1O1cuVKrVmzRp9//rmioqK0ZMkSzZkzR5KUlpamuro6ZWdnq6amRnFxcXrhhRcUEhIi6fLv0HryySc1e/Zstba2asaMGVq1apUkyeVy6aWXXtLatWuVkpKisLAwZWRkaN68eX7LCwAA7Kef1fkLotCrqqrqjJ/T5QpSat4R4%2BftLQeWplx/ki7nioz0qLa2wTG3ijs5NZtTc0lksyOn5pKcm603cw0ZMsjo%2BbrLdm8RAgAABDoKFgAAgGEULAAAAMMoWAAAAIZRsAAAAAyjYAEAABhGwQIAADCMggUAAGAYBQsAAMAwChYAAIBhFCwAAADDKFgAAACGUbAAAAAMo2ABAAAYRsECAAAwjIIFAABgGAULAADAMAoWAACAYRQsAAAAwyhYAAAAhlGwAAAADKNgAQAAGEbBAgAAMIyCBQAAYBgFCwAAwDAKFgAAgGEULAAAAMMoWAAAAIZRsAAAAAyjYAEAABhGwQIAADAsYAtWaWmpFi1apIkTJyolJUUrVqxQTU2N9/jq1as1fvx4JSQkeL8KCgq8x7ds2aKpU6cqPj5eGRkZ%2BuSTT7zHGhsbtXLlSiUnJysxMVErVqxQQ0NDn%2BYDAADOFZAFq7m5WZmZmUpISNDvf/977du3T%2BfPn9fPfvYz75ySkhLl5uaquLjY%2B5Weni5J2rNnj1599VVt27ZNhYWFGjdunHJycmRZliQpNzdXZ8%2Be1cGDB3Xo0CGdPXtWeXl5fskKAACcJyALVkVFhcaMGaPs7Gz1799fkZGRSk9P17FjxyRJLS0t%2BvjjjzV%2B/PirPv%2B1117T/fffr5iYGA0YMEAPP/ywKioqVFhYqKamJu3du1c5OTmKiIjQzTffrEceeUS7d%2B9WU1NTX8YEAAAO5fL3Aq7mtttu09atW33GDh48qHHjxkm6/PZhW1ub8vPzdeLECQ0aNEjz589XZmamgoKCVF5ersWLF3ufGxISohEjRqi0tFQRERFqbW1VbGys9/jIkSPV3NysU6dO6R//8R9veP2VlZWqqqryGXO5whQdHX3D575ScHBA9uNrcrm6t97OXHbL1x1OzebUXBLZ7MipuSTnZnNiroAsWFeyLEsbN27Uu%2B%2B%2Bqx07dkiS6urqNHHiRGVkZOjpp5/WRx99pOzsbAUFBSkzM1MNDQ1yu90%2B5wkNDVVjY6Pq6%2BslSWFhYd5jnXNNfQ6roKBAmzZt8hnLzs5WTk6OkfPbVWSkp0fzw8Pd159kU07N5tRcEtnsyKm5JOdmc1KugC5Y9fX1WrlypT788EPt2LFDo0ePliSlpKQoJSXFO2/ChAlauHCh9u/fr8zMTLndbjU3N/ucq7m5WR6Px1usmpqa5PF4vH%2BWpIEDBxpZd3p6uqZPn%2B4z5nKFqbbW7Afp7db0u5s/ODhI4eFuXbzYpPb2jl5eVd9yajan5pLIZkdOzSU5N1tv5urpN/emBGzBOnPmjBYvXqyvfe1r2rVrlwYPHuw99s477%2BjcuXO67777vGMtLS0KDQ2VJMXExKisrEzTpk2TJLW2turUqVOKjY3VrbfeqpCQEJWXl%2Bv222%2BXJJ08edL7NqIJ0dHRXd4OrKqqU1ubcy6Gr6Kn%2BdvbOxz7mjk1m1NzSWSzI6fmkpybzUm5AvIWyIULF7Rw4ULdcccd2rZtm0%2B5ki6/bbhhwwYdPXpUlmWpuLhYr7zyivenCOfPn68dO3aotLRUly5d0lNPPaWoqCglJSXJ7XZr5syZysvLU01NjWpqapSXl6e7777bW9AAAABuREDewdq9e7cqKip04MABvf322z7HiouLlZqaqpUrV2rNmjX6/PPPFRUVpSVLlmjOnDmSpLS0NNXV1Sk7O1s1NTWKi4vTCy%2B8oJCQEEmXf4fWk08%2BqdmzZ6u1tVUzZszQqlWr%2BjwnAABwpn5W5y%2BHQq%2Bqqqozfk6XK0ipeUeMn7e3HFiacv1JupwrMtKj2toGx9wq7uTUbE7NJZHNjpyaS3Jutt7MNWTIIKPn666AfIsQAADAzihYAAAAhlGwAAAADKNgAQAAGEbBAgAAMIyCBQAAYBgFCwAAwDAKFgAAgGEULAAAAMMoWAAAAIZRsAAAAAyjYAEAABhGwQIAADCMggUAAGAYBQsAAMAwChYAAIBhFCwAAADDKFgAAACGUbAAAAAMo2ABAAAYRsECAAAwjIIFAABgGAULAADAMAoWAACAYRQsAAAAwyhYAAAAhlGwAAAADKNgAQAAGEbBAgAAMIyCBQAAYBgFCwAAwDAKFgAAgGEULAAAAMMoWAAAAIa5/L0AJ6qsrFRVVZXPmMsVpujoaKP/neBge/Vjl6t76%2B3MZbd83eHUbE7NJZHNjpyaS3JuNifmomD1goKCAm3atMlnLDs7Wzk5OX5aUWCIjPT0aH54uLuXVuJ/Ts3m1FwS2ezIqbkk52ZzUi4KVi9IT0/X9OnTfcZcrjDV1jYY/e/Yrel3N39wcJDCw926eLFJ7e0dvbyqvuXUbE7NJZHNjpyaS3Jutt7M1dNv7k2hYPWC6OjoLm8HVlXVqa3NORfDV9HT/O3tHY59zZyazam5JLLZkVNzSc7N5qRc9roFAgAAYAMULAAAAMMoWAAAAIZRsAAAAAyjYAEAABhGwQIAADCMggUAAGAYBQsAAMAwChYAAIBhFCwAAADDKFgAAACGUbAAAAAMo2ABAAAYRsECAAAwjIIFAABgGAULAADAMAoWAACAYRQsAAAAwyhYAAAAhlGwAAAADKNgAQAAGEbBAgAAMIyCBQAAYBgFCwAAwDAKFgAAgGEULAAAAMMoWAAAAIZRsAAAAAyjYAEAABhGwQIAADCMggUAAGAYBQsAAMAwChYAAIBhFCwAAADDXP5ewFfxm9/8RqtXr/YZa21tlST9z//8jzIzM1VYWCiX6//iPfvss5o6dara29uVl5enN998U01NTZo0aZJ%2B/vOfKzo6WpJUXV2tVatWqaioSMHBwbrnnnv06KOP%2BpwLAADgy9jyDtY999yj4uJi79fbb7%2BtiIgIrVu3TtLlkrVt2zafOVOnTpUkPf/883rvvff0xhtv6MiRIwoNDdUTTzzhPffSpUsVFhamI0eOaNeuXTp69Ki2b9/uj5gAAMCmbFmwrmRZlpYvX65vf/vbmjNnjj799FNduHBBY8eOver8119/XYsXL9bf/d3faeDAgXr88cd1%2BPBhffrppzp9%2BrSKioq0fPlyud1uDR8%2BXFlZWdq5c2cfpwIAAHZm%2B/e93nzzTZWXl2vz5s2SpJKSEnk8Hi1btkwlJSWKiorSAw88oLS0NNXV1emvf/2rYmNjvc%2BPiorSTTfdpD//%2Bc%2BSpIiICA0dOtR7fOTIkaqoqNDFixcVHh7et%2BEAAIAt2bpgdXR06Pnnn9ePf/xjDRw4UJLU0tKi%2BPh4LVu2TDExMSosLNSSJUvk8XiUkJAgSQoLC/M5T2hoqBoaGiRJbrfb51jn48bGxm4XrMrKSlVVVfmMuVxh3s95mRIcbK8bkC5X99bbmctu%2BbrDqdmcmksimx05NZfk3GxOzGXrglVYWKjKykqlpaV5x%2BbOnau5c%2Bd6H0%2BZMkVz587VgQMH9I1vfEOS1NTU5HOe5uZmeTweWZbV5VjnY4/H0%2B11FRQUaNOmTT5j2dnZysnJ6fY5nCgysvuvoSSFh7uvP8mmnJrNqbkkstmRU3NJzs3mpFy2LlgHDx5Uamqqzx2pXbt2yePxaObMmd6xlpYWDRgwQDfddJOGDh2q8vJy79uEVVVVOn/%2BvGJjY9XR0aHz58/r3LlzioqKkiSdPHlSw4YN06BBg7q9rvT0dE2fPt1nzOUKU21tw43E7cJuTb%2B7%2BYODgxQe7tbFi01qb%2B/o5VX1Ladmc2ouiWx25NRcknOz9Waunn5zb4qtC9aJEyf0L//yLz5j9fX1evrpp/X1r39dY8aM0eHDh7Vv3z5t27ZNkjRv3jw9//zziouLU2RkpNavX6%2BJEyfqlltukSQlJiZq/fr1Wrt2rWpra7V582afO2TdER0d3eXtwKqqOrW1Oedi%2BCp6mr%2B9vcOxr5lTszk1l0Q2O3JqLsm52ZyUy9YF67PPPutSZBYuXKjGxkb95Cc/UXV1tYYPH64nn3xSSUlJki6/VdfW1qYFCxaooaFBycnJ2rhxo/f5%2Bfn5Wrt2rWbMmKGgoCDNnTtXWVlZfZoLAADYWz/Lsix/L%2BJvQVVVnfFzulxBSs07Yvy8veXA0pRuzXO5ghQZ6VFtbYNjvpPp5NRsTs0lkc2OnJpLcm623sw1ZEj3P%2BJjkr0%2BxAMAAGADFCwAAADDKFgAAACGUbAAAAAMo2ABAAAYRsECAAAwjIIFAABgGAULAADAMAoWAACAYRQsAAAAwyhYAAAAhlGwAAAADKNgAQAAGEbBAgAAMIyCBQAAYBgFCwAAwDAKFgAAgGEULAAAAMMoWAAAAIZRsAAAAAxz%2BXsBAIC/XTM3vufvJfTIgaUp/l4CbIKCBQCAQ9mpwB5f911/L8EoChZwDXb6h0niO2sACCR8BgsAAMAwChYAAIBhFCwAAADDKFgAAACGUbAAAAAMo2ABAAAYxq9pAIDrSHr8bX8voUf4lR2A/3EHCwAAwDDbFqzq6mplZWUpKSlJycnJWrdundra2rzHP/jgA917771KSEjQ9OnT9frrr/s8f8%2BePUpNTVV8fLzmzZun4uLivo4AAAAcyrYFa%2BnSpQoLC9ORI0e0a9cuHT16VNu3b5ckXbhwQQ8%2B%2BKDmzp2rY8eOad26ddqwYYP%2B%2B7//W5JUWFio3Nxc/fKXv9SxY8d0zz336KGHHlJTU5MfEwEAAKewZcE6ffq0ioqKtHz5crndbg0fPlxZWVnauXOnJOnQoUOKiIjQggUL5HK5NHnyZM2ePdt7/PXXX9esWbOUmJiokJAQPfDAA4qMjNT%2B/fv9GQsAADiELQtWWVmZIiIiNHToUO/YyJEjVVFRoYsXL6qsrEyxsbE%2Bzxk1apRKS0slSeXl5V96HAAA4EbY8qcIGxoa5Ha7fcY6Hzc2Nl71eGhoqBobG6/5/CuP36jKykpVVVX5jLlcYYqOjjZy/k7Bwfbqxy5X99bbmctu%2Bfytu69vb3DyntkxE9da7/HndSY5f8%2BclMuWBSssLKzL56U6H3s8HrndbtXV1fkcb25ulsfjkXS5jDU3N3c5HhkZaWR9BQUF2rRpk89Ydna2cnJyjJzfriIjPT2aHx7uvv4kePX09e0N7Flg4FrrPYFwnUnO3TMn5bJlwYqJidH58%2Bd17tw5RUVFSZJOnjypYcOGadCgQYqNjdV7773n85zy8nLFxMR4n19WVtbl%2BNSpU42sLz09XdOnT/cZc7nCVFvbYOT8nezW9LubPzg4SOHhbl282KT29o5eXpVzmP771RNO3jO7XWcS11pv8ud1Jjl/z3ojl79KsS0L1ogRI5SYmKj169dr7dq1qq2t1ebNm5WWliZJSk1N1a9%2B9Stt375dCxYs0IkTJ7R3715t3rxZkpSWlqbs7GzNnDlTiYmJ2rlzp6qrq5WammpkfdHR0V3eDqyqqlNbm/Muhp7oaf729o6/%2BdesJwLhtWLPAgPXWu8JlNfJqXvmpFy2LFiSlJ%2Bfr7Vr12rGjBkKCgrS3LlzlZWVJUmKjIzUSy%2B9pHXr1ik/P1%2BDBw/WE088oUmTJkmSJk%2BerNWrV2vNmjX6/PPPNWrUKG3ZskURERH%2BjAQAABzCtgUrKipK%2Bfn51zweFxenX//619c8PmfOHM2ZM6c3lgYAAP7G2e/DBQAAAAGOggUAAGAYBQsAAMAwChYAAIBhFCwAAADDKFgAAACGUbAAAAAMo2ABAAAYRsECAAAwjIIFAABgGAULAADAMAoWAACAYRQsAAAAwyhYAAAAhlGwAAAADKNgAQAAGEbBAgAAMIyCBQAAYBgFCwAAwDAKFgAAgGEULAAAAMMoWAAAAIZRsAAAAAyjYAEAABhGwQIAADCMggUAAGAYBQsAAMAwChYAAIBhFCwAAADDKFgAAACGUbAAAAAMs23BKi0t1aJFizRx4kSlpKRoxYoVqqmpkSStXr1a48ePV0JCgveroKDA%2B9wtW7Zo6tSpio%2BPV0ZGhj755BPvscbGRq1cuVLJyclKTEzUihUr1NDQ0Of5AACAfdmyYDU3NyszM1MJCQn6/e9/r3379un8%2BfP62c9%2BJkkqKSlRbm6uiouLvV/p6emSpD179ujVV1/Vtm3bVFhYqHHjxiknJ0eWZUmScnNzdfbsWR08eFCHDh3S2bNnlZeX57esAADAfmxZsCoqKjRmzBhlZ2erf//%2BioyMVHp6uo4dO6aWlhZ9/PHHGj9%2B/FWf%2B9prr%2Bn%2B%2B%2B9XTEyMBgwYoIcfflgVFRUqLCxUU1OT9u7dq5ycHEVEROjmm2/WI488ot27d6upqamPUwIAALuyZcG67bbbtHXrVgUHB3vHDh48qHHjxqm0tFRtbW3Kz8/XN77xDd1111168cUX1dHRIUkqLy9XbGys93khISEaMWKESktLdfr0abW2tvocHzlypJqbm3Xq1Kk%2BywcAAOzN5e8F3CjLsrRx40a9%2B%2B672rFjh86dO6eJEycqIyNDTz/9tD766CNlZ2crKChImZmZamhokNvt9jlHaGioGhsbVV9fL0kKCwvzHuuc25PPYVVWVqqqqspnzOUKU3R09FeNeVXBwfbqxy5X99bbmctu%2Bfytu69vb3DyntkxE9da7/HndSY5f8%2BclMvWBau%2Bvl4rV67Uhx9%2BqB07dmj06NEaPXq0UlJSvHMmTJighQsXav/%2B/crMzJTb7VZzc7PPeZqbm%2BXxeLzFqqmpSR6Px/tnSRo4cGC311VQUKBNmzb5jGVnZysnJ%2Bcr5XSKyEhPj%2BaHh7uvPwlePX19ewN7Fhi41npPIFxnknP3zEm5bFuwzpw5o8WLF%2BtrX/uadu3apcGDB0uS3nnnHZ07d0733Xefd25LS4tCQ0MlSTExMSorK9O0adMkSa2trTp16pRiY2N16623KiQkROXl5br99tslSSdPnvS%2Bjdhd6enpmj59us%2BYyxWm2lqzP41ot6bf3fzBwUEKD3fr4sUmtbd39PKqnMP036%2BecPKe2e06k7jWepM/rzNOYYxtAAAMMUlEQVTJ%2BXvWG7n8VYptWbAuXLighQsXatKkSVq3bp2Cgv7vH0DLsrRhwwZ9/etf16RJk/SnP/1Jr7zyilauXClJmj9/vp577jlNnTpVt956q5555hlFRUUpKSlJISEhmjlzpvLy8vTss89KkvLy8nT33Xd7C1p3REdHd3k7sKqqTm1tzrsYeqKn%2BdvbO/7mX7OeCITXij0LDFxrvSdQXien7pmTctmyYO3evVsVFRU6cOCA3n77bZ9jxcXFWrlypdasWaPPP/9cUVFRWrJkiebMmSNJSktLU11dnbKzs1VTU6O4uDi98MILCgkJkXT5d2g9%2BeSTmj17tlpbWzVjxgytWrWqzzMCAAD7smXBWrRokRYtWnTN4/fdd5/PW4RX6tevn374wx/qhz/84VWPDxw4ULm5ucrNzTWyVgAA8LfHfh8uAAAACHAULAAAAMMoWAAAAIZRsAAAAAyjYAEAABhGwQIAADCMggUAAGAYBQsAAMAwChYAAIBhFCwAAADDKFgAAACGUbAAAAAMo2ABAAAYRsECAAAwjIIFAABgGAULAADAMAoWAACAYRQsAAAAwyhYAAAAhlGwAAAADKNgAQAAGEbBAgAAMIyCBQAAYBgFCwAAwDAKFgAAgGEULAAAAMMoWAAAAIZRsAAAAAyjYAEAABhGwQIAADCMggUAAGAYBesqqqurlZWVpaSkJCUnJ2vdunVqa2vz97IAAIBNULCuYunSpQoLC9ORI0e0a9cuHT16VNu3b/f3sgAAgE1QsL7g9OnTKioq0vLly%2BV2uzV8%2BHBlZWVp586d/l4aAACwCQrWF5SVlSkiIkJDhw71jo0cOVIVFRW6ePGiH1cGAADswuXvBQSahoYGud1un7HOx42NjQoPD7/uOSorK1VVVeUz5nKFKTo62txCJQUH26sfu1zdW29nLrvl87fuvr69wcl7ZsdMXGu9x5/XmeT8PXNSLgrWF4SFhampqclnrPOxx%2BPp1jkKCgq0adMmn7Gf/OQnWrJkiZlF/n%2BVlZVaOKxM6enpxsubP1VWVuo//mOr33MdX/dd4%2BesrKxUQUGB37OZFih71hucep1JgbFvXGc909M9643XtzdUVlbqueeec9SeOacqGhITE6Pz58/r3Llz3rGTJ09q2LBhGjRoULfOkZ6ert27d/t8paenG19rVVWVNm3a1OVumd05NZfk3GxOzSWRzY6cmktybjYn5uIO1heMGDFCiYmJWr9%2BvdauXava2lpt3rxZaWlp3T5HdHS0Yxo4AADoOe5gXUV%2Bfr7a2to0Y8YMff/739c3v/lNZWVl%2BXtZAADAJriDdRVRUVHKz8/39zIAAIBNBa9Zs2aNvxeBr87j8WjixInd/gC%2BXTg1l%2BTcbE7NJZHNjpyaS3JuNqfl6mdZluXvRQAAADgJn8ECAAAwjIIFAABgGAULAADAMAoWAACAYRQsAAAAwyhYAAAAhvGLRgF02wcffKD09HS53W7v2NixY7Vz504/rgoAAg8FC0C3lZSU6M4779Srr77q76UAQEDjLcIAV11draysLCUlJSk5OVnr1q1TW1vbVef%2B7ne/0%2BzZsxUfH6%2BZM2fq3Xff7ePVdl9PcmVmZiouLk4JCQner8OHD/fxim9cTU2NUlNTVVhYeM05gb6HJSUlGj9%2BvL%2BX0WtKS0u1aNEiTZw4USkpKVqxYoVqamquOjfQ90rqWR67XWdHjx7VvffeqzvuuEMpKSnKzc1Vc3PzVefaYa%2Bu1JNsdts3SWpvb1dGRoYee%2Byxa87Zs2ePUlNTFR8fr3nz5qm4uLgPV2iIhYD2z//8z9bDDz9sNTY2WmfOnLFmzZplbdmypcu8v/zlL1ZcXJz129/%2B1mptbbXeeusta8KECdZf//pXP6z6%2Brqby7IsKzk52SosLOzjFZp1/Phx6zvf%2BY4VGxtr/fGPf7zqHDvs4cyZM62MjAwrNTXVmjx5svXTn/7UOnv2rL%2BXZURTU5OVkpJiPfvss9alS5esmpoaa/Hixda//uu/dplrh73qSR7Lstd1Vl1dbcXFxVlvvPGG1d7ebn3%2B%2BefW3XffbT377LNd5tphr67Uk2yWZa9967Rx40ZrzJgx1qOPPnrV43/84x%2BthIQE6/jx41ZLS4v18ssvW8nJyVZjY2Mfr/TGcAcrgJ0%2BfVpFRUVavny53G63hg8frqysrKt%2B3mXPnj1KSkrSd77zHblcLn3ve9/TnXfeqYKCAj%2Bs/Mv1JNenn36qCxcuaOzYsX5YqRl79uzRI488omXLll13XiDvYXt7u6KjozVlyhS98cYb2rdvn/r166cHH3xQ7e3t/l7eDauoqNCYMWOUnZ2t/v37KzIyUunp6Tp27FiXuYG%2BV1LP8tjtOhs8eLD%2B8Ic/aN68eerXr5/Onz%2BvS5cuafDgwV3m2mGvrtSTbHbbN%2Bny3blDhw7pn/7pn6455/XXX9esWbOUmJiokJAQPfDAA4qMjNT%2B/fv7cKU3joIVwMrKyhQREaGhQ4d6x0aOHKmKigpdvHjRZ255ebliY2N9xkaNGqXS0tI%2BWWtP9CRXSUmJPB6Pli1bpkmTJunuu%2B/Wrl27%2BnrJN2TKlCn67W9/q%2B9973tfOi/Q9zA4OFjbt2/Xgw8%2BqEGDBmnw4MFatWqV/vznP%2BvkyZP%2BXt4Nu%2B2227R161YFBwd7xw4ePKhx48Z1mRvoeyX1LI8dr7OBAwdKkr71rW9p9uzZGjJkiObNm9dlnh326ou6m81u%2B1ZdXa3HH39cTz31lM8PynyRHffsaihYAayhoaHLX8LOx42NjdedGxoa2mVeIOhJrpaWFsXHx2vZsmU6cuSIHnvsMa1bt04HDhzos/XeqCFDhsjluv7PkwT6Hp49e1YbNmxQQ0ODd6ylpUXS5XU6iWVZeuaZZ/Tuu%2B/q8ccf73I80Pfqi66Xx87X2aFDh3T48GEFBQUpJyeny3G77dWVrpfNTvvW0dGh5cuXa9GiRRozZsyXzrXznl2JghXAwsLC1NTU5DPW%2Bdjj8fiMu93uLh%2BCbG5u7jIvEPQk19y5c7V161aNHTtWISEhmjJliubOnRuQ/4DcqEDfw8jISL311lt65plndOnSJdXU1OjnP/%2B5Jk%2BerFtuucXfyzOmvr5eOTk52rt3r3bs2KHRo0d3mRPoe3Wl7uSx83UWGhqqoUOHavny5Tpy5IguXLjgc9xOe/VF18tmp3174YUX1L9/f2VkZFx3rp337EoUrAAWExOj8%2BfP69y5c96xkydPatiwYRo0aJDP3NjYWJWVlfmMlZeXKyYmpk/W2hM9ybVr164u/1i0tLRowIABfbLWvhToexgaGqqtW7fq5MmTmjJliu666y4NGjRIGzdu9PfSjDlz5ozmz5%2Bv%2Bvp67dq166plRAr8verU3Tx2u87ef/99ffe73/XeQZUurzckJKTLnQ%2B77FWnnmSz0769%2BeabKioqUlJSkpKSkrRv3z7t27dPSUlJXebGxMTYas%2Buyd%2BfsseX%2B8EPfmAtW7bMqqur8/60XX5%2Bfpd55eXlVlxcnPXWW295f1ImLi7O%2BuSTT/yw6uvrbq6XX37Zmjx5svXhhx9a7e3t1rvvvmtNmDDBOnbsmB9WfeO%2B7KcI7baHTnP%2B/Hnr29/%2BtvXYY49Z7e3tXzrXDnvVkzx2u87q6%2Butb33rW9b69eutS5cuWZ999pmVlpZmrV69ustcO%2BzVlXqSzW77dqVHH330mj9F%2BIc//MFKSEiwjh496v0pwjvvvNOqra3t41XeGApWgKuqqrKWLFliTZw40Zo0aZL1y1/%2B0mpra7Msy7Li4%2BOtN9980zv38OHD1j333GPFx8dbs2bNsv7rv/7LX8u%2Bru7m6ujosP7t3/7NmjZtmjVhwgRr1qxZ1oEDB/y59BvyxYJl5z10mpdeesmKjY21br/9dis%2BPt7ny7Lst1c9yWPH66ysrMxatGiRlZSUZE2bNs16%2BumnrUuXLlmWZb%2B9%2BqLuZrPjvnW6smD97//%2BrxUfH%2B9TDP/zP//Tuuuuu6z4%2BHgrLS3N%2BtOf/uSvpX5l/SzLsvx9Fw0AAMBJ%2BAwWAACAYRQsAAAAwyhYAAAAhlGwAAAADKNgAQAAGEbBAgAAMIyCBQAAYBgFCwAAwDAKFgAAgGEULAAAAMMoWAAAAIZRsAAAAAyjYAEAABhGwQIAADCMggUAAGDY/wND%2B5OIHdjaEQAAAABJRU5ErkJggg%3D%3D\"/>\n",
       "        </div>\n",
       "        <div role=\"tabpanel\" class=\"tab-pane col-md-12\" id=\"common-3725282452177683889\">\n",
       "            \n",
       "<table class=\"freq table table-hover\">\n",
       "    <thead>\n",
       "    <tr>\n",
       "        <td class=\"fillremaining\">Value</td>\n",
       "        <td class=\"number\">Count</td>\n",
       "        <td class=\"number\">Frequency (%)</td>\n",
       "        <td style=\"min-width:200px\">&nbsp;</td>\n",
       "    </tr>\n",
       "    </thead>\n",
       "    <tr class=\"\">\n",
       "        <td class=\"fillremaining\">0</td>\n",
       "        <td class=\"number\">18517</td>\n",
       "        <td class=\"number\">44.5%</td>\n",
       "        <td>\n",
       "            <div class=\"bar\" style=\"width:100%\">&nbsp;</div>\n",
       "        </td>\n",
       "</tr><tr class=\"\">\n",
       "        <td class=\"fillremaining\">3</td>\n",
       "        <td class=\"number\">5954</td>\n",
       "        <td class=\"number\">14.3%</td>\n",
       "        <td>\n",
       "            <div class=\"bar\" style=\"width:32%\">&nbsp;</div>\n",
       "        </td>\n",
       "</tr><tr class=\"\">\n",
       "        <td class=\"fillremaining\">4</td>\n",
       "        <td class=\"number\">5877</td>\n",
       "        <td class=\"number\">14.1%</td>\n",
       "        <td>\n",
       "            <div class=\"bar\" style=\"width:32%\">&nbsp;</div>\n",
       "        </td>\n",
       "</tr><tr class=\"\">\n",
       "        <td class=\"fillremaining\">1</td>\n",
       "        <td class=\"number\">5861</td>\n",
       "        <td class=\"number\">14.1%</td>\n",
       "        <td>\n",
       "            <div class=\"bar\" style=\"width:32%\">&nbsp;</div>\n",
       "        </td>\n",
       "</tr><tr class=\"\">\n",
       "        <td class=\"fillremaining\">2</td>\n",
       "        <td class=\"number\">5405</td>\n",
       "        <td class=\"number\">13.0%</td>\n",
       "        <td>\n",
       "            <div class=\"bar\" style=\"width:29%\">&nbsp;</div>\n",
       "        </td>\n",
       "</tr>\n",
       "</table>\n",
       "        </div>\n",
       "        <div role=\"tabpanel\" class=\"tab-pane col-md-12\"  id=\"extreme-3725282452177683889\">\n",
       "            <p class=\"h4\">Minimum 5 values</p>\n",
       "            \n",
       "<table class=\"freq table table-hover\">\n",
       "    <thead>\n",
       "    <tr>\n",
       "        <td class=\"fillremaining\">Value</td>\n",
       "        <td class=\"number\">Count</td>\n",
       "        <td class=\"number\">Frequency (%)</td>\n",
       "        <td style=\"min-width:200px\">&nbsp;</td>\n",
       "    </tr>\n",
       "    </thead>\n",
       "    <tr class=\"\">\n",
       "        <td class=\"fillremaining\">0</td>\n",
       "        <td class=\"number\">18517</td>\n",
       "        <td class=\"number\">44.5%</td>\n",
       "        <td>\n",
       "            <div class=\"bar\" style=\"width:100%\">&nbsp;</div>\n",
       "        </td>\n",
       "</tr><tr class=\"\">\n",
       "        <td class=\"fillremaining\">1</td>\n",
       "        <td class=\"number\">5861</td>\n",
       "        <td class=\"number\">14.1%</td>\n",
       "        <td>\n",
       "            <div class=\"bar\" style=\"width:32%\">&nbsp;</div>\n",
       "        </td>\n",
       "</tr><tr class=\"\">\n",
       "        <td class=\"fillremaining\">2</td>\n",
       "        <td class=\"number\">5405</td>\n",
       "        <td class=\"number\">13.0%</td>\n",
       "        <td>\n",
       "            <div class=\"bar\" style=\"width:29%\">&nbsp;</div>\n",
       "        </td>\n",
       "</tr><tr class=\"\">\n",
       "        <td class=\"fillremaining\">3</td>\n",
       "        <td class=\"number\">5954</td>\n",
       "        <td class=\"number\">14.3%</td>\n",
       "        <td>\n",
       "            <div class=\"bar\" style=\"width:32%\">&nbsp;</div>\n",
       "        </td>\n",
       "</tr><tr class=\"\">\n",
       "        <td class=\"fillremaining\">4</td>\n",
       "        <td class=\"number\">5877</td>\n",
       "        <td class=\"number\">14.1%</td>\n",
       "        <td>\n",
       "            <div class=\"bar\" style=\"width:32%\">&nbsp;</div>\n",
       "        </td>\n",
       "</tr>\n",
       "</table>\n",
       "            <p class=\"h4\">Maximum 5 values</p>\n",
       "            \n",
       "<table class=\"freq table table-hover\">\n",
       "    <thead>\n",
       "    <tr>\n",
       "        <td class=\"fillremaining\">Value</td>\n",
       "        <td class=\"number\">Count</td>\n",
       "        <td class=\"number\">Frequency (%)</td>\n",
       "        <td style=\"min-width:200px\">&nbsp;</td>\n",
       "    </tr>\n",
       "    </thead>\n",
       "    <tr class=\"\">\n",
       "        <td class=\"fillremaining\">0</td>\n",
       "        <td class=\"number\">18517</td>\n",
       "        <td class=\"number\">44.5%</td>\n",
       "        <td>\n",
       "            <div class=\"bar\" style=\"width:100%\">&nbsp;</div>\n",
       "        </td>\n",
       "</tr><tr class=\"\">\n",
       "        <td class=\"fillremaining\">1</td>\n",
       "        <td class=\"number\">5861</td>\n",
       "        <td class=\"number\">14.1%</td>\n",
       "        <td>\n",
       "            <div class=\"bar\" style=\"width:32%\">&nbsp;</div>\n",
       "        </td>\n",
       "</tr><tr class=\"\">\n",
       "        <td class=\"fillremaining\">2</td>\n",
       "        <td class=\"number\">5405</td>\n",
       "        <td class=\"number\">13.0%</td>\n",
       "        <td>\n",
       "            <div class=\"bar\" style=\"width:29%\">&nbsp;</div>\n",
       "        </td>\n",
       "</tr><tr class=\"\">\n",
       "        <td class=\"fillremaining\">3</td>\n",
       "        <td class=\"number\">5954</td>\n",
       "        <td class=\"number\">14.3%</td>\n",
       "        <td>\n",
       "            <div class=\"bar\" style=\"width:32%\">&nbsp;</div>\n",
       "        </td>\n",
       "</tr><tr class=\"\">\n",
       "        <td class=\"fillremaining\">4</td>\n",
       "        <td class=\"number\">5877</td>\n",
       "        <td class=\"number\">14.1%</td>\n",
       "        <td>\n",
       "            <div class=\"bar\" style=\"width:32%\">&nbsp;</div>\n",
       "        </td>\n",
       "</tr>\n",
       "</table>\n",
       "        </div>\n",
       "    </div>\n",
       "</div>\n",
       "</div><div class=\"row variablerow\">\n",
       "    <div class=\"col-md-3 namecol\">\n",
       "        <p class=\"h4 pp-anchor\" id=\"pp_var_ping_count\">ping_count<br/>\n",
       "            <small>Numeric</small>\n",
       "        </p>\n",
       "    </div><div class=\"col-md-6\">\n",
       "    <div class=\"row\">\n",
       "        <div class=\"col-sm-6\">\n",
       "            <table class=\"stats \">\n",
       "                <tr>\n",
       "                    <th>Distinct count</th>\n",
       "                    <td>2510</td>\n",
       "                </tr>\n",
       "                <tr>\n",
       "                    <th>Unique (%)</th>\n",
       "                    <td>6.0%</td>\n",
       "                </tr>\n",
       "                <tr class=\"ignore\">\n",
       "                    <th>Missing (%)</th>\n",
       "                    <td>0.0%</td>\n",
       "                </tr>\n",
       "                <tr class=\"ignore\">\n",
       "                    <th>Missing (n)</th>\n",
       "                    <td>0</td>\n",
       "                </tr>\n",
       "                <tr class=\"ignore\">\n",
       "                    <th>Infinite (%)</th>\n",
       "                    <td>0.0%</td>\n",
       "                </tr>\n",
       "                <tr class=\"ignore\">\n",
       "                    <th>Infinite (n)</th>\n",
       "                    <td>0</td>\n",
       "                </tr>\n",
       "            </table>\n",
       "\n",
       "        </div>\n",
       "        <div class=\"col-sm-6\">\n",
       "            <table class=\"stats \">\n",
       "\n",
       "                <tr>\n",
       "                    <th>Mean</th>\n",
       "                    <td>1210.9</td>\n",
       "                </tr>\n",
       "                <tr>\n",
       "                    <th>Minimum</th>\n",
       "                    <td>1</td>\n",
       "                </tr>\n",
       "                <tr>\n",
       "                    <th>Maximum</th>\n",
       "                    <td>2585</td>\n",
       "                </tr>\n",
       "                <tr class=\"ignore\">\n",
       "                    <th>Zeros (%)</th>\n",
       "                    <td>0.0%</td>\n",
       "                </tr>\n",
       "            </table>\n",
       "        </div>\n",
       "    </div>\n",
       "</div>\n",
       "<div class=\"col-md-3 collapse in\" id=\"minihistogram5342360503036434445\">\n",
       "    <img src=\"data:image/png;base64,iVBORw0KGgoAAAANSUhEUgAAAMgAAABLCAYAAAA1fMjoAAAABHNCSVQICAgIfAhkiAAAAAlwSFlzAAAPYQAAD2EBqD%2BnaQAAADl0RVh0U29mdHdhcmUAbWF0cGxvdGxpYiB2ZXJzaW9uIDMuMC4yLCBodHRwOi8vbWF0cGxvdGxpYi5vcmcvOIA7rQAAATFJREFUeJzt28FNAzEARUGCUhJF0BNneqIIejINoCcW5KzxzpwjxZenn1XWtzHGeAK%2B9Xz2AWBl97MPwN%2B9vH0c%2Bvzn%2B%2Bukk%2BzHgkAQCASBQPAMcsAjfusf/Q7msiAQLMhE1uD/syAQLMgF/WbZrvrfiQWBcNkF8XzAT1gQCFssiDVgFgsCQSAQBAJBIBAEAkEgEAQCQSAQBAJBIBAEAmGLd7GY76p3SCwIhOUWxJu5rMSCQBAIBIFAEAgEgUAQCASBQBAIBIFAEAgEgUAQCASBQBAIBIFAWO4%2BCPvY4RaiBYEgEAgCgSAQCLcxxjj7ELAqCwJBIBAEAkEgEAQCQSAQBAJBIBAEAkEgEAQCQSAQBAJBIBAEAkEgEAQCQSAQBAJBIBAEAkEgEAQCQSAQBALhCzhpHqJpqhuCAAAAAElFTkSuQmCC\">\n",
       "\n",
       "</div>\n",
       "<div class=\"col-md-12 text-right\">\n",
       "    <a role=\"button\" data-toggle=\"collapse\" data-target=\"#descriptives5342360503036434445,#minihistogram5342360503036434445\"\n",
       "       aria-expanded=\"false\" aria-controls=\"collapseExample\">\n",
       "        Toggle details\n",
       "    </a>\n",
       "</div>\n",
       "<div class=\"row collapse col-md-12\" id=\"descriptives5342360503036434445\">\n",
       "    <ul class=\"nav nav-tabs\" role=\"tablist\">\n",
       "        <li role=\"presentation\" class=\"active\"><a href=\"#quantiles5342360503036434445\"\n",
       "                                                  aria-controls=\"quantiles5342360503036434445\" role=\"tab\"\n",
       "                                                  data-toggle=\"tab\">Statistics</a></li>\n",
       "        <li role=\"presentation\"><a href=\"#histogram5342360503036434445\" aria-controls=\"histogram5342360503036434445\"\n",
       "                                   role=\"tab\" data-toggle=\"tab\">Histogram</a></li>\n",
       "        <li role=\"presentation\"><a href=\"#common5342360503036434445\" aria-controls=\"common5342360503036434445\"\n",
       "                                   role=\"tab\" data-toggle=\"tab\">Common Values</a></li>\n",
       "        <li role=\"presentation\"><a href=\"#extreme5342360503036434445\" aria-controls=\"extreme5342360503036434445\"\n",
       "                                   role=\"tab\" data-toggle=\"tab\">Extreme Values</a></li>\n",
       "\n",
       "    </ul>\n",
       "\n",
       "    <div class=\"tab-content\">\n",
       "        <div role=\"tabpanel\" class=\"tab-pane active row\" id=\"quantiles5342360503036434445\">\n",
       "            <div class=\"col-md-4 col-md-offset-1\">\n",
       "                <p class=\"h4\">Quantile statistics</p>\n",
       "                <table class=\"stats indent\">\n",
       "                    <tr>\n",
       "                        <th>Minimum</th>\n",
       "                        <td>1</td>\n",
       "                    </tr>\n",
       "                    <tr>\n",
       "                        <th>5-th percentile</th>\n",
       "                        <td>231</td>\n",
       "                    </tr>\n",
       "                    <tr>\n",
       "                        <th>Q1</th>\n",
       "                        <td>713</td>\n",
       "                    </tr>\n",
       "                    <tr>\n",
       "                        <th>Median</th>\n",
       "                        <td>1224</td>\n",
       "                    </tr>\n",
       "                    <tr>\n",
       "                        <th>Q3</th>\n",
       "                        <td>1727</td>\n",
       "                    </tr>\n",
       "                    <tr>\n",
       "                        <th>95-th percentile</th>\n",
       "                        <td>2161</td>\n",
       "                    </tr>\n",
       "                    <tr>\n",
       "                        <th>Maximum</th>\n",
       "                        <td>2585</td>\n",
       "                    </tr>\n",
       "                    <tr>\n",
       "                        <th>Range</th>\n",
       "                        <td>2584</td>\n",
       "                    </tr>\n",
       "                    <tr>\n",
       "                        <th>Interquartile range</th>\n",
       "                        <td>1014</td>\n",
       "                    </tr>\n",
       "                </table>\n",
       "            </div>\n",
       "            <div class=\"col-md-4 col-md-offset-2\">\n",
       "                <p class=\"h4\">Descriptive statistics</p>\n",
       "                <table class=\"stats indent\">\n",
       "                    <tr>\n",
       "                        <th>Standard deviation</th>\n",
       "                        <td>609.61</td>\n",
       "                    </tr>\n",
       "                    <tr>\n",
       "                        <th>Coef of variation</th>\n",
       "                        <td>0.50344</td>\n",
       "                    </tr>\n",
       "                    <tr>\n",
       "                        <th>Kurtosis</th>\n",
       "                        <td>-1.0468</td>\n",
       "                    </tr>\n",
       "                    <tr>\n",
       "                        <th>Mean</th>\n",
       "                        <td>1210.9</td>\n",
       "                    </tr>\n",
       "                    <tr>\n",
       "                        <th>MAD</th>\n",
       "                        <td>522.37</td>\n",
       "                    </tr>\n",
       "                    <tr class=\"\">\n",
       "                        <th>Skewness</th>\n",
       "                        <td>-0.043185</td>\n",
       "                    </tr>\n",
       "                    <tr>\n",
       "                        <th>Sum</th>\n",
       "                        <td>50390265</td>\n",
       "                    </tr>\n",
       "                    <tr>\n",
       "                        <th>Variance</th>\n",
       "                        <td>371630</td>\n",
       "                    </tr>\n",
       "                    <tr>\n",
       "                        <th>Memory size</th>\n",
       "                        <td>650.2 KiB</td>\n",
       "                    </tr>\n",
       "                </table>\n",
       "            </div>\n",
       "        </div>\n",
       "        <div role=\"tabpanel\" class=\"tab-pane col-md-8 col-md-offset-2\" id=\"histogram5342360503036434445\">\n",
       "            <img src=\"data:image/png;base64,iVBORw0KGgoAAAANSUhEUgAAAlgAAAGQCAYAAAByNR6YAAAABHNCSVQICAgIfAhkiAAAAAlwSFlzAAAPYQAAD2EBqD%2BnaQAAADl0RVh0U29mdHdhcmUAbWF0cGxvdGxpYiB2ZXJzaW9uIDMuMC4yLCBodHRwOi8vbWF0cGxvdGxpYi5vcmcvOIA7rQAAIABJREFUeJzt3X9QlPeBx/GPsKssILKKmFybjp5AeolGCCgxNrQhkpQoqSUY5sIxMTNnOkql3Cg2Bm1yZfw1kjMmnE6aGr0m3BRN5FJbUknvTPSsRc156qUhgjlM5iSykR8i7ArCc39k2GTrL4xfWBberxkn4fk%2Bu/t9vq487/0FIyzLsgQAAABjgvw9AQAAgKGGwAIAADCMwAIAADCMwAIAADCMwAIAADCMwAIAADCMwAIAADCMwAIAADCMwAIAADCMwAIAADCMwAIAADCMwAIAADCMwAIAADCMwAIAADCMwAIAADCMwAIAADCMwAIAADCMwAIAADCMwAIAADCMwAIAADCMwAIAADCMwAIAADCMwAIAADCMwAIAADCMwAIAADCMwAIAADCMwAIAADCMwAIAADCMwAIAADCMwAIAADCMwAIAADCMwAIAADCMwAIAADCMwAIAADCMwAIAADCMwAIAADCMwAIAADCMwAIAADCMwAIAADDM5u8JDBcuV5vx6wwKGqGxY8PU1NSunh7L%2BPUPN6yneaypWaynWayneYNxTcePH%2B2X2%2BUZrAAWFDRCI0aMUFDQCH9PZUhgPc1jTc1iPc1iPc1jTb9EYAEAABgWsIHV0tKi5cuXKzk5WdOnT9fixYvV2NgoSTp27Jjmz5%2BvhIQEpaamaufOnT6XraioUFpamuLj45WZmamjR496x7q7u7V%2B/Xrde%2B%2B9SkhI0KJFi7zXCwAA0BcBG1hLlixRR0eH3nnnHe3du1fBwcFatWqVWltb9dRTT2nevHk6fPiwVq9erbVr1%2Br48eOSpOrqahUXF2vdunU6fPiwHnnkES1atEhut1uStGXLFh04cEBvvvmm9u/fr5CQEK1cudKfhwoAAAJMQAbW//zP/%2BjYsWNat26dIiIiFB4eruLiYi1btkxVVVWKjIxUTk6ObDabZs6cqYyMDJWVlUmSdu7cqTlz5igxMVF2u10LFiyQ0%2BlUZWWld3zhwoW69dZbFR4erqKiIu3bt0%2BffvqpPw8ZAAAEkIAMrOPHjysmJkY7duxQWlqavvOd72j9%2BvUaP368amtrFRcX57N/TEyMampqJEl1dXVXHW9ra9Nnn33mMx4VFaUxY8boo48%2B6v8DAwAAQ0JA/piG1tZWffTRR5oyZYoqKirk8Xi0fPly/fSnP1VUVJQcDofP/iEhIero6JAktbe3X3W8vb1dkhQaGnrZeO9YXzQ2Nsrlcvlss9lCFR0d3efr6Ivg4CCf/%2BLmsJ7msaZmsZ5msZ7msaZfCsjAGjlypCSpqKhIo0aNUnh4uAoKCvTYY48pMzNTHo/HZ3%2BPx6OwsDBJksPhuOK40%2Bn0hlfv%2B7GudPm%2BKC8vV2lpqc%2B2vLw85efn9/k6bkREhOP6O6HPWE/zWFOzWE%2BzWE/zWNMADayYmBj19PSoq6tLo0aNkiT19PRIkv7mb/5G//qv/%2Bqzf11dnWJjYyVJsbGxqq2tvWw8JSVFY8aM0YQJE3xeRnS5XGppabnsZcVryc7OVmpqqs82my1Uzc19fxasL4KDgxQR4dD58251d/cYve7hiPU0jzU1i/U0i/U0bzCuqdPZ9ydITArIwLr33nt122236ZlnntHatWt18eJFbdy4UbNnz9bcuXP14osvavv27crJydH777%2Bv3bt3a/PmzZKkrKws5eXlKT09XYmJiSorK9O5c%2BeUlpYmScrMzNSWLVs0depUOZ1OrVmzRjNmzNC3vvWtPs8vOjr6spcDXa42XbrUP3e27u6efrvu4Yj1NI81NYv1NIv1NI81lUZYljU4fpb9DTp79qz3Ry1cvHhRqampKioqUkREhE6cOKHVq1fr5MmTGjt2rBYvXqzMzEzvZd966y1t2bJFZ8%2BeVUxMjFauXKlp06ZJkrq6urRp0yb95je/UXt7u5KTk1VcXKxx48bd1Hz741fl2GxBcjrD1NzcPuzvyCawnuaxpmaxnmaxnuYNxjX116/KCdjACjQE1uDHeprHmprFeprFepo3GNeU30UIAAAwRBBYAAAAhgXkm9wBAFeX/sIBf0%2Bhz94umOXvKQD9gmewAAAADCOwAAAADCOwAAAADCOwAAAADCOwAAAADCOwAAAADCOwAAAADCOwAAAADCOwAAAADCOwAAAADCOwAAAADCOwAAAADCOwAAAADCOwAAAADCOwAAAADCOwAAAADCOwAAAADCOwAAAADCOwAAAADCOwAAAADCOwAAAADLP5ewIAzEh/4YC/p9BnbxfM8vcUAKBf8QwWAACAYQQWAACAYQQWAACAYQQWAACAYbzJHQCuI5A%2BQABgcOAZLAAAAMMILAAAAMMILAAAAMMILAAAAMMILAAAAMMILAAAAMMILAAAAMMILAAAAMMILAAAAMMILAAAAMP4VTkABhy/egbAUMczWAAAAIYFbGBVVlbqjjvuUEJCgvdPYWGhJOm9995TRkaG4uPjlZ6err179/pc9pVXXlFKSori4%2BOVm5urjz/%2B2DvW0dGhFStWKDk5WYmJiVq%2BfLna29sH9NgAAEBgC9jAOnHihH7wgx/o6NGj3j8bNmxQfX29lixZop/85Cc6cuSIlixZooKCAp09e1aSVFFRoddee01bt25VdXW17rzzTuXn58uyLElScXGxGhoatGfPHlVVVamhoUElJSX%2BPFQAABBgAjqwpkyZctn2iooKJSUlafbs2bLZbHr44Yc1ffp0lZeXS5J27Nihxx9/XLGxsRo1apSWLl2qM2fOqLq6Wm63W7t371Z%2Bfr4iIyM1btw4LVu2TLt27ZLb7R7oQwQAAAEqIAOrp6dHH3zwgd59913df//9SklJ0apVq9Ta2qq6ujrFxcX57B8TE6OamhpJumzcbrdr4sSJqqmp0enTp9XV1eUzPnnyZHk8HtXX1w/IsQEAgMAXkJ8ibGpq0h133KGHHnpIL774opqbm/XTn/5UhYWF6uzslMPh8Nk/JCREHR0dkqT29varjl%2B4cEGSFBoa6h3r3fdG3ofV2Ngol8vls81mC1V0dHTfD7IPgoODfP6Lm8N6AgPPZvPfvzf%2BzZvHmn4pIAMrKipKZWVl3q8dDocKCwv12GOPKTk5WR6Px2d/j8ejsLAw775XG%2B8NK7fb7d2/96XB8PDwPs%2BvvLxcpaWlPtvy8vKUn5/f5%2Bu4ERERjuvvhD5jPYGB43SG%2BXsK/JvvB6xpgAZWTU2Nfvvb32rp0qUaMWKEJKmzs1NBQUG666679OGHH/rsX1dX532/VmxsrGpra3X//fdLkrq6ulRfX6%2B4uDhNmjRJdrtddXV1mjZtmiTp1KlT3pcR%2Byo7O1upqak%2B22y2UDU3m/00YnBwkCIiHDp/3q3u7h6j1z0csZ7AwDP9ffFG8G/evMG4pv6K%2BIAMrMjISJWVlWnMmDF68skn1djYqA0bNuiHP/yh5s2bp3/5l39RZWWlHnzwQVVVVenQoUMqKiqSJD366KN66aWXlJKSokmTJmnjxo2KiopSUlKS7Ha70tPTVVJSok2bNkmSSkpKNHfuXIWEhPR5ftHR0Ze9HOhytenSpf65s3V39/TbdQ9HrCcwcAbDvzX%2BzZvHmkojrN6fTxBgDh06pH/6p3/SyZMnNWrUKM2ZM0eFhYUaNWqU9u/fr5KSEn3yySf6xje%2BocLCQn33u9%2BVJFmWpW3btqmsrExNTU2aOnWq/vEf/1GTJk2SJF24cEHr16/Xf/zHf6irq0sPPPCAVq1a5fO%2BrK/D5Wq76WP%2BSzZbkJzOMDU3tw/7O7IJgb6e/HR0oP%2B9XTDL31MY1Abj99Hx40f75XYDNrACDYE1%2BAX6ehJYQP8jsK5tMH4f9Vdg8TZ/AAAAwwgsAAAAwwgsAAAAwwgsAAAAwwgsAAAAwwgsAAAAwwgsAAAAwwgsAAAAwwgsAAAAwwgsAAAAwwgsAAAAwwgsAAAAwwgsAAAAwwgsAAAAwwgsAAAAwwgsAAAAw2z%2BngAwWKW/cMDfUwAABCiewQIAADCMwAIAADCMwAIAADCMwAIAADCMwAIAADCMwAIAADCMwAIAADCMwAIAADCMwAIAADCMwAIAADCMX5WDAcOvngEADBc8gwUAAGAYgQUAAGAYgQUAAGAYgQUAAGAYgQUAAGAYgQUAAGAYgQUAAGAYgQUAAGAYgQUAAGAYgQUAAGAYgQUAAGAYgQUAAGAYgQUAAGAYgQUAAGBYwAdWd3e3cnNz9fTTT3u3vffee8rIyFB8fLzS09O1d%2B9en8u88sorSklJUXx8vHJzc/Xxxx97xzo6OrRixQolJycrMTFRy5cvV3t7%2B4AdDwAACHwBH1ilpaU6cuSI9%2Bv6%2BnotWbJEP/nJT3TkyBEtWbJEBQUFOnv2rCSpoqJCr732mrZu3arq6mrdeeedys/Pl2VZkqTi4mI1NDRoz549qqqqUkNDg0pKSvxybAAAIDAFdGAdPHhQVVVVevDBB73bKioqlJSUpNmzZ8tms%2Bnhhx/W9OnTVV5eLknasWOHHn/8ccXGxmrUqFFaunSpzpw5o%2Brqarndbu3evVv5%2BfmKjIzUuHHjtGzZMu3atUtut9tfhwkAAAJMwAbWuXPnVFRUpOeff14Oh8O7va6uTnFxcT77xsTEqKam5orjdrtdEydOVE1NjU6fPq2uri6f8cmTJ8vj8ai%2Bvr5/DwgAAAwZNn9P4Ovo6elRYWGhnnzySX3729/2GWtvb/cJLkkKCQlRR0fHdccvXLggSQoNDfWO9e57I%2B/DamxslMvl8tlms4UqOjq6z9fRF8HBQT7/BQD0L5uN77fXwnnpSwEZWC%2B//LJGjhyp3Nzcy8YcDoc8Ho/PNo/Ho7CwsOuO94aV2%2B327t/70mB4eHif51deXq7S0lKfbXl5ecrPz%2B/zddyIiAjH9XcCANw0pzPM31MICJyXAjSw3nrrLTU2NiopKUmSvMH0hz/8QTk5Ofrggw989q%2Brq9OUKVMkSbGxsaqtrdX9998vSerq6lJ9fb3i4uI0adIk2e121dXVadq0aZKkU6dOeV9G7Kvs7Gylpqb6bLPZQtXcbPbTiMHBQYqIcOj8ebe6u3uMXjcA4HKmv48PNYPxvOSvKA7IwPr973/v83Xvj2hYt26dTp06pW3btqmyslIPPvigqqqqdOjQIRUVFUmSHn30Ub300ktKSUnRpEmTtHHjRkVFRSkpKUl2u13p6ekqKSnRpk2bJEklJSWaO3euQkJC%2Bjy/6Ojoy14OdLnadOlS/9zZurt7%2Bu26AQBf4ntt33BeCtDAupbJkyfrn//5n1VSUqKioiJ94xvf0EsvvaRJkyZJkrKystTW1qa8vDw1NTVp6tSpevnll2W32yVJzz77rNavX6%2BMjAx1dXXpgQce0KpVq/x5SAAAIMCMsHp/ABT6lcvVZvw6bbYgOZ1ham5uD4hHCukvHPD3FADgprxdMMvfUxjUBuN5afz40X65Xd7mDwAAYBiBBQAAYBiBBQAAYBiBBQAAYBiBBQAAYBiBBQAAYBiBBQAAYBiBBQAAYBiBBQAAYBiBBQAAYBiBBQAAYBiBBQAAYBiBBQAAYBiBBQAAYBiBBQAAYBiBBQAAYBiBBQAAYBiBBQAAYBiBBQAAYBiBBQAAYBiBBQAAYBiBBQAAYBiBBQAAYBiBBQAAYBiBBQAAYBiBBQAAYBiBBQAAYBiBBQAAYBiBBQAAYBiBBQAAYBiBBQAAYBiBBQAAYBiBBQAAYBiBBQAAYBiBBQAAYBiBBQAAYBiBBQAAYBiBBQAAYBiBBQAAYBiBBQAAYBiBBQAAYBiBBQAAYFjABtbBgwc1f/583X333Zo1a5aKi4vl8XgkSceOHdP8%2BfOVkJCg1NRU7dy50%2BeyFRUVSktLU3x8vDIzM3X06FHvWHd3t9avX697771XCQkJWrRokRobGwf02AAAQGALyMBqamrSj370I/3t3/6tjhw5ooqKCh06dEi/%2BMUv1Nraqqeeekrz5s3T4cOHtXr1aq1du1bHjx%2BXJFVXV6u4uFjr1q3T4cOH9cgjj2jRokVyu92SpC1btujAgQN68803tX//foWEhGjlypX%2BPFwAABBgAjKwxo4dqz/%2B8Y/KzMzUiBEj1NLSoosXL2rs2LGqqqpSZGSkcnJyZLPZNHPmTGVkZKisrEyStHPnTs2ZM0eJiYmy2%2B1asGCBnE6nKisrveMLFy7UrbfeqvDwcBUVFWnfvn369NNP/XnIAAAggARkYElSeHi4JOm73/2uMjIyNH78eGVmZqq2tlZxcXE%2B%2B8bExKimpkaSVFdXd9XxtrY2ffbZZz7jUVFRGjNmjD766KN%2BPiIAADBU2Pw9gZtVVVWl1tZWLVu2TPn5%2BZowYYIcDofPPiEhIero6JAktbe3X3W8vb1dkhQaGnrZeO9YXzQ2Nsrlcvlss9lCFR0d3efr6Ivg4CCf/wIA%2BpfNxvfba%2BG89KWAD6yQkBCFhISosLBQ8%2BfPV25urtra2nz28Xg8CgsLkyQ5HA7vm%2BG/Ou50Or3h1ft%2BrCtdvi/Ky8tVWlrqsy0vL0/5%2Bfl9vo4bERHhuP5OAICb5nT2/VwwnHFeCtDA%2Bq//%2Bi8988wz%2Bs1vfqORI0dKkjo7O2W32xUTE6MDBw747F9XV6fY2FhJUmxsrGpray8bT0lJ0ZgxYzRhwgSflxFdLpdaWloue1nxWrKzs5WamuqzzWYLVXNz358F64vg4CBFRDh0/rxb3d09Rq8bAHA509/Hh5rBeF7yVxQHZGDdfvvt8ng8ev7557V06VK5XC6tX79eWVlZeuihh/T8889r%2B/btysnJ0fvvv6/du3dr8%2BbNkqSsrCzl5eUpPT1diYmJKisr07lz55SWliZJyszM1JYtWzR16lQ5nU6tWbNGM2bM0Le%2B9a0%2Bzy86OvqylwNdrjZdutQ/d7bu7p5%2Bu24AwJf4Xts3nJcCNLDCwsL0y1/%2BUmvWrNGsWbM0evRoZWRkKC8vTyNHjtSrr76q1atX68UXX9TYsWO1cuVK3XPPPZKkmTNn6tlnn9Vzzz2ns2fPKiYmRq%2B88ooiIyMlffFS3qVLl5STk6P29nYlJyfrhRde8OfhAgCAADPCsizL35MYDlyutuvvdINstiA5nWFqbm4PiEcK6S8cuP5OADCIvV0wy99TGNQG43lp/PjRfrld3uYPAABgGIEFAABgGIEFAABgGIEFAABgWEB%2BihAAAH8ItA/r8KZ8/%2BEZLAAAAMMILAAAAMMILAAAAMMILAAAAMMILAAAAMMILAAAAMMILAAAAMMILAAAAMMILAAAAMMILAAAAMP4VTkBLqno9/6eAgAA%2BAs8gwUAAGAYgQUAAGAYgQUAAGAYgQUAAGAYgQUAAGAYgQUAAGAYgQUAAGAYgQUAAGAYgQUAAGAYgQUAAGAYgQUAAGAYgQUAAGAYgQUAAGAYgQUAAGAYgQUAAGAYgQUAAGAYgQUAAGAYgQUAAGAYgQUAAGAYgQUAAGAYgQUAAGAYgQUAAGAYgQUAAGAYgQUAAGAYgQUAAGAYgQUAAGAYgQUAAGAYgQUAAGAYgQUAAGAYgQUAAGCYzd8TGIoaGxvlcrl8ttlsoYqOjjZ6O8HB9DEA4OpstoE9T/Selzg/EVj9ory8XKWlpT7b8vLylJ%2Bf76cZAQCGI6czzC%2B3GxHh8MvtDiYEVj/Izs5WamqqzzabLVTNze1Gb4dHCACAazF93rme4OAgRUQ4dP68W93dPQN621fjr8gksPpBdHT0ZS8HulxtunRpcNzZAADDg7/OO93dPcP%2BnMdTIAAAAIYRWAAAAIYRWAAAAIYRWAAAAIYRWAAAAIYRWAAAAIYRWAAAAIYRWAAAAIYRWAAAAIYRWAAAAIYRWAAAAIYRWAAAAIYRWAAAAIYRWAAAAIYRWAAAAIYRWAAAAIYRWAAAAIYRWAAAAIYRWAAAAIYRWAAAAIYRWAAAAIYRWAAAAIYRWAAAAIYRWAAAAIYRWAAAAIYRWAAAAIYRWAAAAIYRWAAAAIYRWAAAAIYRWAAAAIYRWAAAAIYRWAAAAIYRWAAAAIYRWAAAAIYRWAAAAIYRWAAAAIYRWAAAAIYRWAAAAIYRWAAAAIYRWAAAAIYRWAAAAIYRWAAAAIYRWAAAAIYRWAAAAIYFZGCdO3dOixcvVlJSkpKTk7V69WpdunTJO37s2DHNnz9fCQkJSk1N1c6dO30uX1FRobS0NMXHxyszM1NHjx4d6EMAAABDWEAGVkFBgUJDQ7V//3698cYbOnjwoLZv3y5Jam1t1VNPPaV58%2Bbp8OHDWr16tdauXavjx49Lkqqrq1VcXKx169bp8OHDeuSRR7Ro0SK53W4/HhEAABhKAi6wTp8%2BrUOHDqmwsFAOh0O33XabFi9erLKyMklSVVWVIiMjlZOTI5vNppkzZyojI8M7vnPnTs2ZM0eJiYmy2%2B1asGCBnE6nKisr/XlYAABgCAm4wKqtrVVkZKQmTJjg3TZ58mSdOXNG58%2BfV21treLi4nwuExMTo5qaGklSXV3dNccBAABuls3fE7hR7e3tcjgcPtt6v%2B7o6LjieEhIiDo6Oq56%2Ba%2BOm9DY2CiXy%2BWzzWYLVXR0tLHbkKTg4IDrYwDAALLZBvY80Xte4vwUgIEVGhp62fuler8OCwuTw%2BFQW1ubz7jH41FYWJikL2LM4/FcNu50Oo3Nsby8XKWlpT7b8vLylJ%2Bfb%2Bw2AAC4HqczzC%2B3GxHhuP5OQ1zABVZsbKxaWlr0%2BeefKyoqSpJ06tQp3XLLLRo9erTi4uJ04MABn8vU1dUpNjbWe/na2trLxlNSUozNMTs7W6mpqT7bbLZQNTe3G7sNiUcIAIBrM33euZ7g4CBFRDh0/rxb3d09A3rbV%2BOvyAy4wJo4caISExO1Zs0a/fznP1dzc7M2b96srKwsSVJaWpo2bNig7du3KycnR%2B%2B//752796tzZs3S5KysrKUl5en9PR0JSYmqqysTOfOnVNaWpqxOUZHR1/2cqDL1aZLlwbHnQ0AMDz467zT3d0z7M95IyzLsvw9iRv1%2Beef6%2Bc//7mqq6sVFBSkefPmadmyZQoODpYknThxQqtXr9bJkyc1duxYLV68WJmZmd7Lv/XWW9qyZYvOnj2rmJgYrVy5UtOmTevXObtcbdff6QbZbEFKK9lv/HoBAEPD2wWzBvT2bLYgOZ1ham5uHzSBNX78aL/cbkAGViAisAAAA43A8l9g8SYeAAAAwwgsAAAAwwgsAAAAwwgsAAAAwwgsAAAAwwgsAAAAwwgsAAAAwwgsAAAAwwgsAAAAwwgsAAAAwwgsAAAAwwgsAAAAwwgsAAAAwwgsAAAAwwgsAAAAwwgsAAAAwwgsAAAAwwgsAAAAwwgsAAAAw2z%2BngAAAOgf6S8c8PcU%2Buztgln%2BnoJRPIMFAABgGIEFAABgGIEFAABgGIEFAABgGIEFAABgGIEFAABgGIEFAABgGIEFAABgGIEFAABgGIEFAABgGIEFAABgGIEFAABgGIEFAABgGIEFAABgGIEFAABgGIEFAABgGIEFAABgGIEFAABgGIEFAABgGIEFAABgGIEFAABgGIEFAABgGIF1FR0dHVqxYoWSk5OVmJio5cuXq7293d/TAgAAAYDAuori4mI1NDRoz549qqqqUkNDg0pKSvw9LQAAEAAIrCtwu93avXu38vPzFRkZqXHjxmnZsmXatWuX3G63v6cHAAAGOQLrCk6fPq2uri7FxcV5t02ePFkej0f19fX%2BmxgAAAgINn9PYDC6cOGCJCk0NNS7zeFwSFKf3ofV2Ngol8vls81mC1V0dLTBWUrBwfQxAGBosNmG1jmNwLqC3rByu90KCwvz/r8khYeHX/fy5eXlKi0t9dn24x//WEuWLDE6z8bGRj1xS62ys7ONx9tw1NjYqPLyctbTINbULNbTLNbTPNb0S0MrFw2ZNGmS7Ha76urqvNtOnTolu92uiRMnXvfy2dnZ2rVrl8%2Bf7Oxs4/N0uVwqLS297NkyfD2sp3msqVmsp1msp3ms6Zd4BusKHA6H0tPTVVJSok2bNkmSSkpKNHfuXIWEhFz38tHR0cO%2B3AEAGM54Busqnn32WU2cOFEZGRn6/ve/r29%2B85v62c9%2B5u9pAQCAAMAzWFcRHh6u4uJiFRcX%2B3sqAAAgwAQ/99xzz/l7Evj6wsLCNGPGDO%2Bb8XFzWE/zWFOzWE%2BzWE/zWNMvjLAsy/L3JAAAAIYS3oMFAABgGIEFAABgGIEFAABgGIEFAABgGIEFAABgGIEFAABgGIEVgM6dO6fFixcrKSlJycnJWr16tS5duuTvaQEAhpCamho9%2BeSTmjFjhmbNmqXly5erqalJ0he/7WTKlClKSEjw/ikvL/de9pVXXlFKSori4%2BOVm5urjz/%2B2DvW0dGhFStWKDk5WYmJiVq%2BfLna29sH/Pj6G4EVgAoKChQaGqr9%2B/frjTfe0MGDB7V9%2B3Z/TwsAMER4PB79/d//vRISEvSf//mf%2Bu1vf6uWlhY988wzkqQTJ06ouLhYR48e9f7Jzs6WJFVUVOi1117T1q1bVV1drTvvvFP5%2Bfnq/bGbxcXFamho0J49e1RVVaWGhgaVlJT47Vj7C4EVYE6fPq1Dhw6psLBQDodDt912mxYvXqyysjJ/Ty2gVFZW6o477vB59FVYWChJeu%2B995SRkaH4%2BHilp6dr7969Ppe91iOz4aCpqUlpaWmqrq72bjt27Jjmz5%2BvhIQEpaamaufOnT6XqaioUFpamuLj45WZmamjR496x7q7u7V%2B/Xrde%2B%2B9SkhI0KJFi9TY2Dhgx%2BNvV1pPf7ve3%2BdgdK1nW7h/3rgzZ87o29/%2BtvLy8jRy5Eg5nU5lZ2fr8OHD6uzs1MmTJzVlypQrXnbHjh16/PHHFRsbq1GjRmnp0qU6c%2BaMqqur5Xa7tXv3buXn5ysyMlLjxo3TsmXLtGvXLrnd7gE%2Byn5mIaC888471owZM3y21dTUWHFxcVZra6ufZhV41q1bZz399NOXbf/f//2G9sscAAAHMUlEQVRfa%2BrUqdY777xjdXV1Wb/73e%2Bsu%2B66y/rss88sy7KsXbt2Wffdd5918uRJy%2BPxWGvXrrXmzJlj9fT0DPQh%2BMWRI0es2bNnW3Fxcdaf/vQny7Isq6WlxZoxY4b1%2BuuvW11dXdYf//hHKyEhwTp27JhlWZb1pz/9yUpISLCOHDlidXZ2Wtu2bbOSk5Otjo4Oy7Is66WXXrIyMjKsM2fOWG1tbVZBQYG1cOFCvx3jQLrSevrb9f4%2BByO3223NmjXL2rRpk3Xx4kWrqanJWrhwofWjH/2I%2B6dBhYWFVm5urnXs2DHr9ttvt3784x9bM2fOtB588EHr5Zdftrq7uy3LsqykpCTr3//9330u%2B8Mf/tDatm2b9eGHH1pxcXFWW1ubd6ytrc2Ki4uz/vznPw/o8fQ3nsEKMO3t7XI4HD7ber/u6Ojwx5QC0okTJ6746KuiokJJSUmaPXu2bDabHn74YU2fPt373oJrPTIb6ioqKrRs2TL9wz/8g8/2qqoqRUZGKicnRzabTTNnzlRGRob3WdWdO3dqzpw5SkxMlN1u14IFC%2BR0OlVZWekdX7hwoW699VaFh4erqKhI%2B/bt06effjrgxziQrrae/na9v8/B6FrPtnD/vHmWZWnjxo3au3evioqK1NbWphkzZig3N1fvvfeeNmzYoNdee02vvvqqpCufp0JCQtTR0aELFy5IkkJDQ71jvfsOtfdhEVgBJjQ09LKnUXu/Hu6/WLOvenp69MEHH%2Bjdd9/V/fffr5SUFK1atUqtra2qq6tTXFycz/4xMTGqqamRpMvG7Xa7Jk6c6B0fyr7zne/onXfe0cMPP%2Byzvba29obW7KvjbW1t%2Buyzz3zGo6KiNGbMGH300Uf9dCSDw9XW09%2Bu9/c5GP31X/%2B1fvnLXyo4ONi7bc%2BePbrzzju5f96kCxcuKD8/X7t379brr7%2Bu22%2B/XbNmzdKvfvUrzZgxQ3a7XXfddZeeeOIJb5Q6HA55PB6f6/F4PAoLC/OG1VfPY73/Hx4ePkBHNTAIrAATGxurlpYWff75595tp06d0i233KLRo0f7cWaBo6mpSXfccYceeughVVZW6te//rXq6%2BtVWFh4zUde0rUfmQ1148ePl81mu2z7zaxZ7yPWrz6a7R0fao9m/9LV1tPfAv0%2B/pfPtnD//Po%2B%2BeQTPfroo7pw4YLeeOMN3X777ZKkP/zhD/r1r3/ts29nZ6dCQkIkfXGeqq2t9Y51dXWpvr5ecXFxmjRpkux2u%2Brq6rzjp06d8j5YHUoIrAAzceJEJSYmas2aNbpw4YI%2B/fRTbd68WVlZWf6eWsCIiopSWVmZsrKy5HA49Fd/9VcqLCzUvn37ZFnWVR95Sdd%2BZDZcXW9NrjXee2L7y2dlh/ua%2BlMg38ev9GwL98%2Bvp7W1VU888YTuvvtubd26VWPHjvWOWZaltWvX6uDBg7IsS0ePHtWvfvUr76cIH330Ub3%2B%2BuuqqanRxYsX9fzzzysqKkpJSUlyOBxKT09XSUmJmpqa1NTUpJKSEs2dO9cbaEMFgRWAXnzxRV26dEkPPPCAHnvsMd13331avHixv6cVMGpqalRSUuL9yLD0xaOvoKAg3XXXXT6PvKQvXkKIjY2VdO1HZsNVXFzcDa3ZV8fHjBmjCRMm%2BDyadblcamlpGdZr6k/X%2B/scrK72bAv3z69n165dOnPmjN5%2B%2B20lJib6fOI6LS1NK1as0HPPPef9BPaSJUv0gx/8QJKUlZWlBQsWKC8vT/fcc4/%2B/Oc/6%2BWXX5bdbpf0xc/QmjhxojIyMvT9739f3/zmN/Wzn/3Mn4fbP/z5DnvAHxoaGqz4%2BHjrF7/4hdXV1WX93//9n/XYY49ZzzzzjFVXV2dNnTrV%2Bt3vfuf9FOHUqVOtjz/%2B2LIsy9qxY4d13333WR9%2B%2BKH3U4RpaWlWZ2enn49qYH31U29NTU1WUlKStW3bNquzs9M6ePCglZCQYB08eNCyLMv7qa2DBw96P6U1ffp0q7m52bIsy9q4caM1d%2B5c65NPPvF%2BSuvv/u7v/HZs/jCYPkV4vb/PwailpcX63ve%2BZz399NPeT7L14v4JfyGwMCxVV1db2dnZVkJCgnXPPfdYxcXFlsfjsSzLsvbt22c98sgjVnx8vDVnzhzr3Xff9V6up6fH2rp1q5WammrFx8dbubm53vgaTv4yCI4fP%2B5dzwceeMB68803ffb/t3/7N%2Buhhx6y4uPjraysLOu///u/vWOdnZ3Whg0brPvuu8%2B6%2B%2B67rUWLFlmff/75gB3LYDCYAsuyrv/3Odi8%2BuqrVlxcnDVt2jQrPj7e549lcf%2BEf4ywrK%2B8TgIAAICbxnuwAAAADCOwAAAADCOwAAAADCOwAAAADCOwAAAADCOwAAAADCOwAAAADCOwAAAADCOwAAAADCOwAAAADCOwAAAADCOwAAAADCOwAAAADCOwAAAADCOwAAAADPt/SRnpBI26XS0AAAAASUVORK5CYII%3D\"/>\n",
       "        </div>\n",
       "        <div role=\"tabpanel\" class=\"tab-pane col-md-12\" id=\"common5342360503036434445\">\n",
       "            \n",
       "<table class=\"freq table table-hover\">\n",
       "    <thead>\n",
       "    <tr>\n",
       "        <td class=\"fillremaining\">Value</td>\n",
       "        <td class=\"number\">Count</td>\n",
       "        <td class=\"number\">Frequency (%)</td>\n",
       "        <td style=\"min-width:200px\">&nbsp;</td>\n",
       "    </tr>\n",
       "    </thead>\n",
       "    <tr class=\"\">\n",
       "        <td class=\"fillremaining\">1913</td>\n",
       "        <td class=\"number\">37</td>\n",
       "        <td class=\"number\">0.1%</td>\n",
       "        <td>\n",
       "            <div class=\"bar\" style=\"width:1%\">&nbsp;</div>\n",
       "        </td>\n",
       "</tr><tr class=\"\">\n",
       "        <td class=\"fillremaining\">1718</td>\n",
       "        <td class=\"number\">36</td>\n",
       "        <td class=\"number\">0.1%</td>\n",
       "        <td>\n",
       "            <div class=\"bar\" style=\"width:1%\">&nbsp;</div>\n",
       "        </td>\n",
       "</tr><tr class=\"\">\n",
       "        <td class=\"fillremaining\">1791</td>\n",
       "        <td class=\"number\">36</td>\n",
       "        <td class=\"number\">0.1%</td>\n",
       "        <td>\n",
       "            <div class=\"bar\" style=\"width:1%\">&nbsp;</div>\n",
       "        </td>\n",
       "</tr><tr class=\"\">\n",
       "        <td class=\"fillremaining\">898</td>\n",
       "        <td class=\"number\">35</td>\n",
       "        <td class=\"number\">0.1%</td>\n",
       "        <td>\n",
       "            <div class=\"bar\" style=\"width:1%\">&nbsp;</div>\n",
       "        </td>\n",
       "</tr><tr class=\"\">\n",
       "        <td class=\"fillremaining\">1764</td>\n",
       "        <td class=\"number\">35</td>\n",
       "        <td class=\"number\">0.1%</td>\n",
       "        <td>\n",
       "            <div class=\"bar\" style=\"width:1%\">&nbsp;</div>\n",
       "        </td>\n",
       "</tr><tr class=\"\">\n",
       "        <td class=\"fillremaining\">1790</td>\n",
       "        <td class=\"number\">34</td>\n",
       "        <td class=\"number\">0.1%</td>\n",
       "        <td>\n",
       "            <div class=\"bar\" style=\"width:1%\">&nbsp;</div>\n",
       "        </td>\n",
       "</tr><tr class=\"\">\n",
       "        <td class=\"fillremaining\">1135</td>\n",
       "        <td class=\"number\">34</td>\n",
       "        <td class=\"number\">0.1%</td>\n",
       "        <td>\n",
       "            <div class=\"bar\" style=\"width:1%\">&nbsp;</div>\n",
       "        </td>\n",
       "</tr><tr class=\"\">\n",
       "        <td class=\"fillremaining\">1837</td>\n",
       "        <td class=\"number\">34</td>\n",
       "        <td class=\"number\">0.1%</td>\n",
       "        <td>\n",
       "            <div class=\"bar\" style=\"width:1%\">&nbsp;</div>\n",
       "        </td>\n",
       "</tr><tr class=\"\">\n",
       "        <td class=\"fillremaining\">837</td>\n",
       "        <td class=\"number\">34</td>\n",
       "        <td class=\"number\">0.1%</td>\n",
       "        <td>\n",
       "            <div class=\"bar\" style=\"width:1%\">&nbsp;</div>\n",
       "        </td>\n",
       "</tr><tr class=\"\">\n",
       "        <td class=\"fillremaining\">1341</td>\n",
       "        <td class=\"number\">33</td>\n",
       "        <td class=\"number\">0.1%</td>\n",
       "        <td>\n",
       "            <div class=\"bar\" style=\"width:1%\">&nbsp;</div>\n",
       "        </td>\n",
       "</tr><tr class=\"other\">\n",
       "        <td class=\"fillremaining\">Other values (2500)</td>\n",
       "        <td class=\"number\">41266</td>\n",
       "        <td class=\"number\">99.2%</td>\n",
       "        <td>\n",
       "            <div class=\"bar\" style=\"width:100%\">&nbsp;</div>\n",
       "        </td>\n",
       "</tr>\n",
       "</table>\n",
       "        </div>\n",
       "        <div role=\"tabpanel\" class=\"tab-pane col-md-12\"  id=\"extreme5342360503036434445\">\n",
       "            <p class=\"h4\">Minimum 5 values</p>\n",
       "            \n",
       "<table class=\"freq table table-hover\">\n",
       "    <thead>\n",
       "    <tr>\n",
       "        <td class=\"fillremaining\">Value</td>\n",
       "        <td class=\"number\">Count</td>\n",
       "        <td class=\"number\">Frequency (%)</td>\n",
       "        <td style=\"min-width:200px\">&nbsp;</td>\n",
       "    </tr>\n",
       "    </thead>\n",
       "    <tr class=\"\">\n",
       "        <td class=\"fillremaining\">1</td>\n",
       "        <td class=\"number\">2</td>\n",
       "        <td class=\"number\">0.0%</td>\n",
       "        <td>\n",
       "            <div class=\"bar\" style=\"width:100%\">&nbsp;</div>\n",
       "        </td>\n",
       "</tr><tr class=\"\">\n",
       "        <td class=\"fillremaining\">4</td>\n",
       "        <td class=\"number\">1</td>\n",
       "        <td class=\"number\">0.0%</td>\n",
       "        <td>\n",
       "            <div class=\"bar\" style=\"width:50%\">&nbsp;</div>\n",
       "        </td>\n",
       "</tr><tr class=\"\">\n",
       "        <td class=\"fillremaining\">5</td>\n",
       "        <td class=\"number\">1</td>\n",
       "        <td class=\"number\">0.0%</td>\n",
       "        <td>\n",
       "            <div class=\"bar\" style=\"width:50%\">&nbsp;</div>\n",
       "        </td>\n",
       "</tr><tr class=\"\">\n",
       "        <td class=\"fillremaining\">7</td>\n",
       "        <td class=\"number\">2</td>\n",
       "        <td class=\"number\">0.0%</td>\n",
       "        <td>\n",
       "            <div class=\"bar\" style=\"width:100%\">&nbsp;</div>\n",
       "        </td>\n",
       "</tr><tr class=\"\">\n",
       "        <td class=\"fillremaining\">8</td>\n",
       "        <td class=\"number\">1</td>\n",
       "        <td class=\"number\">0.0%</td>\n",
       "        <td>\n",
       "            <div class=\"bar\" style=\"width:50%\">&nbsp;</div>\n",
       "        </td>\n",
       "</tr>\n",
       "</table>\n",
       "            <p class=\"h4\">Maximum 5 values</p>\n",
       "            \n",
       "<table class=\"freq table table-hover\">\n",
       "    <thead>\n",
       "    <tr>\n",
       "        <td class=\"fillremaining\">Value</td>\n",
       "        <td class=\"number\">Count</td>\n",
       "        <td class=\"number\">Frequency (%)</td>\n",
       "        <td style=\"min-width:200px\">&nbsp;</td>\n",
       "    </tr>\n",
       "    </thead>\n",
       "    <tr class=\"\">\n",
       "        <td class=\"fillremaining\">2564</td>\n",
       "        <td class=\"number\">1</td>\n",
       "        <td class=\"number\">0.0%</td>\n",
       "        <td>\n",
       "            <div class=\"bar\" style=\"width:100%\">&nbsp;</div>\n",
       "        </td>\n",
       "</tr><tr class=\"\">\n",
       "        <td class=\"fillremaining\">2565</td>\n",
       "        <td class=\"number\">1</td>\n",
       "        <td class=\"number\">0.0%</td>\n",
       "        <td>\n",
       "            <div class=\"bar\" style=\"width:100%\">&nbsp;</div>\n",
       "        </td>\n",
       "</tr><tr class=\"\">\n",
       "        <td class=\"fillremaining\">2570</td>\n",
       "        <td class=\"number\">1</td>\n",
       "        <td class=\"number\">0.0%</td>\n",
       "        <td>\n",
       "            <div class=\"bar\" style=\"width:100%\">&nbsp;</div>\n",
       "        </td>\n",
       "</tr><tr class=\"\">\n",
       "        <td class=\"fillremaining\">2583</td>\n",
       "        <td class=\"number\">1</td>\n",
       "        <td class=\"number\">0.0%</td>\n",
       "        <td>\n",
       "            <div class=\"bar\" style=\"width:100%\">&nbsp;</div>\n",
       "        </td>\n",
       "</tr><tr class=\"\">\n",
       "        <td class=\"fillremaining\">2585</td>\n",
       "        <td class=\"number\">1</td>\n",
       "        <td class=\"number\">0.0%</td>\n",
       "        <td>\n",
       "            <div class=\"bar\" style=\"width:100%\">&nbsp;</div>\n",
       "        </td>\n",
       "</tr>\n",
       "</table>\n",
       "        </div>\n",
       "    </div>\n",
       "</div>\n",
       "</div>\n",
       "    <div class=\"row headerrow highlight\">\n",
       "        <h1>Correlations</h1>\n",
       "    </div>\n",
       "    <div class=\"row variablerow\">\n",
       "    <img src=\"data:image/png;base64,iVBORw0KGgoAAAANSUhEUgAAAqIAAAJWCAYAAACDAuX8AAAABHNCSVQICAgIfAhkiAAAAAlwSFlzAAAPYQAAD2EBqD%2BnaQAAADl0RVh0U29mdHdhcmUAbWF0cGxvdGxpYiB2ZXJzaW9uIDMuMC4yLCBodHRwOi8vbWF0cGxvdGxpYi5vcmcvOIA7rQAAIABJREFUeJzs3XlYlPX%2B//EXq4IbJuCCO4r%2B0hKEJNcUNY65ViYdFLe0FAU1tSzLJdM2s9wtMy2zxNxyTb%2BameeUkolmGh53cQVxRUS2%2Bf1BTo6C4gx2j/J8XNdcwOe%2B78%2B853Pi8PJ93/eMg8lkMgkAAAD4hzkaXQAAAAAKJ4IoAAAADEEQBQAAgCEIogAAADAEQRQAAACGIIgCAADAEARRAAAAGIIgCgAAAEMQRAEAAGAIZ6MLAABbHT9%2BXC1btsxzu4uLi4oXL66qVauqefPm6tatm4oXL/4PVggAyI0DH/EJ4H53YxD18/O7JWRmZGTo3LlzOnHihCSpQoUKmjdvnqpUqfKP1woA%2BBtBFMB978Yg%2BuWXXyo4ODjX/bZt26bIyEilpKQoICBACxcu/CfLBADchGtEARQawcHBevnllyVJcXFx%2BuOPPwyuCAAKN4IogEKldevW5u937dplYCUAAG5WAlColChRwvz9lStXLLb9%2Buuvmj9/vnbs2KELFy6oZMmS8vf3V0REhBo2bJjrfJcuXdLChQu1efNmHThwQCkpKXJzc1PlypXVokULde/eXaVKlbI4platWpKk//73v3r33Xe1ceNGOTo6qk6dOvr888/l7OysXbt2ad68edq7d69OnTqlIkWKqFq1amrVqpXCw8NzvdkqLS1NCxcu1Jo1a3TgwAFlZGSobNmyatSokXr37q2qVata7L9t2zZ1795d9erV04IFCzR//nwtX75cR48elYuLi%2BrUqaOIiAi1atXKmqUGgDsiiAIoVI4ePWr%2Bvly5cubvJ06cqNmzZ0uSSpUqJT8/PyUmJmrjxo3auHGj%2BvTpo%2BHDh1vMdeTIEfXs2VOnTp2Ss7OzKleuLB8fH504cUJ79uzRnj17tHr1ai1ZskTFihW7pZaoqCjFxcXJz89P586dk5eXl5ydnbV%2B/XoNGTJEmZmZKl26tGrUqKErV67o999/165du7RixQotXLjQIoyePn1avXr10qFDhyRJVatWVbFixXTw4EHFxMRo%2BfLlevfdd/XUU0/dUkdGRob69u2rX375RaVLl5avr68OHz6srVu3auvWrRozZoz%2B/e9/27bwAJAbEwDc5xISEkx%2Bfn4mPz8/09atW2%2B77yuvvGLy8/Mz1alTx5SUlGQymUymb775xuTn52cKCgoyfffdd%2BZ9s7OzTatXrzb5%2B/ub/Pz8TIsWLbKYq1u3biY/Pz9Tly5dTGfOnLE4btmyZabatWub/Pz8TF999ZXFcddrrVu3rik2NtZkMplMWVlZpvPnz5uysrJMjRs3Nvn5%2BZlmz55tyszMNB/3xx9/mB5//HGTn5%2Bf6ZNPPjGPZ2Zmmjp27Gjy8/MzhYaGmv7880/ztsuXL5tGjhxpfs07d%2B40b9u6dau5Fn9/f9OKFSvM2y5dumTq0aOHyc/Pz9SgQQNTRkbGbdcVAKzBNaIAHnhpaWnau3evRo8ereXLl0uSevbsKU9PT6Wnp2vq1KmSpAkTJqhDhw7m4xwcHPTUU0%2BZO6FTp05VZmamJCk5OVn79%2B%2BXJI0bN07e3t4Wx3Xq1EkNGjSQJO3bty/Xutq0aaPHHntMkuTo6CgPDw%2BdO3dOSUlJkqQuXbrIycnJvH%2BdOnU0ZMgQtWrVSh4eHubx77//Xn/%2B%2BaeKFCmi2bNnq3bt2uZtxYsX19tvv62mTZsqIyNDH330Ua61REdHq3379uafS5QoYX7dFy5c0OHDh/NYXQCwHqfmATxQunfvfsd9nnvuOQ0aNEhSzt3zZ8%2BeVbFixfJ8U/wOHTpo3LhxOnPmjPbu3atHH31UZcqU0datW5WWlqaiRYveckxWVpb51HlaWlqu8wYGBt4yVrp0aZUqVUoXL17UsGHD1L9/f9WrV0%2BOjjl9gy5duqhLly4Wx/zwww%2BSpJCQEFWqVCnX5%2BrVq5e2bNmi2NhYXb582eJaWUlq0aLFLcf4%2Bvqav7906VKu8wKALQiiAB4oN7%2BhvYODg4oUKSIPDw/VqlVLrVq1Uo0aNczbr3c1MzIy1LVr1zzndXJyUnZ2tg4dOqRHH33UPF60aFGdOnVKu3bt0rFjx5SQkKCDBw/qzz//VGpqqiQpOzs71zm9vLxyfZ5hw4bpzTff1ObNm7V582aVKlVKwcHBaty4sZo3b25xbaskc7eyTp06edZ/fVtWVpaOHj2qunXrWmwvW7bsLcfcGLCzsrLynBsArEUQBfBAeeONN/J8Q/vcXL58WZKUnp6uHTt23HH/GzuDhw4d0vvvv6/NmzdbhM3ixYsrKChIiYmJio%2BPz3Ou3DqpUk7Xs0qVKpo7d65%2B/vlnXbx4UevXr9f69evl4OCg5s2ba8yYMeZAmpKSIkm3dDlvdGM4v/ndAqScj0G9HROffQLgHiCIAijU3NzcJOV0DJcuXZrv45KTk9WtWzclJyerQoUK6tKlix5%2B%2BGFVr15dFStWlIODg4YOHXrbIHo7wcHBCg4OVlpamrZv365ff/1VW7Zs0Z49e7Rp0yadOnVKy5cvl4ODg/mO/OuhOjc3Bujc7uAHACMQRAEUatWqVZOU81ZMmZmZcna%2B9f8WTSaTtm3bpnLlyqlChQpydXXVkiVLlJycLA8PDy1ZskQPPfTQLcedOXPmrutJT09XQkKCUlJSVK9ePRUtWlRNmjRRkyZNNGTIEK1evVovv/yy4uPjtW/fPtWuXVvVq1fX3r17tWfPnjzn3b17t6ScSxUqV65813UBwL3AXfMACrXHHntMJUqU0JUrV/LsiK5cuVI9evRQmzZtdPr0aUk5n28vSRUqVMg1hB44cEA7d%2B6UdHfXV/7000966qmn9OKLLyo9Pf2W7Y0aNTJ/f33e6zca/fDDD0pISMh13i%2B//FKS5O/vr5IlS%2Ba7HgC4lwiiAAo1d3d3vfjii5Kk8ePHa8mSJRbXe27YsEGjR4%2BWlPN2S9e7idWrV5ckxcfHa926deb9TSaTfvrpJ/Xp00cZGRmSpKtXr%2Ba7nmbNmql06dK6cOGCXn31VV24cMG87cqVK3rvvfckSeXLl1fNmjUlSf/6179Uq1YtXbt2TX379rW4HCAlJUVvvvmm/vOf/8jZ2VnDhg3L/%2BIAwD3GqXkAhV7fvn2VkJCgRYsW6fXXX9cHH3ygihUr6syZM0pMTJQk1a9fX2%2B//bb5mM6dO%2Bvrr7/W0aNHFR0dLR8fH5UuXVqnTp1ScnKyXFxc1KBBA8XGxt7VKXpXV1dNnjxZL7zwgtasWaONGzeqcuXKcnR0VEJCglJTU%2BXm5qZ3331Xrq6ukiRnZ2fNmDFDffv21aFDh9SxY0eLT1a6/hZTY8eOVVBQUMEuHgDYgCAKoNBzcHDQuHHjFBoaqoULF2rnzp3mN4j39/dXu3btFBYWZg5%2BUs5d6IsXL9bs2bO1adMmHT9%2BXGfPnlW5cuXUvHlz9ejRQ%2B7u7mrVqpXi4%2BN18uRJVahQIV/1BAcH69tvv9XcuXP122%2B/6ciRI3J2dla5cuXUpEkT9e7d%2B5a5KlasqCVLluibb77R999/r4MHD%2Br06dMqX768mjZtqq5du97yWfMAYDQHE%2B/JAQAAAANwjSgAAAAMQRAFAACAIQiiAAAAMARBFAAA4AFz7tw5tW7dWtu2bctzn82bN6t9%2B/by9/dXmzZttGnTJovts2fPVrNmzeTv76%2BIiAgdOnSowOskiAIAADxAfvvtN4WFhenYsWN57nPkyBFFRUVp0KBB2r59u6KiojR48GDz280tW7ZM8%2BfP15w5c7Rt2zbVqVNH0dHRKuh73AmiAAAAD4hly5Zp2LBhGjJkyB33CwoKUqtWreTs7KynnnpKjz32mGJiYiRJixYtUnh4uGrWrKkiRYpo6NChOnny5G07rNYgiAIAANiJxMRE7dmzx%2BJx/YM18qNJkyb6v//7Pz311FO33e/AgQPy8/OzGKtRo4b5k9lu3u7i4qKqVatafHJbQeAN7ZF/Dg5GV5CjWjVp/36pZk3p8GGjq5Epm7fizYtDdv4/Y/2ec3SUbvjoTqNlZDsZXYKZs7OUmWl0FfaHdcmbva2Ni4tBT3wP/i7GTJmiadOmWYwNHDhQUVFR%2BTrey8srX/tduXJFbm5uFmNFixZVampqvrYXFIIo7j8eHpKTU85XWHBwkPiIijzYyz%2Bk7BBLkzvWJW%2Bszb0TFhamkJAQi7H8hsu74ebmprS0NIuxtLQ0FStWLF/bCwpBFAAAwBqOBX%2BFo7e3t7y9vQt83pv5%2Bflpz549FmMHDhxQ3bp1JUk1a9bU/v371aJFC0lSRkaGjhw5csvpfFtxjSgAAEAh06FDB8XGxmrNmjXKzMzUmjVrFBsbq44dO0qSnn32WX311VeKj4/XtWvX9OGHH8rT01NBQUEFWgcdUQAAAGvcg47ovRQQEKCxY8eqQ4cO8vX11fTp0zVx4kSNHDlSPj4%2Bmjp1qqpVqyZJ6ty5sy5fvqwBAwbo3LlzeuSRR/TJJ5/IpYAvyHUwFfQbQuHBZS8XBQUESDt2SPXrS3FxRldjVzcr2ds1onZ1s5KTk5RlP/XY081KLi5SRobRVdgf1iVv9rY2ht2sVKRIwc957VrBz2nH7q8oDwAAgAcGp%2BYBAACscZ%2BdmrdHrCAAAAAMQUcUAADAGnREbUYQBQAAsAZB1GasIAAAAAxBRxQAAMAadERtxgoCAADAEHREAQAArEFH1GYEUQAAAGsQRG3GCgIAAMAQdEQBAACsQUfUZqwgAAAADEFHFAAAwBp0RG1GEAUAALAGQdRmrCAAAAAMQUcUAADAGnREbcYKAgAAwBB0RAEAAKxBR9RmBFEAAABrEERtxgoCAADAEHREAQAArEFH1GasIAAAAAxBRxQAAMAadERtRhAFAACwBkHUZqwgAAAADEEQvUtTp05VRERErtv69OmjWbNm/cMVSbNmzVKfPn3y3B4REaGpU6f%2BgxUBAFAIODoW/KOQ4dR8Afrss88Med5%2B/foZ8rwAAAC2IIjewY4dOzR%2B/HgdPHhQtWvXVpUqVSRJS5cu1VdffSUPDw/9/vvvGj16tBYtWqQGDRqoY8eOevLJJ7VmzRpVr15dknTw4EF16NBBmzZtkpeXl%2BbPn68FCxYoOTlZfn5%2Bev3111W3bl1JUkhIiJo0aaKNGzfKy8tLS5culeNt/pU0depUxcbGav78%2BZKkb7/9VrNmzdK5c%2Bf05JNP6urVq3f9uhMTE5WUlGQx5lWtmrw9PO56rgJXu7blVwAAjFAIO5gFjSB6G%2BfPn9dLL72kvn37qlevXvr999/14osv6uGHH5Yk7dmzR%2B%2B%2B%2B65mzZql7OxsLVq0SJJUuXJlBQcH67vvvtOQIUMk5QTXpk2bytvbWwsWLNDcuXM1c%2BZM%2Bfr66rvvvlOvXr20du1aeXp6SpJ%2B//13rV27VpJuG0Jv9ssvv%2Bitt97Sp59%2Bqscee0yLFi3S8uXL9cQTT9zVa4%2BJidG0adMsxgYOGqSoQYPuap576uuvja5AkuRgdAE3cbCngpycjK7Akh3V42I/pUiSXFyMrsA%2BsS55s5e1ycgw8MkJojYjiN7Gjz/%2BKDc3N/Xt21cODg4KDAzUs88%2Bqz///FOS5OLioo4dO%2BYaFJ977jl9%2BOGHGjx4sLKzs7VixQqNHj1akrRgwQK99NJLqv1XR69z585avHixVqxYod69e0uSQkNDVbJkybuuecWKFXryySfVsGFDSVJ4eLi%2B/fbbu54nLCxMISEhFmNe7dtLX3xx13MVuNq1c0JoeLgUH290NTL9tsPoEswcHCSTyegq/uaQnWV0CX9zcpKy7KeejGz7SaIuLgb/MbdTrEveWBsUFILobZw5c0bly5eXww0tpsqVK5uDqJeXV57dyieffFLjxo3Ttm3bdO3aNZlMJjVv3lySdOLECb333nuaOHGief/MzEzzqXlJ8vb2trrmOnXqWIxVqlTprufx9va%2BtYbDh62q6Z6Jj5fi4oyuAgBQWNERtRlB9DbKlSunEydOKDs72xw4T58%2Bbd7ucJtzoK6ururQoYNWrVqlq1evqlOnTnJ2djbPGx0drbZt25r3P3bsmDxuuP7ydnPfqeaEhASLsdOnT6tmzZpWzQcAAPJAELUZK3gbISEhMplMmjp1qtLT0/XHH3/c1WnuLl26aMOGDfrhhx/UuXNni/GZM2fq4MGDkqQtW7aobdu2%2BvXXX22u%2Bdlnn9WGDRu0adMmZWZmatmyZdq1a5fN8wIAABQ0OqK3UbJkSc2ZM0djxozR3LlzVaVKFYWGhupwPk9R16xZU1WrVpWzs7OqVq1qHu/Zs6dMJpMiIyOVmJiosmXLatSoUWrZsqXNNQcGBur999/Xu%2B%2B%2BqyFDhujxxx9X48aNbZ4XAADchI6ozRxMJnu6tQF2zV5uxw4IkHbskOrXt4trRE3Z9vMrxM1Kt8HNSnnixpPcsS55s7e1MewO/oCAgp/TDv6u/ZPoiAIAAFiDjqjNCKJ2bt26dRoxYkSe2wMDAw37RCcAAAo1gqjNCKJ2LjQ0VKGhoUaXAQAAUOAIogAAANagI2ozVhAAAACGoCMKAABgDTqiNiOIAgAAWIMgajOCKAAAwAMiOTlZb775pmJjY%2BXk5KQOHTro1VdfNX/M%2BHV9%2BvTRb7/9ZjGWmpqqsLAwvfXWWzp79qwaN24sd3d38/bSpUvrhx9%2BKNB6CaIAAADWsMOO6ODBg1W2bFlt2bJFZ8%2BeVf/%2B/TVv3jz16dPHYr%2Bb3/px8eLFmjZtmgYOHChJ2r17t3x8fAo8eN7M/lYQAAAAd%2B3o0aOKjY3V8OHD5ebmpkqVKikyMlILFiy47XGHDh3SuHHjNHHiRHl7e0vKCaJ169a95zXTEQUAALDGPeiIJiYmKikpyWLMy8vLHBBvZ//%2B/fLw8FDZsmXNY76%2Bvjp58qQuXbqkkiVL5nrc2LFj1alTJwUFBZnHdu/erYsXL6pdu3Y6e/asHnnkEb366quqUaOGla8sdwRRAAAAa9yDIBoTE6Np06ZZjA0cOFBRUVF3PPbKlStyc3OzGLv%2Bc2pqaq5BdPv27dq1a5cmTpxoMV6yZEnVqFFDffv2laurqyZPnqxevXppzZo1KlGixN2%2BrDwRRAEAAOxEWFiYQkJCLMa8vLzyday7u7uuXr1qMXb952LFiuV6TExMjNq0aXPLc3z44YcWP7/22mtasmSJtm/frhYtWuSrnvwgiAIAAFjjHnREvb2983UaPjc1a9bUhQsXdPbsWXl6ekqSDh48qHLlyuXaxczMzNTGjRs1ffp0i/GUlBRNnz5d3bp1k4%2BPjyQpKytLmZmZKlq0qFW15YWblQAAAB4AVatWVWBgoCZMmKCUlBQlJCRoxowZ6ty5c67779u3T9euXVP9%2BvUtxosXL66ff/5Z7733ni5fvqwrV65o3LhxqlixosV1pAWBIAoAAGANR8eCf9hoypQpyszMVMuWLdWlSxc1bdpUkZGRkqSAgACtWLHCvG9CQoJKlSqlIkWK3DLPjBkzlJ2drVatWqlp06ZKSkrS7Nmz5eLiYnONN3IwmUymAp0RDy4HB6MryBEQIO3YIdWvL8XFGV2NTNn28yvk4CDZ02%2B0Q3aW0SX8zclJyrKfejKynYwuwczFRcrIMLoK%2B8O65M3e1qaAs1H%2BhYYW/Jzr1hX8nHaMjigAAAAMwc1KAAAA1rDDT1a637CCAAAAMAQdUQAAAGvQEbUZQRQAAMAaBFGbsYIAAAAwBB1RAAAAa9ARtRkrCAAAAEPQEQUAALAGHVGbEUQBAACsQRC1GSsIAAAAQ9ARRb7Z1WeqSzL9tsPoMiRJDo4ORpeQIyBA2rFDDoH1pbg4o6vJ8eOPRleQo3hxKTBQ2rlTSkkxuhpJ0vHKTxhdgiTJ1VXy8ZESE6X0dKOrsR%2BsS97scW2qVTPoiemI2owVBAAAgCHoiAIAAFiDjqjNCKIAAADWIIjajBUEAACAIeiIAgAAWIOOqM1YQQAAABiCjigAAIA16IjajCAKAABgDYKozVhBAAAAGIKOKAAAgDXoiNqMIAoAAGANgqjNWEEAAAAYgo4oAACANeiI2owVBAAAgCHoiAIAAFiDjqjNCKIAAADWIIjajBUEAACAIeiIAgAAWIOOqM1YQQAAABiCjigAAIA16IjajCAKAABgDYKozVhBAAAAGIKOKAAAgDXoiNqMFQQAAIAh6IgCAABYg46ozQiiAAAA1iCI2owVBAAAgCHoiAIAAFiDjqjNWEEAAAAYgo4oAACANeiI2owgCgAAYA2CqM1YQQAAgAdEcnKyIiMjFRQUpODgYI0fP16ZmZm57tunTx898sgjCggIMD9%2B%2BuknSVJWVpbee%2B89NWrUSAEBAerfv78SExMLvF6CKAAAgDUcHQv%2BYaPBgwfL3d1dW7Zs0eLFi/XLL79o3rx5ue77xx9/aM6cOYqLizM/mjVrJkmaOXOm/vvf/2rJkiXasmWLihYtqjfeeMPm%2Bm5GELVTP/zwg55//nk1bNhQ9erVU7du3XTkyBFJ0urVqxUaGqqgoCC98MILevPNNzVixAhJkslk0pdffmneHh4erj/%2B%2BMPAVwIAAP4JR48eVWxsrIYPHy43NzdVqlRJkZGRWrBgwS37JiQk6OLFi3r44Ydznevbb79V3759Vb58eRUvXlwjR47UTz/9pISEhAKtmWtE7dDp06c1aNAgTZ48WSEhITp//rwGDhyo6dOnKzw8XK%2B%2B%2BqqmTJmiZs2aadOmTRo8eLDat28vSfr66681d%2B5czZw5U76%2Bvvruu%2B/Uq1cvrV27Vp6envmuITExUUlJSRZjnp5e8vb2LtDX%2BkAICDC6ghy1a1t%2BtQfFixtdQQ43N8uvdsDV1egKcri4WH5FDtYlb/a2NunpBj75PbhGNLe/v15e%2Bfv7u3//fnl4eKhs2bLmMV9fX508eVKXLl1SyZIlzeO7d%2B9WsWLFNGTIEO3evVuenp7q2bOnOnfurMuXL%2Bv06dPy8/Mz7%2B/p6alSpUpp3759qlSpUgG80hwEUTv00EMPafXq1apcubJSUlJ0%2BvRplS5dWmfOnNGSJUv05JNPKiQkRJLUunVrtWrVynzsggUL9NJLL6n2X2Gkc%2BfOWrx4sVasWKHevXvnu4aYmBhNmzbNYmzAgIGKjo4qgFdYMBwcjK7gLzt2GF2Bpa%2B/NroC%2B5XHv/yN4GN0ATfh35i5Y13yZi9rc/iwgU9%2BD4Jobn9/Bw4cqKioO//9vXLlitxu%2Bgf39Z9TU1Mtgmh6err8/f01ZMgQ1axZU9u2bVNUVJSKFSumgL8aLO7u7hZzFS1aVFeuXLHqdeWFIGqHXFxctGrVKi1cuFAODg7y8/NTSkqKnJ2dderUqVva6JUqVdLZs2clSSdOnNB7772niRMnmrdnZmaqbt26d1VDWFiYOexe5%2BnpJZPJyhdVwBwcZD%2B1BNY3uoQctWvnhNDwcCk%2B3uhqcsyebXQFOdzcckLo3r3S1atGVyNJOlEu0OgSJOV0tby9pcREKSPD6GrsB%2BuSN9bm3srt76%2BXl1e%2BjnV3d9fVm/4/7vrPxYoVsxjv1KmTOnXqZP65SZMm6tSpk9auXatGjRpZHHtdWlraLfPYiiBqh9auXauvvvpK33zzjapUqSJJGjdunP73v//Jx8dHJ0%2BetNj/5MmTcv3rPF%2B5cuUUHR2ttm3bmrcfO3ZMHh4ed1WDt7f3LacB7CX42Z24OKMrsBQfbz81paQYXYGlq1ftpiZDTyfmIiPD/mqyB6xL3lgb3ZOOaG5/f/OrZs2aunDhgs6ePWu%2BHO/gwYMqV66cSpQoYbHv4sWLVaxYMbVp08Y8lp6eriJFiqhUqVIqW7asDhw4YD49n5SUpAsXLlicri8I3Kxkhy5fvixHR0cVLVpUJpNJP/30k5YvX66MjAw999xz%2Br//%2Bz9t2bJFWVlZ2rx5s9avX28%2BtkuXLpo5c6YOHjwoSdqyZYvatm2rX3/91aiXAwAA/gFVq1ZVYGCgJkyYoJSUFCUkJGjGjBnq3LnzLfumpKRo3Lhx2rt3r7Kzs/Xjjz9q1apVCgsLkyQ988wzmjlzphISEpSSkqIJEyaoQYMGqly5coHWTEfUDj399NP67bff1LZtWzk5Oal69erq0aOHFixYoFq1amns2LEaM2aMzp8/r6CgIDVs2FAuf1013rNnT5lMJkVGRioxMVFly5bVqFGj1LJlS4NfFQAADxg7fEP7KVOm6K233lLLli3l6OioTp06KTIyUpIUEBCgsWPHqkOHDurRo4dSU1M1cOBAJScnq1KlSnrvvfcUFBQkSRowYIAyMzPVtWtXXblyRcHBwfr4448LvF4Hk4kTrveTw4cPKzs7W76%2BvuaxqKgoVa9eXUOGDLmnz21P/6XY1TWijnZy11RAQM6NU/Xr28%2Bp%2BR9/NLqCHMWLS4GB0m%2B/2c2p%2BcOVnzC6BEk5d%2B/7%2BEgnTnCa9UasS97scW2qVTPoid95p%2BDnfO21gp/TjtlflMdtHThwQD169NCxY8ckSdu2bdOWLVv0xBP28UcNAAAgvzg1f59p3bq1Dhw4oO7du%2BvixYvy8fHRuHHjVL%2B%2Bndy5DQBAYWGHp%2BbvNwTR%2B1D//v3Vv39/o8sAAACwCUEUAADAGnREbUYQBQAAsAZB1GasIAAAAAxBRxQAAMAadERtxgoCAADAEHREAQAArEFH1GYEUQAAAGsQRG3GCgIAAMAQdEQBAACsQUfUZgRRAAAAaxBEbcYKAgAAwBB0RAEAAKxBR9RmrCAAAAAMQUcUAADAGnREbUYQBQAAsAZB1GasIAAAAAxBRxQAAMAadERtxgoCAADAEHREAQAArEFH1GYEUQAAAGsQRG3GCgIAAMAQdEQBAACsQUfUZqwgAAAADEFHFAAAwBp0RG1GEAUAALAGQdRmBFHkm0N2ltEl/M3JyX7q%2BfFHoyvIUbx4ztfZs6WUFGNrua55c6MryBEQIO3YIfXtK8XFGV2NJKnauXNGl5DDyUlSSfmgJm6lAAAgAElEQVSUuCRl2cnvlD1gXfJml2tT2ugCYCWCKAAAgDXoiNqMFQQAAIAh6IgCAABYg46ozQiiAAAA1iCI2owVBAAAgCHoiAIAAFiDjqjNWEEAAAAYgo4oAACANeiI2owgCgAAYA2CqM1YQQAAABiCjigAAIA16IjajBUEAACAIeiIAgAAWIOOqM0IogAAANYgiNqMIAoAAPCASE5O1ptvvqnY2Fg5OTmpQ4cOevXVV%2BXsfGvk%2B%2BabbzRv3jwlJibK29tb3bt3V9euXSVJ2dnZCgwMlMlkkoODg/mY//73v3J3dy%2BwegmiAAAA1rDDjujgwYNVtmxZbdmyRWfPnlX//v01b9489enTx2K/DRs2aNKkSZo9e7bq1aunnTt36sUXX5Snp6dCQ0N14MABZWRkaMeOHXJ1db1n9drfCgIAAOCuHT16VLGxsRo%2BfLjc3NxUqVIlRUZGasGCBbfse%2BbMGfXt21f%2B/v5ycHBQQECAgoOD9euvv0qSdu/erVq1at3TECrREQUAALDOPeiIJiYmKikpyWLMy8tL3t7edzx2//798vDwUNmyZc1jvr6%2BOnnypC5duqSSJUuax6%2Bfgr8uOTlZv/76q1577TVJOUH02rVrevbZZ3XixAn5%2Bvpq6NChql%2B/vi0v7xYEUQAAAGvcgyAaExOjadOmWYwNHDhQUVFRdzz2ypUrcnNzsxi7/nNqaqpFEL1RUlKSXnrpJdWtW1ft2rWTJBUtWlSPPvqoBg0apFKlSmnBggV64YUXtGLFClWqVMmal5YrgigAAICdCAsLU0hIiMWYl5dXvo51d3fX1atXLcau/1ysWLFcj9m5c6cGDRqkoKAgvfPOO%2BabmkaMGGGx3wsvvKClS5dq8%2BbN6tatW77qyQ%2BCKAAAgDXuQUfU29s7X6fhc1OzZk1duHBBZ8%2BelaenpyTp4MGDKleunEqUKHHL/osXL9bbb7%2Bt6Oho9e7d22LbRx99pNDQUD388MPmsfT0dBUpUsSq2vLCzUoAAAAPgKpVqyowMFATJkxQSkqKEhISNGPGDHXu3PmWfdetW6cxY8Zo6tSpt4RQSfrf//6n8ePHKykpSenp6Zo2bZpSUlLUunXrAq2ZIAoAAGANR8eCf9hoypQpyszMVMuWLdWlSxc1bdpUkZGRkqSAgACtWLFCkjRt2jRlZWUpOjpaAQEB5seoUaMkSe%2B8844qV66sjh07Kjg4WLGxsZo7d648PDxsrvFGnJoHAACwhh2%2Bj6inp6emTJmS67a4uDjz9ytXrrztPB4eHnrnnXcKtLbc2N8KAgAAoFCgIwoAAGANO%2ByI3m8IogAAANYgiNqMFQQAAIAh6IgCAABYg46ozVhBAAAAGIKOKAAAgDXoiNqMIAoAAGANgqjNHrgVPH78uGrVqqXjx48bXYokyWQyaejQofL391dISIhMJtNt94%2BIiNDUqVNz3da2bVvzJyLczN5eNwAAwJ3QEb3HEhMTtWrVKi1dulR16tSxaa7Vq1cXUFUAAMBmdERt9o8F0ePHj6tly5Z6%2B%2B23NXPmTF28eFGPPvqo3nnnHf3888%2BaNm2afvjhB/P%2BERERatCggaKiojRixAi5u7vrxIkTio2Nlaenp9566y1t2LBBK1askKurqwYPHqznnnvOfPzy5cu1fPlypaamKiQkRCNGjFDx4sUlST///LMmTZqkI0eOqGzZsnrppZfUoUMHSdKIESOUmpqq/fv36/z581q0aJEqV65829e2fft2ffTRR9q3b59KliypDh06KDIyUgcOHFB4eLgkqWvXrurdu7eio6PzvWZ79%2B5V79691a9fP/Xs2VMhISEaOHCgnnnmGaWkpGjcuHHasGGD3N3d9fzzz1sc%2B/XXX%2Bvzzz/XhQsXVL58eXXv3t1ife4kMTFRSUlJFmNeZcrI28sr33MUGn/9d2U4NzfLr/YgIMDoCnLUrm351R44ORldQY7rf0j5g2qJdcmbva1NVpbRFcAG/3hH9Mcff9Ty5cuVnp6uXr16acaMGfL397/jcUuWLNGcOXM0c%2BZMDR8%2BXC%2B88IJee%2B01/fLLL/r666/11ltvqWPHjub9t2/frkWLFik7O1uRkZGaMGGCJkyYoPj4ePXv318ffPCBWrZsqV27dikyMlKlS5dW06ZNJUlbtmxRTEyMypUrp5IlS962rkOHDqlXr14aNmyY5s6dq1OnTikqKkopKSl64403tGrVKrVs2VKrVq1SxYoV871Of/zxh/r06aOhQ4fmGiDfeustHTt2TOvXr5ejo6OGDh1q3paQkKB33nlH3333napXr64tW7ZowIABeuKJJ%2BTt7Z2v54%2BJidG0adMsxgYOGKCouwjS95y9/CEPDDS6AksPP2x0BX/bscPoCix9/bXRFdgve/kHlb1hXfJmL2tz/rxxz20vYfw%2B9o8H0b59%2B5rDXUhIiOLi4vIVRB9//HEFBQWZv9%2B8ebMiIiIkSS1atND48eN19uxZ8/4jRozQQw89JEmKjo5W//799fbbb2vhwoVq2bKlnnzySUlS/fr11aVLFy1YsMAcRP39/eXn55ev17Ny5UrVqlVLPXr0kCRVqVJFQ4cOVXR0tF5//fV8zXGzPXv26Msvv9SLL76YawhNT0/X2rVrNWvWLJUpU0aS9Morr5iDuJOTk0wmkxYuXKjQ0FA1bNhQO3fulONd/MKEhYUpJCTEYsyrTBn7%2BZenk5P91LJzp9EV5HBzywmhe/dKV68aXU2Ovn2NriBH7do5ITQ8XIqPN7qaHD/%2BaHQFORwdcwJFSoqUnW10NfaDdckba/M3gqjN/vEg6unp%2BfeTOzvf8ead6zw8PMzfOzk5WXQqHRwcJEnZN/xC3Nh9LF%2B%2BvNLT03XhwgWdOHFCW7duNYdaScrKyrI4/Z7frqEkJScnq1KlShZjFStWVFpampKTk/M9z41%2B/vlnBQQEaNWqVerRo4dcXV0ttp8/f17p6ekqX768eezGGipUqKD58%2Bfrs88%2BU79%2B/ZSVlaVnnnlGw4cPV5EiRfJVg7e3963rYC/Bz96kpBhdgaWrV%2B2nprg4oyuwFB9vPzXZ2%2B9Tdrb91WQPWJe8sTYoAHYR5R0dHZWenm4xdv6mVvv1sJlfZ86cMX9//Phxubu766GHHlK5cuX09NNPa/v27ebHunXr9Omnn1r1XD4%2BPjp27JjF2LFjx%2BTq6qpSpUrdVc3X9ezZUzNmzNDly5dzvYO%2BdOnSKlKkiBISEsxjp0%2BfNn%2BfnJysrKwsTZ8%2BXdu2bdOnn36qNWvWaPHixVbVAwAAcuHoWPCPQsYuXrGvr6/Onj2rrVu3ymQy6bvvvtPBgwdtmvODDz7QxYsXdfr0aU2ePFlhYWGSpM6dO2vVqlX6z3/%2Bo%2BzsbB05ckTdunXT559/btXztG3bVgcPHtQXX3yh9PR0HTt2TJMmTVL79u1v6WTml4uLi4oVK6bx48fr888/146brrNzdXVVp06dNHnyZJ0%2BfVqXL1/WBx98YN5%2B8uRJ9e7dW7/88oscHR1VtmxZSTkBFgAAwF7Yxds3PfLII%2Brfv79GjBihK1euqFWrVgoNDbVpzoCAAP3rX/%2BSo6Oj2rVrpyFDhkiS6tWrp0mTJmnSpEkaNGiQ3Nzc1K5dO7388stWPU/FihX12WefadKkSZo6daqKFi2qdu3aafDgwTbVL0kNGzbUc889p1dffVXfffedxbaRI0fqnXfeUfv27eXs7Kzu3btr06ZNknLWc9SoURozZowSExNVokQJhYeHq02bNjbXBAAA/lIIO5gFzcGU34s0AXu6Fsieblb6z3%2BMriBH8eI5d/D/9pv9XCPavLnRFeQICMi5g79%2Bffu5RvTcOaMryOHkJJUsKV26ZD%2B/U/aAdcmbPa6NUWf8bDx7mytf34Kf044R5QEAAGAIuzg1b6%2BSk5PVqlWr2%2B4TdxfdlfHjx9/2hqGXXnpJ/fr1y/d8AADAQJyatxlB9DbKlClzV0HzTkaOHKmRI0cW2HwAAAD3M4IoAACANeiI2owgCgAAYA2CqM1YQQAAABiCjigAAIA16IjajBUEAACAIeiIAgAAWIOOqM0IogAAANYgiNqMFQQAAIAh6IgCAABYg46ozVhBAAAAGIKOKAAAgDXoiNqMIAoAAGANgqjNWEEAAAAYgo4oAACANeiI2owVBAAAgCHoiAIAAFiDjqjNCKIAAADWIIjajBUEAACAIeiIAgAAWIOOqM1YQQAAABiCjigAAIA16IjajCAKAABgDYKozVhBAACAB0RycrIiIyMVFBSk4OBgjR8/XpmZmbnuu3nzZrVv317%2B/v5q06aNNm3aZLF99uzZatasmfz9/RUREaFDhw4VeL0EUQAAAGs4Ohb8w0aDBw%2BWu7u7tmzZosWLF%2BuXX37RvHnzbtnvyJEjioqK0qBBg7R9%2B3ZFRUVp8ODBOnPmjCRp2bJlmj9/vubMmaNt27apTp06io6OlslksrnGGxFEAQAAHgBHjx5VbGyshg8fLjc3N1WqVEmRkZFasGDBLfsuW7ZMQUFBatWqlZydnfXUU0/pscceU0xMjCRp0aJFCg8PV82aNVWkSBENHTpUJ0%2Be1LZt2wq0Zq4RRb5lZDsZXYKZi5P91HO88hNGlyBJcnWVfCSdKBeo9HSjq8lR7dw5o0vI4fTXfys//ihlZRlaitlDDxldQY6AAGnHDql5cykuzuhq7Afrkjd7XJsC7tLl2z24RjQxMVFJSUkWY15eXvL29r7jsfv375eHh4fKli1rHvP19dXJkyd16dIllSxZ0jx%2B4MAB%2Bfn5WRxfo0YNxcfHm7f37dvXvM3FxUVVq1ZVfHy8Hn/8cateW24IogAAAFYwyaHA54yJidG0adMsxgYOHKioqKg7HnvlyhW5ublZjF3/OTU11SKI5rZv0aJFlZqamq/tBYUgCgAAYCfCwsIUEhJiMebl5ZWvY93d3XX16lWLses/FytWzGLczc1NaWlpFmNpaWnm/e60vaAQRAEAAKyQnV3wc3p7e%2BfrNHxuatasqQsXLujs2bPy9PSUJB08eFDlypVTiRIlLPb18/PTnj17LMYOHDigunXrmufav3%2B/WrRoIUnKyMjQkSNHbjmdbytuVgIAALBCdnbBP2xRtWpVBQYGasKECUpJSVFCQoJmzJihzp0737Jvhw4dFBsbqzVr1igzM1Nr1qxRbGysOnbsKEl69tln9dVXXyk%2BPl7Xrl3Thx9%2BKE9PTwUFBdlW5E0IogAAAA%2BIKVOmKDMzUy1btlSXLl3UtGlTRUZGSpICAgK0YsUKSTk3MU2fPl2ffPKJHnvsMc2YMUNTp05VtWrVJEmdO3dWz549NWDAAD3%2B%2BOPau3evPvnkE7m4uBRovZyaBwAAsMK9ODVvK09PT02ZMiXXbXE3vctB06ZN1bRp01z3dXBwUO/evdW7d%2B8Cr/FGdEQBAABgCDqiAAAAVrDHjuj9hiAKAABgBYKo7Tg1DwAAAEPQEQUAALACHVHb0REFAACAIeiIAgAAWIGOqO0IogAAAFYgiNqOU/MAAAAwBB1RAAAAK9ARtR0dUQAAABiCjigAAIAV6IjajiAKAABgBYKo7Tg1DwAAAEPQEQUAALACHVHb0REFAACAIeiIAgAAWIGOqO0IogAAAFYgiNqOU/MAAAAwBB1RAAAAK9ARtR0dUQAAABiCjigAAIAV6IjajiAKAABgBYKo7Tg1DwAAAEPQES0EsrKydPLkSVWqVMnoUgAAeGDQEbVdoe%2BIzpo1S3369DG6jHtqyJAhWr58udFlAAAAWCj0HdF%2B/foZXcI9d/78eaNLAADggUNH1HaFoiN6/Phx1apVS/Pnz1fjxo0VGBio4cOHKyUlRVOnTlVERIQkaenSpfr3v/%2Btt99%2BW48//rgaNmyokSNHKiMjQ1LOKe6PP/5YjRs3VqNGjTR69Gg9//zzWrp0ab7q2LNnjyIiIhQQEKAmTZpo8uTJMplMkqTt27era9euCgoKUkhIiD7%2B%2BGOlp6dLkkWN14WEhJifNyIiQh9%2B%2BKG6du2qgIAAtWnTRmvWrJEkjRw5Utu3b9cnn3xSKEI3AAD/lOzsgn8UNoWqI7p%2B/XqtXLlSWVlZGjBggMaOHavKlStb7LNjxw41a9ZMW7Zs0Z9//qkePXqoUaNGatu2rebMmaMVK1boiy%2B%2BUOXKlTV16lTFxcWpS5cud3zuCxcuqHfv3oqIiNCcOXN0%2BvRpRUREqGzZsmrQoIF69eqlYcOGae7cuTp16pSioqKUkpKiN954I1%2BvbdGiRZo7d65q1Kih6dOna9SoUWrZsqXGjx%2BvY8eOqUGDBoqKisr3WiUmJiopKclirHRpL3l5eed7jsLC1dXoCnK4uFh%2BtQtOTkZXkMPR0fKrPQgIMLqCHLVrW35FDtYlb/a2NnFxRlcAGxSqIPraa6/poYcekiRFR0erf//%2B6tmzp8U%2BRYsWVb9%2B/eTg4KBHH31UtWrV0uHDhyVJixcv1osvvqgaNWpIkgYPHqxly5bl67k3bdqkIkWKaMCAAXJwcFDlypU1d%2B5cubu7KyYmRrVq1VKPHj0kSVWqVNHQoUMVHR2t119/PV/zh4aG6uGHH5YkPf3005o1a5aSk5NVoUKFfB1/s5iYGE2bNs1ibMCAgYqOzn%2BYvdfsJXD5%2BBhdgSVvu/q3QkmjC7BUvLjRFfxtxw6jK7D09ddGV2CfWJe82cvaODgY9tSFsYNZ0ApVEK1SpYr5%2B/Llyys9PV0XL1602KdMmTJyuOE/ahcXF/Pp81OnTsnnhtTh5OSU76CXlJSk8uXLW8xdvXp1SVJycvItd7RXrFhRaWlpSk5Oztf8Xl5e5u%2BdnXP%2BZ8224TckLCxMISEhFmOlS3vpr6sUDOfiIrupJTHR6ApyuLjkhNDERPtZG58Sl4wuIYejY04ITUmxn78czZsbXUGO2rVzAkV4uBQfb3Q19oN1yRtrgwJUqILomTNnzOHv%2BPHjcnNzU%2BnSpc0dzzupUKGCTp48af7ZZDLp1KlT%2BTq2XLlyOnXqlEwmkzmMbtiwQSkpKfLx8dH69est9j927JhcXV1VqlQpOTo6mq9TlXIC5oULF/L1vNby9vaW902tNXsJN/bmr0t57UZGhh3VlJVldAWWsrPtpyZ7O50YH29/NdkD1iVvrI3d/Lv2fmZHF0zdex9%2B%2BKFSUlJ05swZTZkyRR07djR3D/MjLCxMn3/%2BuQ4fPqz09HRNnz5diflshzVv3lyZmZmaNWuW0tPTdezYMU2YMEHXrl1T27ZtdfDgQX3xxRfmbZMmTVL79u3l6uoqX19f7du3T/v371dmZqY%2B%2B%2Bwzpaam5rtuV1dXXb58Od/7AwCAO%2BNmJdsVqiBauXJltWvXTh06dFBAQEC%2Br7%2B8rkePHgoJCdHzzz%2Bv5s2b68KFCypXrpxc8nGxYsmSJTVnzhz98ssvatKkiSIiIvT8888rLCxMFStW1GeffaZ169apUaNGCg8PV%2BPGjTVq1ChJUqtWrdS%2BfXv17NlTTZs21fnz5xUYGJjvujt16qQlS5YoPDz8rl4vAADAveRgun4B5APs%2BPHjatmypTZu3KiKFStaPc%2BuXbvk4%2BMjT09PSTmn5h9//HFNmjRJjRs3Lqhy7ZY9nZq3p2tEjx83uoIcrq45N06dOGE/p%2BaredjJe9g6OUklS0qXLtnPqfm/bpw0XEBAzo1T9esX%2BtOsFliXvNnj2hgUZe7Fy7eXN9T4pxSqjqitVq5cqVdeeUWXL19WZmam5s6dK0ny9/c3uDIAAID7T6G6WclWgwcP1ltvvaXWrVsrPT1dderU0Zw5c1SsWDEFBweb34A%2BN6tXr7b6rZQAAID9KYzXdBa0QhFEK1asqH379tk8T/HixfX%2B%2B%2B/num3btm02zw8AAO4fBFHbcWoeAAAAhigUHVEAAICCRkfUdgRRAAAAKxBEbcepeQAAABiCjigAAIAV6IjajiAKAABQSKSmpmrcuHH64YcflJmZqZYtW2r06NEqVqxYrvuvW7dOM2bMUEJCgjw8PPTMM88oMjJSjo45J9XbtGmjkydPmn%2BWpMWLF8vX1zdf9RBEAQAArHA/dkTHjRunU6dOad26dcrKytLgwYM1ceJEjR49%2BpZ9//jjD73yyiv6%2BOOP9cQTT%2Bjw4cPq27ev3N3d1bt3b6WkpOjw4cPauHGjfHx8rKqHa0QBAACskJ1d8I976erVq1q5cqWio6Pl4eGhMmXKaNiwYVq6dKmuXr16y/4nTpzQ888/rxYtWsjR0VG%2Bvr5q3bq1fv31V0k5QdXDw8PqECrREQUAALAbiYmJSkpKshjz8vKSt7d3vo5PS0vTmTNnct129epVZWRkyM/Pzzzm6%2BurtLQ0HTlyRP/v//0/i/1DQ0MVGhpqMfePP/6o9u3bS5J2794tNzc3devWTfv375ePj4%2BioqLUokWLfNUqEUQBAACsci86mDExMZo2bZrF2MCBAxUVFZWv43ft2qXu3bvnum3QoEGSJHd3d/OYm5ubJOnKlSu3nTclJUWDBg1S0aJF1bNnT0mSg4ODHnnkEb388suqUKGCvv/%2Be0VFRemrr76Sv79/vuoliAIAANiJsLAwhYSEWIx5eXnl%2B/jg4OA8P9Z87969mjx5sq5evWq%2BOen6KfnixYvnOeehQ4cUHR2tMmXK6MsvvzTv26dPH4v9OnTooFWrVmndunUEUQAAgHvpXnREvb29830a/m5Vq1ZNLi4uOnDggOrVqydJOnjwoFxcXFS1atVcj9m8ebNefvlldenSRUOHDpWz89/Rcc6cOXr44YfVsGFD81h6erqKFCmS75q4WQkAAMAK99vNSm5ubmrTpo0mTpyoc%2BfO6dy5c5o4caLatWunokWL3rL/zp07NWDAAL322mt69dVXLUKoJJ06dUpjx45VQkKCMjMztXjxYsXFxenpp5/Od00EUQAAgEJi9OjRqlq1qtq3b69//etfqlixokaNGmXe3rZtW82aNUuSNGvWLGVmZmr8%2BPEKCAgwP66fkn/llVfUrFkzhYeHKygoSAsXLtSnn36qKlWq5LseB5PJZCrYl4gHVUaG0RX8zcXFfuo5ftzoCnK4uko%2BPtKJE1J6utHV5Kjmcd7oEnI4OUklS0qXLklZWUZXk%2BOhh4yuIEdAgLRjh1S/vhQXZ3Q19oN1yZs9ro1BUWbduoKf84ab1AsFOqIAAAAwBDcrAQAAWOF%2B/GQle0MQBQAAsAJB1HacmgcAAIAh6IgCAABYgY6o7eiIAgAAwBB0RAEAAKxAR9R2BFEAAAArEERtx6l5AAAAGIKOKAAAgBXoiNqOjigAAAAMQUcUAADACnREbUcQBQAAsAJB1HacmgcAAIAh6IgCAABYgY6o7eiIAgAAwBB0RAEAAKxAR9R2BFEAAAArEERtx6l5AAAAGIKOKAAAgBXoiNqOjigAAAAMQUcUAADACnREbUcQBQAAsAJB1HacmgcAAIAh6IgCAABYgY6o7eiIAgAAwBB0RAEAAKxAR9R2BFEAAAArEERtx6l5AAAAGIKOKAAAgBXoiNqOIAoAAGAFgqjtODUPAAAAQ9ARBQAAsAIdUdvREQUAAIAh6IgCAABYgY6o7QiiAAAAViCI2o5T8wAAADAEHVEAAAAr0BG1HR1RAAAAGIKOKAAAgBXoiNqOIAoAAGAFgqjtODUPAAAAQxBEC4GsrCwlJCQYXQYAAA%2BU7OyCf9xrqampeu211xQcHKzAwEC98sorunLlSp77jx49WnXr1lVAQID5ERMTY94%2Be/ZsNWvWTP7%2B/oqIiNChQ4fuqp67CqLHjx9XrVq1dPz48bt6kvvJza8xICBA27dvv%2BfPm5qaqhdeeEH16tVT165dNWLECI0YMaJA5h4yZIiWL19eIHMBAID717hx43Tq1CmtW7dO69ev16lTpzRx4sQ899%2B9e7fGjRunuLg48yMsLEyStGzZMs2fP19z5szRtm3bVKdOHUVHR8tkMuW7HjqidxAXF6egoKB7/jx//vmn/vOf/2jz5s1asGBBgc59/vz5Ap0PAADcfx3Rq1evauXKlYqOjpaHh4fKlCmjYcOGaenSpbp69eot%2B6enp%2Bt///uf6tatm%2Bt8ixYtUnh4uGrWrKkiRYpo6NChOnnypLZt25bvmqwKoitXrlSbNm3k7%2B%2Bvnj176syZM5KkDRs26JlnnlH9%2BvUVGhqqefPmKfuvVc2tw1erVi1zsSEhIRo1apQaN26sTp06KT09XWPGjFHjxo0VHBys8PBw/fbbb/mqLzs7W59%2B%2BqlatWqlwMBAde7cWVu2bDFvDwkJ0SeffKJOnTopICBAnTp10tatW3Od6%2BYab3fcsWPH1K9fPwUHB6tFixb66KOPlJ6efsd6N2zYoF69ekmSWrRooW%2B//faWfb799lu1bdtW9evXV/v27bVixQrztjNnzmjw4MEKCQlRvXr11LJlSy1evFiSNHLkSG3fvl2ffPKJ%2BvXrl4/VAwAA%2BWGPQTQtLU1Hjx7N85GRkSE/Pz/z/r6%2BvkpLS9ORI0dumSs%2BPl6ZmZmaMmWKGjVqpNDQUH366afmbHfgwAGLuVxcXFS1alXFx8fnu16r7prfs2ePFi1apOzsbPXs2VPTp0/XU089pcGDB%2Bv999/Xk08%2BqX379ikyMlKS1LNnz3zN%2B/vvv2vt2rWScsJuXFyc1q5dq2LFimnKlCkaO3asRQDLy/Tp07V48WLNmDFDtWrV0vr16xUZGakFCxbo0UcflSQtWbJEs2fPlre3t8aOHasxY8bo%2B%2B%2B/v%2BPceR2Xmpqqnj17qm3btpo8ebLOnTun6OhoZWdna%2BjQobeds1WrVpo9e7a6d%2B%2BuuLg4SbII3UuXLtW7776radOmqUGDBoqNjdXAgQPl5uam1q1b64033pCHh4dWr14tV1dXffnllxo3bpzatGmj8ePH69ixY2rQoIGioqLu%2BPquS0xMVFJSksVY6dJe8vLyzvcchYWrq9EV5HBxsfxqF5ycjK4gh6Oj5X3uJUgAACAASURBVFd7EBBgdAU5ate2/IocrEve7G1t/vq7%2BaDI7e%2Bvl5eXvL3z9/d3165d6t69e67bBg0aJElyd3c3j7m5uUlSrteJXr58WQ0aNFBERIQmTZqkP//8UwP%2Bf3t3HlZj3v8B/H2ihNCitBHjMcIMIsKMLTVUZCmTtcWSddAYuxn7MDO2qLFv2coSU3YmxphRss5gMJaUolQjTykt5/z%2B6Oc8zlTklL5neb%2Buy6Xzvc%2B5e3dfLZ/z3e5x46Cjo4MRI0YgKytL/vpX9PX18eLFi1JlBZQsREePHo0aNWoAADp27Ig//vgD4eHh6NatG1xdXQEAzZo1g7%2B/P7Zv317qQrR79%2B6oWbMmgMIv5NGjR9i3bx86deqEiRMnIiAgoFTn2b9/P/z9/dGsWTMAgKurK44fP459%2B/bJC1FPT0/Y2NgAAHr16lXqOZQlve7MmTPIzc3Fl19%2BCYlEAgsLC0ycOBETJkx4ayFamq/Hy8sL7du3BwC0b98eXl5eCA0NhbOzMxYuXIjq1atDV1cXSUlJqF69OnJycpCRkYHq1asr9TnDwsIQFBSk0DZu3HhMmFD6YvZ9U5WCy8pKdAJFpfxdVUFqig6gyMBAdIL/uXxZdAJFu3aJTqCaeF1KpirXRiIR9qnfx1B6cX9/x48fX%2BrOJAcHB9y%2BfbvYYzdv3kRgYCCys7Pl9cGrIXmDYn4/fvLJJ/jkk0/kj5s3bw4fHx8cOXIEI0aMQNWqVZGTk6PwmpycnHeqPZQqRA0NDeUf6%2BrqoqCgAGlpaWjSpInC86ytrZGYmFjq875e7bu5uSEvLw979%2B7F8uXLYWJigtGjR2PgwIFvPU9qairq1q1bJMvrXcW1a9eWf1y5cuVST6wt6XWJiYlIT09HmzZt5MdlMhny8vKQlpYGExOTUp2/OCV9PVFRUQCAhIQEfP/994iLi0P9%2BvXlhbK0DD8hXl5ecHR0VGgzMjJFXp7SpyxXurpQmSwpKaITFNLVLSxCU1JU59pY1XguOkIhHZ3CIjQzU3U2/uvSRXSCQra2hQXFoEHAOwynaTxel5Lx2rxXxf39NTU1LZdzN2jQALq6urh79y5atGgBALh37558SP3fTp06hdTUVAwYMEDelpubC319fQBAo0aN8Pfff6Nr164AgLy8PMTFxSkM179NuW1ob2Vlhfj4eIW2hIQE%2BcXT0dHBy5cv5cfS09OLnEPy2ruaBw8eoFmzZujTpw9ycnJw7NgxTJs2Dfb29mjUqNFbs/x7u6KEhIRSd2srw9zcHPXq1VMY3s/MzERaWhqMjY3LdG5ra%2BsSr21eXh5GjRqFL7/8EoMGDYJEIsH169dLNYXhTczMzIpcL1UpblRNKaYBV6i8PBXKVFAgOoEiqVR1MqnacOKtW6qXSRXwupSM1%2Ba9vK8t7u9vealatSpcXFywdOlSBAYGAgCWLl2Knj17yovL18lkMixevBg2NjZo164drl69ipCQEMyYMQMA4OHhgdWrV6NTp05o0KABVqxYgdq1a7/TIu9ymzDl4eGBqKgoHD16FAUFBbh58yY2bNgADw8PAIWTYS9evIjk5GTk5OQgODhYofD8t9OnT2P8%2BPF49OgR9PX1YWhoiMqVK8unBLxJ//79sX79ety4cQMFBQU4evQooqKi0Ldv3/L6covo2rUrsrKysHHjRuTm5uL58%2BeYNm0aAgIC3vh1loanpyfCwsJw/vx5FBQUIDo6GmFhYfDw8EBeXh5ycnKgr68PiUSCpKQk/PDDDwAK35kAgJ6eHv773/%2BW%2BWskIiKi/1HFxUpvM2fOHNSvXx%2B9evVCjx49YG1tjW%2B%2B%2BUZ%2B3M3NDWvXrgUAODs7Y8aMGZg7dy7s7OwwZcoUfPHFF%2BjduzeAwvrE19cX48aNQ7t27XDz5k2sW7cOuu8wd67cekRbtGiBwMBABAcHY%2BbMmTAyMsLAgQMxcuRIAIVdzX/%2B%2BSfc3d2hp6cHHx8fWFpalng%2Bb29vJCcnY8CAAcjMzISVlRVWrFgBc3Pzt2bx8/ODVCpFQEAAnj59ChsbGyxfvhxt27Ytry%2B3CAMDA2zduhVLlizBxo0bIZVK4eDggDVr1pT53C4uLsjMzMTChQuRlJSEOnXqYOrUqejTpw8A4Ntvv0VgYCAWLlwIExMTfP7557h79y7u3LmDBg0aoE%2BfPpg7dy6uX7%2BOXaoyp4eIiIgqnIGBARYsWIAFCxYUe/zw4cMKjwcMGKAwNP86iUSCYcOGYdiwYUrnkcjeZddR0mqqNDSvSnNEVeX%2BDnp6hQunEhNVZ2i%2BgaGK7GFbqRJQsybw/LnqDM2XccpOubGzK1w41aqV1g%2BzKuB1KZkqXhtBpcz/j1CXq8WLy/%2BcqkyF9jIhIiIiIm1SbkPzFWXLli1YtWpVicd79eqF%2BfPnV2Cit1PHzERERPRmqrIJhzpTu0LUz89PfhcidaGOmYmIiOjNWIiWHYfmiYiIiEgItesRJSIiIlIF7BEtO/aIEhEREZEQ7BElIiIiUgJ7RMuOhSgRERGREliIlh2H5omIiIhICPaIEhERESmBPaJlxx5RIiIiIhKCPaJERERESmCPaNmxECUiIiJSAgvRsuPQPBEREREJwR5RIiIiIiWwR7Ts2CNKREREREKwR5SIiIhICewRLTsWokRERERKYCFadhyaJyIiIiIh2CNKREREpAT2iJYde0SJiIiISAj2iBIREREpgT2iZcdClIiIiEgJLETLjkPzRERERCQEe0SJiIiIlMAe0bJjIUpERESkBBaiZceheSIiIiISgj2iREREREpgj2jZsUeUiIiIiIRgjygRERGREtgjWnYsRImIiIiUwEK07Dg0T0RERERCsEeUiIiISAnsES079ogSERERkRDsESUiIiJSAntEy46FKBEREZESWIiWHYfmiYiIiEgI9ogSERERKYE9omXHHlEiIiIiEoI9okRERERKYI9o2bEQJSIiIlICC9Gy49A8EREREQnBHlEiIiIiJahjj%2BiLFy%2BwYMECREVFIT8/H926dcOcOXNQvXr1Is/95ptvEBkZqdCWk5ODDh06YNOmTZBKpWjdujVkMhkkEon8Ob/99huqVatWqjzsESUiIiLSEgsWLMDjx49x/PhxnDhxAo8fP8bSpUuLfe78%2BfNx5coV%2Bb/Vq1ejZs2amD59OgDg7t27yMvLw4ULFxSeV9oiFGAhSkRERKQUqbT8/71P2dnZiIyMxIQJE2BoaAgTExN89dVXCA8PR3Z29htfm56ejq%2B%2B%2BgqzZs1Co0aNAAB//vknGjduDD09PaUzcWieiIiISAnvo3BMSUnB06dPFdpMTU1hZmZWqtfn5OQgOTm52GPZ2dnIy8vDhx9%2BKG9r2LAhcnJyEBcXhyZNmpR43qVLl%2BKjjz6Cu7u7vO3PP//Ey5cv4eHhgcTERDRs2BCTJ09Gq1atSpUVYCFKREREpDLCwsIQFBSk0DZ%2B/Hh88cUXpXr9tWvX4O3tXeyxiRMnAoDC0HnVqlUBAFlZWSWeMyEhAREREdi7d69Cu76%2BPpo3b46JEyeiVq1a2LlzJ4YPH46IiAjUrVu3VHlZiBIREREp4X30iHp5ecHR0VGhzdTUtNSvd3BwwO3bt4s9dvPmTQQGBiI7O1u%2BOOnVkLyBgUGJ59y/fz/s7OyK9Ji%2Bmiv6yvDhwxEeHo5ffvkFQ4YMKVVeFqJEREREKsLMzKzUw/DvqkGDBtDV1cXdu3fRokULAMC9e/egq6uL%2BvXrl/i6EydOYNiwYUXaV6xYge7du6Np06byttzcXFSpUqXUmbhYiYiIiEgJ6rZYqWrVqnBxccHSpUuRnp6O9PR0LF26FD179oS%2Bvn6xr/nnn39w7949tGnTpsixO3fuYNGiRXj69Clyc3MRFBSEzMxMODs7lzoTC1EiIiIiJahbIQoAc%2BbMQf369dGrVy/06NED1tbW%2BOabb%2BTH3dzcsHbtWvnjR48eAQDq1KlT5FyLFy9GvXr10Lt3bzg4OODChQvYsmULDA0NS52HQ/NEREREWsLAwAALFizAggULij1%2B%2BPBhhccff/xxiXNODQ0NsXjx4jLlYSFKREREpAR1vLOSquHQPBEREREJwR5RIiIiIiWwR7TsWIgSERERKYGFaNlxaJ6IiIiIhGCPKBEREZES2CNaduwRJSIiIiIh2CNKREREpAT2iJYdC1EiIiIiJbAQLTu1HJp/9OgRGjduLL/tlCb699doZ2eHixcvCk5FREREVH7YI6omrly5IjoCERERvYY9omWn1oVoZGQkIiIi8PjxY7Rs2RLfffcd6tSpg1OnTuHHH39EXFwcTE1NMXDgQHh7e0NHRwfTp08HACxZskR%2BnsaNGyMkJAQODg5wdHTEp59%2Bip9//hmmpqbYs2cPvv32W5w8eRL5%2Bflo2LAhJk%2BejNatW781n1QqxcaNG7Fnzx78888/aNCgASZOnIiOHTsCABwdHeHl5YWjR4/i4cOHsLGxwfTp09GuXbsi5/p3xje9Lj4%2BHt9%2B%2By2uXLmCatWqwd3dHePGjYOenl6pr21KSgqePn2q0GZkZApTU7NSn0NbvMNlfa90dRX/VwmVKolOUEhHR/F/VWBnJzpBIVtbxf%2BpEK9LyVTt2rCjRq2pdSF648YN7NmzB1KpFL6%2BvggODoarqysmTZqE77//Hp999hlu376NsWPHAgB8fX1Ldd4//vgDR48eBVBY7F65cgVHjx5F9erVsWrVKsybNw8RERFvPU9wcDD27duHH3/8EY0bN8aJEycwduxY7Ny5E82bNwcA7N%2B/Hxs2bICZmRnmzZuHuXPn4tixY289d0mve/HiBXx9feHm5obAwECkp6djwoQJkEqlmDx5cqm%2BfgAICwtDUFCQQtu4ceMxYcIXpT7H%2B6YqBZeVlegEisxU6r1CTdEBFBkYiE7wP5cvi06gaNcu0QlUE69LyVTl2kgkwj41e0TLTq0L0dGjR6NGjRoAgI4dO%2BKPP/5AeHg4unXrBldXVwBAs2bN4O/vj%2B3bt5e6EO3evTtq1iz8A6qvr49Hjx5h37596NSpEyZOnIiAgIBSnWf//v3w9/dHs2bNAACurq44fvw49u3bJy9EPT09YWNjAwDo1asXDh48WKpzl/S6M2fOIDc3F19%2B%2BSUkEgksLCwwceJETJgw4Z0KUS8vLzg6Oiq0GRmZIi%2Bv1Kd4r3R1oTJZUlJEJyikq1tYhKakqM61sarxXHSEQjo6hUVoZqbq/OXo0kV0gkK2toUFxaBBwK1botOoDl6XkvHayKnKrxN1ptaFqKGhofxjXV1dFBQUIC0tDU2aNFF4nrW1NRITE0t9XrPXupTc3NyQl5eHvXv3Yvny5TAxMcHo0aMxcODAt54nNTUVdevWLZLl1ms/uLVr15Z/XLlyZchkslJlLOl1iYmJSE9PR5s2beTHZTIZ8vLykJaWBhMTk1Kd38zMTOE6AKpT3Kia3FzRCRTl5alQpoIC0QkUSaWqk0nVhhNv3VK9TKqA16VkvDZUDtS6EC2OlZUV4uPjFdoSEhJgamoKANDR0cHLly/lx9LT04ucQ/JaN/%2BDBw/QrFkz9OnTBzk5OTh27BimTZsGe3t7NGrU6K1ZEhISimT5d4FXnszNzVGvXj2F4f3MzEykpaXB2Nj4vX1eIiIibcMe0bJToZn75cPDwwNRUVE4evQoCgoKcPPmTWzYsAEeHh4AgIYNG%2BLixYtITk5GTk4OgoODFQrPfzt9%2BjTGjx%2BPR48eQV9fH4aGhqhcubJ8SsCb9O/fH%2BvXr8eNGzdQUFCAo0ePIioqCn379i23r/ffunbtiqysLGzcuBG5ubl4/vw5pk2bhoCAgDd%2BnURERPRupNLy/6dtNK5HtEWLFggMDERwcDBmzpwJIyMjDBw4ECNHjgRQOPfxzz//hLu7O/T09ODj4wNLS8sSz%2Bft7Y3k5GQMGDAAmZmZsLKywooVK2Bubv7WLH5%2BfpBKpQgICMDTp09hY2OD5cuXo23btuX29f6bgYEBtm7diiVLlmDjxo2QSqVwcHDAmjVr3tvnJCIiIlKGRFbaSYmk9VRpjqgqLVZSlfsq6OkVruBPTFSdOaINDP8RHaFQpUpAzZrA8%2BeqM0dUVabK2NkVruBv1Yrz/V7H61IyVbw2gkqZhg3L/5z37pX/OVWZxg3NExEREZF60Lih%2BYqyZcsWrFq1qsTjvXr1wvz58yswEREREVUkbZzTWd5YiCrJz88Pfn5%2BomMQERGRICxEy45D80REREQkBHtEiYiIiJTAHtGyY48oEREREQnBHlEiIiIiJbBHtOxYiBIREREpgYVo2XFonoiIiIiEYI8oERERkRLYI1p27BElIiIiIiHYI0pERESkBPaIlh0LUSIiIiIlsBAtOw7NExEREZEQ7BElIiIiUgJ7RMuOPaJEREREJAR7RImIiIiUwB7RsmMhSkRERKQEFqJlx6F5IiIiIhKCPaJERERESmCPaNmxR5SIiIiIhGCPKBEREZES2CNadixEiYiIiJTAQrTsODRPREREREKwECUiIiJSglRa/v8qSnZ2Nry8vBAeHv7G5127dg39%2B/eHnZ0dHB0dsXfvXoXjBw4cgLOzM1q2bIl%2B/frhypUr75SDhSgRERGRFvn7778xePBgXL169Y3Py8jIgL%2B/P/r06YPY2FgsWrQIixcvxh9//AEAiImJwYIFC7BkyRLExsbC3d0dY8aMQXZ2dqmzsBAlIiIiUoI69oieP38ePj4%2B6Nu3LywtLd/43BMnTsDQ0BCDBw9G5cqV0b59e/Tq1Qs7d%2B4EAOzduxdubm5o3bo1dHV14evrCyMjIxw5cqTUebhYiYiIiEgJ76NwTElJwdOnTxXaTE1NYWZmVqrX5%2BTkIDk5udhjpqamsLW1xenTp1GlShVs2bLljef6%2B%2B%2B/8eGHHyq0/ec//8G%2BffsAAHfv3oWHh0eR47du3SpVVoCFKL0DXV3RCQqlpKQgLCwMXl5epf7BfJ8aNBCdoFBKSgpWry68LlZW4q9LISPRAQD8//fMtm0q8z0DAJDJRCcA8P/XZvVqeB07pjrXRgXwupSM1%2BZ/3seP8erVYQgKClJoGz9%2BPL744otSvf7atWvw9vYu9lhwcDCcnJxKnSUrKwtVq1ZVaNPX18eLFy9Kdbw0WIiS2nn69CmCgoLg6Oio9b8EX8frUjJem5Lx2hSP16VkvDbvl5eXFxwdHRXaTE1NS/16BwcH3L59u1yyVK1aFf/9738V2nJyclC9enX58ZycnCLHjYxK3wnBQpSIiIhIRZiZmalMgf/hhx/it99%2BU2i7e/cuGjVqBABo1KgR/v777yLHO3XqVOrPwcVKRERERFSEs7MzUlNTsXXrVuTl5SE6OhqRkZHyeaGenp6IjIxEdHQ08vLysHXrVqSlpcHZ2bnUn4OFKBEREREBANzc3LB27VoAgJGRETZv3oxjx47BwcEBs2fPxuzZs9GuXTsAQPv27TFnzhzMnTsXbdu2xeHDh7FhwwYYGhqW%2BvNJZDIVmTFPVEqqtlhJVfC6lIzXpmS8NsXjdSkZrw2VJxaiRERERCQEh%2BaJiIiISAgWokREREQkBAtRIiIiIhKChSgRERERCcFClIiIiIiEYCFKREREREKwECUiIiIiIViIEhEREZEQLESJiIiISAgWokREREQkBAtRItJoqampAIDc3Fzs2rULR48eFZxIvDFjxhTbPmTIkApOolp4XUovPT1ddATSEJVFByB6k6CgoLc%2BZ/z48RWQRHWlp6cjIiICiYmJmDhxImJjY9G1a1fRsVTC3r17sWjRIly9ehU//PADjhw5AolEggcPHmDs2LGi41WoR48e4eDBgwCAc%2BfOFfnZyszMxO3bt0VEE4rXpfTy8/OxevVq7NixAwUFBYiMjMSkSZOwZs0amJmZiY5HaoqFKKm0mJgYAEBOTg7%2B/PNPNG3aFNbW1khOTsa1a9fwySefCE4o1o0bN%2BDn54cPPvgAt2/fhre3NyZOnIg5c%2BbAw8NDdDzhduzYgeDgYBQUFCA8PBwbNmyAqakphg4dqnWFqKWlJf7%2B%2B2%2Bkp6ejoKBA/rP1SpUqVTBnzhxB6cThdSm91atXIzo6GoGBgQgICICJiQnMzc2xaNEiBAYGio5H6kpGpAamTZsm27Vrl0JbeHi4bPTo0YISqYbBgwfL9u/fL5PJZDJ7e3uZTCaTnT17Vubi4iIylspo06aNTCaTyS5duiRr27atvN3Ozk5UJJUwa9Ys0RFUEq/Lm3Xt2lX25MkTmUz2v5%2BtjIwMhZ8tonfFOaKkFk6cOAEvLy%2BFNnd3d0RHRwtKpBru3LmD3r17AwAkEgkAoGPHjkhOThYZS2XUqlULDx8%2BxPHjx9G2bVsAQHR0NExNTQUnE2vhwoXIzc3FkydPkJSUpPBPmy1cuBDZ2dkK1%2BXhw4c4efKk6Ggq4cWLFzA2NgYAyGQyAIC%2Bvj50dFhKkPI4NE9qwdjYGLGxsXBwcJC3nTt3TuvnJRkbG%2BP%2B/fto1KiRvO3%2B/fuoXbu2wFSqw8/PD7169QIAbN%2B%2BHZcuXcKoUaO0fqj12LFj%2BPrrr5GZmSlvk8lkkEgk%2BOuvvwQmEys8PBzz58/Hy5cvFdpNTEzg7OwsKJXqaNmyJYKCghAQECB/47t9%2B3Z8/PHHgpOROpPIXr2tIVJhe/fuxYIFC9C9e3dYWloiISEBp06dwnfffQcXFxfR8YQJCQnB1q1bMXr0aCxZsgQLFy7EmjVr0LdvXwwbNkx0PJWQkJCAypUrw8LCAunp6UhKSsJHH30kOpZQrq6u%2BOyzz9C3b19UrqzYH2FlZSUolXjOzs4YPHgwqlevjtjYWPj4%2BOCHH37AJ598gpEjR4qOJ1xCQgJ8fHyQn5%2BPtLQ02NjYICsrC1u2bMEHH3wgOh6pKRaipDbOnz%2BPiIgIpKSkwNzcHB4eHmjVqpXoWMLt3LkTu3btQmJiIurUqQMvLy/4%2Bvpq9XBZaYaYLS0tKyCJarKzs0NsbGyRIlTbtWzZEleuXEFiYiK%2B%2BuorhIaGIikpCb6%2Bvjhx4oToeCohOzsbp0%2BfRlJSEszNzdGlSxcYGBiIjkVqjIUoEWkcW1tb%2BdDhK6%2BGnl/R5iHoIUOGYPbs2bC1tRUdRaV069YNR48eRaVKldChQwf5CvrWrVvj0qVLgtMRaSa%2BHSaV5u/vj/Xr12Po0KFFCotXQkJCKjiV6pgxY0ax7bq6ujA2NkaXLl3QsmXLCk4l3s8//wwA%2BOmnn3Dp0iVMmTIF9erVw%2BPHj7F06VKtvCava9WqFXx9fdGjR48i84m1eV/e5s2b45tvvsHXX3%2BN%2BvXrY/fu3dDX14ehoaHoaCohJiYG8%2BbNQ1xcHP7dh6XNb%2ByobFiIkkpr3bo1ACgsUqL/0dXVRXh4OJycnFC3bl0kJSXhxIkT6NChA549e4Zt27Zh0aJFcHV1FR21Qr2a5xgWFoaIiAjUqlULANCwYUN8//336NGjB0aNGiUyolBXrlxBo0aNcO/ePdy7d0/eXtKbPW0xY8YMzJ49G1lZWZgyZQpGjx6NnJwcLF68WHQ0lbBkyRK0aNECs2fP5rQOKjccmieN8ar3VJuMHDkSXl5ecHJykrf98ssv2L17N9auXYuYmBgsXLgQkZGRAlOKY29vj5MnT8LIyEjelpycjF69euHChQsCk5E6yM/PR15eHqpWrSo6ikqws7NDdHQ0qlSpIjoKaRC%2BpSGNcfHiRdERKty1a9ewbt06hbaOHTti8uTJAAp7khMTE0VEUwndunXD2LFjMWHCBFhYWCAhIQGBgYHo2bOn6GhCvbqlZXH69OlTgUlUz6lTpxAWFobExESYmprC09NTvgWYtqtfvz5SUlJQt25d0VFIg7AQJVJjxsbG%2BPXXX9G5c2d52/nz5%2BVz2hISEuTD0trom2%2B%2Bwbx58zBq1Cjk5uaiSpUq6N27N6ZPny46mlCrVq1SeJyRkYHs7Gy0bt1aqwvRyMhIzJs3D15eXnB0dER8fDzmzp2LnJwc9O/fX3Q84VxcXDBixAh4enoWuSmENn/fUNlwaJ40RqtWrXD58mXRMSrU4cOHMX36dHz22WewtrbGo0ePcOrUKcybNw/NmzeHj48PhgwZotXzIQEgNzcXz549g5GREXR1dUXHUTkymQwbNmzAs2fPMHXqVNFxhHF3d8fMmTPRrl07eVt0dDTmz5%2BPI0eOCEymGhwdHYttl0gk8gWCRO%2BKhShpDG0sRAHg6tWr2L9/P548eQJLS0t8/vnnaNy4MR49eoS7d%2B8qzB/VFocOHULPnj05BP0OCgoK0KlTJ/z222%2Biowhjb2%2BP2NhYhUVbUqkU9vb2Wvm7hagicGieSI3Fx8dj9%2B7dSE5OhlQqxYMHD7Bw4UI8ePAA0dHRqF%2B/vuiIQqxduxY9e/YsMgT9ikQiYSH6Lw8ePND6VfPm5uaIjY1F27Zt5W2xsbFaffMDALh06RJat26N2NjYYo9LJBLY29tXcCrSFCxEidTYrFmzIJPJYGRkhPT0dDRp0gQHDx6Er6%2Bv6GhCHTp0CAAQFRVV7PHs7OyKjKNy/r0vb15eHm7fvg13d3eBqcTz8fHBuHHj4OXlhbp16yI%2BPh5hYWEl7terLUaOHInLly9j6NChxR6XSCTcR5SUxqF50hh2dna4cuWK6BgVys7ODmfOnEFSUhJWrlyJdevW4ezZs1i3bh127twpOp5wISEh8Pb2Vmi7evUqpk2bhuPHjwtKJV5QUJDCYx0dHTRs2BBOTk6oVKmSoFSqITw8HOHh4UhNTYWVlRX69%2B%2BPHj16iI5FpLHYI0pqoV%2B/fggJCXnjPY2/%2B%2B67CkykGqpWrYpatWqhcuXKuHPnDgCgU6dOmDZtmuBkqmHNmjUwMDBAv379kJ%2Bfj1WrVmHz5s1avwL69bsnpaWlyb%2BHqPB3Tb9%2B/UTHUClJSUlvfY62T18g5fE3D6mFlJSUtz7ns88%2Bq4AkqqVevXr45Zdf0Llz05gSxgAAF5NJREFUZ0ilUiQkJEBPTw/5%2Bfmio6mETZs2Yfjw4fjnn39w6NAhPH/%2BHBs3blRYFa2N8vLy8MMPP2Dv3r3IycmBnp4e3N3d8fXXX0NPT090vApXmqF3bb67kqOjIyQSSZHber5q49A8lQULUVIL3bp1g7e3N7p37w4zMzOF%2BW3avOjE398fEyZMwKFDh%2BDl5YUBAwagUqVK6Natm%2BhoKqFp06bYuHEj/Pz80KxZM%2BzatYt3yQHw448/IiYmBitXroS1tTXi4%2BOxYsUKrFy5Uqu3b6LicWsmep84R5TUAvevK1lycjJMTExQuXJlHDlyBJmZmejTp49W9my98u85kNevX0d0dDR8fX3lQ9CvD09rGycnJ2zZskXhDjnx8fEYPHgwfv31V4HJxBg6dCi2b9%2BO/fv3w8PDQ3QcIq3CQpSINE5Jq3tfkUgkCAkJqaA0qqdNmzY4f/68wrzQvLw8dOjQocQtejSZnZ0dfvnlF3Tp0oX7hb5BTEwM5s2bh7i4uCLD9ByaJ2VxaJ7URnp6OiIiIpCUlIQJEyYgNjYWXbt2FR2LVND27dtL/dz169fD39//PaZRPY0bN0ZoaCiGDBkibwsNDcWHH34oMJU4rVq1goODAwCgSZMmxT6HhRawZMkStGjRArNnz%2BbiNio37BEltXDjxg34%2Bfnhgw8%2BwO3btxEREQE3NzfMmTOHQ2lUJtp4R66LFy9i2LBhsLW1le%2BXeffuXWzatAmtWrUSHa/CZWdn4%2BbNmxg2bBg2bNhQ7HNe3%2BReW9nZ2SE6OhpVqlQRHYU0CAtRUgtDhgyRb6vSpk0bxMbG4tdff8XixYt5D2gqE23cfxYovJNSZGQkUlNTYW1tDTc3N1hZWYmOJdSpU6feekvcuXPnYu7cuRUTSMX07dsXq1atUphbTFRWLERJLbRt2xbnz59HpUqV0LZtW1y4cAEA0Lp1a1y6dElwOlJn2tgjCgB79uxB586dUadOHfz000/Izc3V%2Bv1VS0Nbv1%2BAwmks%2B/fvh6enJ0xNTRWOafPuJVQ2nORBasHY2Bj3799Ho0aN5G33799H7dq1BaYiUk%2BrVq3CgQMH5MPNBgYG%2BPbbb5GRkYERI0YITqfatLnvJjQ0FACwe/duhXaJRMJClJTGQpTUwqBBgzBq1CiMHj0a%2Bfn5OHLkCNasWQMvLy/R0YjUzr59%2B7Bz5075EGu3bt3QqFEj%2BPj4sBB9i9f3MNY2UVFRoiOQBmIhSmrB29sblSpVwrZt2yCVSrFq1Sp8/vnn8PX1FR2NSO1kZmbCwsJCoc3CwgIvXrwQlIjUxfXr17Fv3z4kJibC1NQU/fr1g729vehYpMZ0RAcgKo3U1FQMHjwYhw8fxtWrV3Hs2DEMGzYMOjr8Fqay0cah1mbNmmH9%2BvUKbZs3b4atra2gRKQOzp07h0GDBuHZs2do3LgxMjMz4efnh1OnTomORmqMPaKkFrp06YJOnTqhf//%2B6Ny5MwtQeiMnJyecOnUKQUFBb72DkjYu0Jk%2BfTqGDRuGPXv2wNzcHE%2BePEF%2Bfj42btwoOhqpsFWrVuG7776Di4uLvO3o0aP48ccf37rbAFFJuGqe1MK9e/dw4MABREREQCaToW/fvvD09ES9evVERyMVZGdnh127dmHQoEE4cuRIsb2elpaWApKpjoyMDJw%2BfRopKSmwsLBAly5dUKNGDfnxJ0%2BewNzcXGBC1aSt230BhXfkiomJUegIkEqlsLe319qdBKjsWIiSWpFKpTh37hx%2B%2BuknnDlzBs2aNdPqWzVS8SZPnozDhw8Xu7BEJpNBIpHwTjlvoc3bFAGFd3IzNjYu0r5161atnZvu7OyM1atXK0zhuHnzJgICAnD8%2BHGByUidcWie1IqOjg709fVRrVo16OnpIS8vT3QkUkHLli3D1KlT0aNHDxw6dEh0HLWkjX0U%2Bfn5WL16NXbs2IGCggJERkZi0qRJWLNmDczMzABAa4tQoHAay5gxYzBq1ChYW1sjPj4eGzZswKBBg0RHIzXGQpTUQlxcHA4ePIiIiAhkZ2fD3d0d27dvx3/%2B8x/R0UhF1alTB7t27ZLfLSgtLQ21atXiPbJLSRu3KVq9ejWio6MRGBiIgIAAmJiYwNzcHIsWLUJgYKDoeMKNHDkSL1%2B%2BxLp165CamgorKysMGTIEfn5%2BoqORGuPQPKmFJk2aoF27dvD09ISzszP09PRERyI1kJubi6VLl2Lv3r3IycmBnp4e3N3d8fXXX/N76C20cWje0dERu3fvRp06deR3cHv%2B/DmcnZ0RExMjOp5a0OZboJJyuPSY1MKJEyewZcsWuLm5sYCgUluzZg1iYmKwcuVKHDp0CCtXrsS1a9ewcuVK0dFIBb148UI%2BL/RVH42%2Bvj536XgHERERoiOQmuEYFam09evXw9/fHz/99FOJz3nb9jykvSIjI7Flyxb5HYQaNmyIhg0bYvDgwZg6dargdKRqWrZsiaCgIAQEBMinJmzfvh0ff/yx4GTqg4Os9K5YiJJKi42Nhb%2B/f4nDYto4j41KLyMjo9g7COXk5AhKRKps1qxZ8PHxwYEDB5CVlQVXV1dkZWVhy5YtoqOpDf5OpnfFQpRU2oYNGwAAAwYMgJOTE6pUqSI4EamTxo0bIzQ0FEOGDJG3hYaG4sMPPxSYSj1o4xSYunXr4vDhwzh9%2BjSSkpJgbm6OLl26wMDAQHQ0Io3FxUqkFtq2bYvffvsNurq6oqOQGrl48SKGDRsGW1tb1K1bF/Hx8bh79y42bdqEVq1aiY4nzMGDB4tt19XVhbGxMVq2bImqVatWcCrSBNq4yI3KhoUoqYXhw4fD3d0dvXv3Fh2F1MyDBw8QGRmJ1NRUWFtbw83NTb6lk7YaOHAgrl69ChMTE1hZWeHx48d4%2BvQpzM3NkZ2dDYlEgs2bN6NJkyaio1aomJgYzJs3D3FxcUXmOvIGCKXDQpTeFQtRUgseHh64ceMG9PT0ULt2bYV5SD///LPAZKTutPEP59y5c1GzZk1MmjRJviI8KCgIGRkZmDVrFjZv3owzZ85o3V3L%2BvbtC1tbW/Tq1avIfrNt27YVlEq9aPMtUEk5LERJLRw4cKDYdolEgj59%2BlRwGtIk2viH89NPP8Xp06cVprrk5eWha9euOHfuHPLz89GuXTtcvHhRYMqKZ2dnh%2BjoaM5FL6V79%2B7BwMAAderUkbdp8y1QSTlcrEQqbejQoW9dhclClMpCW1f5JiQk4IMPPpA/TkxMRH5%2BPgAgJydHK%2Bdj169fHykpKfLtvkjR5cuXMX/%2BfBw8eBChoaGYO3cuKleujJUrV8LJyQmAdt8ClZTDQpRUmoODAwDg0aNHOHXqFDw8PFCvXj08efIEe/bsQY8ePQQnJFI/np6e8Pf3x6hRo2BpaYmkpCRs2rQJ/fr1Q1paGqZOnYrOnTuLjlnhXFxcMGLECHh6esLU1FThGN/wAsuWLUOXLl0gk8mwbt06LFmyBIaGhli2bJm8ECV6VxyaJ7UwaNAgfPXVVworna9fv46vv/66xGF7otLQxjmiUqkUGzduxP79%2B/H48WNYWlrCy8sLPj4%2BuH79OiIjIzFp0iRUr15ddNQK5ejoWGy7RCLhXHQA7du3x%2B%2B//4779%2B%2BjT58%2BuHTpEvT09LRyeguVH/aIklr466%2B/0KJFC4W2xo0bIy4uTkwgIjWmo6MDf39/%2BPv7FznWvHlzNG/eXEAq8aKiokRHUGmVKlVCVlYWzp49i5YtW0JPTw%2BJiYncZ5XKhIUoqYWGDRti69atGD58uLxt7dq1sLW1FZiKSD0VFBTg%2BPHjiIuLg1QqVTimjbfMvXTpElq3bo3Y2Nhij0skEtjb21dwKtXj5OSEIUOGIDExEbNnz8bdu3cxbtw49OzZU3Q0UmMcmie1cPnyZYwePRrVqlWDubk5kpKSIJVKsWnTJjRu3Fh0PFJRCQkJb114oo3DirNnz8bhw4dha2ursE2RRCLRui2bgP9Nzyjpja1EIuE%2BoijcWSEyMhL6%2BvpwdXVFXFwcTp8%2BDR8fH/k2YETvioUoqY1nz57hzJkzSE5Ohrm5ORwdHVGjRg3RsUiFdejQASdOnHjj0GF6ejqMjY0rMJV4n3zyCdauXYuPP/5YdBRSI/369UNISAiH4qlccWie1IahoSFXrtI7MTQ0RHJy8hv/cGpbEQoULlZq2rSp6BgqIykp6a3PsbS0rIAkqi0lJUV0BNJALESJSGM1atQIn3/%2BOVq2bAkzMzOFY4sXLxaUSryePXti06ZNxS5W0kaOjo6QSCRFbuv5qo1D84W6desGb29vdO/eHWZmZgp78LKTgJTFQpSINFa1atXw2WefiY6hcm7cuIHLly9jzZo1RXqEtXGbIm38mpXx66%2B/AgDCwsIU2nmHOyoLzhElItIyb9p7t2/fvhWYhIi0HQtRItJov/32G3bs2IHk5GSsW7cOmzdvxuTJkxVWixMBQExMDObNm4e4uLgiw/QcmkeJ21sBQJs2bSowCWkS/iYmIo0VGRmJxYsXo3///rhw4QKAwk3LJRIJpk6dKjhdxfP398f69esxdOhQhfl9r9PG7ZteWbJkCVq0aIHZs2fzjUoxhg4dWqRNR0cHFhYWnN5ASuNPGhFprPXr1%2BPHH39Ey5YtsWvXLpiammLdunXw9vbWykK0devWAIC2bdtCIpEgNzcXGRkZMDIyYuEFIC4uDqGhoahSpYroKCrp1q1bCo/T09MRHBwMKysrQYlIE3AHWiLSWE%2BePJHfGvZVD6CNjQ1evHghMpYwo0aNAgD4%2BfkhPj4eW7duRVhYGLZt24a0tDStX0Vfv359blH0DoyNjTFlyhRs27ZNdBRSY3wLTEQaq379%2Bvj555/h5OQkb/v9999hY2MjMJV4CxYswMOHD7FmzRpYWFggISEBq1evxtKlSzFz5kzR8YRxcXHBiBEj4OnpCVNTU4VjXBVevIyMDLx8%2BVJ0DFJjXKxERBrr999/x9ixY9GtWzecOnUKffv2xaFDh7Bs2TJ07txZdDxh2rRpg2PHjsHExETelpycjN69eyM6OlpgMrEcHR2LbZdIJJwDCWDGjBkKj/Py8nDp0iXY2dlh%2BfLlglKRumOPKBFprA4dOiA0NBRhYWFwcHCAVCrF5s2b0bx5c9HRhKpSpQoqVaqk0Fa9enVUrVpVUCLVEBUVJTqCWqlSpQqGDh0KLy8v0VFIjbFHlIi0wj///AMjIyPRMVTCjh07cOLECcycORM2NjZITk7GsmXLUK9ePQwePFj%2BPG28reX169exb98%2BJCYmwtTUFP369YO9vb3oWEQai4UoEWmszMxMLFmyBJGRkcjNzUXVqlUxYMAATJo0CXp6eqLjCWNrayv/%2BN%2B3ttTm21qeO3cOY8eOhaOjI6ytrREfH4/Tp09jxYoVCvOMtdm2bdsQFhYmL9Q9PT0xatSoErcDI3obFqJEpLG%2B/vpr3LlzBxMmTJAvygkMDISDgwOmTZsmOp4wiYmJpXqetm3L8/nnn8PPzw8uLi7ytqNHj2LDhg0IDw8XmEw1bNu2DVu2bIG/v7%2B8UN%2B4cSMGDRqk9TsukPJYiBKRxvr0008RERGhcD/1J0%2BewNPTE%2BfOnROYjFRRmzZtEBMTAx2d/%2B1sKJVKYW9vj8uXLwtMphpcXFywbNkyNG3aVN528%2BZNfPHFF1zMRUrjPqJEpLGqVq1aZFFOtWrVIJVKBSUiVWZoaIg7d%2B4otN26davIVk7aKiUlRWFaB1A4zePZs2eCEpEmYCFKRBonKSkJSUlJ6NOnDwICAnDnzh1kZWXhwYMHmD59Onx9fUVHJBXUv39/jBkzBqGhoTh37hx27dqFcePGwdPTU3Q0lWBjY4OTJ08qtJ08eVLr9%2BWlsuHQPBFpHFtb22IX4QDQ2oU49HYymQxBQUEIDw9HamoqrKys0L9/f/j5%2BSkM12urU6dOYdKkSXB2dkbdunXx8OFDREVFYdWqVejatavoeKSmWIgSkcYpzWIcbVuIQ%2BVj7ty5mDt3rugYwsTExCA8PBxpaWmwsrKCh4eH1u/LS2XDQpSINFp%2Bfj5SU1OLzAvVxj0yqexatWqltQuXUlJSEBwcjPj4eOTn5yts2RQSEiIwGakz3lmJiDTWvn37MH/%2BfOTl5cnbODRPZaHNfTfTpk1DRkYGOnbsCF1dXdFxSEOwECUijbVy5UpMmTIFXbp04Rw/KhfavHH71atXcfbsWdSoUUN0FNIgLESJSGPl5uZi8ODBLEKJyoGFhQV/lqjc8TuKiDSWu7s7du/eLToGkVp7tR2au7s7ZsyYgb/%2B%2Bkve9uofkbK4WImINFZ0dDSGDx%2BO6tWrFxlO5J1gSBnauFiJ26HR%2B8SheSLSWHPmzEGPHj3Qvn37IndYIlKGNvbd8E0bvU8sRIlIY6WkpGDZsmWiY5CaunfvHgwMDFCnTh1528SJEwUmEoN77tL7xDmiRKSxHBwccOXKFdExSE1cvnwZffr0AQCEhobCzc0N3bp1w6lTp%2BTP4e1hicoXe0SJSGNZWVlh2LBhcHBwgJGRkcKxxYsXC0pFqmrZsmXo0qULZDIZ1q1bhyVLlsDQ0BDLli2Dk5OT6HhEGomFKBFprBcvXqBHjx6iY5CauH//Pnbs2IH79%2B8jNTUVrq6u0NPTQ0BAgOhoRBqLhSgRaSz2etK7qFSpErKysnD27Fm0bNkSenp6SExMhIGBgehoRBqLhSgRaaygoKASj40fP74Ck5A6cHJywpAhQ5CYmIjZs2fj7t27GDduHHr27Ck6GpHGYiFKRBorJiZG4fGzZ89w7949DtdTsWbNmoXIyEjo6%2BvD1dUVcXFxGDBgAHx8fERHI9JY3NCeiLTKTz/9hJiYGHz77beio5CK6devH0JCQjgUT1SBuH0TEWmV3r17c4NuKlZKSoroCERah0PzRKRVLly4gGrVqomOQSqoW7du8Pb2Rvfu3WFmZia/jSUA%2Bf6iRFS%2BWIgSkcZydHRUKCby8vKQmpqKMWPGCExFqurXX38FAISFhSm0SyQSFqJE7wnniBKRxjpw4IDCYx0dHTRs2BAfffSRoERERPQ6FqJEpLGSk5OxZs0axMXFQSqVKhwLCQkRlIpUVWxsbInH2rRpU4FJiLQHh%2BaJSGPNnDkTT58%2BRdeuXaGrqys6Dqm4oUOHFmnT0dGBhYUFF7gRvScsRIlIY127dg0nTpyAsbGx6CikBm7duqXwOD09HcHBwbCyshKUiEjzcfsmItJYNWvWhJ6enugYpKaMjY0xZcoUbNu2TXQUIo3FHlEi0lhjx47FjBkzMHLkSNSuXVvhmKWlpaBUpE4yMjLw8uVL0TGINBYXKxGRxrK1tZV//GobJ5lMBolEgr/%2B%2BktULFJRM2bMUHicl5eHS5cuwc7ODsuXLxeUikizsUeUiDQWF5hQWVSpUgVDhw6Fl5eX6ChEGos9okREREQkBBcrERER/b9t27bB1dUVLVq0gJOTE9auXQv21xC9PxyaJyIiQmERumXLFvj7%2B8Pa2hrx8fHYuHEjdHR04O/vLzoekUbi0DwREREAFxcXLFu2DE2bNpW33bx5E1988QXnGxO9JxyaJyIiApCSkqKw0wJQuPPCs2fPBCUi0nwsRImIiADY2Njg5MmTCm0nT56EjY2NoEREmo9zRImIiFB4A4RJkybh2LFjqFu3Lh4%2BfIioqCisWrVKdDQijcU5okRERP8vJiYG4eHhSEtLg5WVFTw8PNC8eXPRsYg0FgtRIiIiFM4RDQ4ORnx8PPLz8%2BV34wKAkJAQgcmINBeH5omIiABMmzYNGRkZ6NixI3R1dUXHIdIKLESJiIgAXL16FWfPnkWNGjVERyHSGlw1T0REBMDCwgI6OvyzSFSROEeUiIi0WlJSEgAgIiICN2/exJgxY1CrVi2F51haWoqIRqTxWIgSEZFWs7W1hUQiUbin/KuFSjKZDBKJBH/99ZeoeEQajYUoERFptcTExLc%2Bx8rKqgKSEGkfFqJEREREJARnZRMRERGRECxEiYiIiEgIFqJEREREJAQLUSIiIiISgoUoEREREQnBQpSIiIiIhGAhSkRERERCsBAlIiIiIiH%2BDwV92BOG8WPjAAAAAElFTkSuQmCC\" class=\"center-img\">\n",
       "    <img src=\"data:image/png;base64,iVBORw0KGgoAAAANSUhEUgAAAqIAAAJWCAYAAACDAuX8AAAABHNCSVQICAgIfAhkiAAAAAlwSFlzAAAPYQAAD2EBqD%2BnaQAAADl0RVh0U29mdHdhcmUAbWF0cGxvdGxpYiB2ZXJzaW9uIDMuMC4yLCBodHRwOi8vbWF0cGxvdGxpYi5vcmcvOIA7rQAAIABJREFUeJzs3X18zfX/x/Hn2RWbq2GbizFqjFDtsFzkIob2lctqWbkmKmPDV0IXFCHfULmWREnfJtekn1KSvhVpo5KJIcNsM4YZZtv5/bF2ctiYc6bPKY/77XZus/fn4rzOW2tPr/fnc47JYrFYBAAAAPzFXIwuAAAAALcngigAAAAMQRAFAACAIQiiAAAAMARBFAAAAIYgiAIAAMAQBFEAAAAYgiAKAAAAQxBEAQAAYAg3owsAgOuJj4/XihUr9N133yk5OVmXLl1ShQoVVLt2bbVu3Vrh4eEqWbKk0WUCAOxg4iM%2BATirmTNnat68ecrNzVXp0qUVEBAgd3d3paam6vjx45KkKlWqaM6cOapfv77B1QIAbhZBFIBTWrlypZ5//nl5eXlpypQpat%2B%2BvVxdXa3bExIS9Pzzz2vXrl0qX768Nm7cqAoVKhhYMQDgZnGNKACnNH/%2BfEnSc889p3/96182IVSSAgMDNW/ePFWsWFGnT5/W%2B%2B%2B/b0SZAAAHEEQBOJ2zZ8/qyJEjkqR777230P0qVKigdu3aSZJ%2B%2Bumnv6Q2AEDx4WYlAE7Hze3P/zVt2bJF9erVK3TfqKgo9enTRxUrVrSOjRkzRqtXr9bYsWPVsmVLvfHGG/rhhx%2BUlZWlGjVq6OGHH9bjjz%2BuEiVKFHjOH374QUuXLlVsbKzS09NVtmxZBQcHq3fv3mrWrFmBx5w9e1YfffSRtm7dqgMHDigjI0Oenp4KCAhQmzZt1KdPH5UrV87mmDp16kiS/ve//%2Bm1117TF198IRcXF9WvX1/vvvuuXnzxRa1evVqvvvqq7rvvPs2aNUvff/%2B9zp07p2rVqumxxx5Tv379ZDKZ9Nlnn%2Bm9997T3r17lZubq7p162rw4MF64IEHrqn14sWLWrlypTZv3qx9%2B/bp7Nmz8vDwUNWqVdWiRQv1799flSpVsjkmNDRUx44d08aNG5WWlqZ33nlHu3fvVmZmpqpVq6YOHTroySefVKlSpQr9uwKAq3GNKACn9MQTTyg2NlYmk0ldu3ZVeHi4GjZseM0SfUHyg%2BgjjzyiTZs2KTMzU7Vr11Z2drYOHjwoSWrUqJEWLFigMmXK2Bw7bdo0LVy4UJJUrlw5VatWTSkpKUpNTZUkDRw4UKNGjbI55vDhw%2BrXr5%2BSkpLk5uamgIAAeXp66tixY0pPT5ck3XHHHVq5cqVNUMsPog0bNlRcXJyCgoJ06tQpNWnSRNOnT7d5HZ9%2B%2Bqmys7MVGBiotLQ0az1PPfWUTCaTFixYoLJly6p69eo6dOiQMjMzZTKZ9Pbbb6tVq1bW5zx16pT69u2r3377TSaTSQEBASpTpoySk5Ot56xYsaJWrVqlypUrW4/LD6L9%2B/fXkiVL5OHhoZo1a%2BrMmTM6ceKEJMlsNmvZsmVF%2BjsCAEmSBQCc0J49eyzBwcGWoKAg66Nhw4aWQYMGWRYsWGDZtWuXJScnp8BjR48ebT2mTZs2ll9//dW6LTY21nL//fdbgoKCLC%2B99JLNcf/9738tQUFBlpCQEMvatWut47m5uZZPPvnEWs/y5cttjuvVq5clKCjI0r17d0tycrLNcatXr7bUrVvXEhQUZPnggw9sjsuvsUGDBpYdO3ZYLBaLJScnx3L69OlrXscTTzxhSUlJse4zZswYS1BQkKVu3bqWOnXqWBYtWmSdj1OnTlm6detmCQoKsvTq1avAuWnfvr3l0KFDNtu%2B/vpry7333msJCgqyvPbaazbb2rRpY61lzJgxlrNnz1pf4wcffGDd9vnnnxf4dwIABeEaUQBOqV69evr444/VqFEj61hGRoa2bt2q6dOnq3v37mrRooXeeOMNXbhwocBzuLi4aO7cubrrrrusY2azWVOnTpUkffzxx0pOTpYkZWVladasWZKkyZMnq0uXLtZjTCaTHnroIWsndNasWcrOzpYkpaWlaf/%2B/ZKkiRMnys/Pz%2Ba4bt26qXHjxpKkffv2FVhnhw4ddN9991lr9vb2ttnu5uamGTNmyNfX17rPU089JUnKzc1V165dNWDAALm45P0vvXz58urTp48k6ddff7WeJzs7Wzt37pTJZNLYsWNVs2ZNm%2Bdp2bKlHnroIUnSb7/9VmCtdevW1eTJk62dZJPJpJ49e1q7uz/%2B%2BGOBxwFAQQiiAJxWrVq19OGHH2rNmjUaOnSozGaz3N3drdvT0tI0f/58denSxbo8fKWmTZuqbt2614y3aNFC1apVU25urrZs2SJJiouL08mTJ1WqVCm1bdu2wHq6dOkiFxcXJScnWwNexYoV9f3332v37t0KCgq65picnByVLl1aUt61mQW5MmwXpE6dOjbL5JLk7%2B9v/XNB14HmB%2BKMjAzrmJubmzZv3qzdu3erdevW1xxjsVjk5eV13Vpbt24tk8l0zfidd94pSTp37tx1XwsAXImblQA4vbvuukt33XWXoqKidOHCBcXGxuqbb77R2rVrlZaWpiNHjmjYsGGKiYmxOe6ee%2B4p9Jx16tTR0aNHdfjwYUmydjUvX76snj17Fnqcq6urcnNzdfDgQZvzlyxZUklJSdq9e7eOHDmixMREJSQkaO/evcrMzJSU170sSH6nszBVqlS5ZszDw8P65/Lly1%2Bz/cobvq5WokQJpaWladeuXTp8%2BLCOHj2qgwcPau/evTpz5sx1a72y43ul/E%2B3ysnJKfyFAMBVCKIA/lY8PT3VvHlzNW/eXMOGDdPzzz%2BvTz75RLt27dKePXtsPmHp6rvUr5Tf%2BTt79qykPzt5WVlZio2NvWEd%2BcdJ0sGDB/Wf//xHW7dutQlwpUuXVkhIiFJSUhQfH1/ouW70EaWenp7X3Z6/JF8Uqampmjp1qv7v//5Ply9ftnmOu%2B%2B%2BWzk5OdddXr8yABfEwv2vAG4CQRSA0xk3bpy%2B//57Pfzwwxo8eHCh%2B5UsWVITJkzQZ599psuXL%2BvQoUM2QTS/E1mQ/CXr/Ld9yg979evX16pVq4pca1pamnr16qW0tDRVrVpV3bt3V7169XTnnXeqWrVqMplMGjly5HWD6F/l0qVL6tu3rxISEuTt7a0nnnhCDRo0UGBgoAICAuTq6qo33niD6zwB/GUIogCczqVLl/T7779r8%2BbN1w2iUl7XsVSpUkpPT7/mIz7zl9sLkh8Ma9WqJSnv7ZWkvLdiys7OLnBp22KxaPv27apcubKqVq0qDw8PrVy5UmlpafL29tbKlSsL/JjR/BuijLZ582YlJCTIzc1NMTEx19ysJKnAa20B4FbhZiUATif/jvVffvnlht3Jb775Runp6fL29r7mU5i%2B/vpr63tjXmnLli1KSkqSh4eHQkNDJUn33XefypQpo/Pnzxf6nOvXr1ffvn3VoUMHa2A7evSoJKlq1aoFhtADBw5o165dkoy/fjK/1lKlShUYQk%2BePKmvvvpKkvG1Arg9EEQBOJ3mzZsrLCxMkvTiiy9q0qRJ1hCV79KlS1q5cqWGDx8uSRo2bNg1n%2BqTmZmpyMhIJSUlWce2b9%2BusWPHSsp7M/j8tyHy8vKyviXSpEmTtHLlSpvrPTdv3qzx48dLynu7pYCAAEl/3i0eHx%2BvTZs2Wfe3WCz6%2BuuvNXDgQOu1mIW9zdRfJb/WM2fO6L333rO5nnPXrl3q37%2B/9Q34ja4VwO2BpXkATmnatGny8vLSmjVr9P777%2Bv9999X1apVVbFiRV26dEmHDx9WVlaW3N3dNXLkSPXo0eOac9SsWVN79%2B5Vu3btFBQUpMzMTOtd8p06ddLTTz9ts/%2BgQYOUmJio5cuX6/nnn9frr7%2BuatWqKTk5WSkpKZLyPgXp1VdftR4THh6uDz/8UL///ruio6Pl7%2B%2Bv8uXLKykpSWlpaXJ3d1fjxo21Y8cOw5foQ0NDZTabFRcXp8mTJ2vhwoWqVKmSUlNTlZycLJPJpPvvv1/ffvutUlJSZLFYCnyrJgAoLgRRAE7Jw8NDr732mnr27KmNGzdq%2B/btSk5OVnx8vDw9PXXHHXeoRYsWCg8Pt3b6rnb33Xdr2rRpmjlzpn788Ue5ubmpcePGeuKJJ6xv3H4lk8mkiRMnKiwsTB999JF27dqlvXv3qkSJEgoODlanTp0UERFhc%2Bd46dKltWLFCi1cuFBbtmzR0aNHdfLkSVWuXFmtW7dW37595eXlpXbt2ik%2BPl7Hjx9X1apVb9m8XY%2Brq6uWLFmipUuX6pNPPlFiYqJ%2B%2B%2B03%2Bfr66qGHHlLPnj1Vv359NWnSROnp6YqNjb3he5wCgCP4rHkA/zj5n9HeuXNnTZs2zehyAACF4BpRAAAAGIIgCgAAAEMQRAEAAGAIgigAAMA/zKlTp9S%2BfXtt37690H22bt2qzp07Kzg4WB06dNCWLVtsti9cuFCtWrVScHCwevfurYMHDxZ7nQRRAP84r732mvbt28eNSgBuSz/%2B%2BKMiIiJ05MiRQvc5fPiwoqKiNGzYMO3cuVNRUVEaPny49W3mVq9eraVLl2rRokXavn276tevr%2BjoaBX3Pe4EUQAAgH%2BI1atX69lnn9WIESNuuF9ISIjatWsnNzc3PfTQQ7rvvvsUExMjSVq%2BfLl69Oih2rVrq0SJEho5cqSOHz9%2B3Q6rPQiiAAAATiIlJUV79uyxeeR/oEZRtGjRQp9//nmB75V8pQMHDigoKMhmrFatWoqPjy9wu7u7u2rWrGndXlx4Q3sUnbN8wsodd0j790u1a0uHDhldjSy5vBVvYUy5TvR55S4u0hUf2Wm0y7muRpdg5eYmZWcbXYXzYV4K52xz4%2B5u0BPfgt%2BLMTNnavbs2TZjQ4cOVVRUVJGO9/X1LdJ%2B58%2Bfl6enp81YyZIllZmZWaTtxYUgir8fb2/J1TXvK2yYTBIfUVEIZ/mHlBNiagrGvBSOubl1IiIiFBoaajNW1HB5Mzw9PXXx4kWbsYsXL6pUqVJF2l5cCKIAAAD2cCn%2BKxz9/Pzk5%2BdX7Oe9WlBQkPbs2WMzduDAATVo0ECSVLt2be3fv19t2rSRJF2%2BfFmHDx%2B%2BZjnfUVwjCgAAcJvp0qWLduzYoY0bNyo7O1sbN27Ujh071LVrV0nSo48%2Bqg8%2B%2BEDx8fG6dOmSpk%2BfLh8fH4WEhBRrHXREAQAA7HELOqK3ktls1iuvvKIuXbooMDBQc%2BbM0bRp0/TCCy/I399fs2bN0h133CFJCg8P17lz5zRkyBCdOnVKd999txYsWCD3Yr4g12Qp7jeEwj%2BXs1wUZDZLsbFSw4ZSXJzR1TjVzUrOdo2oU92s5Ooq5ThPPc50s5K7u3T5stFVOB/mpXDONjeG3axUokTxn/PSpeI/pxP7e0V5AAAA/GOwNA8AAGCPv9nSvDNiBgEAAGAIOqIAAAD2oCPqMIIoAACAPQiiDmMGAQAAYAg6ogAAAPagI%2BowZhAAAACGoCMKAABgDzqiDiOIAgAA2IMg6jBmEAAAAIagIwoAAGAPOqIOYwYBAABgCDqiAAAA9qAj6jCCKAAAgD0Iog5jBgEAAGAIOqIAAAD2oCPqMGYQAAAAhqAjCgAAYA86og4jiAIAANiDIOowZhAAAACGoCMKAABgDzqiDmMGAQAAYAg6ogAAAPagI%2BowgigAAIA9CKIOYwYBAABgCILoTZo1a5Z69%2B5d4LaBAwdq/vz5f3FF0vz58zVw4MBCt/fu3VuzZs36CysCAOA24OJS/I/bDEvzxeidd94x5HmfeeYZQ54XAADAEQTRG4iNjdWkSZOUkJCgunXrqkaNGpKkVatW6YMPPpC3t7d%2B%2BuknjR8/XsuXL1fjxo3VtWtXPfjgg9q4caPuvPNOSVJCQoK6dOmiLVu2yNfXV0uXLtWyZcuUlpamoKAgPf/882rQoIEkKTQ0VC1atNAXX3whX19frVq1Si7X%2BVfSrFmztGPHDi1dulSS9PHHH2v%2B/Pk6deqUHnzwQV24cOGmX3dKSopSU1NtxnzvuEN%2B3t43fa5iV7eu7VcAAIxwG3YwixtB9DpOnz6tp59%2BWoMGDVL//v31008/6amnnlK9evUkSXv27NFrr72m%2BfPnKzc3V8uXL5ckBQQEqEmTJlq7dq1GjBghKS%2B4tmzZUn5%2Bflq2bJkWL16sefPmKTAwUGvXrlX//v316aefysfHR5L0008/6dNPP5Wk64bQq3333XeaMGGC3n77bd13331avny51qxZowceeOCmXntMTIxmz55tMzZ02DBFDRt2U%2Be5pT780OgKJEkmowu4ismZCnJ1NboCW05Uj7vzlCJJcnc3ugLnxLwUzlnm5vJlA5%2BcIOowguh1fPXVV/L09NSgQYNkMpnUqFEjPfroo9q7d68kyd3dXV27di0wKD722GOaPn26hg8frtzcXK1bt07jx4%2BXJC1btkxPP/206v7R0QsPD9eKFSu0bt06DRgwQJIUFhamsmXL3nTN69at04MPPqhmzZpJknr06KGPP/74ps8TERGh0NBQmzHfzp2l99676XMVu7p180Jojx5SfLzR1cjyY6zRJViZTJLFYnQVfzLl5hhdwp9cXaUc56nncq7zJFF3d4N/mTsp5qVwzA2KC0H0OpKTk1WlShWZrmgxBQQEWIOor69vod3KBx98UBMnTtT27dt16dIlWSwWtW7dWpJ07NgxTZ06VdOmTbPun52dbV2alyQ/Pz%2B7a65fv77NWPXq1W/6PH5%2BftfWcOiQXTXdMvHxUlyc0VUAAG5XdEQdRhC9jsqVK%2BvYsWPKzc21Bs4TJ05Yt5uuswbq4eGhLl26aMOGDbpw4YK6desmNzc363mjo6PVsWNH6/5HjhyR9xXXX17v3DeqOTEx0WbsxIkTql27tl3nAwAAhSCIOowZvI7Q0FBZLBbNmjVLWVlZ%2BuWXX25qmbt79%2B7avHmzvvzyS4WHh9uMz5s3TwkJCZKkbdu2qWPHjvrhhx8crvnRRx/V5s2btWXLFmVnZ2v16tXavXu3w%2BcFAAAobnREr6Ns2bJatGiRXn75ZS1evFg1atRQWFiYDhVxibp27dqqWbOm3NzcVLNmTet4v379ZLFYFBkZqZSUFFWqVEnjxo1T27ZtHa65UaNG%2Bs9//qPXXntNI0aMUNOmTdW8eXOHzwsAAK5CR9RhJovFmW5tgFNzltuxzWYpNlZq2NAprhG15DrPjxA3K10HNysVihtPCsa8FM7Z5sawO/jN5uI/pxP8Xvsr0REFAACwBx1RhxFEndymTZs0ZsyYQrc3atTIsE90AgDgtkYQdRhB1MmFhYUpLCzM6DIAAACKHUEUAADAHnREHcYMAgAAwBB0RAEAAOxBR9RhBFEAAAB7EEQdRhAFAAD4h0hLS9NLL72kHTt2yNXVVV26dNHo0aOtHzOeb%2BDAgfrxxx9txjIzMxUREaEJEybo5MmTat68uby8vKzby5cvry%2B//LJY6yWIAgAA2MMJO6LDhw9XpUqVtG3bNp08eVKDBw/WkiVLNHDgQJv9rn7rxxUrVmj27NkaOnSoJOnnn3%2BWv79/sQfPqznfDAIAAOCm/f7779qxY4dGjRolT09PVa9eXZGRkVq2bNl1jzt48KAmTpyoadOmyc/PT1JeEG3QoMEtr5mOKAAAgD1uQUc0JSVFqampNmO%2Bvr7WgHg9%2B/fvl7e3typVqmQdCwwM1PHjx3X27FmVLVu2wONeeeUVdevWTSEhIdaxn3/%2BWWfOnFGnTp108uRJ3X333Ro9erRq1apl5ysrGEEUAADAHrcgiMbExGj27Nk2Y0OHDlVUVNQNjz1//rw8PT1txvK/z8zMLDCI7ty5U7t379a0adNsxsuWLatatWpp0KBB8vDw0FtvvaX%2B/ftr48aNKlOmzM2%2BrEIRRAEAAJxERESEQkNDbcZ8fX2LdKyXl5cuXLhgM5b/falSpQo8JiYmRh06dLjmOaZPn27z/dixY7Vy5Urt3LlTbdq0KVI9RUEQBQAAsMct6Ij6%2BfkVaRm%2BILVr11Z6erpOnjwpHx8fSVJCQoIqV65cYBczOztbX3zxhebMmWMznpGRoTlz5qhXr17y9/eXJOXk5Cg7O1slS5a0q7bCcLMSAADAP0DNmjXVqFEjTZ48WRkZGUpMTNTcuXMVHh5e4P779u3TpUuX1LBhQ5vx0qVL69tvv9XUqVN17tw5nT9/XhMnTlS1atVsriMtDgRRAAAAe7i4FP/DQTNnzlR2drbatm2r7t27q2XLloqMjJQkmc1mrVu3zrpvYmKiypUrpxIlSlxznrlz5yo3N1ft2rVTy5YtlZqaqoULF8rd3d3hGq9kslgslmI9I/65TCajK8hjNkuxsVLDhlJcnNHVyJLrPD9CJpPkTD/Rptwco0v4k6urlOM89VzOdTW6BCt3d%2BnyZaOrcD7MS%2BGcbW6KORsVXVhY8Z9z06biP6cToyMKAAAAQ3CzEgAAgD2c8JOV/m6YQQAAABiCjigAAIA96Ig6jCAKAABgD4Kow5hBAAAAGIKOKAAAgD3oiDqMGQQAAIAh6IgCAADYg46owwiiAAAA9iCIOowZBAAAgCHoiKLInOoz1SVZfow1ugxJksnFZHQJecxmKTZWpkYNpbg4o6vJs3y50RXk8faW2reXvvxSSk83uhpJ0tGQx4wuQZLk4SH5%2B0spKVJWltHVOA9nnBdnab55eEhVqkgnTzrP3NSoYdATO8tfyt8YMwgAAABD0BEFAACwBx1RhxFEAQAA7EEQdRgzCAAAAEPQEQUAALAHHVGHMYMAAAAwBB1RAAAAe9ARdRhBFAAAwB4EUYcxgwAAADAEHVEAAAB70BF1GEEUAADAHgRRhzGDAAAAMAQdUQAAAHvQEXUYMwgAAABD0BEFAACwBx1RhxFEAQAA7EEQdRgzCAAAAEPQEQUAALAHHVGHMYMAAAAwBB1RAAAAe9ARdRhBFAAAwB4EUYcxgwAAADAEHVEAAAB70BF1GDMIAAAAQ9ARBQAAsAcdUYcRRAEAAOxBEHUYMwgAAABD0BEFAACwBx1RhzGDAAAAMAQdUQAAAHvQEXUYQRQAAMAeBFGHMYMAAAD/EGlpaYqMjFRISIiaNGmiSZMmKTs7u8B9Bw4cqLvvvltms9n6%2BPrrryVJOTk5mjp1qu6//36ZzWYNHjxYKSkpxV4vQRQAAMAeLi7F/3DQ8OHD5eXlpW3btmnFihX67rvvtGTJkgL3/eWXX7Ro0SLFxcVZH61atZIkzZs3T//73/%2B0cuVKbdu2TSVLltSLL77ocH1XI4g6qS%2B//FKPP/64mjVrpnvvvVe9evXS4cOHJUmffPKJwsLCFBISoieffFIvvfSSxowZI0myWCx6//33rdt79OihX375xcBXAgAA/gq///67duzYoVGjRsnT01PVq1dXZGSkli1bds2%2BiYmJOnPmjOrVq1fguT7%2B%2BGMNGjRIVapUUenSpfXCCy/o66%2B/VmJiYrHWzDWiTujEiRMaNmyY3nrrLYWGhur06dMaOnSo5syZox49emj06NGaOXOmWrVqpS1btmj48OHq3LmzJOnDDz/U4sWLNW/ePAUGBmrt2rXq37%2B/Pv30U/n4%2BBS5hpSUFKWmptqM%2Bfj4ys/Pr1hf6z%2BC2Wx0BXnq1rX96gy8vY2uIE%2BZMrZfnYCHh9EV5HF3t/2KPM44L85yOaKbm%2B1Xo2VlGfjkt%2BAvpaDfv76%2BRfv9u3//fnl7e6tSpUrWscDAQB0/flxnz55V2bJlreM///yzSpUqpREjRujnn3%2BWj4%2BP%2BvXrp/DwcJ07d04nTpxQUFCQdX8fHx%2BVK1dO%2B/btU/Xq1YvhleZxkv%2BMcKUKFSrok08%2BUUBAgDIyMnTixAmVL19eycnJWrlypR588EGFhoZKktq3b6927dpZj122bJmefvpp1f0jjISHh2vFihVat26dBgwYUOQaYmJiNHv2bJuxIUOGKjo6qhheYfEwmYyu4A%2BxsUZXYOvDD42uwHk1bWp0BVb%2BRhdwFf6NWTDmpXC%2BvkZXkOf33w188lsQRAv6/Tt06FBFRd349%2B/58%2Bfl6elpM5b/fWZmpk0QzcrKUnBwsEaMGKHatWtr%2B/btioqKUqlSpWT%2Bo8Hi5eVlc66SJUvq/Pnzdr2uwhBEnZC7u7s2bNigjz76SCaTSUFBQcrIyJCbm5uSkpKuaaNXr15dJ0%2BelCQdO3ZMU6dO1bRp06zbs7Oz1aBBg5uqISIiwhp28/n4%2BMpisfNFFTOTSc5TS6OGRpeQp27dvBDao4cUH290NXmmTjW6gjxlyuSF0O%2B/l86dM7oaSdKxeu2NLkFSXsfPz09KSZEuXza6GufhjPPiTB1RX18pNVUq5B4YOKCg37%2B%2BRUz9Xl5eunDhgs1Y/velSpWyGe/WrZu6detm/b5Fixbq1q2bPv30U91///02x%2Ba7ePHiNedxFEHUCX366af64IMP9N///lc1atSQJE2cOFG//fab/P39dfz4cZv9jx8/Lo8/1vkqV66s6OhodezY0br9yJEj8r7JJVI/P79rlgGcJfg5nbg4oyuwFR/vPDWlpxtdga1z55ymJkOXEwtw%2BbLz1eQMnGlenCWI5svOdp65Mcwt%2BEsp6PdvUdWuXVvp6ek6efKk9XK8hIQEVa5cWWWuujRpxYoVKlWqlDp06GAdy8rKUokSJVSuXDlVqlRJBw4csC7Pp6amKj093Wa5vjg42X/WkKRz587JxcVFJUuWlMVi0ddff601a9bo8uXLeuyxx/T5559r27ZtysnJ0datW/XZZ59Zj%2B3evbvmzZunhIQESdK2bdvUsWNH/fDDD0a9HAAA8BeoWbOmGjVqpMmTJysjI0OJiYmaO3euwsPDr9k3IyNDEydO1K%2B//qrc3Fx99dVX2rBhgyIiIiRJjzzyiObNm6fExERlZGRo8uTJaty4sQICAoq1ZjqiTujhhx/Wjz/%2BqI4dO8rV1VV33nmn%2Bvbtq2XLlqlOnTp65ZVX9PLLL%2Bv06dMKCQlRs2bN5P7HFfX9%2BvWTxWJRZGSkUlJSVKlSJY0bN05t27Y1%2BFUBAPAP42xtakkzZ87UhAnmtBpIAAAgAElEQVQT1LZtW7m4uKhbt26KjIyUJJnNZr3yyivq0qWL%2Bvbtq8zMTA0dOlRpaWmqXr26pk6dqpCQEEnSkCFDlJ2drZ49e%2Br8%2BfNq0qSJ3nzzzWKv12SxsOD6d3Lo0CHl5uYqMDDQOhYVFaU777xTI0aMuKXP7Uz/pTjVNaIuTnLXlNmcd%2BNUw4bOszS/fLnRFeTx9pbat5c%2B/9xpluYPhTxmdAmS8u7e9/eXjh1jmfVKzjgvzpJ5PDykKlWkpCTnmZs/rmL7602ZUvznHDu2%2BM/pxJzkP2sU1YEDB9S3b18dOXJEkrR9%2B3Zt27ZNDzzwgMGVAQAA3ByW5v9m2rdvrwMHDqhPnz46c%2BaM/P39NXHiRDVs6CR3bgMAcLtwljb13xhB9G9o8ODBGjx4sNFlAAAAOIQgCgAAYA86og4jiAIAANiDIOowZhAAAACGoCMKAABgDzqiDmMGAQAAYAg6ogAAAPagI%2BowgigAAIA9CKIOYwYBAABgCDqiAAAA9qAj6jCCKAAAgD0Iog5jBgEAAGAIOqIAAAD2oCPqMGYQAAAAhqAjCgAAYA86og4jiAIAANiDIOowZhAAAACGoCMKAABgDzqiDmMGAQAAYAg6ogAAAPagI%2BowgigAAIA9CKIOYwYBAABgCDqiAAAA9qAj6jBmEAAAAIagIwoAAGAPOqIOI4gCAADYgyDqMIIoisyUm2N0CX9ydXWeepYvN7qCPN7eeV%2BnTpXS042tJV/37kZXkMdsltq3l0aPluLijK5GknTHqVNGl5DH1VVSWfmXOSvlOMnPlDNgXgr3x9xUKXVWKuksc1Pe6AJgJ4IoAACAPeiIOowZBAAAgCHoiAIAANiDjqjDCKIAAAD2IIg6jBkEAACAIeiIAgAA2IOOqMOYQQAAABiCjigAAIA96Ig6jCAKAABgD4Kow5hBAAAAGIKOKAAAgD3oiDqMGQQAAIAh6IgCAADYg46owwiiAAAA9iCIOowgCgAA8A%2BRlpaml156STt27JCrq6u6dOmi0aNHy83t2sj33//%2BV0uWLFFKSor8/PzUp08f9ezZU5KUm5urRo0ayWKxyGQyWY/53//%2BJy8vr2KrlyAKAABgDyfsiA4fPlyVKlXStm3bdPLkSQ0ePFhLlizRwIEDbfbbvHmzZsyYoYULF%2Bree%2B/Vrl279NRTT8nHx0dhYWE6cOCALl%2B%2BrNjYWHl4eNyyep1vBgEAAHDTfv/9d%2B3YsUOjRo2Sp6enqlevrsjISC1btuyafZOTkzVo0CAFBwfLZDLJbDarSZMm%2BuGHHyRJP//8s%2BrUqXNLQ6hERxQAAMA%2Bt6AjmpKSotTUVJsxX19f%2Bfn53fDY/fv3y9vbW5UqVbKOBQYG6vjx4zp79qzKli1rHc9fgs%2BXlpamH374QWPHjpWUF0QvXbqkRx99VMeOHVNgYKBGjhyphg0bOvLyrkEQBQAAsMctCKIxMTGaPXu2zdjQoUMVFRV1w2PPnz8vT09Pm7H87zMzM22C6JVSU1P19NNPq0GDBurUqZMkqWTJkrrnnns0bNgwlStXTsuWLdOTTz6pdevWqXr16va8tAIRRAEAAJxERESEQkNDbcZ8fX2LdKyXl5cuXLhgM5b/falSpQo8ZteuXRo2bJhCQkI0ZcoU601NY8aMsdnvySef1KpVq7R161b16tWrSPUUBUEUAADAHregI%2Brn51ekZfiC1K5dW%2Bnp6Tp58qR8fHwkSQkJCapcubLKlClzzf4rVqzQq6%2B%2BqujoaA0YMMBm2xtvvKGwsDDVq1fPOpaVlaUSJUrYVVthuFkJAADgH6BmzZpq1KiRJk%2BerIyMDCUmJmru3LkKDw%2B/Zt9Nmzbp5Zdf1qxZs64JoZL022%2B/adKkSUpNTVVWVpZmz56tjIwMtW/fvlhrJogCAADYw8Wl%2BB8OmjlzprKzs9W2bVt1795dLVu2VGRkpCTJbDZr3bp1kqTZs2crJydH0dHRMpvN1se4ceMkSVOmTFFAQIC6du2qJk2aaMeOHVq8eLG8vb0drvFKLM0DAADYwwnfR9THx0czZ84scFtcXJz1z%2BvXr7/ueby9vTVlypRira0gzjeDAAAAuC3QEQUAALCHE3ZE/24IogAAAPYgiDqMGQQAAIAh6IgCAADYg46ow5hBAAAAGIKOKAAAgD3oiDqMIAoAAGAPgqjD/nEzePToUdWpU0dHjx41uhRJksVi0ciRIxUcHKzQ0FBZLJbr7t%2B7d2/NmjWrwG0dO3a0fiLC1ZztdQMAANwIHdFbLCUlRRs2bNCqVatUv359h871ySefFFNVAADAYXREHfaXBdGjR4%2Bqbdu2evXVVzVv3jydOXNG99xzj6ZMmaJvv/1Ws2fP1pdffmndv3fv3mrcuLGioqI0ZswYeXl56dixY9qxY4d8fHw0YcIEbd68WevWrZOHh4eGDx%2Buxx57zHr8mjVrtGbNGmVmZio0NFRjxoxR6dKlJUnffvutZsyYocOHD6tSpUp6%2Bumn1aVLF0nSmDFjlJmZqf379%2Bv06dNavny5AgICrvvadu7cqTfeeEP79u1T2bJl1aVLF0VGRurAgQPq0aOHJKlnz54aMGCAoqOjizxnv/76qwYMGKBnnnlG/fr1U2hoqIYOHapHHnlEGRkZmjhxojZv3iwvLy89/vjjNsd%2B%2BOGHevfdd5Wenq4qVaqoT58%2BNvNzIykpKUpNTbUZ861YUX6%2BvkU%2Bx22jmD93125lyth%2BdQZms9EV5Klb1/arM3B1NbqCPPm/SPmFaot5KZyzzU1OjtEVwAF/eUf0q6%2B%2B0po1a5SVlaX%2B/ftr7ty5Cg4OvuFxK1eu1KJFizRv3jyNGjVKTz75pMaOHavvvvtOH374oSZMmKCuXbta99%2B5c6eWL1%2Bu3NxcRUZGavLkyZo8ebLi4%2BM1ePBgvf7662rbtq12796tyMhIlS9fXi1btpQkbdu2TTExMapcubLKli173boOHjyo/v3769lnn9XixYuVlJSkqKgoZWRk6MUXX9SGDRvUtm1bbdiwQdWqVSvyPP3yyy8aOHCgRo4cWWCAnDBhgo4cOaLPPvtMLi4uGjlypHVbYmKipkyZorVr1%2BrOO%2B/Utm3bNGTIED3wwAPy8/Mr0vPHxMRo9uzZNmNDhwxR1E0E6VvOWX6Rt29vdAW2mjY1uoI/OdvcfPih0RU4rz/%2BoY6rMC%2BFc5a5OX3auOd2ljD%2BN/aXB9FBgwZZw11oaKji4uKKFESbNm2qkJAQ65%2B3bt2q3r17S5LatGmjSZMm6eTJk9b9x4wZowoVKkiSoqOjNXjwYL366qv66KOP1LZtWz344IOSpIYNG6p79%2B5atmyZNYgGBwcrKCioSK9n/fr1qlOnjvr27StJqlGjhkaOHKno6Gg9//zzRTrH1fbs2aP3339fTz31VIEhNCsrS59%2B%2Bqnmz5%2BvihUrSpKee%2B45axB3dXWVxWLRRx99pLCwMDVr1ky7du2Sy038wERERCg0NNRmzLdiRef5l6erq/PUckUn31BlyuSF0O%2B/l86dM7qaPKNHG11Bnrp180Jojx5SfLzR1eT56iujK8jj4pIXKDIypNxco6txHsxL4ZibPxFEHfaXB1EfH58/n9zN7YY37%2BTzvmL509XV1aZTaTKZJEm5V/xAXNl9rFKlirKyspSenq5jx47p%2B%2B%2B/t4ZaScrJybFZfi9q11CS0tLSVL16dZuxatWq6eLFi0pLSyvyea707bffymw2a8OGDerbt688PDxstp8%2BfVpZWVmqUqWKdezKGqpWraqlS5fqnXfe0TPPPKOcnBw98sgjGjVqlEqUKFGkGvz8/K6dB2cJfs4mPd3oCmydO%2Bc8NcXFGV2Brfh456nJ2X6ecnOdryZnwLwUjrlBMXCKKO/i4qKsrCybsdNXtdrzw2ZRJScnW/989OhReXl5qUKFCqpcubIefvhh7dy50/rYtGmT3n77bbuey9/fX0eOHLEZO3LkiDw8PFSuXLmbqjlfv379NHfuXJ07d67AO%2BjLly%2BvEiVKKDEx0Tp24sQJ65/T0tKUk5OjOXPmaPv27Xr77be1ceNGrVixwq56AABAAVxciv9xm3GKVxwYGKiTJ0/q%2B%2B%2B/l8Vi0dq1a5WQkODQOV9//XWdOXNGJ06c0FtvvaWIiAhJUnh4uDZs2KBvvvlGubm5Onz4sHr16qV3333Xrufp2LGjEhIS9N577ykrK0tHjhzRjBkz1Llz52s6mUXl7u6uUqVKadKkSXr33XcVGxtrs93Dw0PdunXTW2%2B9pRMnTujcuXN6/fXXrduPHz%2BuAQMG6LvvvpOLi4sqVaokKS/AAgAAOAunePumu%2B%2B%2BW4MHD9aYMWN0/vx5tWvXTmFhYQ6d02w261//%2BpdcXFzUqVMnjRgxQpJ07733asaMGZoxY4aGDRsmT09PderUSf/%2B97/tep5q1arpnXfe0YwZMzRr1iyVLFlSnTp10vDhwx2qX5KaNWumxx57TKNHj9batWtttr3wwguaMmWKOnfuLDc3N/Xp00dbtmyRlDef48aN08svv6yUlBSVKVNGPXr0UIcOHRyuCQAA/OE27GAWN5OlqBdpAs50LZAz3ay0apXRFeTx9s67S/3zz53nGtHu3Y2uII/ZLMXGSg0bOs81oqdOGV1BHldXqWxZ6exZ5/mZcgbMS%2BGccW6MWvFzcPW2QIGBxX9OJ0aUBwAAgCGcYmneWaWlpaldu3bX3SfuJrorkyZNuu4NQ08//bSeeeaZIp8PAAAYiKV5hxFEr6NixYo3FTRv5IUXXtALL7xQbOcDAAD4OyOIAgAA2IOOqMMIogAAAPYgiDqMGQQAAIAh6IgCAADYg46ow5hBAAAAGIKOKAAAgD3oiDqMIAoAAGAPgqjDmEEAAAAYgo4oAACAPeiIOowZBAAAgCHoiAIAANiDjqjDCKIAAAD2IIg6jBkEAACAIeiIAgAA2IOOqMOYQQAAABiCjigAAIA96Ig6jCAKAABgD4Kow5hBAAAAGIKOKAAAgD3oiDqMGQQAAIAh6IgCAADYg46owwiiAAAA9iCIOowZBAAA%2BIdIS0tTZGSkQkJC1KRJE02aNEnZ2dkF7rt161Z17txZwcHB6tChg7Zs2WKzfeHChWrVqpWCg4PVu3dvHTx4sNjrJYgCAADYw8Wl%2BB8OGj58uLy8vLRt2zatWLFC3333nZYsWXLNfocPH1ZUVJSGDRumnTt3KioqSsOHD1dycrIkafXq1Vq6dKkWLVqk7du3q379%2BoqOjpbFYnG4xisRRAEAAP4Bfv/9d%2B3YsUOjRo2Sp6enqlevrsjISC1btuyafVevXq2QkBC1a9dObm5ueuihh3TfffcpJiZGkrR8%2BXL16NFDtWvXVokSJTRy5EgdP35c27dvL9aauUYURXY519XoEqzcXZ2nnqMhjxldgiTJw0Pyl3SsXntlZRldTZ47Tp0yuoQ8rn/8t/LVV1JOjqGlWFWoYHQFecxmKTZWat1aioszuhrnwbwUzhnnppi7dEV2C64RTUlJUWpqqs2Yr6%2Bv/Pz8bnjs/v375e3trUqVKlnHAgMDdfz4cZ09e1Zly5a1jh84cEBBQUE2x9eqVUvx8fHW7YMGDbJuc3d3V82aNRUfH6%2BmTZva9doKQhAFAACwg0WmYj9nTEyMZs%2BebTM2dOhQRUVF3fDY8%2BfPy9PT02Ys//vMzEybIFrQviVLllRmZmaRthcXgigAAICTiIiIUGhoqM2Yr69vkY718vLShQsXbMbyvy9VqpTNuKenpy5evGgzdvHiRet%2BN9peXAiiAAAAdsjNLf5z%2Bvn5FWkZviC1a9dWenq6Tp48KR8fH0lSQkKCKleurDJlytjsGxQUpD179tiMHThwQA0aNLCea//%2B/WrTpo0k6fLlyzp8%2BPA1y/mO4mYlAAAAO%2BTmFv/DETVr1lSjRo00efJkZWRkKDExUXPnzlV4ePg1%2B3bp0kU7duzQxo0blZ2drY0bN2rHjh3q2rWrJOnRRx/VBx98oPj4eF26dEnTp0%2BXj4%2BPQkJCHCvyKgRRAACAf4iZM2cqOztbbdu2Vffu3dWyZUtFRkZKksxms9atWycp7yamOXPmaMGCBbrvvvs0d%2B5czZo1S3fccYckKTw8XP369dOQIUPUtGlT/frrr1qwYIHc3d2LtV6W5gEAAOxwK5bmHeXj46OZM2cWuC3uqnc5aNmypVq2bFngviaTSQMGDNCAAQOKvcYr0REFAACAIeiIAgAA2MEZO6J/NwRRAAAAOxBEHcfSPAAAAAxBRxQAAMAOdEQdR0cUAAAAhqAjCgAAYAc6oo4jiAIAANiBIOo4luYBAABgCDqiAAAAdqAj6jg6ogAAADAEHVEAAAA70BF1HEEUAADADgRRx7E0DwAAAEPQEQUAALADHVHH0REFAACAIeiIAgAA2IGOqOMIogAAAHYgiDqOpXkAAAAYgo4oAACAHeiIOo6OKAAAAAxBRxQAAMAOdEQdRxAFAACwA0HUcSzNAwAAwBB0RG8DOTk5On78uKpXr250KQAA/GPQEXXcbd8RnT9/vgYOHGh0GbfUiBEjtGbNGqPLAAAAsHHbd0SfeeYZo0u45U6fPm10CQAA/OPQEXXcbdERPXr0qOrUqaOlS5eqefPmatSokUaNGqWMjAzNmjVLvXv3liStWrVKTzzxhF599VU1bdpUzZo10wsvvKDLly9LylvifvPNN9W8eXPdf//9Gj9%2BvB5//HGtWrWqSHXs2bNHvXv3ltlsVosWLfTWW2/JYrFIknbu3KmePXsqJCREoaGhevPNN5WVlSVJNjXmCw0NtT5v7969NX36dPXs2VNms1kdOnTQxo0bJUkvvPCCdu7cqQULFtwWoRsAgL9Kbm7xP243t1VH9LPPPtP69euVk5OjIUOG6JVXXlFAQIDNPrGxsWrVqpW2bdumvXv3qm/fvrr//vvVsWNHLVq0SOvWrdN7772ngIAAzZo1S3FxcerevfsNnzs9PV0DBgxQ7969tWjRIp04cUK9e/dWpUqV1LhxY/Xv31/PPvusFi9erKSkJEVFRSkjI0MvvvhikV7b8uXLtXjxYtWqVUtz5szRuHHj1LZtW02aNElHjhxR48aNFRUVVeS5SklJUWpqqs1Y%2BfK%2B8vX1K/I5bhceHkZXkMfd3farU3B1NbqCPC4utl%2BdgdlsdAV56ta1/Yo8zEvhnG1u4uKMrgAOuK2C6NixY1WhQgVJUnR0tAYPHqx%2B/frZ7FOyZEk988wzMplMuueee1SnTh0dOnRIkrRixQo99dRTqlWrliRp%2BPDhWr16dZGee8uWLSpRooSGDBkik8mkgIAALV68WF5eXoqJiVGdOnXUt29fSVKNGjU0cuRIRUdH6/nnny/S%2BcPCwlSvXj1J0sMPP6z58%2BcrLS1NVatWLdLxV4uJidHs2bNtxoYMGaro6KKH2VvNWQKXv7/RFdjyc6p/K5Q1ugBbpUsbXcGfYmONrsDWhx8aXYFzYl4K5yxzYzIZ9tS3YwezuN1WQbRGjRrWP1epUkVZWVk6c%2BaMzT4VK1aU6Yr/qN3d3a3L50lJSfK/InW4uroWOeilpqaqSpUqNue%2B8847JUlpaWnX3NFerVo1Xbx4UWlpaUU6v6%2Bvr/XPbm55f625DvyEREREKDQ01GasfHlf/XGVguHc3eU0taSkGF1BHnf3vBCakuI8c%2BNf5qzRJeRxcckLoRkZzvObo3VroyvIU7duXqDo0UOKjze6GufBvBSOuUExuq2CaHJysjX8HT16VJ6enipfvry143kjVatW1fHjx63fWywWJSUlFenYypUrKykpSRaLxRpGN2/erIyMDPn7%2B%2Buzzz6z2f/IkSPy8PBQuXLl5OLiYr1OVcoLmOnp6UV6Xnv5%2BfnJ76rWmrOEG2fzx6W8TuPyZSeqKSfH6Aps5eY6T03OtpwYH%2B98NTkD5qVwzI3T/Lv278yJLpi69aZPn66MjAwlJydr5syZ6tq1q7V7WBQRERF69913dejQIWVlZWnOnDlKKWI7rHXr1srOztb8%2BfOVlZWlI0eOaPLkybp06ZI6duyohIQEvffee9ZtM2bMUOfOneXh4aHAwEDt27dP%2B/fvV3Z2tt555x1lZmYWuW4PDw%2BdO3euyPsDAIAb42Ylx91WQTQgIECdOnVSly5dZDabi3z9Zb6%2BffsqNDRUjz/%2BuFq3bq309HRVrlxZ7kW4WLFs2bJatGiRvvvuO7Vo0UK9e/fW448/roiICFWrVk3vvPOONm3apPvvv189evRQ8%2BbNNW7cOElSu3bt1LlzZ/Xr108tW7bU6dOn1ahRoyLX3a1bN61cuVI9evS4qdcLAABwK5ks%2BRdA/oMdPXpUbdu21RdffKFq1arZfZ7du3fL399fPj4%2BkvKW5ps2baoZM2aoefPmxVWu03KmpXlnukb06FGjK8jj4ZF349SxY86zNH%2BHt5O8h62rq1S2rHT2rPMszf9x46ThzOa8G6caNrztl1ltMC%2BFc8a5MSjK3IqX7yxvqPFXua06oo5av369nnvuOZ07d07Z2dlavHixJCk4ONjgygAAAP5%2BbqublRw1fPhwTZgwQe3bt1dWVpbq16%2BvRYsWqVSpUmrSpIn1DegL8sknn9j9VkoAAMD53I7XdBa32yKIVqtWTfv27XP4PKVLl9Z//vOfArdt377d4fMDAIC/D4Ko41iaBwAAgCFui44oAABAcaMj6jiCKAAAgB0Ioo5jaR4AAACGoCMKAABgBzqijiOIAgAA3CYyMzM1ceJEffnll8rOzlbbtm01fvx4lSpVqsD9N23apLlz5yoxMVHe3t565JFHFBkZKReXvEX1Dh066Pjx49bvJWnFihUKDAwsUj0EUQAAADv8HTuiEydOVFJSkjZt2qScnBwNHz5c06ZN0/jx46/Z95dfftFzzz2nN998Uw888IAOHTqkQYMGycvLSwMGDFBGRoYOHTqkL774Qv7%2B/nbVwzWiAAAAdsjNLf7HrXThwgWtX79e0dHR8vb2VsWKFfXss89q1apVunDhwjX7Hzt2TI8//rjatGkjFxcXBQYGqn379vrhhx8k5QVVb29vu0OoREcUAADAaaSkpCg1NdVmzNfXV35%2BfkU6/uLFi0pOTi5w24ULF3T58mUFBQVZxwIDA3Xx4kUdPnxYd911l83%2BYWFhCgsLszn3V199pc6dO0uSfv75Z3l6eqpXr17av3%2B//P39FRUVpTZt2hSpVokgCgAAYJdb0cGMiYnR7NmzbcaGDh2qqKioIh2/e/du9enTp8Btw4YNkyR5eXlZxzw9PSVJ58%2Bfv%2B55MzIyNGzYMJUsWVL9%2BvWTJJlMJt19993697//rapVq%2Br//u//FBUVpQ8%2B%2BEDBwcFFqpcgCgAA4CQiIiIUGhpqM%2Bbr61vk45s0aVLox5r/%2Buuveuutt3ThwgXrzUn5S/KlS5cu9JwHDx5UdHS0KlasqPfff9%2B678CBA23269KlizZs2KBNmzYRRAEAAG6lW9ER9fPzK/Iy/M2644475O7urgMHDujee%2B%2BVJCUkJMjd3V01a9Ys8JitW7fq3//%2Bt7p3766RI0fKze3P6Lho0SLVq1dPzZo1s45lZWWpRIkSRa6Jm5UAAADs8He7WcnT01MdOnTQtGnTdOrUKZ06dUrTpk1Tp06dVLJkyWv237Vrl4YMGaKxY8dq9OjRNiFUkpKSkvTKK68oMTFR2dnZWrFiheLi4vTwww8XuSaCKAAAwG1i/Pjxqlmzpjp37qx//etfqlatmsaNG2fd3rFjR82fP1%2BSNH/%2BfGVnZ2vSpEkym83WR/6S/HPPPadWrVqpR48eCgkJ0UcffaS3335bNWrUKHI9JovFYinel4h/qsuXja7gT%2B7uzlPP0aNGV5DHw0Py95eOHZOysoyuJs8d3qeNLiGPq6tUtqx09qyUk2N0NXkqVDC6gjxmsxQbKzVsKMXFGV2N82BeCueMc2NQlNm0qfjPecVN6rcFOqIAAAAwBDcrAQAA2OHv%2BMlKzoYgCgAAYAeCqONYmgcAAIAh6IgCAADYgY6o4%2BiIAgAAwBB0RAEAAOxAR9RxBFEAAAA7EEQdx9I8AAAADEFHFAAAwA50RB1HRxQAAACGoCMKAABgBzqijiOIAgAA2IEg6jiW5gEAAGAIOqIAAAB2oCPqODqiAAAAMAQdUQAAADvQEXUcQRQAAMAOBFHHsTQPAAAAQ9ARBQAAsAMdUcfREQUAAIAh6IgCAADYgY6o4wiiAAAAdiCIOo6leQAAABiCjigAAIAd6Ig6jo4oAAAADEFHFAAAwA50RB1HEAUAALADQdRxLM0DAADAEHREAQAA7EBH1HEEUQAAADsQRB3H0jwAAAAMQUcUAADADnREHUdHFAAAAIagIwoAAGAHOqKOI4gCAADYgSDqOJbmAQAAYAg6ogAAAHagI%2Bo4OqIAAAAwBB1RAAAAO9ARdRxBFAAAwA4EUcexNA8AAABDEERvAzk5OUpMTDS6DAAA/lFyc4v/catlZmZq7NixatKkiRo1aqTnnntO58%2BfL3T/8ePHq0GDBjKbzdZHTEyMdfvChQvVqlUrBQcHq3fv3jp48OBN1XNTQfTo0aOqU6eOjh49elNP8ndy9Ws0m83auXPnLX/ezMxMPfnkk7r33nvVs2dPjRkzRmPGjCmWc48YMUJr1qwplnMBAIC/r4kTJyopKUmbNm3SZ599pqSkJE2bNq3Q/X/%2B%2BWdNnDhRcXFx1kdERIQkafXq1Vq6dKkWLVqk7du3q379%2BoqOjpbFYilyPXREbyAuLk4hISG3/Hn27t2rb775Rlu3btWyZcuK9dynT58u1vMBAIC/X0f0woULWr9%2BvaKjo%2BXt7a2KFSvq2Wef1apVq3ThwoVr9s/KytJvv/2mBg0aFHi%2B5cuXq0ePHqpdu7ZKlCihkSNH6vjx49q%2BfXuRa7IriK5fv14dOnRQcHCw%2BvXrp%2BTkZEnS5s2b9cgjj6hhw4YKCwvTkiVLlPvHrBbU4bijsh4AACAASURBVKtTp4612NDQUI0bN07NmzdXt27dlJWVpZdfflnNmzdXkyZN1KNHD/34449Fqi83N1dvv/222rVrp0aNGik8PFzbtm2zbg8NDdWCBQvUrVs3mc1mdevWTd9//32B57q6xusdd%2BTIET3zzDNq0qSJ2rRpozfeeENZWVk3rHfz5s3q37%2B/JP1/e3ceFlX5twH8HhQERQUUZFMsXxWzVFzALDeWFFBcwDAXFks0d7LczT2t1AQh9w2XxIUKVNzSMksQ11JTc0EQFAQSQ0GWmfcPfk5NgI6D8pyZuT/XxaU8Z%2BZwz7lYvvNsB927d8fOnTvLPGbnzp3w9vZG27Zt0bt3b8TGxiqPZWRkYMKECXB1dUXr1q3h5uaGXbt2AQCmT5%2BOU6dOYdWqVRg5cqQaV4%2BIiIjUIcVCtKCgALdu3arwo6ioCM2aNVM%2BvkmTJigoKEBycnKZc12%2BfBnFxcUIDw9Hp06d0KNHD6xevVpZ2127dk3lXIaGhmjcuDEuX76sdl6NVs1fvHgRO3bsgFwuR1BQECIjI%2BHl5YUJEybgiy%2B%2BwDvvvIMrV65g1KhRAICgoCC1zvvbb78hPj4eQGmxe/bsWcTHx6NWrVoIDw/HnDlzVAqwikRGRmLXrl34%2Buuv0bx5cxw8eBCjRo3C1q1b0apVKwDA7t27sWbNGlhZWWHOnDmYPXs29u/f/8xzV/S8R48eISgoCN7e3ggLC0NOTg7GjRsHuVyOiRMnPvWc7u7uWLNmDQICAnD27FkAUCm6Y2JisGjRIkRERMDZ2RknT57EmDFjYGJiAg8PD8yYMQNmZmbYu3cvjIyMEBUVhXnz5sHT0xMLFixASkoKnJ2dMXbs2Ge%2BvicyMzNx7949lTZzc0tYWlqpfQ59YWQkOkEpQ0PVfyWhWjXRCUoZGKj%2BKwVOTqITlHJ0VP2XSvG6VExq1%2BZ/fzd1RXl/fy0tLWFlpd7f3/PnzyMgIKDcY%2BPHjwcA1KxZU9lmYmICAOXOE/3777/h7OyMoUOHYunSpfjjjz8wevRoGBgY4IMPPsDDhw%2BVz3/C2NgYjx49UisroGEhOnLkSNSuXRsA0LlzZ/z222%2BIiYmBm5sbvLy8AAAtW7ZESEgINm/erHYh2qNHD9SpUwdA6Qu5ffs2du3ahS5dumD8%2BPEIDQ1V6zy7d%2B9GSEgIWrZsCQDw8vLCgQMHsGvXLmUh6ufnBwcHBwBA79691Z5DWdHzfvzxRxQWFuKjjz6CTCaDjY0Nxo8fj3Hjxj2zEFXn9fj7%2B%2BPNN98EALz55pvw9/fH9u3b4eHhgfnz56NWrVowNDREeno6atWqhYKCAuTm5qJWrVoafc3o6GhERESotI0ePQbjxqlfzL5sUim47OxEJ1Cl5u%2BqKlJHdABVpqaiE/zjzBnRCVRt2yY6gTTxulRMKtdGJhP2pV/GUHp5f3/HjBmjdmeSi4sLrly5Uu6xS5cuISwsDPn5%2Bcr64MmQvGk5vx/feustvPXWW8rPW7VqhcDAQOzbtw8ffPABTExMUFBQoPKcgoKC56o9NCpEzczMlP83NDRESUkJsrOz0aJFC5XH2dvbIy0tTe3z/rva9/b2RlFREXbu3ImlS5eiXr16GDlyJN57771nnicrKwsNGzYsk%2BXfXcX169dX/r969epqT6yt6HlpaWnIyclBhw4dlMcVCgWKioqQnZ2NevXqqXX%2B8lT0eo4cOQIASE1NxRdffIHk5GQ0btxYWSjLK/ET4u/vD1dXV5U2c3NLFBVpfMoXytAQksmSmSk6QSlDw9IiNDNTOtfGrvYD0RFKGRiUFqF5edLZ%2BK9bN9EJSjk6lhYUgwYBzzGcpvN4XSrGa/NSlff319LS8oWc%2B5VXXoGhoSGuXbuG1q1bAwCuX7%2BuHFL/r8OHDyMrKwsDBw5UthUWFsLY2BgA0LRpU/z555/o3r07AKCoqAjJyckqw/XP8sI2tLezs0NKSopKW2pqqvLiGRgY4PHjx8pjOTk5Zc4h%2B9e7mps3b6Jly5bo27cvCgoKsH//fkyePBnt27dH06ZNn5nlv9sVpaamqt2trQlra2s0atRIZXg/Ly8P2dnZsLCwqNS57e3tK7y2RUVFGDFiBD766CMMGjQIMpkMFy5cUGsKw9NYWVmVuV5SKW6kRo1pwFWqqEhCmUpKRCdQJZdLJ5PUhhMvX5ZeJingdakYr81LeV9b3t/fF8XExASenp5YvHgxwsLCAACLFy9Gr169lMXlvykUCixcuBAODg7o2LEjzp07h6ioKEydOhUA4Ovri%2BXLl6NLly545ZVX8NVXX6F%2B/frPtcj7hU2Y8vX1xZEjRxAfH4%2BSkhJcunQJa9asga%2BvL4DSybCnTp1CRkYGCgoKEBkZqVJ4/tfRo0cxZswY3L59G8bGxjAzM0P16tWVUwKeZsCAAVi9ejUuXryIkpISxMfH48iRI%2BjXr9%2BLerlldO/eHQ8fPsTatWtRWFiIBw8eYPLkyQgNDX3q61SHn58foqOjceLECZSUlCAhIQHR0dHw9fVFUVERCgoKYGxsDJlMhvT0dHz55ZcASt%2BZAICRkRH%2B/vvvSr9GIiIi%2BocUFys9y6xZs9C4cWP07t0bPXv2hL29PT799FPlcW9vb6xcuRIA4OHhgalTp2L27NlwcnLCJ598grFjx6JPnz4ASuuToKAgjB49Gh07dsSlS5ewatUqGD7H3LkX1iPaunVrhIWFITIyEtOmTYO5uTnee%2B89DB8%2BHEBpV/Pvv/8OHx8fGBkZITAwELa2thWeLyAgABkZGRg4cCDy8vJgZ2eHr776CtbW1s/MEhwcDLlcjtDQUNy7dw8ODg5YunQpnJ2dX9TLLcPU1BQbN27EokWLsHbtWsjlcri4uGDFihWVPrenpyfy8vIwf/58pKeno0GDBpg0aRL69u0LAPjss88QFhaG%2BfPno169enj33Xdx7do1XL16Fa%2B88gr69u2L2bNn48KFC9gmlTk9REREVOVMTU0xb948zJs3r9zje/fuVfl84MCBKkPz/yaTyTBs2DAMGzZM4zwyxfPsOkp6TUpD81KaIyqV%2BzsYGZUunEpLk87Q/CtmEtnDtlo1oE4d4MED6QzNV3LKzgvj5FS6cKptW70fZlXB61IxKV4bQaXM/0aoX6iFC1/8OaVMQnuZEBEREZE%2BeWFD81Vlw4YNCA8Pr/B47969MXfu3CpM9GzamJmIiIieTiqbcGgzrStEg4ODlXch0hbamJmIiIiejoVo5XFonoiIiIiE0LoeUSIiIiIpYI9o5bFHlIiIiIiEYI8oERERkQbYI1p5LESJiIiINMBCtPI4NE9EREREQrBHlIiIiEgD7BGtPPaIEhEREZEQ7BElIiIi0gB7RCuPhSgRERGRBliIVh6H5omIiIhICPaIEhEREWmAPaKVxx5RIiIiIhKCPaJEREREGmCPaOWxECUiIiLSAAvRyuPQPBEREREJwR5RIiIiIg2wR7Ty2CNKREREREKwR5SIiIhIA%2BwRrTwWokREREQaYCFaeRyaJyIiIiIh2CNKREREpAH2iFYeC1EiIiIiDbAQrTwOzRMRERGREOwRJSIiItIAe0Qrj4UoUSUZSGRc4UkOAwPpZCIiInoaFqJEREREGmCPaOWxECUiIiLSAAvRyuMAHhEREREJwR5RIiIiIg2wR7Ty2CNKREREREKwR5SIiIhIA%2BwRrTwWokREREQaYCFaeRyaJyIiIiIh2CNKREREpAH2iFYee0SJiIiISAj2iBIRERFpgD2ilcdClIiIiEgDLEQrj0PzRERERCQEe0SJiIiINKCNPaKPHj3CvHnzcOTIERQXF8PNzQ2zZs1CrVq1yjz2008/RVxcnEpbQUEBOnXqhHXr1kEul6Ndu3ZQKBSQyWTKx/zyyy%2BoWbOmWnnYI0pERESkJ%2BbNm4c7d%2B7gwIEDOHjwIO7cuYPFixeX%2B9i5c%2Bfi7Nmzyo/ly5ejTp06mDJlCgDg2rVrKCoqwsmTJ1Uep24RCrAQJSIiItKIXP7iP16m/Px8xMXFYdy4cTAzM0O9evXw8ccfIyYmBvn5%2BU99bk5ODj7%2B%2BGNMnz4dTZs2BQD8/vvvaN68OYyMjDTOxKF5IiIiIg28jMIxMzMT9%2B7dU2mztLSElZWVWs8vKChARkZGucfy8/NRVFSEZs2aKduaNGmCgoICJCcno0WLFhWed/HixXj99dfh4%2BOjbPv999/x%2BPFj%2BPr6Ii0tDU2aNMHEiRPRtm1btbICLESJiIiIJCM6OhoREREqbWPGjMHYsWPVev758%2BcREBBQ7rHx48cDgMrQuYmJCQDg4cOHFZ4zNTUVsbGx2Llzp0q7sbExWrVqhfHjx6Nu3brYunUr3n//fcTGxqJhw4Zq5WUhSkRERKSBl9Ej6u/vD1dXV5U2S0tLtZ/v4uKCK1eulHvs0qVLCAsLQ35%2BvnJx0pMheVNT0wrPuXv3bjg5OZXpMX0yV/SJ999/HzExMfjpp58wZMgQtfKyECUiIiKSCCsrK7WH4Z/XK6%2B8AkNDQ1y7dg2tW7cGAFy/fh2GhoZo3Lhxhc87ePAghg0bVqb9q6%2B%2BQo8ePfDaa68p2woLC1GjRg21M3GxEhEREZEGtG2xkomJCTw9PbF48WLk5OQgJycHixcvRq9evWBsbFzuc/766y9cv34dHTp0KHPs6tWrWLBgAe7du4fCwkJEREQgLy8PHh4eamdiIUpERESkAW0rRAFg1qxZaNy4MXr37o2ePXvC3t4en376qfK4t7c3Vq5cqfz89u3bAIAGDRqUOdfChQvRqFEj9OnTBy4uLjh58iQ2bNgAMzMztfNwaJ6IiIhIT5iammLevHmYN29eucf37t2r8vkbb7xR4ZxTMzMzLFy4sFJ5WIgSERERaUAb76wkNRyaJyIiIiIh2CNKREREpAH2iFYeC1EiIiIiDbAQrTwOzRMRERGREOwRJSIiItIAe0Qrjz2iRERERCQEe0SJiIiINMAe0cpjIUpERESkARailaeVQ/O3b99G8%2BbNlbed0kX/fY1OTk44deqU4FRERERELw57RLXE2bNnRUcgIiKif2GPaOVpdSEaFxeH2NhY3LlzB23atMHnn3%2BOBg0a4PDhw/j666%2BRnJwMS0tLvPfeewgICICBgQGmTJkCAFi0aJHyPM2bN0dUVBRcXFzg6uqKt99%2BGz/88AMsLS2xY8cOfPbZZzh06BCKi4vRpEkTTJw4Ee3atXtmPrlcjrVr12LHjh3466%2B/8Morr2D8%2BPHo3LkzAMDV1RX%2B/v6Ij4/HrVu34ODggClTpqBjx45lzvXfjE97XkpKCj777DOcPXsWNWvWhI%2BPD0aPHg0jIyO1r21mZibu3bun0mZubglLSyu1z6EvnuOyvlTVq6v%2BKwnVqolOUMrAQPVfKXByEp2glKOj6r9UitelYlK7Nuyo0WpS%2BpP13C5evIgdO3ZALpcjKCgIkZGR8PLywoQJE/DFF1/gnXfewZUrVzBq1CgAQFBQkFrn/e233xAfHw%2BgtNg9e/Ys4uPjUatWLYSHh2POnDmIjY195nkiIyOxa9cufP3112jevDkOHjyIUaNGYevWrWjVqhUAYPfu3VizZg2srKwwZ84czJ49G/v373/muSt63qNHjxAUFARvb2%2BEhYUhJycH48aNg1wux8SJE9V6/QAQHR2NiIgIlbbRo8dg3Lixap/jZTM0FJ2glI2N6ASqLC1FJ/i3OqIDqDI1FZ3gH2fOiE6gats20QmkidelYlK5NjKZsC/NHtHK0%2BpCdOTIkahduzYAoHPnzvjtt98QExMDNzc3eHl5AQBatmyJkJAQbN68We1CtEePHqhTp/QPqLGxMW7fvo1du3ahS5cuGD9%2BPEJDQ9U6z%2B7duxESEoKWLVsCALy8vHDgwAHs2rVLWYj6%2BfnBwcEBANC7d2989913ap27ouf9%2BOOPKCwsxEcffQSZTAYbGxuMHz8e48aNe65C1N/fH66uript5uaWKCpS%2BxQvlaEhJJMlK0t0glLVq5cWoffuAcXFotOUsqn1QHSEUgYGpUVoXp50/nJ06yY6QSlHx9KCYtAg4PJl0Wmkg9elYrw2SlL5daLNtLoQNTMzU/7f0NAQJSUlyM7ORosWLVQeZ29vj7S0NLXPa2X1z/Czt7c3ioqKsHPnTixduhT16tXDyJEj8d577z3zPFlZWWjYsGGZLJf/9YNbv3595f%2BrV68OhUKhVsaKnpeWloacnBx06NBBeVyhUKCoqAjZ2dmoV6%2BeWue3srJSuQ6AdAo/qSksFJ1AVXGxhDIZl4hOoEouB0okkklqw4mXL0svkxTwulSM14ZeAK0uRMtjZ2eHlJQUlbbU1FRY/m%2B80sDAAI8fP1Yey8nJKXMO2b%2B6%2BW/evImWLVuib9%2B%2BKCgowP79%2BzF58mS0b98eTZs2fWaW1NTUMln%2BW%2BC9SNbW1mjUqJHK8H5eXh6ys7NhYWHx0r4uERGRvmGPaOVJaOb%2Bi%2BHr64sjR44gPj4eJSUluHTpEtasWQNfX18AQJMmTXDq1ClkZGSgoKAAkZGRKoXnfx09ehRjxozB7du3YWxsDDMzM1SvXl05JeBpBgwYgNWrV%2BPixYsoKSlBfHw8jhw5gn79%2Br2w1/tf3bt3x8OHD7F27VoUFhbiwYMHmDx5MkJDQ5/6OomIiOj5yOUv/kPf6FyPaOvWrREWFobIyEhMmzYN5ubmeO%2B99zB8%2BHAApXMff//9d/j4%2BMDIyAiBgYGwtbWt8HwBAQHIyMjAwIEDkZeXBzs7O3z11VewtrZ%2BZpbg4GDI5XKEhobi3r17cHBwwNKlS%2BHs7PzCXu9/mZqaYuPGjVi0aBHWrl0LuVwOFxcXrFix4qV9TSIiIiJNyBTqTkokvSelOaJSWqyUni46QSkjo9IV/HfuSGeOqEOdv0RHKFWtGlCnDvDggXTmiEplqoyTU%2BkK/rZtOd/v33hdKibFayOolGnS5MWf8/r1F39OKdO5oXkiIiIi0g46NzRfVTZs2IDw8PAKj/fu3Rtz586twkRERERUlfRxTueLxkJUQ8HBwQgODhYdg4iIiARhIVp5HJonIiIiIiHYI0pERESkAfaIVh57RImIiIhICPaIEhEREWmAPaKVx0KUiIiISAMsRCuPQ/NEREREJAR7RImIiIg0wB7RymOPKBEREREJwR5RIiIiIg2wR7TyWIgSERERaYCFaOVxaJ6IiIiIhGCPKBEREZEG2CNaeewRJSIiIiIh2CNKREREpAH2iFYeC1EiIiIiDbAQrTwOzRMRERGREOwRJSIiItIAe0Qrjz2iRERERCQEe0SJiIiINMAe0cpjIUpERESkARailceheSIiIiISgoUoERERkQbk8hf/UVXy8/Ph7%2B%2BPmJiYpz7u/PnzGDBgAJycnODq6oqdO3eqHP/222/h4eGBNm3aoH///jh79uxz5WAhSkRERKRH/vzzTwwePBjnzp176uNyc3MREhKCvn37IikpCQsWLMDChQvx22%2B/AQASExMxb948LFq0CElJSfDx8cGHH36I/Px8tbOwECUiIiLSgDb2iJ44cQKBgYHo168fbG1tn/rYgwcPwszMDIMHD0b16tXx5ptvonfv3ti6dSsAYOfOnfD29ka7du1gaGiIoKAgmJubY9%2B%2BfWrn4WIlIiIiIg28jMIxMzMT9%2B7dU2mztLSElZWVWs8vKChARkZGuccsLS3h6OiIo0ePokaNGtiwYcNTz/Xnn3%2BiWbNmKm3/93//h127dgEArl27Bl9f3zLHL1%2B%2BrFZWgIUoPQdDQ9EJSmVmZiI6Ohr%2B/v5q/2C%2BTA4OohOUyszMxPLlpdfFwUH8dSllLjoAgP99z2zaJJnvGQCAQiE6AYD/XZvly%2BG/f790ro0E8LpUjNfmHy/jx3j58mhERESotI0ZMwZjx45V6/nnz59HQEBAucciIyPh7u6udpaHDx/CxMREpc3Y2BiPHj1S67g6WIiS1rl37x4iIiLg6uqq978E/43XpWK8NhXjtSkfr0vFeG1eLn9/f7i6uqq0WVpaqv18FxcXXLly5YVkMTExwd9//63SVlBQgFq1aimPFxQUlDlubq5%2BJwQLUSIiIiKJsLKykkyB36xZM/zyyy8qbdeuXUPTpk0BAE2bNsWff/5Z5niXLl3U/hpcrEREREREZXh4eCArKwsbN25EUVEREhISEBcXp5wX6ufnh7i4OCQkJKCoqAgbN25EdnY2PDw81P4aLESJiIiICADg7e2NlStXAgDMzc2xfv167N%2B/Hy4uLpgxYwZmzJiBjh07AgDefPNNzJo1C7Nnz4azszP27t2LNWvWwMzMTO2vJ1MoJDJjnkhNUlusJBW8LhXjtakYr035eF0qxmtDLxILUSIiIiISgkPzRERERCQEC1EiIiIiEoKFKBEREREJwUKUiIiIiIRgIUpEREREQrAQJSIiIiIhWIgSERERkRAsRImIiIhICBaiRERERCQEC1EiIiIiEoKFKBHptKysLABAYWEhtm3bhvj4eMGJxPvwww/LbR8yZEgVJ5EWXhf15eTkiI5AOqK66ABETxMREfHMx4wZM6YKkkhXTk4OYmNjkZaWhvHjxyMpKQndu3cXHUsSdu7ciQULFuDcuXP48ssvsW/fPshkMty8eROjRo0SHa9K3b59G9999x0A4Pjx42V%2BtvLy8nDlyhUR0YTidVFfcXExli9fji1btqCkpARxcXGYMGECVqxYASsrK9HxSEuxECVJS0xMBAAUFBTg999/x2uvvQZ7e3tkZGTg/PnzeOuttwQnFOvixYsIDg7Gq6%2B%2BiitXriAgIADjx4/HrFmz4OvrKzqecFu2bEFkZCRKSkoQExODNWvWwNLSEkOHDtW7QtTW1hZ//vkncnJyUFJSovzZeqJGjRqYNWuWoHTi8Lqob/ny5UhISEBYWBhCQ0NRr149WFtbY8GCBQgLCxMdj7SVgkgLTJ48WbFt2zaVtpiYGMXIkSMFJZKGwYMHK3bv3q1QKBSK9u3bKxQKheLYsWMKT09PkbEko0OHDgqFQqE4ffq0wtnZWdnu5OQkKpIkTJ8%2BXXQESeJ1ebru3bsr7t69q1Ao/vnZys3NVfnZInpenCNKWuHgwYPw9/dXafPx8UFCQoKgRNJw9epV9OnTBwAgk8kAAJ07d0ZGRobIWJJRt25d3Lp1CwcOHICzszMAICEhAZaWloKTiTV//nwUFhbi7t27SE9PV/nQZ/Pnz0d%2Bfr7Kdbl16xYOHTokOpokPHr0CBYWFgAAhUIBADA2NoaBAUsJ0hyH5kkrWFhYICkpCS4uLsq248eP6/28JAsLC9y4cQNNmzZVtt24cQP169cXmEo6goOD0bt3bwDA5s2bcfr0aYwYMULvh1r379%2BPmTNnIi8vT9mmUCggk8nwxx9/CEwmVkxMDObOnYvHjx%2BrtNerVw8eHh6CUklHmzZtEBERgdDQUOUb382bN%2BONN94QnIy0mUzx5G0NkYTt3LkT8%2BbNQ48ePWBra4vU1FQcPnwYn3/%2BOTw9PUXHEyYqKgobN27EyJEjsWjRIsyfPx8rVqxAv379MGzYMNHxJCE1NRXVq1eHjY0NcnJykJ6ejtdff110LKG8vLzwzjvvoF%2B/fqheXbU/ws7OTlAq8Tw8PDB48GDUqlULSUlJCAwMxJdffom33noLw4cPFx1PuNTUVAQGBqK4uBjZ2dlwcHDAw4cPsWHDBrz66qui45GWYiFKWuPEiROIjY1FZmYmrK2t4evri7Zt24qOJdzWrVuxbds2pKWloUGDBvD390dQUJBeD5epM8Rsa2tbBUmkycnJCUlJSWWKUH3Xpk0bnD17Fmlpafj444%2Bxfft2pKenIygoCAcPHhQdTxLy8/Nx9OhRpKenw9raGt26dYOpqanoWKTFWIgSkc5xdHRUDh0%2B8WTo%2BQl9HoIeMmQIZsyYAUdHR9FRJMXNzQ3x8fGoVq0aOnXqpFxB365dO5w%2BfVpwOiLdxLfDJGkhISFYvXo1hg4dWqaweCIqKqqKU0nH1KlTy203NDSEhYUFunXrhjZt2lRxKvF%2B%2BOEHAMD333%2BP06dP45NPPkGjRo1w584dLF68WC%2Bvyb%2B1bdsWQUFB6NmzZ5n5xPq8L2%2BrVq3w6aefYubMmWjcuDG%2B%2BeYbGBsbw8zMTHQ0SUhMTMScOXOQnJyM//Zh6fMbO6ocFqIkae3atQMAlUVK9A9DQ0PExMTA3d0dDRs2RHp6Og4ePIhOnTrh/v372LRpExYsWAAvLy/RUavUk3mO0dHRiI2NRd26dQEATZo0wRdffIGePXtixIgRIiMKdfbsWTRt2hTXr1/H9evXle0VvdnTF1OnTsWMGTPw8OFDfPLJJxg5ciQKCgqwcOFC0dEkYdGiRWjdujVmzJjBaR30wnBonnTGk95TfTJ8%2BHD4%2B/vD3d1d2fbTTz/hm2%2B%2BwcqVK5GYmIj58%2BcjLi5OYEpx2rdvj0OHDsHc3FzZlpGRgd69e%2BPkyZMCk5E2KC4uRlFREUxMTERHkQQnJyckJCSgRo0aoqOQDuFbGtIZp06dEh2hyp0/fx6rVq1SaevcuTMmTpwIoLQnOS0tTUQ0SXBzc8OoUaMwbtw42NjYIDU1FWFhYejVq5foaEI9uaVlefr27VuFSaTn8OHDiI6ORlpaGiwtLeHn56fcAkzfNW7cGJmZmWjYsKHoKKRDWIgSaTELCwv8/PPP6Nq1q7LtxIkTyjltqampymFpffTpp59izpw5GDFiBAoLC1GjRg306dMHU6ZMER1NqPDwcJXPc3NzkZ%2Bfj3bt2ul1IRoXF4c5c%2BbA398frq6uSElJwezZs1FQUIABAwaIjiecp6cnPvjgA/j5%2BZW5KYQ%2Bf99Q5XBonnRG27ZtcebMGdExqtTevXsxZcoUvPPOO7C3t8ft27dx%2BPBhzJkzB61atUJgYCCGDBmi1/MhAaCwsBD379%2BHubk5DA0NRceRHIVCgTVr1uD%2B/fuYNGmS6DjC%2BPj4JZLfhgAAGflJREFUYNq0aejYsaOyLSEhAXPnzsW%2BffsEJpMGV1fXcttlMplygSDR82IhSjpDHwtRADh37hx2796Nu3fvwtbWFu%2B%2B%2By6aN2%2BO27dv49q1ayrzR/XFnj170KtXLw5BP4eSkhJ06dIFv/zyi%2BgowrRv3x5JSUkqi7bkcjnat2%2Bvl79biKoCh%2BaJtFhKSgq%2B%2BeYbZGRkQC6X4%2BbNm5g/fz5u3ryJhIQENG7cWHREIVauXIlevXqVGYJ%2BQiaTsRD9j5s3b%2Br9qnlra2skJSXB2dlZ2ZaUlKTXNz8AgNOnT6Ndu3ZISkoq97hMJkP79u2rOBXpChaiRFps%2BvTpUCgUMDc3R05ODlq0aIHvvvsOQUFBoqMJtWfPHgDAkSNHyj2en59flXEk57/78hYVFeHKlSvw8fERmEq8wMBAjB49Gv7%2B/mjYsCFSUlIQHR1d4X69%2BmL48OE4c%2BYMhg4dWu5xmUzGfURJYxyaJ53h5OSEs2fPio5RpZycnPDjjz8iPT0dy5Ytw6pVq3Ds2DGsWrUKW7duFR1PuKioKAQEBKi0nTt3DpMnT8aBAwcEpRIvIiJC5XMDAwM0adIE7u7uqFatmqBU0hATE4OYmBhkZWXBzs4OAwYMQM%2BePUXHItJZ7BElrdC/f39ERUU99Z7Gn3/%2BeRUmkgYTExPUrVsX1atXx9WrVwEAXbp0weTJkwUnk4YVK1bA1NQU/fv3R3FxMcLDw7F%2B/Xq9XwH977snZWdnK7%2BHqPR3Tf/%2B/UXHkJT09PRnPkbfpy%2BQ5vibh7RCZmbmMx/zzjvvVEESaWnUqBF%2B%2BukndO3aFXK5HKmpqTAyMkJxcbHoaJKwbt06vP/%2B%2B/jrr7%2BwZ88ePHjwAGvXrlVZFa2PioqK8OWXX2Lnzp0oKCiAkZERfHx8MHPmTBgZGYmOV%2BXUGXrX57srubq6QiaTlbmt55M2Ds1TZbAQJa3g5uaGgIAA9OjRA1ZWVirz2/R50UlISAjGjRuHPXv2wN/fHwMHDkS1atXg5uYmOpokvPbaa1i7di2Cg4PRsmVLbNu2jXfJAfD1118jMTERy5Ytg729PVJSUvDVV19h2bJler19E5WPWzPRy8Q5oqQVuH9dxTIyMlCvXj1Ur14d%2B/btQ15eHvr27auXPVtP/HcO5IULF5CQkICgoCDlEPS/h6f1jbu7OzZs2KByh5yUlBQMHjwYP//8s8BkYgwdOhSbN2/G7t274evrKzoOkV5hIUpEOqei1b1PyGQyREVFVVEa6enQoQNOnDihMi%2B0qKgInTp1qnCLHl3m5OSEn376Cd26deN%2BoU%2BRmJiIOXPmIDk5ucwwPYfmSVMcmietkZOTg9jYWKSnp2PcuHFISkpC9%2B7dRcciCdq8ebPaj129ejVCQkJeYhrpad68ObZv344hQ4Yo27Zv345mzZoJTCVO27Zt4eLiAgBo0aJFuY9hoQUsWrQIrVu3xowZM7i4jV4Y9oiSVrh48SKCg4Px6quv4sqVK4iNjYW3tzdmzZrFoTSqFH28I9epU6cwbNgwODo6KvfLvHbtGtatW4e2bduKjlfl8vPzcenSJQwbNgxr1qwp9zH/3uReXzk5OSEhIQE1atQQHYV0CAtR0gpDhgxRbqvSoUMHJCUl4eeff8bChQt5D2iqFH3cfxYovZNSXFwcsrKyYG9vD29vb9jZ2YmOJdThw4efeUvc2bNnY/bs2VUTSGL69euH8PBwlbnFRJXFQpS0grOzM06cOIFq1arB2dkZJ0%2BeBAC0a9cOp0%2BfFpyOtJk%2B9ogCwI4dO9C1a1c0aNAA33//PQoLC/V%2Bf1V16Ov3C1A6jWX37t3w8/ODpaWlyjF93r2EKoeTPEgrWFhY4MaNG2jatKmy7caNG6hfv77AVETaKTw8HN9%2B%2B61yuNnU1BSfffYZcnNz8cEHHwhOJ2363Hezfft2AMA333yj0i6TyViIksZYiJJWGDRoEEaMGIGRI0eiuLgY%2B/btw4oVK%2BDv7y86GpHW2bVrF7Zu3aocYnVzc0PTpk0RGBjIQvQZ/r2Hsb45cuSI6Aikg1iIklYICAhAtWrVsGnTJsjlcoSHh%2BPdd99FUFCQ6GhEWicvLw82NjYqbTY2Nnj06JGgRKQtLly4gF27diEtLQ2Wlpbo378/2rdvLzoWaTED0QGI1JGVlYXBgwdj7969OHfuHPbv349hw4bBwIDfwlQ5%2BjjU2rJlS6xevVqlbf369XB0dBSUiLTB8ePHMWjQINy/fx/NmzdHXl4egoODcfjwYdHRSIuxR5S0Qrdu3dClSxcMGDAAXbt2ZQFKT%2BXu7o7Dhw8jIiLimXdQ0scFOlOmTMGwYcOwY8cOWFtb4%2B7duyguLsbatWtFRyMJCw8Px%2Beffw5PT09lW3x8PL7%2B%2Butn7jZAVBGumietcP36dXz77beIjY2FQqFAv3794Ofnh0aNGomORhLk5OSEbdu2YdCgQdi3b1%2B5vZ62trYCkklHbm4ujh49iszMTNjY2KBbt26oXbu28vjdu3dhbW0tMKE06et2X0DpHbkSExNVOgLkcjnat2%2BvtzsJUOWxECWtIpfLcfz4cXz//ff48ccf0bJlS72%2BVSOVb%2BLEidi7d2%2B5C0sUCgVkMhnvlPMM%2BrxNEVB6JzcLC4sy7Rs3btTbuekeHh5Yvny5yhSOS5cuITQ0FAcOHBCYjLQZh%2BZJqxgYGMDY2Bg1a9aEkZERioqKREciCVqyZAkmTZqEnj17Ys%2BePaLjaCV97KMoLi7G8uXLsWXLFpSUlCAuLg4TJkzAihUrYGVlBQB6W4QCpdNYPvzwQ4wYMQL29vZISUnBmjVrMGjQINHRSIuxECWtkJycjO%2B%2B%2Bw6xsbHIz8%2BHj48PNm/ejP/7v/8THY0kqkGDBti2bZvybkHZ2dmoW7cu75GtJn3cpmj58uVISEhAWFgYQkNDUa9ePVhbW2PBggUICwsTHU%2B44cOH4/Hjx1i1ahWysrJgZ2eHIUOGIDg4WHQ00mIcmiet0KJFC3Ts2BF%2Bfn7w8PCAkZGR6EikBQoLC7F48WLs3LkTBQUFMDIygo%2BPD2bOnMnvoWfQx6F5V1dXfPPNN2jQoIHyDm4PHjyAh4cHEhMTRcfTCvp8C1TSDJcek1Y4ePAgNmzYAG9vbxYQpLYVK1YgMTERy5Ytw549e7Bs2TKcP38ey5YtEx2NJOjRo0fKeaFP%2BmiMjY25S8dziI2NFR2BtAzHqEjSVq9ejZCQEHz//fcVPuZZ2/OQ/oqLi8OGDRuUdxBq0qQJmjRpgsGDB2PSpEmC05HUtGnTBhEREQgNDVVOTdi8eTPeeOMNwcm0BwdZ6XmxECVJS0pKQkhISIXDYvo4j43Ul5ubW%2B4dhAoKCgQlIimbPn06AgMD8e233%2BLhw4fw8vLCw4cPsWHDBtHRtAZ/J9PzYiFKkrZmzRoAwMCBA%2BHu7o4aNWoITkTapHnz5ti%2BfTuGDBmibNu%2BfTuaNWsmMJV20McpMA0bNsTevXtx9OhRpKenw9raGt26dYOpqanoaEQ6i4uVSCs4Ozvjl19%2BgaGhoegopEVOnTqFYcOGwdHREQ0bNkRKSgquXbuGdevWoW3btqLjCfPdd9%2BV225oaAgLCwu0adMGJiYmVZyKdIE%2BLnKjymEhSlrh/fffh4%2BPD/r06SM6CmmZmzdvIi4uDllZWbC3t4e3t7dySyd99d577%2BHcuXOoV68e7OzscOfOHdy7dw/W1tbIz8%2BHTCbD%2BvXr0aJFC9FRq1RiYiLmzJmD5OTkMnMdeQME9bAQpefFQpS0gq%2BvLy5evAgjIyPUr19fZR7SDz/8IDAZaTt9/MM5e/Zs1KlTBxMmTFCuCI%2BIiEBubi6mT5%2BO9evX48cff9S7u5b169cPjo6O6N27d5n9Zp2dnQWl0i76fAtU0gwLUdIK3377bbntMpkMffv2reI0pEv08Q/n22%2B/jaNHj6pMdSkqKkL37t1x/PhxFBcXo2PHjjh16pTAlFXPyckJCQkJnIuupuvXr8PU1BQNGjRQtunzLVBJM1ysRJI2dOjQZ67CZCFKlaGvq3xTU1Px6quvKj9PS0tDcXExAKCgoEAv52M3btwYmZmZyu2%2BSNWZM2cwd%2B5cfPfdd9i%2BfTtmz56N6tWrY9myZXB3dweg37dAJc2wECVJc3FxAQDcvn0bhw8fhq%2BvLxo1aoS7d%2B9ix44d6Nmzp%2BCERNrHz88PISEhGDFiBGxtbZGeno5169ahf//%2ByM7OxqRJk9C1a1fRMaucp6cnPvjgA/j5%2BcHS0lLlGN/wAkuWLEG3bt2gUCiwatUqLFq0CGZmZliyZImyECV6XhyaJ60waNAgfPzxxyornS9cuICZM2dWOGxPpA59nCMql8uxdu1a7N69G3fu3IGtrS38/f0RGBiICxcuIC4uDhMmTECtWrVER61Srq6u5bbLZDLORQfw5ptv4tdff8WNGzfQt29fnD59GkZGRno5vYVeHPaIklb4448/0Lp1a5W25s2bIzk5WUwgIi1mYGCAkJAQhISElDnWqlUrtGrVSkAq8Y4cOSI6gqRVq1YNDx8%2BxLFjx9CmTRsYGRkhLS2N%2B6xSpbAQJa3QpEkTbNy4Ee%2B//76ybeXKlXB0dBSYikg7lZSU4MCBA0hOToZcLlc5po%2B3zD19%2BjTatWuHpKSkco/LZDK0b9%2B%2BilNJj7u7O4YMGYK0tDTMmDED165dw%2BjRo9GrVy/R0UiLcWietMKZM2cwcuRI1KxZE9bW1khPT4dcLse6devQvHlz0fFIolJTU5%2B58EQfhxVnzJiBvXv3wtHRUWWbIplMpndbNgH/TM%2Bo6I2tTCbjPqIo3VkhLi4OxsbG8PLyQnJyMo4ePYrAwEDlNmBEz4uFKGmN%2B/fv48cff0RGRgasra3h6uqK2rVri45FEtapUyccPHjwqUOHOTk5sLCwqMJU4r311ltYuXIl3njjDdFRSIv0798fUVFRHIqnF4pD86Q1zMzMuHKVnouZmRkyMjKe%2BodT34pQoHSx0muvvSY6hmSkp6c/8zG2trZVkETaMjMzRUcgHcRClIh0VtOmTfHuu%2B%2BiTZs2sLKyUjm2cOFCQanE69WrF9atW1fuYiV95OrqCplMVua2nk/aODRfys3NDQEBAejRowesrKxU9uBlJwFpioUoEemsmjVr4p133hEdQ3IuXryIM2fOYMWKFWV6hPVxmyJ9fM2a%2BPnnnwEA0dHRKu28wx1VBueIEhHpmaftvduvX78qTEJE%2Bo6FKBHptF9%2B%2BQVbtmxBRkYGVq1ahfXr12PixIkqq8WJACAxMRFz5sxBcnJymWF6Ds2jwu2tAKBDhw5VmIR0CX8TE5HOiouLw8KFCzFgwACcPHkSQOmm5TKZDJMmTRKcruqFhIRg9erVGDp0qMr8vn/Tx%2B2bnli0aBFat26NGTNm8I1KOYYOHVqmzcDAADY2NpzeQBrjTxoR6azVq1fj66%2B/Rps2bbBt2zZYWlpi1apVCAgI0MtCtF27dgAAZ2dnyGQyFBYWIjc3F%2Bbm5iy8ACQnJ2P79u2oUaOG6CiSdPnyZZXPc3JyEBkZCTs7O0GJSBdwB1oi0ll3795V3hr2SQ%2Bgg4MDHj16JDKWMCNGjAAABAcHIyUlBRs3bkR0dDQ2bdqE7OxsvV9F37hxY25R9BwsLCzwySefYNOmTaKjkBbjW2Ai0lmNGzfGDz/8AHd3d2Xbr7/%2BCgcHB4GpxJs3bx5u3bqFFStWwMbGBqmpqVi%2BfDkWL16MadOmiY4njKenJz744AP4%2BfnB0tJS5RhXhZcvNzcXjx8/Fh2DtBgXKxGRzvr1118xatQouLm54fDhw%2BjXrx/27NmDJUuWoGvXrqLjCdOhQwfs378f9erVU7ZlZGSgT58%2BSEhIEJhMLFdX13LbZTIZ50ACmDp1qsrnRUVFOH36NJycnLB06VJBqUjbsUeUiHRWp06dsH37dkRHR8PFxQVyuRzr169Hq1atREcTqkaNGqhWrZpKW61atWBiYiIokTQcOXJEdAStUqNGDQwdOhT%2B/v6io5AWY48oEemFv/76C%2Bbm5qJjSMKWLVtw8OBBTJs2DQ4ODsjIyMCSJUvQqFEjDB48WPk4fbyt5YULF7Br1y6kpaXB0tIS/fv3R/v27UXHItJZLESJSGfl5eVh0aJFiIuLQ2FhIUxMTDBw4EBMmDABRkZGouMJ4%2BjoqPz/f29tqc%2B3tTx%2B/DhGjRoFV1dX2NvbIyUlBUePHsVXX32lMs9Yn23atAnR0dHKQt3Pzw8jRoyocDswomdhIUpEOmvmzJm4evUqxo0bp1yUExYWBhcXF0yePFl0PGHS0tLUepy%2Bbcvz7rvvIjg4GJ6ensq2%2BPh4rFmzBjExMQKTScOmTZuwYcMGhISEKAv1tWvXYtCgQXq/4wJpjoUoEemst99%2BG7GxsSr3U7979y78/Pxw/PhxgclIijp06IDExEQYGPyzs6FcLkf79u1x5swZgcmkwdPTE0uWLMFrr72mbLt06RLGjh3LxVykMe4jSkQ6y8TEpMyinJo1a0IulwtKRFJmZmaGq1evqrRdvny5zFZO%2BiozM1NlWgdQOs3j/v37ghKRLmAhSkQ6Jz09Henp6ejbty9CQ0Nx9epVPHz4EDdv3sSUKVMQFBQkOiJJ0IABA/Dhhx9i%2B/btOH78OLZt24bRo0fDz89PdDRJcHBwwKFDh1TaDh06pPf78lLlcGieiHSOo6NjuYtwAOjtQhx6NoVCgYiICMTExCArKwt2dnYYMGAAgoODVYbr9dXhw4cxYcIEeHh4oGHDhrh16xaOHDmC8PBwdO/eXXQ80lIsRIlI56izGEffFuLQizF79mzMnj1bdAxhEhMTERMTg%2BzsbNjZ2cHX11fv9%2BWlymEhSkQ6rbi4GFlZWWXmherjHplUeW3bttXbhUuZmZmIjIxESkoKiouLVbZsioqKEpiMtBnvrEREOmvXrl2YO3cuioqKlG0cmqfK0Oe%2Bm8mTJyM3NxedO3eGoaGh6DikI1iIEpHOWrZsGT755BN069aNc/zohdDnjdvPnTuHY8eOoXbt2qKjkA5hIUpEOquwsBCDBw9mEUr0AtjY2PBniV44fkcRkc7y8fHBN998IzoGkVZ7sh2aj48Ppk6dij/%2B%2BEPZ9uSDSFNcrEREOishIQHvv/8%2BatWqVWY4kXeCIU3o42IlbodGLxOH5olIZ82aNQs9e/bEm2%2B%2BWeYOS0Sa0Me%2BG75po5eJhSgR6azMzEwsWbJEdAzSUtevX4epqSkaNGigbBs/frzARGJwz116mThHlIh0louLC86ePSs6BmmJM2fOoG/fvgCA7du3w9vbG25ubjh8%2BLDyMbw9LNGLxR5RItJZdnZ2GDZsGFxcXGBubq5ybOHChYJSkVQtWbIE3bp1g0KhwKpVq7Bo0SKYmZlhyZIlcHd3Fx2PSCexECUinfXo0SP07NlTdAzSEjdu3MCWLVtw48YNZGVlwcvLC0ZGRggNDRUdjUhnsRAlIp3FXk96HtWqVcPDhw9x7NgxtGnTBkZGRkhLS4OpqanoaEQ6i4UoEemsiIiICo%2BNGTOmCpOQNnB3d8eQIUOQlpaGGTNm4Nq1axg9ejR69eolOhqRzmIhSkQ6KzExUeXz%2B/fv4/r16xyup3JNnz4dcXFxMDY2hpeXF5KTkzFw4EAEBgaKjkaks7ihPRHple%2B//x6JiYn47LPPREchienfvz%2BioqI4FE9Uhbh9ExHplT59%2BnCDbipXZmam6AhEeodD80SkV06ePImaNWuKjkES5ObmhoCAAPTo0QNWVlbK21gCUO4vSkQvFgtRItJZrq6uKsVEUVERsrKy8OGHHwpMRVL1888/AwCio6NV2mUyGQtRopeEc0SJSGd9%2B%2B23Kp8bGBigSZMmeP311wUlIiKif2MhSkQ6KyMjAytWrEBycjLkcrnKsaioKEGpSKqSkpIqPNahQ4cqTEKkPzg0T0Q6a9q0abh37x66d%2B8OQ0ND0XFI4oYOHVqmzcDAADY2NlzgRvSSsBAlIp11/vx5HDx4EBYWFqKjkBa4fPmyyuc5OTmIjIyEnZ2doEREuo/bNxGRzqpTpw6MjIxExyAtZWFhgU8%2B%2BQSbNm0SHYVIZ7FHlIh01qhRozB16lQMHz4c9evXVzlma2srKBVpk9zcXDx%2B/Fh0DCKdxcVKRKSzHB0dlf9/so2TQqGATCbDH3/8ISoWSdTUqVNVPi8qKsLp06fh5OSEpUuXCkpFpNvYI0pEOosLTKgyatSogaFDh8Lf3190FCKdxR5RIiIiIhKCi5WIiIj%2BZ9OmTfDy8kLr1q3h7u6OlStXgv01RC8Ph%2BaJiIhQWoRu2LABISEhsLe3R0pKCtauXQsDAwOEhISIjkekkzg0T0REBMDT0xNLlizBa6%2B9pmy7dOkSxo4dy/nGRC8Jh%2BaJiIgAZGZmquy0AJTuvHD//n1BiYh0HwtRIiIiAA4ODjh06JBK26FDh%2BDg4CAoEZHu4xxRIiIilN4AYcKECdi/fz8aNmyIW7du4ciRIwgPDxcdjUhncY4oERHR/yQmJiImJgbZ2dmws7ODr68vWrVqJToWkc5iIUpERITSOaKRkZFISUlBcXGx8m5cABAVFSUwGZHu4tA8ERERgMmTJyM3NxedO3eGoaGh6DhEeoGFKBEREYBz587h2LFjqF27tugoRHqDq%2BaJiIgA2NjYwMCAfxaJqhLniBIRkV5LT08HAMTGxuLSpUv48MMPUbduXZXH2NraiohGpPNYiBIRkV5zdHSETCZTuaf8k4VKCoUCMpkMf/zxh6h4RDqNhSgREem1tLS0Zz7Gzs6uCpIQ6R8WokREREQkBGdlExEREZEQLESJiIiISAgWokREREQkBAtRIiIiIhKChSgRERERCcFClIiIiIiEYCFKREREREKwECUiIiIiIf4fK9OX3e3fdccAAAAASUVORK5CYII%3D\" class=\"center-img\">\n",
       "</div>\n",
       "    <div class=\"row headerrow highlight\">\n",
       "        <h1>Sample</h1>\n",
       "    </div>\n",
       "    <div class=\"row variablerow\">\n",
       "    <div class=\"col-md-12\" style=\"overflow:scroll; width: 100%%; overflow-y: hidden;\">\n",
       "        <table border=\"1\" class=\"dataframe sample\">\n",
       "  <thead>\n",
       "    <tr style=\"text-align: right;\">\n",
       "      <th></th>\n",
       "      <th>driver_id</th>\n",
       "      <th>gender</th>\n",
       "      <th>age</th>\n",
       "      <th>number_of_kids</th>\n",
       "      <th>date</th>\n",
       "      <th>ping_count</th>\n",
       "      <th>hours_online_float</th>\n",
       "      <th>hours_online</th>\n",
       "    </tr>\n",
       "  </thead>\n",
       "  <tbody>\n",
       "    <tr>\n",
       "      <th>0</th>\n",
       "      <td>979863</td>\n",
       "      <td>MALE</td>\n",
       "      <td>26</td>\n",
       "      <td>2</td>\n",
       "      <td>2017-06-01</td>\n",
       "      <td>1936</td>\n",
       "      <td>8.066667</td>\n",
       "      <td>8.0</td>\n",
       "    </tr>\n",
       "    <tr>\n",
       "      <th>1</th>\n",
       "      <td>979863</td>\n",
       "      <td>MALE</td>\n",
       "      <td>26</td>\n",
       "      <td>2</td>\n",
       "      <td>2017-06-02</td>\n",
       "      <td>2549</td>\n",
       "      <td>10.620833</td>\n",
       "      <td>11.0</td>\n",
       "    </tr>\n",
       "    <tr>\n",
       "      <th>2</th>\n",
       "      <td>979863</td>\n",
       "      <td>MALE</td>\n",
       "      <td>26</td>\n",
       "      <td>2</td>\n",
       "      <td>2017-06-03</td>\n",
       "      <td>2119</td>\n",
       "      <td>8.829167</td>\n",
       "      <td>9.0</td>\n",
       "    </tr>\n",
       "    <tr>\n",
       "      <th>3</th>\n",
       "      <td>979863</td>\n",
       "      <td>MALE</td>\n",
       "      <td>26</td>\n",
       "      <td>2</td>\n",
       "      <td>2017-06-04</td>\n",
       "      <td>1948</td>\n",
       "      <td>8.116667</td>\n",
       "      <td>8.0</td>\n",
       "    </tr>\n",
       "    <tr>\n",
       "      <th>4</th>\n",
       "      <td>979863</td>\n",
       "      <td>MALE</td>\n",
       "      <td>26</td>\n",
       "      <td>2</td>\n",
       "      <td>2017-06-06</td>\n",
       "      <td>2370</td>\n",
       "      <td>9.875000</td>\n",
       "      <td>10.0</td>\n",
       "    </tr>\n",
       "  </tbody>\n",
       "</table>\n",
       "    </div>\n",
       "</div>\n",
       "</div>"
      ],
      "text/plain": [
       "<pandas_profiling.ProfileReport at 0x178e0bc18>"
      ]
     },
     "execution_count": 555,
     "metadata": {},
     "output_type": "execute_result"
    }
   ],
   "source": [
    "pandas_profiling.ProfileReport(df1)"
   ]
  },
  {
   "cell_type": "markdown",
   "metadata": {},
   "source": [
    "Looks like there is no missing data"
   ]
  },
  {
   "cell_type": "code",
   "execution_count": 556,
   "metadata": {},
   "outputs": [
    {
     "name": "stdout",
     "output_type": "stream",
     "text": [
      "<class 'pandas.core.frame.DataFrame'>\n",
      "Int64Index: 41614 entries, 0 to 41613\n",
      "Data columns (total 8 columns):\n",
      "driver_id             41614 non-null int64\n",
      "gender                41614 non-null object\n",
      "age                   41614 non-null int64\n",
      "number_of_kids        41614 non-null int64\n",
      "date                  41614 non-null datetime64[ns]\n",
      "ping_count            41614 non-null int64\n",
      "hours_online_float    41614 non-null float64\n",
      "hours_online          41614 non-null float64\n",
      "dtypes: datetime64[ns](1), float64(2), int64(4), object(1)\n",
      "memory usage: 2.9+ MB\n"
     ]
    }
   ],
   "source": [
    "df1.info()"
   ]
  },
  {
   "cell_type": "code",
   "execution_count": 557,
   "metadata": {},
   "outputs": [
    {
     "data": {
      "text/html": [
       "<div>\n",
       "<style scoped>\n",
       "    .dataframe tbody tr th:only-of-type {\n",
       "        vertical-align: middle;\n",
       "    }\n",
       "\n",
       "    .dataframe tbody tr th {\n",
       "        vertical-align: top;\n",
       "    }\n",
       "\n",
       "    .dataframe thead th {\n",
       "        text-align: right;\n",
       "    }\n",
       "</style>\n",
       "<table border=\"1\" class=\"dataframe\">\n",
       "  <thead>\n",
       "    <tr style=\"text-align: right;\">\n",
       "      <th></th>\n",
       "      <th>driver_id</th>\n",
       "      <th>gender</th>\n",
       "      <th>age</th>\n",
       "      <th>number_of_kids</th>\n",
       "      <th>date</th>\n",
       "      <th>ping_count</th>\n",
       "      <th>hours_online_float</th>\n",
       "      <th>hours_online</th>\n",
       "    </tr>\n",
       "  </thead>\n",
       "  <tbody>\n",
       "    <tr>\n",
       "      <th>0</th>\n",
       "      <td>979863</td>\n",
       "      <td>MALE</td>\n",
       "      <td>26</td>\n",
       "      <td>2</td>\n",
       "      <td>2017-06-01</td>\n",
       "      <td>1936</td>\n",
       "      <td>8.066667</td>\n",
       "      <td>8.0</td>\n",
       "    </tr>\n",
       "    <tr>\n",
       "      <th>1</th>\n",
       "      <td>979863</td>\n",
       "      <td>MALE</td>\n",
       "      <td>26</td>\n",
       "      <td>2</td>\n",
       "      <td>2017-06-02</td>\n",
       "      <td>2549</td>\n",
       "      <td>10.620833</td>\n",
       "      <td>11.0</td>\n",
       "    </tr>\n",
       "    <tr>\n",
       "      <th>2</th>\n",
       "      <td>979863</td>\n",
       "      <td>MALE</td>\n",
       "      <td>26</td>\n",
       "      <td>2</td>\n",
       "      <td>2017-06-03</td>\n",
       "      <td>2119</td>\n",
       "      <td>8.829167</td>\n",
       "      <td>9.0</td>\n",
       "    </tr>\n",
       "    <tr>\n",
       "      <th>3</th>\n",
       "      <td>979863</td>\n",
       "      <td>MALE</td>\n",
       "      <td>26</td>\n",
       "      <td>2</td>\n",
       "      <td>2017-06-04</td>\n",
       "      <td>1948</td>\n",
       "      <td>8.116667</td>\n",
       "      <td>8.0</td>\n",
       "    </tr>\n",
       "    <tr>\n",
       "      <th>4</th>\n",
       "      <td>979863</td>\n",
       "      <td>MALE</td>\n",
       "      <td>26</td>\n",
       "      <td>2</td>\n",
       "      <td>2017-06-06</td>\n",
       "      <td>2370</td>\n",
       "      <td>9.875000</td>\n",
       "      <td>10.0</td>\n",
       "    </tr>\n",
       "  </tbody>\n",
       "</table>\n",
       "</div>"
      ],
      "text/plain": [
       "   driver_id gender  age  number_of_kids       date  ping_count  \\\n",
       "0     979863   MALE   26               2 2017-06-01        1936   \n",
       "1     979863   MALE   26               2 2017-06-02        2549   \n",
       "2     979863   MALE   26               2 2017-06-03        2119   \n",
       "3     979863   MALE   26               2 2017-06-04        1948   \n",
       "4     979863   MALE   26               2 2017-06-06        2370   \n",
       "\n",
       "   hours_online_float  hours_online  \n",
       "0            8.066667           8.0  \n",
       "1           10.620833          11.0  \n",
       "2            8.829167           9.0  \n",
       "3            8.116667           8.0  \n",
       "4            9.875000          10.0  "
      ]
     },
     "execution_count": 557,
     "metadata": {},
     "output_type": "execute_result"
    }
   ],
   "source": [
    "df1.head()"
   ]
  },
  {
   "cell_type": "markdown",
   "metadata": {},
   "source": [
    "# Feature engineering\n",
    "Since only date is expandable for feature engineering, we will use that to get more info "
   ]
  },
  {
   "cell_type": "code",
   "execution_count": 558,
   "metadata": {},
   "outputs": [],
   "source": [
    "# Lets get day of week from the date\n",
    "# 0 is Monday, 6 is Sunday\n",
    "df1['day_of_week'] = df1['date'].dt.dayofweek"
   ]
  },
  {
   "cell_type": "code",
   "execution_count": 559,
   "metadata": {},
   "outputs": [],
   "source": [
    "# Lets get day of week from the date\n",
    "df1['day_of_week_name'] = df1['date'].dt.weekday_name"
   ]
  },
  {
   "cell_type": "code",
   "execution_count": 326,
   "metadata": {},
   "outputs": [],
   "source": [
    "# Get start time hour\n",
    "# df1['start_time_hour'] = df1['start_time'].dt.hour"
   ]
  },
  {
   "cell_type": "code",
   "execution_count": 560,
   "metadata": {},
   "outputs": [
    {
     "data": {
      "text/html": [
       "<div>\n",
       "<style scoped>\n",
       "    .dataframe tbody tr th:only-of-type {\n",
       "        vertical-align: middle;\n",
       "    }\n",
       "\n",
       "    .dataframe tbody tr th {\n",
       "        vertical-align: top;\n",
       "    }\n",
       "\n",
       "    .dataframe thead th {\n",
       "        text-align: right;\n",
       "    }\n",
       "</style>\n",
       "<table border=\"1\" class=\"dataframe\">\n",
       "  <thead>\n",
       "    <tr style=\"text-align: right;\">\n",
       "      <th></th>\n",
       "      <th>driver_id</th>\n",
       "      <th>gender</th>\n",
       "      <th>age</th>\n",
       "      <th>number_of_kids</th>\n",
       "      <th>date</th>\n",
       "      <th>ping_count</th>\n",
       "      <th>hours_online_float</th>\n",
       "      <th>hours_online</th>\n",
       "      <th>day_of_week</th>\n",
       "      <th>day_of_week_name</th>\n",
       "    </tr>\n",
       "  </thead>\n",
       "  <tbody>\n",
       "    <tr>\n",
       "      <th>0</th>\n",
       "      <td>979863</td>\n",
       "      <td>MALE</td>\n",
       "      <td>26</td>\n",
       "      <td>2</td>\n",
       "      <td>2017-06-01</td>\n",
       "      <td>1936</td>\n",
       "      <td>8.066667</td>\n",
       "      <td>8.0</td>\n",
       "      <td>3</td>\n",
       "      <td>Thursday</td>\n",
       "    </tr>\n",
       "    <tr>\n",
       "      <th>1</th>\n",
       "      <td>979863</td>\n",
       "      <td>MALE</td>\n",
       "      <td>26</td>\n",
       "      <td>2</td>\n",
       "      <td>2017-06-02</td>\n",
       "      <td>2549</td>\n",
       "      <td>10.620833</td>\n",
       "      <td>11.0</td>\n",
       "      <td>4</td>\n",
       "      <td>Friday</td>\n",
       "    </tr>\n",
       "    <tr>\n",
       "      <th>2</th>\n",
       "      <td>979863</td>\n",
       "      <td>MALE</td>\n",
       "      <td>26</td>\n",
       "      <td>2</td>\n",
       "      <td>2017-06-03</td>\n",
       "      <td>2119</td>\n",
       "      <td>8.829167</td>\n",
       "      <td>9.0</td>\n",
       "      <td>5</td>\n",
       "      <td>Saturday</td>\n",
       "    </tr>\n",
       "    <tr>\n",
       "      <th>3</th>\n",
       "      <td>979863</td>\n",
       "      <td>MALE</td>\n",
       "      <td>26</td>\n",
       "      <td>2</td>\n",
       "      <td>2017-06-04</td>\n",
       "      <td>1948</td>\n",
       "      <td>8.116667</td>\n",
       "      <td>8.0</td>\n",
       "      <td>6</td>\n",
       "      <td>Sunday</td>\n",
       "    </tr>\n",
       "    <tr>\n",
       "      <th>4</th>\n",
       "      <td>979863</td>\n",
       "      <td>MALE</td>\n",
       "      <td>26</td>\n",
       "      <td>2</td>\n",
       "      <td>2017-06-06</td>\n",
       "      <td>2370</td>\n",
       "      <td>9.875000</td>\n",
       "      <td>10.0</td>\n",
       "      <td>1</td>\n",
       "      <td>Tuesday</td>\n",
       "    </tr>\n",
       "  </tbody>\n",
       "</table>\n",
       "</div>"
      ],
      "text/plain": [
       "   driver_id gender  age  number_of_kids       date  ping_count  \\\n",
       "0     979863   MALE   26               2 2017-06-01        1936   \n",
       "1     979863   MALE   26               2 2017-06-02        2549   \n",
       "2     979863   MALE   26               2 2017-06-03        2119   \n",
       "3     979863   MALE   26               2 2017-06-04        1948   \n",
       "4     979863   MALE   26               2 2017-06-06        2370   \n",
       "\n",
       "   hours_online_float  hours_online  day_of_week day_of_week_name  \n",
       "0            8.066667           8.0            3         Thursday  \n",
       "1           10.620833          11.0            4           Friday  \n",
       "2            8.829167           9.0            5         Saturday  \n",
       "3            8.116667           8.0            6           Sunday  \n",
       "4            9.875000          10.0            1          Tuesday  "
      ]
     },
     "execution_count": 560,
     "metadata": {},
     "output_type": "execute_result"
    }
   ],
   "source": [
    "df1.head()"
   ]
  },
  {
   "cell_type": "code",
   "execution_count": 561,
   "metadata": {},
   "outputs": [],
   "source": [
    "df1.to_csv('df1.csv',index=False)"
   ]
  },
  {
   "cell_type": "code",
   "execution_count": 708,
   "metadata": {},
   "outputs": [],
   "source": [
    "df1 = pd.read_csv('df1.csv')"
   ]
  },
  {
   "cell_type": "markdown",
   "metadata": {},
   "source": [
    "# Exploratory Data Analysis"
   ]
  },
  {
   "cell_type": "markdown",
   "metadata": {},
   "source": [
    "- average number of hours per day for each day (x = date, y = avg)\n",
    "- avg number of hours per day if x kids ( x = number of kids, y = avg)\n",
    "- male vs female\n",
    "- age distribution\n",
    "- number of kids distribution\n",
    "- avg number of hours by day of week"
   ]
  },
  {
   "cell_type": "code",
   "execution_count": 562,
   "metadata": {},
   "outputs": [
    {
     "data": {
      "text/plain": [
       "<matplotlib.axes._subplots.AxesSubplot at 0x1ba1567f0>"
      ]
     },
     "execution_count": 562,
     "metadata": {},
     "output_type": "execute_result"
    },
    {
     "data": {
      "image/png": "[encoded data removed]",
      "text/plain": [
       "<Figure size 800x550 with 1 Axes>"
      ]
     },
     "metadata": {},
     "output_type": "display_data"
    }
   ],
   "source": [
    "drivers.gender.value_counts(normalize=True).plot(kind = 'bar', title = 'Gender distribution',rot = 0)"
   ]
  },
  {
   "cell_type": "code",
   "execution_count": 563,
   "metadata": {},
   "outputs": [
    {
     "data": {
      "text/plain": [
       "Text(0.5, 1.0, 'Driver age distribution')"
      ]
     },
     "execution_count": 563,
     "metadata": {},
     "output_type": "execute_result"
    },
    {
     "data": {
      "image/png": "[encoded data removed]",
      "text/plain": [
       "<Figure size 800x550 with 1 Axes>"
      ]
     },
     "metadata": {},
     "output_type": "display_data"
    }
   ],
   "source": [
    "# drivers.age.plot(kind = 'hist', title = 'Age distribution',rot =0, bins = 20)\n",
    "sns.distplot(drivers.age)\n",
    "plt.title('Driver age distribution')"
   ]
  },
  {
   "cell_type": "code",
   "execution_count": 564,
   "metadata": {},
   "outputs": [
    {
     "data": {
      "text/plain": [
       "Text(0, 0.5, 'Driver count')"
      ]
     },
     "execution_count": 564,
     "metadata": {},
     "output_type": "execute_result"
    },
    {
     "data": {
      "image/png": "[encoded data removed]",
      "text/plain": [
       "<Figure size 800x550 with 1 Axes>"
      ]
     },
     "metadata": {},
     "output_type": "display_data"
    }
   ],
   "source": [
    "drivers.number_of_kids.value_counts().plot(kind = 'bar',title = \"Driver with families \")\n",
    "plt.xlabel(\"Number of Kids\")\n",
    "plt.ylabel(\"Driver count\")\n"
   ]
  },
  {
   "cell_type": "code",
   "execution_count": 709,
   "metadata": {},
   "outputs": [
    {
     "data": {
      "text/html": [
       "<div>\n",
       "<style scoped>\n",
       "    .dataframe tbody tr th:only-of-type {\n",
       "        vertical-align: middle;\n",
       "    }\n",
       "\n",
       "    .dataframe tbody tr th {\n",
       "        vertical-align: top;\n",
       "    }\n",
       "\n",
       "    .dataframe thead th {\n",
       "        text-align: right;\n",
       "    }\n",
       "</style>\n",
       "<table border=\"1\" class=\"dataframe\">\n",
       "  <thead>\n",
       "    <tr style=\"text-align: right;\">\n",
       "      <th></th>\n",
       "      <th>driver_id</th>\n",
       "      <th>gender</th>\n",
       "      <th>age</th>\n",
       "      <th>number_of_kids</th>\n",
       "      <th>hours_online</th>\n",
       "    </tr>\n",
       "  </thead>\n",
       "  <tbody>\n",
       "    <tr>\n",
       "      <th>0</th>\n",
       "      <td>111556</td>\n",
       "      <td>FEMALE</td>\n",
       "      <td>49</td>\n",
       "      <td>4</td>\n",
       "      <td>2.0</td>\n",
       "    </tr>\n",
       "    <tr>\n",
       "      <th>1</th>\n",
       "      <td>111575</td>\n",
       "      <td>MALE</td>\n",
       "      <td>49</td>\n",
       "      <td>0</td>\n",
       "      <td>7.0</td>\n",
       "    </tr>\n",
       "    <tr>\n",
       "      <th>2</th>\n",
       "      <td>111779</td>\n",
       "      <td>MALE</td>\n",
       "      <td>26</td>\n",
       "      <td>0</td>\n",
       "      <td>3.0</td>\n",
       "    </tr>\n",
       "    <tr>\n",
       "      <th>3</th>\n",
       "      <td>111839</td>\n",
       "      <td>MALE</td>\n",
       "      <td>25</td>\n",
       "      <td>0</td>\n",
       "      <td>7.0</td>\n",
       "    </tr>\n",
       "    <tr>\n",
       "      <th>4</th>\n",
       "      <td>112486</td>\n",
       "      <td>FEMALE</td>\n",
       "      <td>44</td>\n",
       "      <td>1</td>\n",
       "      <td>3.0</td>\n",
       "    </tr>\n",
       "  </tbody>\n",
       "</table>\n",
       "</div>"
      ],
      "text/plain": [
       "   driver_id  gender  age  number_of_kids  hours_online\n",
       "0     111556  FEMALE   49               4           2.0\n",
       "1     111575    MALE   49               0           7.0\n",
       "2     111779    MALE   26               0           3.0\n",
       "3     111839    MALE   25               0           7.0\n",
       "4     112486  FEMALE   44               1           3.0"
      ]
     },
     "execution_count": 709,
     "metadata": {},
     "output_type": "execute_result"
    }
   ],
   "source": [
    "x1 = df1.groupby(['driver_id','gender','age','number_of_kids'], as_index=False).agg({'hours_online':'mean'})\n",
    "x1['hours_online'] = round(x1['hours_online'])\n",
    "x1.head()"
   ]
  },
  {
   "cell_type": "code",
   "execution_count": 710,
   "metadata": {},
   "outputs": [
    {
     "data": {
      "text/html": [
       "<div>\n",
       "<style scoped>\n",
       "    .dataframe tbody tr th:only-of-type {\n",
       "        vertical-align: middle;\n",
       "    }\n",
       "\n",
       "    .dataframe tbody tr th {\n",
       "        vertical-align: top;\n",
       "    }\n",
       "\n",
       "    .dataframe thead th {\n",
       "        text-align: right;\n",
       "    }\n",
       "</style>\n",
       "<table border=\"1\" class=\"dataframe\">\n",
       "  <thead>\n",
       "    <tr style=\"text-align: right;\">\n",
       "      <th></th>\n",
       "      <th>gender</th>\n",
       "      <th>hours_online</th>\n",
       "    </tr>\n",
       "  </thead>\n",
       "  <tbody>\n",
       "    <tr>\n",
       "      <th>0</th>\n",
       "      <td>FEMALE</td>\n",
       "      <td>3.303987</td>\n",
       "    </tr>\n",
       "    <tr>\n",
       "      <th>1</th>\n",
       "      <td>MALE</td>\n",
       "      <td>5.382933</td>\n",
       "    </tr>\n",
       "  </tbody>\n",
       "</table>\n",
       "</div>"
      ],
      "text/plain": [
       "   gender  hours_online\n",
       "0  FEMALE      3.303987\n",
       "1    MALE      5.382933"
      ]
     },
     "execution_count": 710,
     "metadata": {},
     "output_type": "execute_result"
    }
   ],
   "source": [
    "x2 = x1.groupby(['gender'], as_index=False).agg({'hours_online':'mean'})\n",
    "x2.head()"
   ]
  },
  {
   "cell_type": "code",
   "execution_count": 711,
   "metadata": {},
   "outputs": [
    {
     "data": {
      "text/plain": [
       "0     2.0\n",
       "4     3.0\n",
       "29    3.0\n",
       "30    3.0\n",
       "38    3.0\n",
       "Name: hours_online, dtype: float64"
      ]
     },
     "execution_count": 711,
     "metadata": {},
     "output_type": "execute_result"
    }
   ],
   "source": [
    "x1[x1['gender']=='FEMALE']['hours_online'].head()"
   ]
  },
  {
   "cell_type": "code",
   "execution_count": 712,
   "metadata": {},
   "outputs": [
    {
     "data": {
      "text/plain": [
       "Text(0.5, 1.0, 'Female hours online')"
      ]
     },
     "execution_count": 712,
     "metadata": {},
     "output_type": "execute_result"
    },
    {
     "data": {
      "image/png": "[encoded data removed]",
      "text/plain": [
       "<Figure size 800x550 with 1 Axes>"
      ]
     },
     "metadata": {},
     "output_type": "display_data"
    }
   ],
   "source": [
    "sns.countplot(x1[x1['gender']=='FEMALE']['hours_online'])\n",
    "plt.title('Female hours online')"
   ]
  },
  {
   "cell_type": "code",
   "execution_count": 713,
   "metadata": {},
   "outputs": [
    {
     "data": {
      "text/plain": [
       "Text(0.5, 1.0, 'Female hours online')"
      ]
     },
     "execution_count": 713,
     "metadata": {},
     "output_type": "execute_result"
    },
    {
     "data": {
      "image/png": "[encoded data removed]",
      "text/plain": [
       "<Figure size 800x550 with 1 Axes>"
      ]
     },
     "metadata": {},
     "output_type": "display_data"
    }
   ],
   "source": [
    "sns.distplot(x1[x1['gender']=='FEMALE']['hours_online'])\n",
    "plt.title('Female hours online')"
   ]
  },
  {
   "cell_type": "code",
   "execution_count": 714,
   "metadata": {},
   "outputs": [
    {
     "data": {
      "text/plain": [
       "Text(0.5, 1.0, 'Male Hours Online')"
      ]
     },
     "execution_count": 714,
     "metadata": {},
     "output_type": "execute_result"
    },
    {
     "data": {
      "image/png": "[encoded data removed]",
      "text/plain": [
       "<Figure size 800x550 with 2 Axes>"
      ]
     },
     "metadata": {},
     "output_type": "display_data"
    }
   ],
   "source": [
    "fig,ax = plt.subplots(1, 2)\n",
    "sns.distplot(x1[x1['gender']=='FEMALE']['hours_online'],ax = ax[0],kde=False)\n",
    "ax[0].set_title('Female Hours Online')\n",
    "sns.distplot(x1[x1['gender']=='MALE']['hours_online'],ax = ax[1],kde=False)\n",
    "ax[1].set_title('Male Hours Online')"
   ]
  },
  {
   "cell_type": "markdown",
   "metadata": {},
   "source": [
    "Females tend to spend shorter time online than males, mostly between 2-3 hours"
   ]
  },
  {
   "cell_type": "code",
   "execution_count": 715,
   "metadata": {},
   "outputs": [
    {
     "data": {
      "image/png": "[encoded data removed]",
      "text/plain": [
       "<Figure size 800x550 with 1 Axes>"
      ]
     },
     "metadata": {},
     "output_type": "display_data"
    }
   ],
   "source": [
    "sns.violinplot(x='hours_online', y='age', data=x1)\n",
    "plt.title ('Age distribution vs hours online ', fontsize=15);\n",
    "plt.xlabel('hours online', fontsize=15);\n",
    "plt.ylabel('Age', fontsize=15);"
   ]
  },
  {
   "cell_type": "markdown",
   "metadata": {},
   "source": [
    "- drivers between the age of 18-30 tend to either spend short time online or very long time online (2-4 hours or 7 -9 hours)\n",
    "- Older drivers (50 and above) spend usually 5-6 hours online"
   ]
  },
  {
   "cell_type": "code",
   "execution_count": 716,
   "metadata": {},
   "outputs": [
    {
     "data": {
      "text/html": [
       "<div>\n",
       "<style scoped>\n",
       "    .dataframe tbody tr th:only-of-type {\n",
       "        vertical-align: middle;\n",
       "    }\n",
       "\n",
       "    .dataframe tbody tr th {\n",
       "        vertical-align: top;\n",
       "    }\n",
       "\n",
       "    .dataframe thead th {\n",
       "        text-align: right;\n",
       "    }\n",
       "</style>\n",
       "<table border=\"1\" class=\"dataframe\">\n",
       "  <thead>\n",
       "    <tr style=\"text-align: right;\">\n",
       "      <th></th>\n",
       "      <th>driver_id</th>\n",
       "      <th>gender</th>\n",
       "      <th>age</th>\n",
       "      <th>number_of_kids</th>\n",
       "      <th>hours_online</th>\n",
       "    </tr>\n",
       "  </thead>\n",
       "  <tbody>\n",
       "    <tr>\n",
       "      <th>0</th>\n",
       "      <td>111556</td>\n",
       "      <td>FEMALE</td>\n",
       "      <td>49</td>\n",
       "      <td>4</td>\n",
       "      <td>2.0</td>\n",
       "    </tr>\n",
       "    <tr>\n",
       "      <th>1</th>\n",
       "      <td>111575</td>\n",
       "      <td>MALE</td>\n",
       "      <td>49</td>\n",
       "      <td>0</td>\n",
       "      <td>7.0</td>\n",
       "    </tr>\n",
       "    <tr>\n",
       "      <th>2</th>\n",
       "      <td>111779</td>\n",
       "      <td>MALE</td>\n",
       "      <td>26</td>\n",
       "      <td>0</td>\n",
       "      <td>3.0</td>\n",
       "    </tr>\n",
       "    <tr>\n",
       "      <th>3</th>\n",
       "      <td>111839</td>\n",
       "      <td>MALE</td>\n",
       "      <td>25</td>\n",
       "      <td>0</td>\n",
       "      <td>7.0</td>\n",
       "    </tr>\n",
       "    <tr>\n",
       "      <th>4</th>\n",
       "      <td>112486</td>\n",
       "      <td>FEMALE</td>\n",
       "      <td>44</td>\n",
       "      <td>1</td>\n",
       "      <td>3.0</td>\n",
       "    </tr>\n",
       "  </tbody>\n",
       "</table>\n",
       "</div>"
      ],
      "text/plain": [
       "   driver_id  gender  age  number_of_kids  hours_online\n",
       "0     111556  FEMALE   49               4           2.0\n",
       "1     111575    MALE   49               0           7.0\n",
       "2     111779    MALE   26               0           3.0\n",
       "3     111839    MALE   25               0           7.0\n",
       "4     112486  FEMALE   44               1           3.0"
      ]
     },
     "execution_count": 716,
     "metadata": {},
     "output_type": "execute_result"
    }
   ],
   "source": [
    "x1.head()"
   ]
  },
  {
   "cell_type": "code",
   "execution_count": 717,
   "metadata": {},
   "outputs": [
    {
     "data": {
      "image/png": "[encoded data removed]",
      "text/plain": [
       "<Figure size 800x550 with 1 Axes>"
      ]
     },
     "metadata": {},
     "output_type": "display_data"
    }
   ],
   "source": [
    "sns.violinplot(x='number_of_kids', y= 'hours_online', data=x1)\n",
    "plt.title ('Number of kids vs hours online ', fontsize=15);\n",
    "plt.xlabel('Number of Kids', fontsize=15);\n",
    "plt.ylabel('Hours Online', fontsize=15);"
   ]
  },
  {
   "cell_type": "markdown",
   "metadata": {},
   "source": [
    "Drivers with kids tend to spend more time online than those without"
   ]
  },
  {
   "cell_type": "code",
   "execution_count": 718,
   "metadata": {},
   "outputs": [
    {
     "name": "stdout",
     "output_type": "stream",
     "text": [
      "         date  hours_online\n",
      "0  2017-06-01      4.733743\n",
      "1  2017-06-02      4.740789\n",
      "2  2017-06-03      6.368159\n",
      "3  2017-06-04      6.485306\n",
      "4  2017-06-05      4.699470\n"
     ]
    },
    {
     "data": {
      "text/plain": [
       "<matplotlib.axes._subplots.AxesSubplot at 0x1bd0bcb38>"
      ]
     },
     "execution_count": 718,
     "metadata": {},
     "output_type": "execute_result"
    },
    {
     "data": {
      "image/png": "[encoded data removed]",
      "text/plain": [
       "<Figure size 1000x500 with 1 Axes>"
      ]
     },
     "metadata": {},
     "output_type": "display_data"
    }
   ],
   "source": [
    "avg_hours_per_day = df1.groupby(['date'], as_index=False).agg({'hours_online':'mean'})\n",
    "print(avg_hours_per_day.head())\n",
    "avg_hours_per_day.plot(x='date',y ='hours_online', kind = 'line', figsize=(10,5), fontsize=12)"
   ]
  },
  {
   "cell_type": "code",
   "execution_count": 719,
   "metadata": {},
   "outputs": [
    {
     "name": "stdout",
     "output_type": "stream",
     "text": [
      "  day_of_week_name  hours_online\n",
      "0           Friday      4.769746\n",
      "1           Monday      4.739658\n",
      "2         Saturday      6.409355\n",
      "3           Sunday      6.511958\n",
      "4         Thursday      4.713997\n",
      "5          Tuesday      4.761884\n",
      "6        Wednesday      4.754574\n"
     ]
    },
    {
     "data": {
      "text/plain": [
       "Text(0.5, 1.0, 'Aerage Hours Online')"
      ]
     },
     "execution_count": 719,
     "metadata": {},
     "output_type": "execute_result"
    },
    {
     "data": {
      "image/png": "[encoded data removed]",
      "text/plain": [
       "<Figure size 1000x500 with 1 Axes>"
      ]
     },
     "metadata": {},
     "output_type": "display_data"
    }
   ],
   "source": [
    "avg_hours_per_day_of_week = df1.groupby(['day_of_week_name'], as_index=False).agg({'hours_online':'mean'})\n",
    "print(avg_hours_per_day_of_week)\n",
    "avg_hours_per_day_of_week.plot(x='day_of_week_name',y ='hours_online', kind = 'bar', figsize=(10,5),legend=False)\n",
    "plt.title('Aerage Hours Online')"
   ]
  },
  {
   "cell_type": "code",
   "execution_count": 720,
   "metadata": {},
   "outputs": [
    {
     "data": {
      "text/html": [
       "<div>\n",
       "<style scoped>\n",
       "    .dataframe tbody tr th:only-of-type {\n",
       "        vertical-align: middle;\n",
       "    }\n",
       "\n",
       "    .dataframe tbody tr th {\n",
       "        vertical-align: top;\n",
       "    }\n",
       "\n",
       "    .dataframe thead th {\n",
       "        text-align: right;\n",
       "    }\n",
       "</style>\n",
       "<table border=\"1\" class=\"dataframe\">\n",
       "  <thead>\n",
       "    <tr style=\"text-align: right;\">\n",
       "      <th></th>\n",
       "      <th>day_of_week_name</th>\n",
       "      <th>number_of_kids</th>\n",
       "      <th>hours_online</th>\n",
       "    </tr>\n",
       "  </thead>\n",
       "  <tbody>\n",
       "    <tr>\n",
       "      <th>1</th>\n",
       "      <td>Friday</td>\n",
       "      <td>1</td>\n",
       "      <td>5.0</td>\n",
       "    </tr>\n",
       "    <tr>\n",
       "      <th>6</th>\n",
       "      <td>Monday</td>\n",
       "      <td>1</td>\n",
       "      <td>5.0</td>\n",
       "    </tr>\n",
       "    <tr>\n",
       "      <th>11</th>\n",
       "      <td>Saturday</td>\n",
       "      <td>1</td>\n",
       "      <td>7.0</td>\n",
       "    </tr>\n",
       "    <tr>\n",
       "      <th>16</th>\n",
       "      <td>Sunday</td>\n",
       "      <td>1</td>\n",
       "      <td>7.0</td>\n",
       "    </tr>\n",
       "    <tr>\n",
       "      <th>21</th>\n",
       "      <td>Thursday</td>\n",
       "      <td>1</td>\n",
       "      <td>5.0</td>\n",
       "    </tr>\n",
       "    <tr>\n",
       "      <th>26</th>\n",
       "      <td>Tuesday</td>\n",
       "      <td>1</td>\n",
       "      <td>5.0</td>\n",
       "    </tr>\n",
       "    <tr>\n",
       "      <th>31</th>\n",
       "      <td>Wednesday</td>\n",
       "      <td>1</td>\n",
       "      <td>5.0</td>\n",
       "    </tr>\n",
       "  </tbody>\n",
       "</table>\n",
       "</div>"
      ],
      "text/plain": [
       "   day_of_week_name  number_of_kids  hours_online\n",
       "1            Friday               1           5.0\n",
       "6            Monday               1           5.0\n",
       "11         Saturday               1           7.0\n",
       "16           Sunday               1           7.0\n",
       "21         Thursday               1           5.0\n",
       "26          Tuesday               1           5.0\n",
       "31        Wednesday               1           5.0"
      ]
     },
     "execution_count": 720,
     "metadata": {},
     "output_type": "execute_result"
    }
   ],
   "source": [
    "avg_hours_per_day_of_week_kid = df1.groupby(['day_of_week_name','number_of_kids'], as_index=False).agg({'hours_online':'mean'})\n",
    "tmp = avg_hours_per_day_of_week_kid\n",
    "tmp['hours_online'] = round(tmp['hours_online'])\n",
    "tmp[tmp['number_of_kids']==1]"
   ]
  },
  {
   "cell_type": "code",
   "execution_count": 721,
   "metadata": {},
   "outputs": [
    {
     "data": {
      "image/png": "[encoded data removed]",
      "text/plain": [
       "<Figure size 1000x300 with 5 Axes>"
      ]
     },
     "metadata": {},
     "output_type": "display_data"
    }
   ],
   "source": [
    "fig, ax = plt.subplots(1, 5, sharex='col', sharey='row')\n",
    "for i in range(5):\n",
    "    tmp[tmp.number_of_kids==i].plot(kind='bar',x = 'day_of_week_name',y = 'hours_online',title= (str(i)+ ' kids'), ax = ax[i],figsize=(10,3),legend=False )\n",
    "    ax[i].set_ylabel('Average Hours Online')\n"
   ]
  },
  {
   "cell_type": "markdown",
   "metadata": {},
   "source": [
    "### Distribution of drivers with kids"
   ]
  },
  {
   "cell_type": "code",
   "execution_count": 722,
   "metadata": {},
   "outputs": [],
   "source": [
    "avg_hours_given_kids_0 = df1.groupby(['driver_id','number_of_kids'], as_index=False).agg({'hours_online':'mean'})\n",
    "avg_hours_given_kids_0['hours_online'] = round(avg_hours_given_kids_0['hours_online'])"
   ]
  },
  {
   "cell_type": "code",
   "execution_count": 723,
   "metadata": {},
   "outputs": [
    {
     "data": {
      "text/html": [
       "<div>\n",
       "<style scoped>\n",
       "    .dataframe tbody tr th:only-of-type {\n",
       "        vertical-align: middle;\n",
       "    }\n",
       "\n",
       "    .dataframe tbody tr th {\n",
       "        vertical-align: top;\n",
       "    }\n",
       "\n",
       "    .dataframe thead th {\n",
       "        text-align: right;\n",
       "    }\n",
       "</style>\n",
       "<table border=\"1\" class=\"dataframe\">\n",
       "  <thead>\n",
       "    <tr style=\"text-align: right;\">\n",
       "      <th></th>\n",
       "      <th>driver_id</th>\n",
       "      <th>number_of_kids</th>\n",
       "      <th>hours_online</th>\n",
       "    </tr>\n",
       "  </thead>\n",
       "  <tbody>\n",
       "    <tr>\n",
       "      <th>0</th>\n",
       "      <td>111556</td>\n",
       "      <td>4</td>\n",
       "      <td>2.0</td>\n",
       "    </tr>\n",
       "    <tr>\n",
       "      <th>1</th>\n",
       "      <td>111575</td>\n",
       "      <td>0</td>\n",
       "      <td>7.0</td>\n",
       "    </tr>\n",
       "    <tr>\n",
       "      <th>2</th>\n",
       "      <td>111779</td>\n",
       "      <td>0</td>\n",
       "      <td>3.0</td>\n",
       "    </tr>\n",
       "    <tr>\n",
       "      <th>3</th>\n",
       "      <td>111839</td>\n",
       "      <td>0</td>\n",
       "      <td>7.0</td>\n",
       "    </tr>\n",
       "    <tr>\n",
       "      <th>4</th>\n",
       "      <td>112486</td>\n",
       "      <td>1</td>\n",
       "      <td>3.0</td>\n",
       "    </tr>\n",
       "  </tbody>\n",
       "</table>\n",
       "</div>"
      ],
      "text/plain": [
       "   driver_id  number_of_kids  hours_online\n",
       "0     111556               4           2.0\n",
       "1     111575               0           7.0\n",
       "2     111779               0           3.0\n",
       "3     111839               0           7.0\n",
       "4     112486               1           3.0"
      ]
     },
     "execution_count": 723,
     "metadata": {},
     "output_type": "execute_result"
    }
   ],
   "source": [
    "avg_hours_given_kids_0.head()"
   ]
  },
  {
   "cell_type": "code",
   "execution_count": 724,
   "metadata": {},
   "outputs": [
    {
     "data": {
      "text/plain": [
       "0    1103\n",
       "3     353\n",
       "1     351\n",
       "4     350\n",
       "2     320\n",
       "Name: number_of_kids, dtype: int64"
      ]
     },
     "execution_count": 724,
     "metadata": {},
     "output_type": "execute_result"
    }
   ],
   "source": [
    "avg_hours_given_kids_0['number_of_kids'].value_counts()"
   ]
  },
  {
   "cell_type": "code",
   "execution_count": 725,
   "metadata": {},
   "outputs": [],
   "source": [
    "tmp = avg_hours_given_kids_0"
   ]
  },
  {
   "cell_type": "code",
   "execution_count": 726,
   "metadata": {},
   "outputs": [
    {
     "data": {
      "image/png": "[encoded data removed]",
      "text/plain": [
       "<Figure size 1000x300 with 5 Axes>"
      ]
     },
     "metadata": {},
     "output_type": "display_data"
    }
   ],
   "source": [
    "fig, ax = plt.subplots(1, 5, sharex='col', sharey='row')\n",
    "for i in range(5):\n",
    "    tmp[tmp.number_of_kids==i]['hours_online'].plot(kind='hist',title= (str(i)+ ' kids'), ax = ax[i],figsize=(10,3) )\n",
    "    ax[i].set_xlabel('hours_online')\n"
   ]
  },
  {
   "cell_type": "code",
   "execution_count": 727,
   "metadata": {},
   "outputs": [
    {
     "data": {
      "text/plain": [
       "<matplotlib.axes._subplots.AxesSubplot at 0x1cafb9e10>"
      ]
     },
     "execution_count": 727,
     "metadata": {},
     "output_type": "execute_result"
    },
    {
     "data": {
      "image/png": "[encoded data removed]",
      "text/plain": [
       "<Figure size 1000x500 with 1 Axes>"
      ]
     },
     "metadata": {},
     "output_type": "display_data"
    }
   ],
   "source": [
    "# tmp.groupby(['hours_online_int','number_of_kids'])['driver_id'].count().unstack().plot(kind = 'bar',title = 'Hours online',stacked=True)\n",
    "tmp.groupby(['hours_online','number_of_kids'])['driver_id'].count().unstack().plot(kind = 'bar',title = 'Number of Drivers',figsize=(10,5))\n"
   ]
  },
  {
   "cell_type": "code",
   "execution_count": 728,
   "metadata": {},
   "outputs": [
    {
     "name": "stdout",
     "output_type": "stream",
     "text": [
      "   number_of_kids  hours_online\n",
      "0               0      4.699003\n",
      "1               1      4.934473\n",
      "2               2      5.015625\n",
      "3               3      4.957507\n",
      "4               4      5.177143\n"
     ]
    },
    {
     "data": {
      "image/png": "[encoded data removed]",
      "text/plain": [
       "<Figure size 800x550 with 1 Axes>"
      ]
     },
     "metadata": {},
     "output_type": "display_data"
    }
   ],
   "source": [
    "avg_hours_given_kids = avg_hours_given_kids_0.groupby(['number_of_kids'], as_index=False).agg({'hours_online':'mean'})\n",
    "print(avg_hours_given_kids)\n",
    "sns.barplot(x='number_of_kids', y='hours_online', data=avg_hours_given_kids)\n",
    "plt.title ('Hours spent driving given number of kids ', fontsize=15);\n",
    "plt.xlabel('Number of Kids', fontsize=15);\n",
    "plt.ylabel('Hours Online', fontsize=15);"
   ]
  },
  {
   "cell_type": "markdown",
   "metadata": {},
   "source": [
    "# Feature Transformation"
   ]
  },
  {
   "cell_type": "code",
   "execution_count": 729,
   "metadata": {},
   "outputs": [],
   "source": [
    "df = df1"
   ]
  },
  {
   "cell_type": "code",
   "execution_count": 732,
   "metadata": {},
   "outputs": [],
   "source": [
    "#Convert date to an integer using ordinal\n",
    "df['date'] = pd.to_datetime(df['date'])\n",
    "df['date_ord'] = df['date'].map(dt.datetime.toordinal)"
   ]
  },
  {
   "cell_type": "code",
   "execution_count": 617,
   "metadata": {},
   "outputs": [],
   "source": [
    "#When you want to convert new sting time to ordinal form the test set\n",
    "# d = dt.datetime.strptime(\"2017-06-06\", \"%Y-%m-%d\").date()\n",
    "# d.toordinal()"
   ]
  },
  {
   "cell_type": "code",
   "execution_count": 733,
   "metadata": {},
   "outputs": [],
   "source": [
    "# convert gender to category\n",
    "df['gender'] = df['gender'].map( {'MALE':1, 'FEMALE':0} )"
   ]
  },
  {
   "cell_type": "code",
   "execution_count": 734,
   "metadata": {},
   "outputs": [],
   "source": [
    "# if it is the weekend\n",
    "df['is_weekend'] = [1 if x in (5,6) else 0 for x in df['day_of_week']]"
   ]
  },
  {
   "cell_type": "code",
   "execution_count": 735,
   "metadata": {},
   "outputs": [
    {
     "name": "stdout",
     "output_type": "stream",
     "text": [
      "<class 'pandas.core.frame.DataFrame'>\n",
      "RangeIndex: 41614 entries, 0 to 41613\n",
      "Data columns (total 12 columns):\n",
      "driver_id             41614 non-null int64\n",
      "gender                41614 non-null int64\n",
      "age                   41614 non-null int64\n",
      "number_of_kids        41614 non-null int64\n",
      "date                  41614 non-null datetime64[ns]\n",
      "ping_count            41614 non-null int64\n",
      "hours_online_float    41614 non-null float64\n",
      "hours_online          41614 non-null float64\n",
      "day_of_week           41614 non-null int64\n",
      "day_of_week_name      41614 non-null object\n",
      "date_ord              41614 non-null int64\n",
      "is_weekend            41614 non-null int64\n",
      "dtypes: datetime64[ns](1), float64(2), int64(8), object(1)\n",
      "memory usage: 3.8+ MB\n"
     ]
    }
   ],
   "source": [
    "df.info()"
   ]
  },
  {
   "cell_type": "code",
   "execution_count": 736,
   "metadata": {},
   "outputs": [
    {
     "data": {
      "text/html": [
       "<div>\n",
       "<style scoped>\n",
       "    .dataframe tbody tr th:only-of-type {\n",
       "        vertical-align: middle;\n",
       "    }\n",
       "\n",
       "    .dataframe tbody tr th {\n",
       "        vertical-align: top;\n",
       "    }\n",
       "\n",
       "    .dataframe thead th {\n",
       "        text-align: right;\n",
       "    }\n",
       "</style>\n",
       "<table border=\"1\" class=\"dataframe\">\n",
       "  <thead>\n",
       "    <tr style=\"text-align: right;\">\n",
       "      <th></th>\n",
       "      <th>driver_id</th>\n",
       "      <th>gender</th>\n",
       "      <th>age</th>\n",
       "      <th>number_of_kids</th>\n",
       "      <th>date</th>\n",
       "      <th>ping_count</th>\n",
       "      <th>hours_online_float</th>\n",
       "      <th>hours_online</th>\n",
       "      <th>day_of_week</th>\n",
       "      <th>day_of_week_name</th>\n",
       "      <th>date_ord</th>\n",
       "      <th>is_weekend</th>\n",
       "    </tr>\n",
       "  </thead>\n",
       "  <tbody>\n",
       "    <tr>\n",
       "      <th>0</th>\n",
       "      <td>979863</td>\n",
       "      <td>1</td>\n",
       "      <td>26</td>\n",
       "      <td>2</td>\n",
       "      <td>2017-06-01</td>\n",
       "      <td>1936</td>\n",
       "      <td>8.066667</td>\n",
       "      <td>8.0</td>\n",
       "      <td>3</td>\n",
       "      <td>Thursday</td>\n",
       "      <td>736481</td>\n",
       "      <td>0</td>\n",
       "    </tr>\n",
       "    <tr>\n",
       "      <th>1</th>\n",
       "      <td>979863</td>\n",
       "      <td>1</td>\n",
       "      <td>26</td>\n",
       "      <td>2</td>\n",
       "      <td>2017-06-02</td>\n",
       "      <td>2549</td>\n",
       "      <td>10.620833</td>\n",
       "      <td>11.0</td>\n",
       "      <td>4</td>\n",
       "      <td>Friday</td>\n",
       "      <td>736482</td>\n",
       "      <td>0</td>\n",
       "    </tr>\n",
       "    <tr>\n",
       "      <th>2</th>\n",
       "      <td>979863</td>\n",
       "      <td>1</td>\n",
       "      <td>26</td>\n",
       "      <td>2</td>\n",
       "      <td>2017-06-03</td>\n",
       "      <td>2119</td>\n",
       "      <td>8.829167</td>\n",
       "      <td>9.0</td>\n",
       "      <td>5</td>\n",
       "      <td>Saturday</td>\n",
       "      <td>736483</td>\n",
       "      <td>1</td>\n",
       "    </tr>\n",
       "    <tr>\n",
       "      <th>3</th>\n",
       "      <td>979863</td>\n",
       "      <td>1</td>\n",
       "      <td>26</td>\n",
       "      <td>2</td>\n",
       "      <td>2017-06-04</td>\n",
       "      <td>1948</td>\n",
       "      <td>8.116667</td>\n",
       "      <td>8.0</td>\n",
       "      <td>6</td>\n",
       "      <td>Sunday</td>\n",
       "      <td>736484</td>\n",
       "      <td>1</td>\n",
       "    </tr>\n",
       "    <tr>\n",
       "      <th>4</th>\n",
       "      <td>979863</td>\n",
       "      <td>1</td>\n",
       "      <td>26</td>\n",
       "      <td>2</td>\n",
       "      <td>2017-06-06</td>\n",
       "      <td>2370</td>\n",
       "      <td>9.875000</td>\n",
       "      <td>10.0</td>\n",
       "      <td>1</td>\n",
       "      <td>Tuesday</td>\n",
       "      <td>736486</td>\n",
       "      <td>0</td>\n",
       "    </tr>\n",
       "  </tbody>\n",
       "</table>\n",
       "</div>"
      ],
      "text/plain": [
       "   driver_id  gender  age  number_of_kids       date  ping_count  \\\n",
       "0     979863       1   26               2 2017-06-01        1936   \n",
       "1     979863       1   26               2 2017-06-02        2549   \n",
       "2     979863       1   26               2 2017-06-03        2119   \n",
       "3     979863       1   26               2 2017-06-04        1948   \n",
       "4     979863       1   26               2 2017-06-06        2370   \n",
       "\n",
       "   hours_online_float  hours_online  day_of_week day_of_week_name  date_ord  \\\n",
       "0            8.066667           8.0            3         Thursday    736481   \n",
       "1           10.620833          11.0            4           Friday    736482   \n",
       "2            8.829167           9.0            5         Saturday    736483   \n",
       "3            8.116667           8.0            6           Sunday    736484   \n",
       "4            9.875000          10.0            1          Tuesday    736486   \n",
       "\n",
       "   is_weekend  \n",
       "0           0  \n",
       "1           0  \n",
       "2           1  \n",
       "3           1  \n",
       "4           0  "
      ]
     },
     "execution_count": 736,
     "metadata": {},
     "output_type": "execute_result"
    }
   ],
   "source": [
    "df.head()"
   ]
  },
  {
   "cell_type": "markdown",
   "metadata": {},
   "source": [
    "# Drop unecessary columns"
   ]
  },
  {
   "cell_type": "code",
   "execution_count": 737,
   "metadata": {},
   "outputs": [],
   "source": [
    "df.drop(columns=[\"date\",\"ping_count\",\"hours_online_float\",\"day_of_week_name\"],inplace=True)"
   ]
  },
  {
   "cell_type": "code",
   "execution_count": 738,
   "metadata": {},
   "outputs": [
    {
     "data": {
      "text/html": [
       "<div>\n",
       "<style scoped>\n",
       "    .dataframe tbody tr th:only-of-type {\n",
       "        vertical-align: middle;\n",
       "    }\n",
       "\n",
       "    .dataframe tbody tr th {\n",
       "        vertical-align: top;\n",
       "    }\n",
       "\n",
       "    .dataframe thead th {\n",
       "        text-align: right;\n",
       "    }\n",
       "</style>\n",
       "<table border=\"1\" class=\"dataframe\">\n",
       "  <thead>\n",
       "    <tr style=\"text-align: right;\">\n",
       "      <th></th>\n",
       "      <th>driver_id</th>\n",
       "      <th>gender</th>\n",
       "      <th>age</th>\n",
       "      <th>number_of_kids</th>\n",
       "      <th>hours_online</th>\n",
       "      <th>day_of_week</th>\n",
       "      <th>date_ord</th>\n",
       "      <th>is_weekend</th>\n",
       "    </tr>\n",
       "  </thead>\n",
       "  <tbody>\n",
       "    <tr>\n",
       "      <th>0</th>\n",
       "      <td>979863</td>\n",
       "      <td>1</td>\n",
       "      <td>26</td>\n",
       "      <td>2</td>\n",
       "      <td>8.0</td>\n",
       "      <td>3</td>\n",
       "      <td>736481</td>\n",
       "      <td>0</td>\n",
       "    </tr>\n",
       "    <tr>\n",
       "      <th>1</th>\n",
       "      <td>979863</td>\n",
       "      <td>1</td>\n",
       "      <td>26</td>\n",
       "      <td>2</td>\n",
       "      <td>11.0</td>\n",
       "      <td>4</td>\n",
       "      <td>736482</td>\n",
       "      <td>0</td>\n",
       "    </tr>\n",
       "    <tr>\n",
       "      <th>2</th>\n",
       "      <td>979863</td>\n",
       "      <td>1</td>\n",
       "      <td>26</td>\n",
       "      <td>2</td>\n",
       "      <td>9.0</td>\n",
       "      <td>5</td>\n",
       "      <td>736483</td>\n",
       "      <td>1</td>\n",
       "    </tr>\n",
       "    <tr>\n",
       "      <th>3</th>\n",
       "      <td>979863</td>\n",
       "      <td>1</td>\n",
       "      <td>26</td>\n",
       "      <td>2</td>\n",
       "      <td>8.0</td>\n",
       "      <td>6</td>\n",
       "      <td>736484</td>\n",
       "      <td>1</td>\n",
       "    </tr>\n",
       "    <tr>\n",
       "      <th>4</th>\n",
       "      <td>979863</td>\n",
       "      <td>1</td>\n",
       "      <td>26</td>\n",
       "      <td>2</td>\n",
       "      <td>10.0</td>\n",
       "      <td>1</td>\n",
       "      <td>736486</td>\n",
       "      <td>0</td>\n",
       "    </tr>\n",
       "  </tbody>\n",
       "</table>\n",
       "</div>"
      ],
      "text/plain": [
       "   driver_id  gender  age  number_of_kids  hours_online  day_of_week  \\\n",
       "0     979863       1   26               2           8.0            3   \n",
       "1     979863       1   26               2          11.0            4   \n",
       "2     979863       1   26               2           9.0            5   \n",
       "3     979863       1   26               2           8.0            6   \n",
       "4     979863       1   26               2          10.0            1   \n",
       "\n",
       "   date_ord  is_weekend  \n",
       "0    736481           0  \n",
       "1    736482           0  \n",
       "2    736483           1  \n",
       "3    736484           1  \n",
       "4    736486           0  "
      ]
     },
     "execution_count": 738,
     "metadata": {},
     "output_type": "execute_result"
    }
   ],
   "source": [
    "df.head()"
   ]
  },
  {
   "cell_type": "code",
   "execution_count": 739,
   "metadata": {},
   "outputs": [],
   "source": [
    "df.hours_online = df.hours_online.astype(int)"
   ]
  },
  {
   "cell_type": "code",
   "execution_count": 740,
   "metadata": {},
   "outputs": [
    {
     "data": {
      "text/plain": [
       "41614"
      ]
     },
     "execution_count": 740,
     "metadata": {},
     "output_type": "execute_result"
    }
   ],
   "source": [
    "len(df)"
   ]
  },
  {
   "cell_type": "code",
   "execution_count": 741,
   "metadata": {},
   "outputs": [
    {
     "name": "stdout",
     "output_type": "stream",
     "text": [
      "<class 'pandas.core.frame.DataFrame'>\n",
      "RangeIndex: 41614 entries, 0 to 41613\n",
      "Data columns (total 8 columns):\n",
      "driver_id         41614 non-null int64\n",
      "gender            41614 non-null int64\n",
      "age               41614 non-null int64\n",
      "number_of_kids    41614 non-null int64\n",
      "hours_online      41614 non-null int64\n",
      "day_of_week       41614 non-null int64\n",
      "date_ord          41614 non-null int64\n",
      "is_weekend        41614 non-null int64\n",
      "dtypes: int64(8)\n",
      "memory usage: 2.5 MB\n"
     ]
    }
   ],
   "source": [
    "df.info()"
   ]
  },
  {
   "cell_type": "code",
   "execution_count": 785,
   "metadata": {},
   "outputs": [
    {
     "data": {
      "text/html": [
       "<div>\n",
       "<style scoped>\n",
       "    .dataframe tbody tr th:only-of-type {\n",
       "        vertical-align: middle;\n",
       "    }\n",
       "\n",
       "    .dataframe tbody tr th {\n",
       "        vertical-align: top;\n",
       "    }\n",
       "\n",
       "    .dataframe thead th {\n",
       "        text-align: right;\n",
       "    }\n",
       "</style>\n",
       "<table border=\"1\" class=\"dataframe\">\n",
       "  <thead>\n",
       "    <tr style=\"text-align: right;\">\n",
       "      <th></th>\n",
       "      <th>driver_id</th>\n",
       "      <th>gender</th>\n",
       "      <th>age</th>\n",
       "      <th>number_of_kids</th>\n",
       "      <th>online_hours</th>\n",
       "      <th>day_of_week</th>\n",
       "      <th>date_ord</th>\n",
       "      <th>is_weekend</th>\n",
       "    </tr>\n",
       "  </thead>\n",
       "  <tbody>\n",
       "    <tr>\n",
       "      <th>0</th>\n",
       "      <td>979863</td>\n",
       "      <td>1</td>\n",
       "      <td>26</td>\n",
       "      <td>2</td>\n",
       "      <td>8</td>\n",
       "      <td>3</td>\n",
       "      <td>736481</td>\n",
       "      <td>0</td>\n",
       "    </tr>\n",
       "    <tr>\n",
       "      <th>1</th>\n",
       "      <td>979863</td>\n",
       "      <td>1</td>\n",
       "      <td>26</td>\n",
       "      <td>2</td>\n",
       "      <td>11</td>\n",
       "      <td>4</td>\n",
       "      <td>736482</td>\n",
       "      <td>0</td>\n",
       "    </tr>\n",
       "    <tr>\n",
       "      <th>2</th>\n",
       "      <td>979863</td>\n",
       "      <td>1</td>\n",
       "      <td>26</td>\n",
       "      <td>2</td>\n",
       "      <td>9</td>\n",
       "      <td>5</td>\n",
       "      <td>736483</td>\n",
       "      <td>1</td>\n",
       "    </tr>\n",
       "    <tr>\n",
       "      <th>3</th>\n",
       "      <td>979863</td>\n",
       "      <td>1</td>\n",
       "      <td>26</td>\n",
       "      <td>2</td>\n",
       "      <td>8</td>\n",
       "      <td>6</td>\n",
       "      <td>736484</td>\n",
       "      <td>1</td>\n",
       "    </tr>\n",
       "    <tr>\n",
       "      <th>4</th>\n",
       "      <td>979863</td>\n",
       "      <td>1</td>\n",
       "      <td>26</td>\n",
       "      <td>2</td>\n",
       "      <td>10</td>\n",
       "      <td>1</td>\n",
       "      <td>736486</td>\n",
       "      <td>0</td>\n",
       "    </tr>\n",
       "  </tbody>\n",
       "</table>\n",
       "</div>"
      ],
      "text/plain": [
       "   driver_id  gender  age  number_of_kids  online_hours  day_of_week  \\\n",
       "0     979863       1   26               2             8            3   \n",
       "1     979863       1   26               2            11            4   \n",
       "2     979863       1   26               2             9            5   \n",
       "3     979863       1   26               2             8            6   \n",
       "4     979863       1   26               2            10            1   \n",
       "\n",
       "   date_ord  is_weekend  \n",
       "0    736481           0  \n",
       "1    736482           0  \n",
       "2    736483           1  \n",
       "3    736484           1  \n",
       "4    736486           0  "
      ]
     },
     "execution_count": 785,
     "metadata": {},
     "output_type": "execute_result"
    }
   ],
   "source": [
    "df.rename(columns={'hours_online':'online_hours'},inplace=True)\n",
    "df.head()"
   ]
  },
  {
   "cell_type": "markdown",
   "metadata": {},
   "source": [
    "### Export df"
   ]
  },
  {
   "cell_type": "code",
   "execution_count": 786,
   "metadata": {},
   "outputs": [],
   "source": [
    "df.to_csv('../data/df2.csv',index=False)"
   ]
  },
  {
   "cell_type": "code",
   "execution_count": 787,
   "metadata": {},
   "outputs": [],
   "source": [
    "df = pd.read_csv('../data/df2.csv')"
   ]
  },
  {
   "cell_type": "markdown",
   "metadata": {},
   "source": [
    "## Train test split on train data"
   ]
  },
  {
   "cell_type": "code",
   "execution_count": 788,
   "metadata": {},
   "outputs": [],
   "source": [
    "features = df.loc[:, df.columns != 'online_hours']\n",
    "\n",
    "target = df['online_hours']\n",
    "X_train, X_test, y_train, y_test = train_test_split(features, target, test_size =0.3,\n",
    "                                                    random_state = 7)"
   ]
  },
  {
   "cell_type": "code",
   "execution_count": 819,
   "metadata": {},
   "outputs": [
    {
     "data": {
      "text/plain": [
       "3903     7\n",
       "30048    7\n",
       "29016    8\n",
       "9640     3\n",
       "3732     8\n",
       "37260    8\n",
       "4152     4\n",
       "21120    3\n",
       "16262    7\n",
       "11006    8\n",
       "Name: online_hours, dtype: int64"
      ]
     },
     "execution_count": 819,
     "metadata": {},
     "output_type": "execute_result"
    }
   ],
   "source": [
    "y_test[:10]"
   ]
  },
  {
   "cell_type": "code",
   "execution_count": 789,
   "metadata": {},
   "outputs": [
    {
     "data": {
      "text/html": [
       "<div>\n",
       "<style scoped>\n",
       "    .dataframe tbody tr th:only-of-type {\n",
       "        vertical-align: middle;\n",
       "    }\n",
       "\n",
       "    .dataframe tbody tr th {\n",
       "        vertical-align: top;\n",
       "    }\n",
       "\n",
       "    .dataframe thead th {\n",
       "        text-align: right;\n",
       "    }\n",
       "</style>\n",
       "<table border=\"1\" class=\"dataframe\">\n",
       "  <thead>\n",
       "    <tr style=\"text-align: right;\">\n",
       "      <th></th>\n",
       "      <th>driver_id</th>\n",
       "      <th>gender</th>\n",
       "      <th>age</th>\n",
       "      <th>number_of_kids</th>\n",
       "      <th>day_of_week</th>\n",
       "      <th>date_ord</th>\n",
       "      <th>is_weekend</th>\n",
       "    </tr>\n",
       "  </thead>\n",
       "  <tbody>\n",
       "    <tr>\n",
       "      <th>0</th>\n",
       "      <td>979863</td>\n",
       "      <td>1</td>\n",
       "      <td>26</td>\n",
       "      <td>2</td>\n",
       "      <td>3</td>\n",
       "      <td>736481</td>\n",
       "      <td>0</td>\n",
       "    </tr>\n",
       "    <tr>\n",
       "      <th>1</th>\n",
       "      <td>979863</td>\n",
       "      <td>1</td>\n",
       "      <td>26</td>\n",
       "      <td>2</td>\n",
       "      <td>4</td>\n",
       "      <td>736482</td>\n",
       "      <td>0</td>\n",
       "    </tr>\n",
       "    <tr>\n",
       "      <th>2</th>\n",
       "      <td>979863</td>\n",
       "      <td>1</td>\n",
       "      <td>26</td>\n",
       "      <td>2</td>\n",
       "      <td>5</td>\n",
       "      <td>736483</td>\n",
       "      <td>1</td>\n",
       "    </tr>\n",
       "    <tr>\n",
       "      <th>3</th>\n",
       "      <td>979863</td>\n",
       "      <td>1</td>\n",
       "      <td>26</td>\n",
       "      <td>2</td>\n",
       "      <td>6</td>\n",
       "      <td>736484</td>\n",
       "      <td>1</td>\n",
       "    </tr>\n",
       "    <tr>\n",
       "      <th>4</th>\n",
       "      <td>979863</td>\n",
       "      <td>1</td>\n",
       "      <td>26</td>\n",
       "      <td>2</td>\n",
       "      <td>1</td>\n",
       "      <td>736486</td>\n",
       "      <td>0</td>\n",
       "    </tr>\n",
       "  </tbody>\n",
       "</table>\n",
       "</div>"
      ],
      "text/plain": [
       "   driver_id  gender  age  number_of_kids  day_of_week  date_ord  is_weekend\n",
       "0     979863       1   26               2            3    736481           0\n",
       "1     979863       1   26               2            4    736482           0\n",
       "2     979863       1   26               2            5    736483           1\n",
       "3     979863       1   26               2            6    736484           1\n",
       "4     979863       1   26               2            1    736486           0"
      ]
     },
     "execution_count": 789,
     "metadata": {},
     "output_type": "execute_result"
    }
   ],
   "source": [
    "features.head()"
   ]
  },
  {
   "cell_type": "code",
   "execution_count": 790,
   "metadata": {},
   "outputs": [
    {
     "data": {
      "text/plain": [
       "0     8\n",
       "1    11\n",
       "2     9\n",
       "3     8\n",
       "4    10\n",
       "Name: online_hours, dtype: int64"
      ]
     },
     "execution_count": 790,
     "metadata": {},
     "output_type": "execute_result"
    }
   ],
   "source": [
    "target.head()"
   ]
  },
  {
   "cell_type": "markdown",
   "metadata": {},
   "source": [
    "### Perform scaling to scale down large integers"
   ]
  },
  {
   "cell_type": "code",
   "execution_count": 791,
   "metadata": {},
   "outputs": [],
   "source": [
    "from sklearn.preprocessing import MinMaxScaler\n",
    "scaler = MinMaxScaler()\n",
    "X_train = scaler.fit_transform(X_train)\n",
    "X_test = scaler.transform(X_test)"
   ]
  },
  {
   "cell_type": "markdown",
   "metadata": {},
   "source": [
    "# Modelling"
   ]
  },
  {
   "cell_type": "markdown",
   "metadata": {},
   "source": [
    "### Baseline (no modelling)"
   ]
  },
  {
   "cell_type": "code",
   "execution_count": 792,
   "metadata": {},
   "outputs": [],
   "source": [
    "baseline_guess = np.median(y_train)\n",
    "\n",
    "def rmse(y_true, y_pred):\n",
    "    return np.sqrt(np.mean((y_true - y_pred)**2))"
   ]
  },
  {
   "cell_type": "code",
   "execution_count": 793,
   "metadata": {},
   "outputs": [
    {
     "name": "stdout",
     "output_type": "stream",
     "text": [
      "The baseline guess is a score of 5.00\n",
      "Baseline Performance on the test set: RMSE = 2.5481\n"
     ]
    }
   ],
   "source": [
    "print('The baseline guess is a score of %0.2f' % baseline_guess)\n",
    "print(\"Baseline Performance on the test set: RMSE = %0.4f\" % rmse(y_test, baseline_guess))"
   ]
  },
  {
   "cell_type": "markdown",
   "metadata": {},
   "source": [
    "### using Tpot"
   ]
  },
  {
   "cell_type": "code",
   "execution_count": 637,
   "metadata": {},
   "outputs": [
    {
     "data": {
      "application/vnd.jupyter.widget-view+json": {
       "model_id": "",
       "version_major": 2,
       "version_minor": 0
      },
      "text/plain": [
       "HBox(children=(IntProgress(value=0, description='Optimization Progress', max=120, style=ProgressStyle(descript…"
      ]
     },
     "metadata": {},
     "output_type": "display_data"
    },
    {
     "name": "stdout",
     "output_type": "stream",
     "text": [
      "Generation 1 - Current best internal CV score: -2.530824461817894\n",
      "Generation 2 - Current best internal CV score: -2.530824461817894\n",
      "Generation 3 - Current best internal CV score: -2.530824461817894\n",
      "Generation 4 - Current best internal CV score: -2.5054005775160086\n",
      "Generation 5 - Current best internal CV score: -2.5054005775160086\n",
      "\n",
      "Best pipeline: RandomForestRegressor(input_matrix, bootstrap=True, max_features=0.9500000000000001, min_samples_leaf=3, min_samples_split=8, n_estimators=100)\n"
     ]
    },
    {
     "data": {
      "text/plain": [
       "TPOTRegressor(config_dict=None, crossover_rate=0.1, cv=5,\n",
       "       disable_update_check=False, early_stop=None, generations=5,\n",
       "       max_eval_time_mins=5, max_time_mins=None, memory=None,\n",
       "       mutation_rate=0.9, n_jobs=1, offspring_size=None,\n",
       "       periodic_checkpoint_folder=None, population_size=20,\n",
       "       random_state=None, scoring=None, subsample=1.0, use_dask=False,\n",
       "       verbosity=2, warm_start=False)"
      ]
     },
     "execution_count": 637,
     "metadata": {},
     "output_type": "execute_result"
    }
   ],
   "source": [
    "from tpot import TPOTRegressor\n",
    "\n",
    "tpot = TPOTRegressor(generations=5, population_size=20, verbosity=2)\n",
    "tpot.fit(X_train, y_train) "
   ]
  },
  {
   "cell_type": "code",
   "execution_count": 655,
   "metadata": {},
   "outputs": [
    {
     "name": "stdout",
     "output_type": "stream",
     "text": [
      "TPOT cross-validation RMSE\n",
      "1.4885349639569523\n"
     ]
    }
   ],
   "source": [
    "#Tpot shows negative MSE\n",
    "print(\"TPOT cross-validation RMSE\")\n",
    "print(np.sqrt(abs(tpot.score(X_test, y_test))))"
   ]
  },
  {
   "cell_type": "code",
   "execution_count": 658,
   "metadata": {},
   "outputs": [
    {
     "name": "stdout",
     "output_type": "stream",
     "text": [
      "RMSE:\n",
      "1.4885349639569523\n"
     ]
    }
   ],
   "source": [
    "#Using sklearns MSE\n",
    "print('RMSE:')\n",
    "print(np.sqrt(mean_squared_error(y_test, tpot.predict(X_test))))"
   ]
  },
  {
   "cell_type": "markdown",
   "metadata": {},
   "source": [
    "### Export this final tpot with pipeline"
   ]
  },
  {
   "cell_type": "code",
   "execution_count": 640,
   "metadata": {},
   "outputs": [
    {
     "data": {
      "text/plain": [
       "True"
      ]
     },
     "execution_count": 640,
     "metadata": {},
     "output_type": "execute_result"
    }
   ],
   "source": [
    "# NOTE: Make sure that the class is labeled 'target' in the data file\n",
    "tpot.export('tpot_gojek_pipeline3.py')"
   ]
  },
  {
   "cell_type": "markdown",
   "metadata": {},
   "source": [
    "# Using Sklearn"
   ]
  },
  {
   "cell_type": "markdown",
   "metadata": {},
   "source": [
    "### Linear Regression"
   ]
  },
  {
   "cell_type": "code",
   "execution_count": 794,
   "metadata": {},
   "outputs": [
    {
     "data": {
      "text/plain": [
       "LinearRegression(copy_X=True, fit_intercept=True, n_jobs=None,\n",
       "         normalize=False)"
      ]
     },
     "execution_count": 794,
     "metadata": {},
     "output_type": "execute_result"
    }
   ],
   "source": [
    "from sklearn.linear_model import LinearRegression\n",
    "regressor = LinearRegression()\n",
    "regressor.fit(X_train, y_train)"
   ]
  },
  {
   "cell_type": "code",
   "execution_count": 795,
   "metadata": {},
   "outputs": [
    {
     "name": "stdout",
     "output_type": "stream",
     "text": [
      "Linear Regression R squared\": 0.2056\n",
      "20.56 percent of the variability in Y can be explained using X\n"
     ]
    }
   ],
   "source": [
    "y_pred = regressor.predict(X_test)\n",
    "r2 = regressor.score(X_test, y_test)\n",
    "r3 = r2*100\n",
    "print('Linear Regression R squared\": %.4f' % r2)\n",
    "print( '%.2f percent of the variability in Y can be explained using X' % r3)"
   ]
  },
  {
   "cell_type": "code",
   "execution_count": 796,
   "metadata": {},
   "outputs": [
    {
     "name": "stdout",
     "output_type": "stream",
     "text": [
      "Linear Regression RMSE: 2.2710\n"
     ]
    }
   ],
   "source": [
    "lin_mse = mean_squared_error(y_pred, y_test)\n",
    "lin_rmse = np.sqrt(lin_mse)\n",
    "print('Linear Regression RMSE: %.4f' % lin_rmse)"
   ]
  },
  {
   "cell_type": "markdown",
   "metadata": {},
   "source": [
    "### Gradient boosting"
   ]
  },
  {
   "cell_type": "code",
   "execution_count": 797,
   "metadata": {},
   "outputs": [
    {
     "data": {
      "text/plain": [
       "GradientBoostingRegressor(alpha=0.9, criterion='friedman_mse', init=None,\n",
       "             learning_rate=0.1, loss='ls', max_depth=3, max_features=None,\n",
       "             max_leaf_nodes=None, min_impurity_decrease=0.0,\n",
       "             min_impurity_split=None, min_samples_leaf=1,\n",
       "             min_samples_split=2, min_weight_fraction_leaf=0.0,\n",
       "             n_estimators=100, n_iter_no_change=None, presort='auto',\n",
       "             random_state=None, subsample=1.0, tol=0.0001,\n",
       "             validation_fraction=0.1, verbose=0, warm_start=False)"
      ]
     },
     "execution_count": 797,
     "metadata": {},
     "output_type": "execute_result"
    }
   ],
   "source": [
    "from sklearn import ensemble\n",
    "from sklearn.ensemble import GradientBoostingRegressor\n",
    "model = ensemble.GradientBoostingRegressor()\n",
    "model.fit(X_train, y_train)"
   ]
  },
  {
   "cell_type": "code",
   "execution_count": 798,
   "metadata": {},
   "outputs": [
    {
     "name": "stdout",
     "output_type": "stream",
     "text": [
      "Gradient Boosting R squared\": 0.2651\n"
     ]
    }
   ],
   "source": [
    "print('Gradient Boosting R squared\": %.4f' % model.score(X_test, y_test))"
   ]
  },
  {
   "cell_type": "code",
   "execution_count": 799,
   "metadata": {},
   "outputs": [
    {
     "name": "stdout",
     "output_type": "stream",
     "text": [
      "Gradient Boosting RMSE: 2.1842\n"
     ]
    }
   ],
   "source": [
    "y_pred = model.predict(X_test)\n",
    "model_mse = mean_squared_error(y_pred, y_test)\n",
    "model_rmse = np.sqrt(model_mse)\n",
    "print('Gradient Boosting RMSE: %.4f' % model_rmse)"
   ]
  },
  {
   "cell_type": "markdown",
   "metadata": {},
   "source": [
    "### Random Forest"
   ]
  },
  {
   "cell_type": "code",
   "execution_count": 800,
   "metadata": {},
   "outputs": [
    {
     "data": {
      "text/plain": [
       "RandomForestRegressor(bootstrap=True, criterion='mse', max_depth=None,\n",
       "           max_features='auto', max_leaf_nodes=None,\n",
       "           min_impurity_decrease=0.0, min_impurity_split=None,\n",
       "           min_samples_leaf=1, min_samples_split=2,\n",
       "           min_weight_fraction_leaf=0.0, n_estimators=10, n_jobs=None,\n",
       "           oob_score=False, random_state=42, verbose=0, warm_start=False)"
      ]
     },
     "execution_count": 800,
     "metadata": {},
     "output_type": "execute_result"
    }
   ],
   "source": [
    "from sklearn.ensemble import RandomForestRegressor\n",
    "\n",
    "forest_reg = RandomForestRegressor(random_state=42)\n",
    "forest_reg.fit(X_train, y_train)"
   ]
  },
  {
   "cell_type": "code",
   "execution_count": 801,
   "metadata": {},
   "outputs": [
    {
     "name": "stdout",
     "output_type": "stream",
     "text": [
      "Random Forest R squared\": 0.6203\n"
     ]
    }
   ],
   "source": [
    "print('Random Forest R squared\": %.4f' % forest_reg.score(X_test, y_test))"
   ]
  },
  {
   "cell_type": "code",
   "execution_count": 802,
   "metadata": {},
   "outputs": [
    {
     "name": "stdout",
     "output_type": "stream",
     "text": [
      "Random Forest RMSE: 1.5700\n"
     ]
    }
   ],
   "source": [
    "y_pred = forest_reg.predict(X_test)\n",
    "forest_mse = mean_squared_error(y_pred, y_test)\n",
    "forest_rmse = np.sqrt(forest_mse)\n",
    "print('Random Forest RMSE: %.4f' % forest_rmse)"
   ]
  },
  {
   "cell_type": "markdown",
   "metadata": {},
   "source": [
    " Ramdom forest regressor performed the best "
   ]
  },
  {
   "cell_type": "markdown",
   "metadata": {},
   "source": [
    "### Feature importance (from random forest regressor model)"
   ]
  },
  {
   "cell_type": "code",
   "execution_count": 803,
   "metadata": {},
   "outputs": [
    {
     "data": {
      "text/plain": [
       "Index(['driver_id', 'gender', 'age', 'number_of_kids', 'day_of_week',\n",
       "       'date_ord', 'is_weekend'],\n",
       "      dtype='object')"
      ]
     },
     "execution_count": 803,
     "metadata": {},
     "output_type": "execute_result"
    }
   ],
   "source": [
    "features.columns"
   ]
  },
  {
   "cell_type": "code",
   "execution_count": 804,
   "metadata": {},
   "outputs": [
    {
     "data": {
      "text/html": [
       "<div>\n",
       "<style scoped>\n",
       "    .dataframe tbody tr th:only-of-type {\n",
       "        vertical-align: middle;\n",
       "    }\n",
       "\n",
       "    .dataframe tbody tr th {\n",
       "        vertical-align: top;\n",
       "    }\n",
       "\n",
       "    .dataframe thead th {\n",
       "        text-align: right;\n",
       "    }\n",
       "</style>\n",
       "<table border=\"1\" class=\"dataframe\">\n",
       "  <thead>\n",
       "    <tr style=\"text-align: right;\">\n",
       "      <th></th>\n",
       "      <th>feature</th>\n",
       "      <th>score</th>\n",
       "    </tr>\n",
       "  </thead>\n",
       "  <tbody>\n",
       "    <tr>\n",
       "      <th>6</th>\n",
       "      <td>driver_id</td>\n",
       "      <td>39.934426</td>\n",
       "    </tr>\n",
       "    <tr>\n",
       "      <th>5</th>\n",
       "      <td>age</td>\n",
       "      <td>19.477577</td>\n",
       "    </tr>\n",
       "    <tr>\n",
       "      <th>4</th>\n",
       "      <td>gender</td>\n",
       "      <td>12.475249</td>\n",
       "    </tr>\n",
       "    <tr>\n",
       "      <th>3</th>\n",
       "      <td>date_ord</td>\n",
       "      <td>12.032837</td>\n",
       "    </tr>\n",
       "    <tr>\n",
       "      <th>2</th>\n",
       "      <td>day_of_week</td>\n",
       "      <td>8.398705</td>\n",
       "    </tr>\n",
       "    <tr>\n",
       "      <th>1</th>\n",
       "      <td>number_of_kids</td>\n",
       "      <td>5.248134</td>\n",
       "    </tr>\n",
       "    <tr>\n",
       "      <th>0</th>\n",
       "      <td>is_weekend</td>\n",
       "      <td>2.433072</td>\n",
       "    </tr>\n",
       "  </tbody>\n",
       "</table>\n",
       "</div>"
      ],
      "text/plain": [
       "          feature      score\n",
       "6       driver_id  39.934426\n",
       "5             age  19.477577\n",
       "4          gender  12.475249\n",
       "3        date_ord  12.032837\n",
       "2     day_of_week   8.398705\n",
       "1  number_of_kids   5.248134\n",
       "0      is_weekend   2.433072"
      ]
     },
     "execution_count": 804,
     "metadata": {},
     "output_type": "execute_result"
    }
   ],
   "source": [
    "importance = forest_reg.feature_importances_\n",
    "feature_indexes_by_importance = importance.argsort()\n",
    "names = []\n",
    "score = []\n",
    "for index in feature_indexes_by_importance:\n",
    "#     print('{} {:.2f}%'.format(features.columns[index], (importance[index] *100.0)))\n",
    "    names.append(features.columns[index])\n",
    "    score.append((importance[index] *100.0))\n",
    "\n",
    "feature_df = pd.DataFrame({'feature':names,'score':score}).sort_values('score',ascending=False)\n",
    "feature_df"
   ]
  },
  {
   "cell_type": "markdown",
   "metadata": {},
   "source": [
    "# Remove correlated features"
   ]
  },
  {
   "cell_type": "code",
   "execution_count": 805,
   "metadata": {},
   "outputs": [
    {
     "data": {
      "text/plain": [
       "Text(0.5, 1.0, 'Correlation Matrix of variables')"
      ]
     },
     "execution_count": 805,
     "metadata": {},
     "output_type": "execute_result"
    },
    {
     "data": {
      "image/png": "[encoded data removed]",
      "text/plain": [
       "<Figure size 800x550 with 2 Axes>"
      ]
     },
     "metadata": {},
     "output_type": "display_data"
    }
   ],
   "source": [
    "# Create correlation matrix\n",
    "corr_matrix = df.corr().abs()\n",
    "\n",
    "sns.heatmap(corr_matrix, \n",
    "            xticklabels=corr_matrix.columns.values,\n",
    "            yticklabels=corr_matrix.columns.values)\n",
    "plt.title(\"Correlation Matrix of variables\")"
   ]
  },
  {
   "cell_type": "markdown",
   "metadata": {},
   "source": [
    "- day of week is strongly correlated to is_weekend.\n",
    "- gender is slightly correlated to hours_online"
   ]
  },
  {
   "cell_type": "code",
   "execution_count": 806,
   "metadata": {},
   "outputs": [
    {
     "name": "stdout",
     "output_type": "stream",
     "text": [
      "Columns that should be dropped: is_weekend\n"
     ]
    }
   ],
   "source": [
    "# Select upper triangle of correlation matrix\n",
    "upper = corr_matrix.where(np.triu(np.ones(corr_matrix.shape), k=1).astype(np.bool))\n",
    "\n",
    "# Find features with correlation greater than 0.95\n",
    "to_drop = [column for column in upper.columns if any(upper[column] > 0.5)]\n",
    "\n",
    "# Drop features \n",
    "print(\"Columns that should be dropped: %s\" %to_drop[0])\n",
    "# df.drop(df.columns[to_drop], axis=1)"
   ]
  },
  {
   "cell_type": "markdown",
   "metadata": {},
   "source": [
    "# Evaluate on test"
   ]
  },
  {
   "cell_type": "code",
   "execution_count": 807,
   "metadata": {},
   "outputs": [
    {
     "data": {
      "text/html": [
       "<div>\n",
       "<style scoped>\n",
       "    .dataframe tbody tr th:only-of-type {\n",
       "        vertical-align: middle;\n",
       "    }\n",
       "\n",
       "    .dataframe tbody tr th {\n",
       "        vertical-align: top;\n",
       "    }\n",
       "\n",
       "    .dataframe thead th {\n",
       "        text-align: right;\n",
       "    }\n",
       "</style>\n",
       "<table border=\"1\" class=\"dataframe\">\n",
       "  <thead>\n",
       "    <tr style=\"text-align: right;\">\n",
       "      <th></th>\n",
       "      <th>driver_id</th>\n",
       "      <th>date</th>\n",
       "      <th>online_hours</th>\n",
       "    </tr>\n",
       "  </thead>\n",
       "  <tbody>\n",
       "    <tr>\n",
       "      <th>0</th>\n",
       "      <td>979863</td>\n",
       "      <td>2017-6-28</td>\n",
       "      <td>7</td>\n",
       "    </tr>\n",
       "    <tr>\n",
       "      <th>1</th>\n",
       "      <td>979863</td>\n",
       "      <td>2017-6-27</td>\n",
       "      <td>9</td>\n",
       "    </tr>\n",
       "    <tr>\n",
       "      <th>2</th>\n",
       "      <td>979863</td>\n",
       "      <td>2017-6-26</td>\n",
       "      <td>9</td>\n",
       "    </tr>\n",
       "    <tr>\n",
       "      <th>3</th>\n",
       "      <td>979863</td>\n",
       "      <td>2017-6-25</td>\n",
       "      <td>10</td>\n",
       "    </tr>\n",
       "    <tr>\n",
       "      <th>4</th>\n",
       "      <td>979863</td>\n",
       "      <td>2017-6-24</td>\n",
       "      <td>9</td>\n",
       "    </tr>\n",
       "  </tbody>\n",
       "</table>\n",
       "</div>"
      ],
      "text/plain": [
       "   driver_id       date  online_hours\n",
       "0     979863  2017-6-28             7\n",
       "1     979863  2017-6-27             9\n",
       "2     979863  2017-6-26             9\n",
       "3     979863  2017-6-25            10\n",
       "4     979863  2017-6-24             9"
      ]
     },
     "execution_count": 807,
     "metadata": {},
     "output_type": "execute_result"
    }
   ],
   "source": [
    "test.head()"
   ]
  },
  {
   "cell_type": "code",
   "execution_count": 808,
   "metadata": {},
   "outputs": [],
   "source": [
    "test2 = pd.merge(test,drivers,on = 'driver_id')"
   ]
  },
  {
   "cell_type": "code",
   "execution_count": 809,
   "metadata": {},
   "outputs": [
    {
     "data": {
      "text/html": [
       "<div>\n",
       "<style scoped>\n",
       "    .dataframe tbody tr th:only-of-type {\n",
       "        vertical-align: middle;\n",
       "    }\n",
       "\n",
       "    .dataframe tbody tr th {\n",
       "        vertical-align: top;\n",
       "    }\n",
       "\n",
       "    .dataframe thead th {\n",
       "        text-align: right;\n",
       "    }\n",
       "</style>\n",
       "<table border=\"1\" class=\"dataframe\">\n",
       "  <thead>\n",
       "    <tr style=\"text-align: right;\">\n",
       "      <th></th>\n",
       "      <th>driver_id</th>\n",
       "      <th>date</th>\n",
       "      <th>online_hours</th>\n",
       "      <th>gender</th>\n",
       "      <th>age</th>\n",
       "      <th>number_of_kids</th>\n",
       "    </tr>\n",
       "  </thead>\n",
       "  <tbody>\n",
       "    <tr>\n",
       "      <th>0</th>\n",
       "      <td>979863</td>\n",
       "      <td>2017-6-28</td>\n",
       "      <td>7</td>\n",
       "      <td>MALE</td>\n",
       "      <td>26</td>\n",
       "      <td>2</td>\n",
       "    </tr>\n",
       "    <tr>\n",
       "      <th>1</th>\n",
       "      <td>979863</td>\n",
       "      <td>2017-6-27</td>\n",
       "      <td>9</td>\n",
       "      <td>MALE</td>\n",
       "      <td>26</td>\n",
       "      <td>2</td>\n",
       "    </tr>\n",
       "    <tr>\n",
       "      <th>2</th>\n",
       "      <td>979863</td>\n",
       "      <td>2017-6-26</td>\n",
       "      <td>9</td>\n",
       "      <td>MALE</td>\n",
       "      <td>26</td>\n",
       "      <td>2</td>\n",
       "    </tr>\n",
       "    <tr>\n",
       "      <th>3</th>\n",
       "      <td>979863</td>\n",
       "      <td>2017-6-25</td>\n",
       "      <td>10</td>\n",
       "      <td>MALE</td>\n",
       "      <td>26</td>\n",
       "      <td>2</td>\n",
       "    </tr>\n",
       "    <tr>\n",
       "      <th>4</th>\n",
       "      <td>979863</td>\n",
       "      <td>2017-6-24</td>\n",
       "      <td>9</td>\n",
       "      <td>MALE</td>\n",
       "      <td>26</td>\n",
       "      <td>2</td>\n",
       "    </tr>\n",
       "  </tbody>\n",
       "</table>\n",
       "</div>"
      ],
      "text/plain": [
       "   driver_id       date  online_hours gender  age  number_of_kids\n",
       "0     979863  2017-6-28             7   MALE   26               2\n",
       "1     979863  2017-6-27             9   MALE   26               2\n",
       "2     979863  2017-6-26             9   MALE   26               2\n",
       "3     979863  2017-6-25            10   MALE   26               2\n",
       "4     979863  2017-6-24             9   MALE   26               2"
      ]
     },
     "execution_count": 809,
     "metadata": {},
     "output_type": "execute_result"
    }
   ],
   "source": [
    "test2.head()"
   ]
  },
  {
   "cell_type": "code",
   "execution_count": 810,
   "metadata": {},
   "outputs": [
    {
     "name": "stdout",
     "output_type": "stream",
     "text": [
      "<class 'pandas.core.frame.DataFrame'>\n",
      "Int64Index: 17458 entries, 0 to 17457\n",
      "Data columns (total 6 columns):\n",
      "driver_id         17458 non-null int64\n",
      "date              17458 non-null object\n",
      "online_hours      17458 non-null int64\n",
      "gender            17458 non-null object\n",
      "age               17458 non-null int64\n",
      "number_of_kids    17458 non-null int64\n",
      "dtypes: int64(4), object(2)\n",
      "memory usage: 954.7+ KB\n"
     ]
    }
   ],
   "source": [
    "test2.info()"
   ]
  },
  {
   "cell_type": "code",
   "execution_count": 811,
   "metadata": {},
   "outputs": [
    {
     "data": {
      "text/html": [
       "<div>\n",
       "<style scoped>\n",
       "    .dataframe tbody tr th:only-of-type {\n",
       "        vertical-align: middle;\n",
       "    }\n",
       "\n",
       "    .dataframe tbody tr th {\n",
       "        vertical-align: top;\n",
       "    }\n",
       "\n",
       "    .dataframe thead th {\n",
       "        text-align: right;\n",
       "    }\n",
       "</style>\n",
       "<table border=\"1\" class=\"dataframe\">\n",
       "  <thead>\n",
       "    <tr style=\"text-align: right;\">\n",
       "      <th></th>\n",
       "      <th>driver_id</th>\n",
       "      <th>gender</th>\n",
       "      <th>age</th>\n",
       "      <th>number_of_kids</th>\n",
       "      <th>online_hours</th>\n",
       "      <th>day_of_week</th>\n",
       "      <th>date_ord</th>\n",
       "      <th>is_weekend</th>\n",
       "    </tr>\n",
       "  </thead>\n",
       "  <tbody>\n",
       "    <tr>\n",
       "      <th>0</th>\n",
       "      <td>979863</td>\n",
       "      <td>1</td>\n",
       "      <td>26</td>\n",
       "      <td>2</td>\n",
       "      <td>8</td>\n",
       "      <td>3</td>\n",
       "      <td>736481</td>\n",
       "      <td>0</td>\n",
       "    </tr>\n",
       "    <tr>\n",
       "      <th>1</th>\n",
       "      <td>979863</td>\n",
       "      <td>1</td>\n",
       "      <td>26</td>\n",
       "      <td>2</td>\n",
       "      <td>11</td>\n",
       "      <td>4</td>\n",
       "      <td>736482</td>\n",
       "      <td>0</td>\n",
       "    </tr>\n",
       "    <tr>\n",
       "      <th>2</th>\n",
       "      <td>979863</td>\n",
       "      <td>1</td>\n",
       "      <td>26</td>\n",
       "      <td>2</td>\n",
       "      <td>9</td>\n",
       "      <td>5</td>\n",
       "      <td>736483</td>\n",
       "      <td>1</td>\n",
       "    </tr>\n",
       "    <tr>\n",
       "      <th>3</th>\n",
       "      <td>979863</td>\n",
       "      <td>1</td>\n",
       "      <td>26</td>\n",
       "      <td>2</td>\n",
       "      <td>8</td>\n",
       "      <td>6</td>\n",
       "      <td>736484</td>\n",
       "      <td>1</td>\n",
       "    </tr>\n",
       "    <tr>\n",
       "      <th>4</th>\n",
       "      <td>979863</td>\n",
       "      <td>1</td>\n",
       "      <td>26</td>\n",
       "      <td>2</td>\n",
       "      <td>10</td>\n",
       "      <td>1</td>\n",
       "      <td>736486</td>\n",
       "      <td>0</td>\n",
       "    </tr>\n",
       "  </tbody>\n",
       "</table>\n",
       "</div>"
      ],
      "text/plain": [
       "   driver_id  gender  age  number_of_kids  online_hours  day_of_week  \\\n",
       "0     979863       1   26               2             8            3   \n",
       "1     979863       1   26               2            11            4   \n",
       "2     979863       1   26               2             9            5   \n",
       "3     979863       1   26               2             8            6   \n",
       "4     979863       1   26               2            10            1   \n",
       "\n",
       "   date_ord  is_weekend  \n",
       "0    736481           0  \n",
       "1    736482           0  \n",
       "2    736483           1  \n",
       "3    736484           1  \n",
       "4    736486           0  "
      ]
     },
     "execution_count": 811,
     "metadata": {},
     "output_type": "execute_result"
    }
   ],
   "source": [
    "df.head()"
   ]
  },
  {
   "cell_type": "markdown",
   "metadata": {},
   "source": [
    "### transform test2"
   ]
  },
  {
   "cell_type": "code",
   "execution_count": 812,
   "metadata": {},
   "outputs": [
    {
     "name": "stdout",
     "output_type": "stream",
     "text": [
      "<class 'pandas.core.frame.DataFrame'>\n",
      "Int64Index: 17458 entries, 0 to 17457\n",
      "Data columns (total 9 columns):\n",
      "driver_id         17458 non-null int64\n",
      "date              17458 non-null datetime64[ns]\n",
      "online_hours      17458 non-null int64\n",
      "gender            17458 non-null int64\n",
      "age               17458 non-null int64\n",
      "number_of_kids    17458 non-null int64\n",
      "day_of_week       17458 non-null int64\n",
      "date_ord          17458 non-null int64\n",
      "is_weekend        17458 non-null int64\n",
      "dtypes: datetime64[ns](1), int64(8)\n",
      "memory usage: 1.3 MB\n"
     ]
    }
   ],
   "source": [
    "#Convert date to an integer using ordinal\n",
    "test2['date'] = pd.to_datetime(test2['date'])\n",
    "test2['day_of_week'] = test2.date.dt.dayofweek\n",
    "\n",
    "test2['date_ord'] = test2['date'].map(dt.datetime.toordinal)\n",
    "\n",
    "# convert gender to category\n",
    "test2['gender'] = test2['gender'].map( {'MALE':1, 'FEMALE':0} )\n",
    "\n",
    "# if it is the weekend\n",
    "test2['is_weekend'] = [1 if x in (5,6) else 0 for x in test2['day_of_week']]\n",
    "\n",
    "test2.info()"
   ]
  },
  {
   "cell_type": "code",
   "execution_count": 813,
   "metadata": {},
   "outputs": [
    {
     "data": {
      "text/html": [
       "<div>\n",
       "<style scoped>\n",
       "    .dataframe tbody tr th:only-of-type {\n",
       "        vertical-align: middle;\n",
       "    }\n",
       "\n",
       "    .dataframe tbody tr th {\n",
       "        vertical-align: top;\n",
       "    }\n",
       "\n",
       "    .dataframe thead th {\n",
       "        text-align: right;\n",
       "    }\n",
       "</style>\n",
       "<table border=\"1\" class=\"dataframe\">\n",
       "  <thead>\n",
       "    <tr style=\"text-align: right;\">\n",
       "      <th></th>\n",
       "      <th>driver_id</th>\n",
       "      <th>online_hours</th>\n",
       "      <th>gender</th>\n",
       "      <th>age</th>\n",
       "      <th>number_of_kids</th>\n",
       "      <th>day_of_week</th>\n",
       "      <th>date_ord</th>\n",
       "      <th>is_weekend</th>\n",
       "    </tr>\n",
       "  </thead>\n",
       "  <tbody>\n",
       "    <tr>\n",
       "      <th>0</th>\n",
       "      <td>979863</td>\n",
       "      <td>7</td>\n",
       "      <td>1</td>\n",
       "      <td>26</td>\n",
       "      <td>2</td>\n",
       "      <td>2</td>\n",
       "      <td>736508</td>\n",
       "      <td>0</td>\n",
       "    </tr>\n",
       "    <tr>\n",
       "      <th>1</th>\n",
       "      <td>979863</td>\n",
       "      <td>9</td>\n",
       "      <td>1</td>\n",
       "      <td>26</td>\n",
       "      <td>2</td>\n",
       "      <td>1</td>\n",
       "      <td>736507</td>\n",
       "      <td>0</td>\n",
       "    </tr>\n",
       "    <tr>\n",
       "      <th>2</th>\n",
       "      <td>979863</td>\n",
       "      <td>9</td>\n",
       "      <td>1</td>\n",
       "      <td>26</td>\n",
       "      <td>2</td>\n",
       "      <td>0</td>\n",
       "      <td>736506</td>\n",
       "      <td>0</td>\n",
       "    </tr>\n",
       "    <tr>\n",
       "      <th>3</th>\n",
       "      <td>979863</td>\n",
       "      <td>10</td>\n",
       "      <td>1</td>\n",
       "      <td>26</td>\n",
       "      <td>2</td>\n",
       "      <td>6</td>\n",
       "      <td>736505</td>\n",
       "      <td>1</td>\n",
       "    </tr>\n",
       "    <tr>\n",
       "      <th>4</th>\n",
       "      <td>979863</td>\n",
       "      <td>9</td>\n",
       "      <td>1</td>\n",
       "      <td>26</td>\n",
       "      <td>2</td>\n",
       "      <td>5</td>\n",
       "      <td>736504</td>\n",
       "      <td>1</td>\n",
       "    </tr>\n",
       "  </tbody>\n",
       "</table>\n",
       "</div>"
      ],
      "text/plain": [
       "   driver_id  online_hours  gender  age  number_of_kids  day_of_week  \\\n",
       "0     979863             7       1   26               2            2   \n",
       "1     979863             9       1   26               2            1   \n",
       "2     979863             9       1   26               2            0   \n",
       "3     979863            10       1   26               2            6   \n",
       "4     979863             9       1   26               2            5   \n",
       "\n",
       "   date_ord  is_weekend  \n",
       "0    736508           0  \n",
       "1    736507           0  \n",
       "2    736506           0  \n",
       "3    736505           1  \n",
       "4    736504           1  "
      ]
     },
     "execution_count": 813,
     "metadata": {},
     "output_type": "execute_result"
    }
   ],
   "source": [
    "# drop unecessary columns in test2\n",
    "test2.drop(columns=[\"date\"],inplace=True)\n",
    "test2.head()"
   ]
  },
  {
   "cell_type": "code",
   "execution_count": 823,
   "metadata": {},
   "outputs": [],
   "source": [
    "test2_features = test2.loc[:, test2.columns != 'online_hours']\n",
    "\n",
    "test2_target = test2['online_hours']\n",
    "test2_features = scaler.transform(test2_features)"
   ]
  },
  {
   "cell_type": "code",
   "execution_count": 814,
   "metadata": {},
   "outputs": [
    {
     "data": {
      "text/html": [
       "<div>\n",
       "<style scoped>\n",
       "    .dataframe tbody tr th:only-of-type {\n",
       "        vertical-align: middle;\n",
       "    }\n",
       "\n",
       "    .dataframe tbody tr th {\n",
       "        vertical-align: top;\n",
       "    }\n",
       "\n",
       "    .dataframe thead th {\n",
       "        text-align: right;\n",
       "    }\n",
       "</style>\n",
       "<table border=\"1\" class=\"dataframe\">\n",
       "  <thead>\n",
       "    <tr style=\"text-align: right;\">\n",
       "      <th></th>\n",
       "      <th>driver_id</th>\n",
       "      <th>gender</th>\n",
       "      <th>age</th>\n",
       "      <th>number_of_kids</th>\n",
       "      <th>online_hours</th>\n",
       "      <th>day_of_week</th>\n",
       "      <th>date_ord</th>\n",
       "      <th>is_weekend</th>\n",
       "    </tr>\n",
       "  </thead>\n",
       "  <tbody>\n",
       "    <tr>\n",
       "      <th>0</th>\n",
       "      <td>979863</td>\n",
       "      <td>1</td>\n",
       "      <td>26</td>\n",
       "      <td>2</td>\n",
       "      <td>8</td>\n",
       "      <td>3</td>\n",
       "      <td>736481</td>\n",
       "      <td>0</td>\n",
       "    </tr>\n",
       "    <tr>\n",
       "      <th>1</th>\n",
       "      <td>979863</td>\n",
       "      <td>1</td>\n",
       "      <td>26</td>\n",
       "      <td>2</td>\n",
       "      <td>11</td>\n",
       "      <td>4</td>\n",
       "      <td>736482</td>\n",
       "      <td>0</td>\n",
       "    </tr>\n",
       "    <tr>\n",
       "      <th>2</th>\n",
       "      <td>979863</td>\n",
       "      <td>1</td>\n",
       "      <td>26</td>\n",
       "      <td>2</td>\n",
       "      <td>9</td>\n",
       "      <td>5</td>\n",
       "      <td>736483</td>\n",
       "      <td>1</td>\n",
       "    </tr>\n",
       "    <tr>\n",
       "      <th>3</th>\n",
       "      <td>979863</td>\n",
       "      <td>1</td>\n",
       "      <td>26</td>\n",
       "      <td>2</td>\n",
       "      <td>8</td>\n",
       "      <td>6</td>\n",
       "      <td>736484</td>\n",
       "      <td>1</td>\n",
       "    </tr>\n",
       "    <tr>\n",
       "      <th>4</th>\n",
       "      <td>979863</td>\n",
       "      <td>1</td>\n",
       "      <td>26</td>\n",
       "      <td>2</td>\n",
       "      <td>10</td>\n",
       "      <td>1</td>\n",
       "      <td>736486</td>\n",
       "      <td>0</td>\n",
       "    </tr>\n",
       "  </tbody>\n",
       "</table>\n",
       "</div>"
      ],
      "text/plain": [
       "   driver_id  gender  age  number_of_kids  online_hours  day_of_week  \\\n",
       "0     979863       1   26               2             8            3   \n",
       "1     979863       1   26               2            11            4   \n",
       "2     979863       1   26               2             9            5   \n",
       "3     979863       1   26               2             8            6   \n",
       "4     979863       1   26               2            10            1   \n",
       "\n",
       "   date_ord  is_weekend  \n",
       "0    736481           0  \n",
       "1    736482           0  \n",
       "2    736483           1  \n",
       "3    736484           1  \n",
       "4    736486           0  "
      ]
     },
     "execution_count": 814,
     "metadata": {},
     "output_type": "execute_result"
    }
   ],
   "source": [
    "df.head()"
   ]
  },
  {
   "cell_type": "code",
   "execution_count": 825,
   "metadata": {},
   "outputs": [],
   "source": [
    "df_train = df.loc[:, df.columns != 'online_hours']\n",
    "\n",
    "df_test = df['online_hours']\n",
    "df_train = scaler.transform(df_train)"
   ]
  },
  {
   "cell_type": "code",
   "execution_count": 827,
   "metadata": {},
   "outputs": [
    {
     "name": "stdout",
     "output_type": "stream",
     "text": [
      "Random Forest RMSE: 1.5700\n"
     ]
    }
   ],
   "source": [
    "forest_reg2 = RandomForestRegressor(random_state=40)\n",
    "forest_reg2.fit(df_train, df_test)\n",
    "# print('Random Forest R squared\": %.4f' % forest_reg.score(X_test, y_test))\n",
    "\n",
    "y_pred2 = forest_reg.predict(test2_features)\n",
    "forest_mse2 = mean_squared_error(y_pred2, test2_target)\n",
    "forest_rmse2 = np.sqrt(forest_mse2)\n",
    "print('Random Forest RMSE: %.4f' % forest_rmse)"
   ]
  }
 ],
 "metadata": {
  "kernelspec": {
   "display_name": "Python 3",
   "language": "python",
   "name": "python3"
  },
  "language_info": {
   "codemirror_mode": {
    "name": "ipython",
    "version": 3
   },
   "file_extension": ".py",
   "mimetype": "text/x-python",
   "name": "python",
   "nbconvert_exporter": "python",
   "pygments_lexer": "ipython3",
   "version": "3.7.2"
  }
 },
 "nbformat": 4,
 "nbformat_minor": 2
}
