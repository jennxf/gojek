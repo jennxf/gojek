{
 "cells": [
  {
   "cell_type": "code",
   "execution_count": 20,
   "metadata": {},
   "outputs": [],
   "source": [
    "import pandas as pd\n",
    "import numpy as np"
   ]
  },
  {
   "cell_type": "markdown",
   "metadata": {},
   "source": [
    "### Read data"
   ]
  },
  {
   "cell_type": "code",
   "execution_count": 3,
   "metadata": {},
   "outputs": [],
   "source": [
    "drivers = pd.read_csv(\"../data/drivers.csv\")\n",
    "pings = pd.read_csv(\"../data/pings.csv\")"
   ]
  },
  {
   "cell_type": "code",
   "execution_count": 3,
   "metadata": {},
   "outputs": [
    {
     "data": {
      "text/html": [
       "<div>\n",
       "<style scoped>\n",
       "    .dataframe tbody tr th:only-of-type {\n",
       "        vertical-align: middle;\n",
       "    }\n",
       "\n",
       "    .dataframe tbody tr th {\n",
       "        vertical-align: top;\n",
       "    }\n",
       "\n",
       "    .dataframe thead th {\n",
       "        text-align: right;\n",
       "    }\n",
       "</style>\n",
       "<table border=\"1\" class=\"dataframe\">\n",
       "  <thead>\n",
       "    <tr style=\"text-align: right;\">\n",
       "      <th></th>\n",
       "      <th>driver_id</th>\n",
       "      <th>ping_timestamp</th>\n",
       "    </tr>\n",
       "  </thead>\n",
       "  <tbody>\n",
       "    <tr>\n",
       "      <th>0</th>\n",
       "      <td>899313</td>\n",
       "      <td>1496278800</td>\n",
       "    </tr>\n",
       "    <tr>\n",
       "      <th>1</th>\n",
       "      <td>373017</td>\n",
       "      <td>1496278800</td>\n",
       "    </tr>\n",
       "    <tr>\n",
       "      <th>2</th>\n",
       "      <td>798984</td>\n",
       "      <td>1496278800</td>\n",
       "    </tr>\n",
       "    <tr>\n",
       "      <th>3</th>\n",
       "      <td>245966</td>\n",
       "      <td>1496278800</td>\n",
       "    </tr>\n",
       "    <tr>\n",
       "      <th>4</th>\n",
       "      <td>689783</td>\n",
       "      <td>1496278800</td>\n",
       "    </tr>\n",
       "  </tbody>\n",
       "</table>\n",
       "</div>"
      ],
      "text/plain": [
       "   driver_id  ping_timestamp\n",
       "0     899313      1496278800\n",
       "1     373017      1496278800\n",
       "2     798984      1496278800\n",
       "3     245966      1496278800\n",
       "4     689783      1496278800"
      ]
     },
     "execution_count": 3,
     "metadata": {},
     "output_type": "execute_result"
    }
   ],
   "source": [
    "pings.head()"
   ]
  },
  {
   "cell_type": "markdown",
   "metadata": {},
   "source": [
    "### Convert to datetime, extract date"
   ]
  },
  {
   "cell_type": "code",
   "execution_count": 4,
   "metadata": {},
   "outputs": [],
   "source": [
    "pings['datetime'] = pd.to_datetime(pings.ping_timestamp, unit='s')\n",
    "pings['date'] = pd.to_datetime(pings.datetime).dt.date"
   ]
  },
  {
   "cell_type": "code",
   "execution_count": 5,
   "metadata": {},
   "outputs": [
    {
     "data": {
      "text/html": [
       "<div>\n",
       "<style scoped>\n",
       "    .dataframe tbody tr th:only-of-type {\n",
       "        vertical-align: middle;\n",
       "    }\n",
       "\n",
       "    .dataframe tbody tr th {\n",
       "        vertical-align: top;\n",
       "    }\n",
       "\n",
       "    .dataframe thead th {\n",
       "        text-align: right;\n",
       "    }\n",
       "</style>\n",
       "<table border=\"1\" class=\"dataframe\">\n",
       "  <thead>\n",
       "    <tr style=\"text-align: right;\">\n",
       "      <th></th>\n",
       "      <th>driver_id</th>\n",
       "      <th>ping_timestamp</th>\n",
       "      <th>datetime</th>\n",
       "      <th>date</th>\n",
       "    </tr>\n",
       "  </thead>\n",
       "  <tbody>\n",
       "    <tr>\n",
       "      <th>50528696</th>\n",
       "      <td>282579</td>\n",
       "      <td>1498100130</td>\n",
       "      <td>2017-06-22 02:55:30</td>\n",
       "      <td>2017-06-22</td>\n",
       "    </tr>\n",
       "    <tr>\n",
       "      <th>50528697</th>\n",
       "      <td>282579</td>\n",
       "      <td>1498100145</td>\n",
       "      <td>2017-06-22 02:55:45</td>\n",
       "      <td>2017-06-22</td>\n",
       "    </tr>\n",
       "    <tr>\n",
       "      <th>50528698</th>\n",
       "      <td>282579</td>\n",
       "      <td>1498100160</td>\n",
       "      <td>2017-06-22 02:56:00</td>\n",
       "      <td>2017-06-22</td>\n",
       "    </tr>\n",
       "    <tr>\n",
       "      <th>50528699</th>\n",
       "      <td>282579</td>\n",
       "      <td>1498100190</td>\n",
       "      <td>2017-06-22 02:56:30</td>\n",
       "      <td>2017-06-22</td>\n",
       "    </tr>\n",
       "    <tr>\n",
       "      <th>50528700</th>\n",
       "      <td>282579</td>\n",
       "      <td>1498100220</td>\n",
       "      <td>2017-06-22 02:57:00</td>\n",
       "      <td>2017-06-22</td>\n",
       "    </tr>\n",
       "  </tbody>\n",
       "</table>\n",
       "</div>"
      ],
      "text/plain": [
       "          driver_id  ping_timestamp            datetime        date\n",
       "50528696     282579      1498100130 2017-06-22 02:55:30  2017-06-22\n",
       "50528697     282579      1498100145 2017-06-22 02:55:45  2017-06-22\n",
       "50528698     282579      1498100160 2017-06-22 02:56:00  2017-06-22\n",
       "50528699     282579      1498100190 2017-06-22 02:56:30  2017-06-22\n",
       "50528700     282579      1498100220 2017-06-22 02:57:00  2017-06-22"
      ]
     },
     "execution_count": 5,
     "metadata": {},
     "output_type": "execute_result"
    }
   ],
   "source": [
    "pings.tail()"
   ]
  },
  {
   "cell_type": "markdown",
   "metadata": {},
   "source": [
    "### For each driver, for each day, get total number of hours spent online\n",
    "- For each day, for each driver, get the min(time) and max(time) of the day.\n",
    "- Example: date, driver_id, min(datetime), max(datetime)"
   ]
  },
  {
   "cell_type": "code",
   "execution_count": 47,
   "metadata": {},
   "outputs": [],
   "source": [
    "# Do a group by to get the min and max timestamp by driver, day first\n",
    "pings_minmax = pings.groupby(['driver_id','date'], as_index=False).agg({'datetime':[min,max]})"
   ]
  },
  {
   "cell_type": "code",
   "execution_count": 48,
   "metadata": {},
   "outputs": [],
   "source": [
    "# rename columns\n",
    "pings_minmax.columns = ['driver_id','date','start_time','end_time']"
   ]
  },
  {
   "cell_type": "code",
   "execution_count": 49,
   "metadata": {},
   "outputs": [],
   "source": [
    "# Next, get the time difference from the min and max timestamp columns for each driver for each day\n",
    "pings_minmax['time_online'] = pings_minmax['end_time'] - pings_minmax['start_time']"
   ]
  },
  {
   "cell_type": "code",
   "execution_count": 60,
   "metadata": {},
   "outputs": [],
   "source": [
    "# Get in terms of hours the driver is online (this method uses numpy)\n",
    "pings_minmax['hours_online_float'] = pings_minmax['time_online']/np.timedelta64(1,'h')"
   ]
  },
  {
   "cell_type": "code",
   "execution_count": 61,
   "metadata": {},
   "outputs": [],
   "source": [
    "# Get in terms of hours the driver is online (this method uses pandas)\n",
    "pings_minmax['hours_online_int'] = pd.to_datetime(pings_minmax['time_online']).dt.hour"
   ]
  },
  {
   "cell_type": "code",
   "execution_count": 58,
   "metadata": {},
   "outputs": [
    {
     "data": {
      "text/html": [
       "<div>\n",
       "<style scoped>\n",
       "    .dataframe tbody tr th:only-of-type {\n",
       "        vertical-align: middle;\n",
       "    }\n",
       "\n",
       "    .dataframe tbody tr th {\n",
       "        vertical-align: top;\n",
       "    }\n",
       "\n",
       "    .dataframe thead th {\n",
       "        text-align: right;\n",
       "    }\n",
       "</style>\n",
       "<table border=\"1\" class=\"dataframe\">\n",
       "  <thead>\n",
       "    <tr style=\"text-align: right;\">\n",
       "      <th></th>\n",
       "      <th>driver_id</th>\n",
       "      <th>date</th>\n",
       "      <th>start_time</th>\n",
       "      <th>end_time</th>\n",
       "      <th>time_online</th>\n",
       "      <th>hours_online_int</th>\n",
       "      <th>hours_online_float</th>\n",
       "    </tr>\n",
       "  </thead>\n",
       "  <tbody>\n",
       "    <tr>\n",
       "      <th>0</th>\n",
       "      <td>111556</td>\n",
       "      <td>2017-06-01</td>\n",
       "      <td>2017-06-01 01:09:00</td>\n",
       "      <td>2017-06-01 03:22:00</td>\n",
       "      <td>02:13:00</td>\n",
       "      <td>2</td>\n",
       "      <td>2.216667</td>\n",
       "    </tr>\n",
       "    <tr>\n",
       "      <th>1</th>\n",
       "      <td>111556</td>\n",
       "      <td>2017-06-02</td>\n",
       "      <td>2017-06-02 01:22:00</td>\n",
       "      <td>2017-06-02 03:52:00</td>\n",
       "      <td>02:30:00</td>\n",
       "      <td>2</td>\n",
       "      <td>2.500000</td>\n",
       "    </tr>\n",
       "    <tr>\n",
       "      <th>2</th>\n",
       "      <td>111556</td>\n",
       "      <td>2017-06-05</td>\n",
       "      <td>2017-06-05 01:37:00</td>\n",
       "      <td>2017-06-05 06:17:00</td>\n",
       "      <td>04:40:00</td>\n",
       "      <td>4</td>\n",
       "      <td>4.666667</td>\n",
       "    </tr>\n",
       "    <tr>\n",
       "      <th>3</th>\n",
       "      <td>111556</td>\n",
       "      <td>2017-06-06</td>\n",
       "      <td>2017-06-06 01:51:00</td>\n",
       "      <td>2017-06-06 04:58:00</td>\n",
       "      <td>03:07:00</td>\n",
       "      <td>3</td>\n",
       "      <td>3.116667</td>\n",
       "    </tr>\n",
       "    <tr>\n",
       "      <th>4</th>\n",
       "      <td>111556</td>\n",
       "      <td>2017-06-07</td>\n",
       "      <td>2017-06-07 01:22:15</td>\n",
       "      <td>2017-06-07 04:00:00</td>\n",
       "      <td>02:37:45</td>\n",
       "      <td>2</td>\n",
       "      <td>2.629167</td>\n",
       "    </tr>\n",
       "  </tbody>\n",
       "</table>\n",
       "</div>"
      ],
      "text/plain": [
       "   driver_id        date          start_time            end_time time_online  \\\n",
       "0     111556  2017-06-01 2017-06-01 01:09:00 2017-06-01 03:22:00    02:13:00   \n",
       "1     111556  2017-06-02 2017-06-02 01:22:00 2017-06-02 03:52:00    02:30:00   \n",
       "2     111556  2017-06-05 2017-06-05 01:37:00 2017-06-05 06:17:00    04:40:00   \n",
       "3     111556  2017-06-06 2017-06-06 01:51:00 2017-06-06 04:58:00    03:07:00   \n",
       "4     111556  2017-06-07 2017-06-07 01:22:15 2017-06-07 04:00:00    02:37:45   \n",
       "\n",
       "   hours_online_int  hours_online_float  \n",
       "0                 2            2.216667  \n",
       "1                 2            2.500000  \n",
       "2                 4            4.666667  \n",
       "3                 3            3.116667  \n",
       "4                 2            2.629167  "
      ]
     },
     "execution_count": 58,
     "metadata": {},
     "output_type": "execute_result"
    }
   ],
   "source": [
    "pings_minmax.head()"
   ]
  },
  {
   "cell_type": "code",
   "execution_count": null,
   "metadata": {},
   "outputs": [],
   "source": [
    "pings_minmax.describe()"
   ]
  },
  {
   "cell_type": "code",
   "execution_count": 39,
   "metadata": {},
   "outputs": [
    {
     "name": "stdout",
     "output_type": "stream",
     "text": [
      "<class 'pandas.core.frame.DataFrame'>\n",
      "Int64Index: 41676 entries, 0 to 41675\n",
      "Data columns (total 6 columns):\n",
      "driver_id      41676 non-null int64\n",
      "date           41676 non-null object\n",
      "start_time     41676 non-null datetime64[ns]\n",
      "end_time       41676 non-null datetime64[ns]\n",
      "time_online    41676 non-null float64\n",
      "time_diff      41676 non-null timedelta64[ns]\n",
      "dtypes: datetime64[ns](2), float64(1), int64(1), object(1), timedelta64[ns](1)\n",
      "memory usage: 2.2+ MB\n"
     ]
    }
   ],
   "source": [
    "pings_minmax.info()"
   ]
  },
  {
   "cell_type": "code",
   "execution_count": null,
   "metadata": {},
   "outputs": [],
   "source": []
  }
 ],
 "metadata": {
  "kernelspec": {
   "display_name": "Python 3",
   "language": "python",
   "name": "python3"
  },
  "language_info": {
   "codemirror_mode": {
    "name": "ipython",
    "version": 3
   },
   "file_extension": ".py",
   "mimetype": "text/x-python",
   "name": "python",
   "nbconvert_exporter": "python",
   "pygments_lexer": "ipython3",
   "version": "3.7.2"
  }
 },
 "nbformat": 4,
 "nbformat_minor": 2
}
